{
 "cells": [
  {
   "cell_type": "code",
   "execution_count": 1,
   "id": "435ee21f",
   "metadata": {},
   "outputs": [],
   "source": [
    "import cvxpy as cp\n",
    "import numpy as np"
   ]
  },
  {
   "cell_type": "markdown",
   "id": "4818165c",
   "metadata": {},
   "source": [
    "# The maximum flow problem\n",
    "## *As a linear program*\n",
    "\n",
    "<img src=\"./images/seervada_maxflow.png\" width=\"500\" length=\"500\" align=\"center\">"
   ]
  },
  {
   "cell_type": "code",
   "execution_count": 9,
   "id": "78fc9c97",
   "metadata": {},
   "outputs": [],
   "source": [
    "# variables\n",
    "xOA = cp.Variable(1, nonneg = True, name='xOA')\n",
    "xOB = cp.Variable(1, nonneg = True, name='xOB')\n",
    "xOC = cp.Variable(1, nonneg = True, name='xOC')\n",
    "\n",
    "xAB = cp.Variable(1, nonneg = True, name='xAB')\n",
    "xAD = cp.Variable(1, nonneg = True, name='xAD')\n",
    "\n",
    "xBC = cp.Variable(1, nonneg = True, name='xBC')\n",
    "xBD = cp.Variable(1, nonneg = True, name='xBD')\n",
    "xBE = cp.Variable(1, nonneg = True, name='xBE')\n",
    "\n",
    "xCE = cp.Variable(1, nonneg = True, name='xCE')\n",
    "\n",
    "xDT = cp.Variable(1, nonneg = True, name='xDT')\n",
    "\n",
    "xED = cp.Variable(1, nonneg = True, name='xED')\n",
    "xET = cp.Variable(1, nonneg = True, name='xET')"
   ]
  },
  {
   "cell_type": "code",
   "execution_count": 11,
   "id": "e2ac6097",
   "metadata": {},
   "outputs": [],
   "source": [
    "# constraints\n",
    "node_flow_cons = [\n",
    "    xOA - xAB - xAD == 0,\n",
    "    xOB + xAB - xBC - xBE - xBD == 0,\n",
    "    xOC + xBC - xCE == 0,\n",
    "    xAD + xBD + xED - xDT == 0,\n",
    "    xCE + xBE - xED - xET == 0,\n",
    "]\n",
    "\n",
    "total_flow_cons = [-xOA - xOB - xOC + xDT + xET == 0,]\n",
    "\n",
    "edge_capacity_cons = [\n",
    "    xOA <= 5,\n",
    "    xOB <= 7,\n",
    "    xOC <= 4,\n",
    "    xAB <= 1,\n",
    "    xAD <= 3,\n",
    "    xBD <= 4,\n",
    "    xBE <= 5,\n",
    "    xBC <= 2,\n",
    "    xCE <= 4,\n",
    "    xDT <= 9,\n",
    "    xET <= 6,\n",
    "    xED <= 1,\n",
    "]"
   ]
  },
  {
   "cell_type": "code",
   "execution_count": 12,
   "id": "2fe5c521",
   "metadata": {},
   "outputs": [],
   "source": [
    "obj = cp.Maximize(xDT + xET)"
   ]
  },
  {
   "cell_type": "code",
   "execution_count": 13,
   "id": "ffe093e6",
   "metadata": {},
   "outputs": [],
   "source": [
    "cons = node_flow_cons + total_flow_cons + edge_capacity_cons"
   ]
  },
  {
   "cell_type": "code",
   "execution_count": 14,
   "id": "e2f3372e",
   "metadata": {},
   "outputs": [],
   "source": [
    "prob = cp.Problem(obj, cons)"
   ]
  },
  {
   "cell_type": "code",
   "execution_count": 15,
   "id": "975481be",
   "metadata": {},
   "outputs": [
    {
     "data": {
      "text/plain": [
       "13.999999996621327"
      ]
     },
     "execution_count": 15,
     "metadata": {},
     "output_type": "execute_result"
    }
   ],
   "source": [
    "prob.solve()"
   ]
  },
  {
   "cell_type": "code",
   "execution_count": null,
   "id": "9ab2271c",
   "metadata": {},
   "outputs": [],
   "source": []
  }
 ],
 "metadata": {
  "kernelspec": {
   "display_name": "Python 3 (ipykernel)",
   "language": "python",
   "name": "python3"
  },
  "language_info": {
   "codemirror_mode": {
    "name": "ipython",
    "version": 3
   },
   "file_extension": ".py",
   "mimetype": "text/x-python",
   "name": "python",
   "nbconvert_exporter": "python",
   "pygments_lexer": "ipython3",
   "version": "3.7.9"
  }
 },
 "nbformat": 4,
 "nbformat_minor": 5
}
