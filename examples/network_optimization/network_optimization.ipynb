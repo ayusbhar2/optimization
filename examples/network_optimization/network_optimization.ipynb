{
 "cells": [
  {
   "cell_type": "markdown",
   "id": "622b8564",
   "metadata": {},
   "source": [
    "# Case Study: Aiding Allies\n",
    "[Source: Frederick S. Hillier and Gerald J. Lieberman.  *Introduction to Operations Research - 7th ed.*, McGraw-Hill, ISBN 0-07-232169-5]"
   ]
  },
  {
   "cell_type": "markdown",
   "id": "908a0525",
   "metadata": {},
   "source": [
    "<img src=\"images/aiding_allies_map.png\" width=\"900\" align=\"center\">"
   ]
  },
  {
   "cell_type": "markdown",
   "id": "219e45aa",
   "metadata": {},
   "source": [
    "|Transportation Type| Name| Capacity|Speed|\n",
    "|:---|:---|:---|:---|\n",
    "|Aircraft|C-141 Starlifter|150 tons|400 miles per hour|\n",
    "|Ship|Transport|240 tons|35 miles per hour|\n",
    "|Vehicle|Palletized Load System Truck|16,000 kilograms|60 miles per hour|"
   ]
  },
  {
   "cell_type": "markdown",
   "id": "3ca5f449",
   "metadata": {},
   "source": [
    "1. <mark>All aircraft, ships, and vehicles are able to carry both troops and cargo.</mark>\n",
    "2. <mark>Once an aircraft or ship arrives in Europe, it stays there to support the armed forces.</mark>"
   ]
  },
  {
   "cell_type": "markdown",
   "id": "3727ce6f",
   "metadata": {},
   "source": [
    "The President then turns to Tabitha Neal, who has been negotiating with the NATO countries for the last several hours to use their ports and airfields as stops to refuel and resupply before heading to the Russian Federation. She informs the President that the following ports and airfields in the NATO countries will be made available to the United States military.\n",
    "\n",
    "|Ports|Airfields|\n",
    "|:---|:---|\n",
    "|Napoli|London|\n",
    "|Hamburg|Berlin|\n",
    "|Rotterdam|Istanbul|\n"
   ]
  },
  {
   "cell_type": "markdown",
   "id": "dfdb5ed4",
   "metadata": {},
   "source": [
    "The President stands and walks to the map of the world projected on a large screen in the middle of the room. He maps the progress of troops and cargo from the United States to three strategic cities in the Russian Federation that have not yet been seized by Commander Votachev. The three cities are Saint Petersburg, Moscow, and Rostov. He explains that the troops and cargo will be used both to defend the Russian cities and to launch a counterattack against Votachev to recapture the cities he currently occupies. The President also explains that:\n",
    "\n",
    "3.  <mark>All Starlifters and transports leave either Boston or Jacksonville.</mark>\n",
    "4. <mark> All transports that have traveled across the Atlantic must dock at one of the NATO ports to unload.</mark>\n",
    "5. <mark>Palletized load system trucks brought over in the transports will then carry all troops and materials unloaded from the ships at the NATO ports to the three strategic Russian cities not yet seized by Votachev - Saint Petersburg, Moscow, and Rostov.</mark>\n",
    "6. <mark>All Starlifters that have traveled across the Atlantic must land at one of the NATO airfields for refueling. The planes will then carry all troops and cargo from the NATO airfields to the three Russian cities.</mark>\n"
   ]
  },
  {
   "cell_type": "markdown",
   "id": "3ddb1dec",
   "metadata": {},
   "source": [
    "The different routes that may be taken by the troops and supplies to reach the Russian Federation from the United States are shown below:\n",
    "\n",
    "<img src=\"images/possible_routes.png\" width=\"500\" length=\"500\" align=\"center\">"
   ]
  },
  {
   "cell_type": "markdown",
   "id": "1e5bba75",
   "metadata": {},
   "source": [
    "## When time is of the essence\n",
    "Moscow and Washington do not know when Commander Votachev will launch his next attack. Leaders from the two countries have therefore agreed that\n",
    "\n",
    "7. <mark>Troops should reach each of the three strategic Russian cities as quickly as possible</mark>.\n",
    "\n",
    "The President has determined that the situation is so dire that cost is no object—as many Starlifters, transports, and trucks as are necessary will be used to transfer troops and cargo from the United States to Saint Petersburg, Moscow, and Rostov. Therefore,\n",
    "\n",
    "8. <mark>No limitations exist on the number of troops and amount of cargo that can be transferred between any cities.</mark>\n",
    "\n",
    "The President has been given the following information about the length of the available routes between cities on the Atlantic leg:\n",
    "\n",
    "|From|To|Length of route (km)|\n",
    "|:---|:---|:---:|\n",
    "|Boston |Berlin |7,250 |\n",
    "|Boston |Hamburg |8,250 |\n",
    "|Boston |Istanbul |8,300 |\n",
    "|Boston |London |6,200 |\n",
    "|Boston |Rotterdam |6,900 |\n",
    "|Boston |Napoli |7,950 |\n",
    "|Jacksonville |Berlin |9,200 |\n",
    "|Jacksonville |Hamburg |9,800 |\n",
    "|Jacksonville |Istanbul |10,100 |\n",
    "|Jacksonville |London |7,900 |\n",
    "|Jacksonville |Rotterdam |8,900 |\n",
    "|Jacksonville |Napoli |9,400 |"
   ]
  },
  {
   "cell_type": "markdown",
   "id": "24ffcb3a",
   "metadata": {},
   "source": [
    "and on the Eurasian leg:\n",
    "\n",
    "|From|To|Length of route (km)|\n",
    "|:---|:---|:---:|\n",
    "|Berlin | Saint Petersburg |1,280 |\n",
    "|Hamburg |Saint Petersburg |1,880 |\n",
    "|Istanbul |Saint Petersburg |2,040 |\n",
    "|London |Saint Petersburg |1,980 |\n",
    "|Rotterdam |Saint Petersburg |2,200 |\n",
    "|Napoli |Saint Petersburg |2,970 |\n",
    "|Berlin |Moscow |1,600 |\n",
    "|Hamburg |Moscow |2,120 |\n",
    "|Istanbul |Moscow |1,700 |\n",
    "|London |Moscow |2,300 |\n",
    "|Rotterdam |Moscow |2,450 |\n",
    "|Napoli |Moscow |2,890 |\n",
    "|Berlin |Rostov |1,730 |\n",
    "|Hamburg |Rostov |2,470 |\n",
    "|Istanbul |Rostov |990 |\n",
    "|London |Rostov |2,860 |\n",
    "|Rotterdam |Rostov |2,760 |\n",
    "|Napoli |Rostov |2,800 |"
   ]
  },
  {
   "cell_type": "markdown",
   "id": "0982a7f1",
   "metadata": {},
   "source": [
    "### Question 1\n",
    "```\n",
    "Given the distance and the speed of the transportation used between each pair of cities, how can the President most quickly move troops from the United States to each of the three strategic Russian cities? How long will it take troops and supplies to reach Saint Petersburg? Moscow? Rostov?\n",
    "```"
   ]
  },
  {
   "cell_type": "markdown",
   "id": "a479013a",
   "metadata": {},
   "source": [
    "### A network approach\n",
    "Since Question 1 is only concerned with the minimum time taken by the troops to reach Russia, we can model this problem as a *shortest path problem* with each edge length representing the time taken to travel from the source node to the target node. The problem can then be solved using *Dijkstra's shortest path algorithm*. We will use the helper classes and methods provided by the custom [solver](https://github.com/ayusbhar2/operations_research/blob/main/solver/algorithms.py) module to solve the problem."
   ]
  },
  {
   "cell_type": "code",
   "execution_count": 18,
   "id": "40e227ac",
   "metadata": {},
   "outputs": [],
   "source": [
    "# my solver module\n",
    "from solver.algorithms import get_shortest_path\n",
    "from solver.classes import Edge, Graph\n",
    "from solver.utils import get_result_summary"
   ]
  },
  {
   "cell_type": "code",
   "execution_count": 2,
   "id": "1283e6e8",
   "metadata": {},
   "outputs": [],
   "source": [
    "AIR_SPEED_KMPH = 400 * 1.60934  # from MPH to KMPH\n",
    "WATER_SPEED_KMPH = 35 * 1.60934\n",
    "LAND_SPEED_KMPH = 60 * 1.60934"
   ]
  },
  {
   "cell_type": "code",
   "execution_count": 3,
   "id": "09bf10ec",
   "metadata": {},
   "outputs": [],
   "source": [
    "# Create the network graph with provided edges\n",
    "graph = Graph([\n",
    "    Edge('Boston', 'Berlin', distance_km=7250, route_type='air'),\n",
    "    Edge('Boston', 'Hamburg', distance_km=8250, route_type='sea'),\n",
    "    Edge('Boston', 'Istanbul', distance_km=8300, route_type='air'),\n",
    "    Edge('Boston', 'London', distance_km=6200, route_type='air'),\n",
    "    Edge('Boston', 'Rotterdam', distance_km=6900, route_type='sea'),\n",
    "    Edge('Boston', 'Napoli', distance_km=7950, route_type='sea'),\n",
    "    Edge('Jacksonville', 'Berlin', distance_km=9200, route_type='air'),\n",
    "    Edge('Jacksonville', 'Hamburg', distance_km=9800, route_type='sea'),\n",
    "    Edge('Jacksonville', 'Istanbul', distance_km=10100, route_type='air'),\n",
    "    Edge('Jacksonville', 'London', distance_km=7900, route_type='air'),\n",
    "    Edge('Jacksonville', 'Rotterdam', distance_km=8900, route_type='sea'),\n",
    "    Edge('Jacksonville', 'Napoli', distance_km=9400, route_type='sea'),\n",
    "    \n",
    "    Edge('Berlin', 'StPetersburg', distance_km=1280, route_type='land'),\n",
    "    Edge('Hamburg', 'StPetersburg', distance_km=1880, route_type='land'),\n",
    "    Edge('Istanbul', 'StPetersburg', distance_km=2040, route_type='air'),\n",
    "    Edge('London', 'StPetersburg', distance_km=1980, route_type='air'),\n",
    "    Edge('Rotterdam', 'StPetersburg', distance_km=2200, route_type='land'),\n",
    "    Edge('Napoli', 'StPetersburg', distance_km=2970, route_type='land'),\n",
    "    Edge('Berlin', 'Moscow', distance_km=1600, route_type='air'),\n",
    "    Edge('Hamburg', 'Moscow', distance_km=2120, route_type='land'),\n",
    "    Edge('Istanbul', 'Moscow', distance_km=1700, route_type='air'),\n",
    "    Edge('London', 'Moscow', distance_km=2300, route_type='air'),\n",
    "    Edge('Rotterdam', 'Moscow', distance_km=2450, route_type='land'),\n",
    "    Edge('Napoli', 'Moscow', distance_km=2890, route_type='land'),\n",
    "    Edge('Berlin', 'Rostov', distance_km=1730, route_type='air'),\n",
    "    Edge('Hamburg', 'Rostov', distance_km=2470, route_type='land'),\n",
    "    Edge('Istanbul', 'Rostov', distance_km=990, route_type='air'),\n",
    "    Edge('London', 'Rostov', distance_km=2860, route_type='air'),\n",
    "    Edge('Rotterdam', 'Rostov', distance_km=2760, route_type='land'),\n",
    "    Edge('Napoli', 'Rostov', distance_km=2800, route_type='land'),\n",
    "])"
   ]
  },
  {
   "cell_type": "code",
   "execution_count": 4,
   "id": "681d9fd5",
   "metadata": {},
   "outputs": [],
   "source": [
    "# Update all edges with a non-negative time-cost\n",
    "for edge in graph.edges:\n",
    "    if edge.route_type == 'air':\n",
    "        time_hr = edge.distance_km / AIR_SPEED_KMPH\n",
    "    elif edge.route_type == 'sea':\n",
    "        time_hr = edge.distance_km / WATER_SPEED_KMPH\n",
    "    else:\n",
    "        time_hr = edge.distance_km / LAND_SPEED_KMPH\n",
    "    edge.update(cost=time_hr) # edge cost is needed for shortest path algorithm"
   ]
  },
  {
   "cell_type": "code",
   "execution_count": 5,
   "id": "828c13e7",
   "metadata": {},
   "outputs": [
    {
     "data": {
      "text/plain": [
       "(15.347906595250226, ['Jacksonville', 'London', 'StPetersburg'])"
      ]
     },
     "execution_count": 5,
     "metadata": {},
     "output_type": "execute_result"
    }
   ],
   "source": [
    "get_shortest_path(graph, 'Jacksonville', target='StPetersburg', algorithm='dijkstra')"
   ]
  },
  {
   "cell_type": "code",
   "execution_count": 6,
   "id": "dcfc3819",
   "metadata": {},
   "outputs": [
    {
     "data": {
      "text/plain": [
       "(12.707072464488547, ['Boston', 'London', 'StPetersburg'])"
      ]
     },
     "execution_count": 6,
     "metadata": {},
     "output_type": "execute_result"
    }
   ],
   "source": [
    "get_shortest_path(graph, 'Boston', target='StPetersburg', algorithm='dijkstra')"
   ]
  },
  {
   "cell_type": "code",
   "execution_count": 7,
   "id": "af45c53b",
   "metadata": {},
   "outputs": [
    {
     "data": {
      "text/plain": [
       "(15.845004784570072, ['Jacksonville', 'London', 'Moscow'])"
      ]
     },
     "execution_count": 7,
     "metadata": {},
     "output_type": "execute_result"
    }
   ],
   "source": [
    "get_shortest_path(graph, 'Jacksonville', target='Moscow', algorithm='dijkstra')"
   ]
  },
  {
   "cell_type": "code",
   "execution_count": 8,
   "id": "71b61d95",
   "metadata": {},
   "outputs": [
    {
     "data": {
      "text/plain": [
       "(13.204170653808394, ['Boston', 'London', 'Moscow'])"
      ]
     },
     "execution_count": 8,
     "metadata": {},
     "output_type": "execute_result"
    }
   ],
   "source": [
    "get_shortest_path(graph, 'Boston', target='Moscow', algorithm='dijkstra')"
   ]
  },
  {
   "cell_type": "code",
   "execution_count": 9,
   "id": "0ffcfd30",
   "metadata": {},
   "outputs": [
    {
     "data": {
      "text/plain": [
       "(16.7149266158798, ['Jacksonville', 'London', 'Rostov'])"
      ]
     },
     "execution_count": 9,
     "metadata": {},
     "output_type": "execute_result"
    }
   ],
   "source": [
    "get_shortest_path(graph, 'Jacksonville', target='Rostov', algorithm='dijkstra')"
   ]
  },
  {
   "cell_type": "code",
   "execution_count": 10,
   "id": "39bb9137",
   "metadata": {},
   "outputs": [
    {
     "data": {
      "text/plain": [
       "(13.949817937788161, ['Boston', 'Berlin', 'Rostov'])"
      ]
     },
     "execution_count": 10,
     "metadata": {},
     "output_type": "execute_result"
    }
   ],
   "source": [
    "get_shortest_path(graph, 'Boston', target='Rostov', algorithm='dijkstra')"
   ]
  },
  {
   "cell_type": "markdown",
   "id": "26e5b7c4",
   "metadata": {},
   "source": [
    "```\n",
    "From the above results we see that the fastest way to get troops and supplies to each of the three strategic Russian cities is:\n",
    "\n",
    "- Boston --> London --> Saint Petersburg (12.70 hr)\n",
    "- Boston --> London --> Moscow (13.20 hr)\n",
    "- Boston --> Berlin --> Rostov (13.95 hr)\n",
    "```"
   ]
  },
  {
   "cell_type": "markdown",
   "id": "692cc315",
   "metadata": {},
   "source": [
    "### A BIP approach\n",
    "\n",
    "We can also model the above problem as a binary integer program. \n",
    "\n",
    "Parameters:\n",
    "\n",
    "$$c_{j, k} := \\text{ the \"cost\" associated with edge } (j, k)$$\n",
    "\n",
    "Variables:\n",
    "\n",
    "$$x_i:= \\begin{cases}\n",
    "1 \\text{ if node i is on the path}\\\\\n",
    "0 \\text{ otherwise}\n",
    "\\end{cases}$$\n",
    "\n",
    "$$y_{j, k}:= \\begin{cases}\n",
    "1 \\text{ if edge (j, k) is on the path}\\\\\n",
    "0 \\text{ otherwise}\n",
    "\\end{cases}\n",
    "$$\n",
    "\n",
    "Objective:\n",
    "\n",
    "$$\\text{minimize} \\sum_{j, k} y_{j, k} c_{j, k}$$\n",
    "\n",
    "Constraints:\n",
    "\n",
    "$$x_O := 1 \\qquad\\text{(Origin constraint)}$$\n",
    "\n",
    "$$x_T := 1  \\qquad\\text{(Target constraint)}$$\n",
    "\n",
    "$$\n",
    "\\sum_{j} y_{j, i} \\le 1 + M (1 - x_i)\\ , \\quad \\sum_{j} y_{j, i} \\ge 1 - M (1 - x_i)\\ , \\quad \\forall\\ i \\ne O \\quad \\text{(Inbound constraint)}\n",
    "$$\n",
    "\n",
    "$$\n",
    "\\sum_{k} y_{i, k} \\le 1 + M (1 - x_i)\\ , \\quad \\sum_{k} y_{i, k} \\ge 1 - M(1 - x_i)\\ , \\quad \\forall\\ i \\ne T \\quad \\text{(Outbound constraint)}\n",
    "$$\n",
    "\n",
    "$$\n",
    "x_j + x_k \\ge 2 y_{j, k} \\quad \\forall\\ j, k \\quad \\text{(Connectivity constraint)}\n",
    "$$\n",
    "\n",
    "$$ x_i , y_{j, k} \\quad \\text{binary}\n",
    "$$\n",
    "\n",
    "Let us look at how this formulation would work by only considering the paths between source node Boston and the target node St. Petersburg.\n",
    "\n",
    "<img src=\"images/bip_formulation.png\" width=\"500\">\n",
    "\n",
    "Lets solve the above program with `cvxpy`"
   ]
  },
  {
   "cell_type": "code",
   "execution_count": 11,
   "id": "3a97dc4e",
   "metadata": {},
   "outputs": [],
   "source": [
    "import cvxpy as cp"
   ]
  },
  {
   "cell_type": "code",
   "execution_count": 12,
   "id": "02368b1a",
   "metadata": {},
   "outputs": [],
   "source": [
    "# Parameters\n",
    "\n",
    "M = 1000000\n",
    "for edge in graph.edges:\n",
    "    exec('c_{s}_{t} = edge.cost'.format(s=edge.source, t=edge.target))"
   ]
  },
  {
   "cell_type": "code",
   "execution_count": 13,
   "id": "afa09e83",
   "metadata": {},
   "outputs": [],
   "source": [
    "# Variables\n",
    "\n",
    "for edge in graph.edges:\n",
    "    exec('y_{s}_{t} = cp.Variable(1, boolean=True, name=\"y_{s}_{t}\")'.format(\n",
    "        s=edge.source, t=edge.target))\n",
    "\n",
    "for vertex in graph.vertices:\n",
    "    exec('x_{v} = cp.Variable(1, boolean=True, name=\"x_{v}\")'.format(v=vertex))"
   ]
  },
  {
   "cell_type": "code",
   "execution_count": 25,
   "id": "e16d262f",
   "metadata": {},
   "outputs": [],
   "source": [
    "# Constraints\n",
    "\n",
    "x_Boston = 1  # origin constraint\n",
    "x_StPetersburg = 1  # target constraint\n",
    "\n",
    "constraints_bip = [\n",
    "    # outbound Boston\n",
    "    (y_Boston_Napoli +\n",
    "     y_Boston_Hamburg +\n",
    "     y_Boston_Rotterdam +\n",
    "     y_Boston_London +\n",
    "     y_Boston_Berlin +\n",
    "     y_Boston_Istanbul) <= 1 + M * (1 - x_Boston),\n",
    "\n",
    "    (y_Boston_Napoli +\n",
    "     y_Boston_Hamburg +\n",
    "     y_Boston_Rotterdam +\n",
    "     y_Boston_London +\n",
    "     y_Boston_Berlin +\n",
    "     y_Boston_Istanbul) >= 1 - M * (1 - x_Boston),\n",
    "\n",
    "    # inbound Napoli\n",
    "    y_Boston_Napoli <= 1 + M * (1 - x_Napoli),\n",
    "    y_Boston_Napoli >= 1 - M * (1 - x_Napoli),\n",
    "\n",
    "    # outbound Napoli\n",
    "    y_Napoli_StPetersburg <= 1 + M * (1 - x_Napoli),\n",
    "    y_Napoli_StPetersburg >= 1 - M * (1 - x_Napoli),\n",
    "\n",
    "    # inbound Hamburg\n",
    "    y_Boston_Hamburg <= 1 + M * (1 - x_Hamburg),\n",
    "    y_Boston_Hamburg >= 1 - M * (1 - x_Hamburg),\n",
    "\n",
    "    # outbound Hamburg\n",
    "    y_Hamburg_StPetersburg <= 1 + M * (1 - x_Hamburg),\n",
    "    y_Hamburg_StPetersburg >= 1 - M * (1 - x_Hamburg),\n",
    "\n",
    "    # inbound Rotterdam\n",
    "    y_Boston_Rotterdam <= 1 + M * (1 - x_Rotterdam),\n",
    "    y_Boston_Rotterdam >= 1 - M * (1 - x_Rotterdam),\n",
    "\n",
    "    # outbound Rotterdam\n",
    "    y_Rotterdam_StPetersburg <= 1 + M * (1 - x_Rotterdam),\n",
    "    y_Rotterdam_StPetersburg >= 1 - M * (1 - x_Rotterdam),\n",
    "\n",
    "    # inbound London\n",
    "    y_Boston_London <= 1 + M * (1 - x_London),\n",
    "    y_Boston_London >= 1 - M * (1 - x_London),\n",
    "\n",
    "    # outbound London\n",
    "    y_London_StPetersburg <= 1 + M * (1 - x_London),\n",
    "    y_London_StPetersburg >= 1 - M * (1 - x_London),\n",
    "\n",
    "    # inbound Berlin\n",
    "    y_Boston_Berlin <= 1 + M * (1 - x_Berlin),\n",
    "    y_Boston_Berlin >= 1 - M * (1 - x_Berlin),\n",
    "\n",
    "    # outbound Berlin\n",
    "    y_Berlin_StPetersburg <= 1 + M * (1 - x_Berlin),\n",
    "    y_Berlin_StPetersburg >= 1 - M * (1 - x_Berlin),\n",
    "\n",
    "    # inbound Istanbul\n",
    "    y_Boston_Istanbul <= 1 + M * (1 - x_Istanbul),\n",
    "    y_Boston_Istanbul >= 1 - M * (1 - x_Istanbul),\n",
    "\n",
    "    # outbound Istanbul\n",
    "    y_Istanbul_StPetersburg <= 1 + M * (1 - x_Istanbul),\n",
    "    y_Istanbul_StPetersburg >= 1 - M * (1 - x_Istanbul),\n",
    "\n",
    "    # inbound StPetersburg\n",
    "    (y_Napoli_StPetersburg +\n",
    "     y_Hamburg_StPetersburg +\n",
    "     y_Rotterdam_StPetersburg +\n",
    "     y_London_StPetersburg +\n",
    "     y_Berlin_StPetersburg +\n",
    "     y_Istanbul_StPetersburg) <= 1 + M * (1 - x_StPetersburg),\n",
    "\n",
    "    (y_Napoli_StPetersburg +\n",
    "     y_Hamburg_StPetersburg +\n",
    "     y_Rotterdam_StPetersburg +\n",
    "     y_London_StPetersburg +\n",
    "     y_Berlin_StPetersburg +\n",
    "     y_Istanbul_StPetersburg) >= 1 - M * (1 - x_StPetersburg),\n",
    "    \n",
    "    # connectivity\n",
    "    x_Boston + x_Napoli >= 2 * y_Boston_Napoli,\n",
    "    x_Boston + x_Hamburg >= 2 * y_Boston_Hamburg,\n",
    "    x_Boston + x_Rotterdam >= 2 * y_Boston_Rotterdam,\n",
    "    x_Boston + x_London >= 2 * y_Boston_London,\n",
    "    x_Boston + x_Berlin >= 2 * y_Boston_Berlin,\n",
    "    x_Boston + x_Istanbul >= 2 * y_Boston_Istanbul,\n",
    "    \n",
    "    x_Napoli + x_StPetersburg >= 2 * y_Napoli_StPetersburg,\n",
    "    x_Hamburg + x_StPetersburg >= 2 * y_Hamburg_StPetersburg,\n",
    "    x_Rotterdam + x_StPetersburg >= 2 * y_Rotterdam_StPetersburg,\n",
    "    x_London + x_StPetersburg >= 2 * y_London_StPetersburg,\n",
    "    x_Berlin + x_StPetersburg >= 2 * y_Berlin_StPetersburg,\n",
    "    x_Istanbul + x_StPetersburg >= 2 * y_Istanbul_StPetersburg\n",
    "]"
   ]
  },
  {
   "cell_type": "code",
   "execution_count": 26,
   "id": "372e0a0a",
   "metadata": {},
   "outputs": [],
   "source": [
    "# Objective\n",
    "\n",
    "obj_bip = cp.Minimize(\n",
    "    y_Boston_Napoli * c_Boston_Napoli + \n",
    "    y_Boston_Hamburg * c_Boston_Hamburg +\n",
    "    y_Boston_Rotterdam * c_Boston_Rotterdam + \n",
    "    y_Boston_London * c_Boston_London +\n",
    "    y_Boston_Berlin * c_Boston_Berlin +\n",
    "    y_Boston_Istanbul * c_Boston_Istanbul +\n",
    "    y_Napoli_StPetersburg * c_Napoli_StPetersburg +\n",
    "    y_Hamburg_StPetersburg * c_Hamburg_StPetersburg +\n",
    "    y_Rotterdam_StPetersburg * c_Rotterdam_StPetersburg +\n",
    "    y_London_StPetersburg * c_London_StPetersburg +\n",
    "    y_Berlin_StPetersburg * c_Berlin_StPetersburg + \n",
    "    y_Istanbul_StPetersburg * c_Istanbul_StPetersburg\n",
    ")"
   ]
  },
  {
   "cell_type": "code",
   "execution_count": 27,
   "id": "d2aab8f3",
   "metadata": {},
   "outputs": [],
   "source": [
    "bip = cp.Problem(obj_bip, constraints_bip)"
   ]
  },
  {
   "cell_type": "code",
   "execution_count": 29,
   "id": "d0c3bb9a",
   "metadata": {},
   "outputs": [],
   "source": [
    "bip.solve();"
   ]
  },
  {
   "cell_type": "code",
   "execution_count": 30,
   "id": "05dce163",
   "metadata": {},
   "outputs": [
    {
     "data": {
      "text/plain": [
       "{'status': 'optimal',\n",
       " 'optimal_value': 12.707072464488547,\n",
       " 'optimal_solution': {'y_Boston_Napoli': 0.0,\n",
       "  'y_Boston_Hamburg': 0.0,\n",
       "  'y_Boston_Rotterdam': 0.0,\n",
       "  'y_Boston_London': 1.0,\n",
       "  'y_Boston_Berlin': 0.0,\n",
       "  'y_Boston_Istanbul': 0.0,\n",
       "  'y_Napoli_StPetersburg': 0.0,\n",
       "  'y_Hamburg_StPetersburg': 0.0,\n",
       "  'y_Rotterdam_StPetersburg': 0.0,\n",
       "  'y_London_StPetersburg': 1.0,\n",
       "  'y_Berlin_StPetersburg': 0.0,\n",
       "  'y_Istanbul_StPetersburg': 0.0,\n",
       "  'x_Napoli': 0.0,\n",
       "  'x_Hamburg': 0.0,\n",
       "  'x_Rotterdam': 0.0,\n",
       "  'x_London': 1.0,\n",
       "  'x_Berlin': 0.0,\n",
       "  'x_Istanbul': 0.0}}"
      ]
     },
     "execution_count": 30,
     "metadata": {},
     "output_type": "execute_result"
    }
   ],
   "source": [
    "get_result_summary(bip)"
   ]
  },
  {
   "cell_type": "markdown",
   "id": "1971c98c",
   "metadata": {},
   "source": [
    "The above result confirms what we already know - *the fastest way to reach St Petersburg from Boston is via London, and this trip takes approximately 12.70 hours*. We can solve similar fomulations for each source-target pair to get the desired results."
   ]
  },
  {
   "cell_type": "code",
   "execution_count": null,
   "id": "4bb6673e",
   "metadata": {},
   "outputs": [],
   "source": []
  },
  {
   "cell_type": "code",
   "execution_count": null,
   "id": "320573d9",
   "metadata": {},
   "outputs": [],
   "source": []
  },
  {
   "cell_type": "code",
   "execution_count": null,
   "id": "1df2aef3",
   "metadata": {},
   "outputs": [],
   "source": []
  },
  {
   "cell_type": "code",
   "execution_count": null,
   "id": "26061164",
   "metadata": {},
   "outputs": [],
   "source": []
  },
  {
   "cell_type": "code",
   "execution_count": null,
   "id": "b21eba5d",
   "metadata": {},
   "outputs": [],
   "source": []
  },
  {
   "cell_type": "code",
   "execution_count": null,
   "id": "3e49e7eb",
   "metadata": {},
   "outputs": [],
   "source": []
  },
  {
   "cell_type": "code",
   "execution_count": null,
   "id": "09a3bd59",
   "metadata": {},
   "outputs": [],
   "source": []
  },
  {
   "cell_type": "code",
   "execution_count": 17,
   "id": "800d7131",
   "metadata": {},
   "outputs": [],
   "source": [
    "\n",
    "for edge in graph.edges:\n",
    "    c_{}_{}"
   ]
  },
  {
   "cell_type": "code",
   "execution_count": 18,
   "id": "417d2d83",
   "metadata": {},
   "outputs": [
    {
     "data": {
      "text/plain": [
       "141.14037875331326"
      ]
     },
     "execution_count": 18,
     "metadata": {},
     "output_type": "execute_result"
    }
   ],
   "source": [
    "c_boston_napoli"
   ]
  },
  {
   "cell_type": "code",
   "execution_count": null,
   "id": "6080bbe6",
   "metadata": {},
   "outputs": [],
   "source": []
  },
  {
   "cell_type": "markdown",
   "id": "3ef6850b",
   "metadata": {},
   "source": [
    "## Seervada Park Problem"
   ]
  },
  {
   "cell_type": "code",
   "execution_count": 28,
   "id": "3b6a3c88",
   "metadata": {},
   "outputs": [],
   "source": [
    "import cvxpy as cp\n",
    "\n",
    "## Seervada problem\n",
    "# parameters\n",
    "M = 1000000\n",
    "xO = 1\n",
    "xT = 1\n",
    "cOA = 2\n",
    "cOB = 5\n",
    "cOC = 4\n",
    "cAB = 2\n",
    "cAD = 7\n",
    "cBC = 1\n",
    "cBE = 3\n",
    "cBD = 4\n",
    "cCE = 4\n",
    "cED = 1\n",
    "cDT = 5\n",
    "cET = 7\n",
    "\n",
    "# variables\n",
    "xA = cp.Variable(1, boolean=True, name='xA')\n",
    "xB = cp.Variable(1, boolean=True, name='xB')\n",
    "xC = cp.Variable(1, boolean=True, name='xC')\n",
    "xD = cp.Variable(1, boolean=True, name='xD')\n",
    "xE = cp.Variable(1, boolean=True, name='xE')\n",
    "\n",
    "yOA = cp.Variable(1, boolean=True, name='yOA')\n",
    "yOB = cp.Variable(1, boolean=True, name='yOB')\n",
    "yOC = cp.Variable(1, boolean=True, name='yOC')\n",
    "yAB = cp.Variable(1, boolean=True, name='yAB')\n",
    "yAD = cp.Variable(1, boolean=True, name='yAD')\n",
    "yBC = cp.Variable(1, boolean=True, name='yBC')\n",
    "yBE = cp.Variable(1, boolean=True, name='yBE')\n",
    "yBD = cp.Variable(1, boolean=True, name='yBD')\n",
    "yCE = cp.Variable(1, boolean=True, name='yCE')\n",
    "yDT = cp.Variable(1, boolean=True, name='yDT')\n",
    "yED = cp.Variable(1, boolean=True, name='yED')\n",
    "yET = cp.Variable(1, boolean=True, name='yET')\n",
    "\n",
    "# constraints\n",
    "outbound_cons = [\n",
    "    yOA + yOB + yOC <= 1 + M * (1 - xO),\n",
    "    yOA + yOB + yOC >= 1 - M * (1 - xO),\n",
    "\n",
    "    yAB + yAD <= 1 + M * (1 - xA),\n",
    "    yAB + yAD >= 1 - M * (1 - xA),\n",
    "\n",
    "    yBC + yBD + yBE <= 1 + M * (1 - xB),\n",
    "    yBC + yBD + yBE >= 1 - M * (1 - xB),\n",
    "\n",
    "    yCE <= 1 + M * (1 - xC),\n",
    "    yCE >= 1 - M * (1 - xC),\n",
    "\n",
    "    yDT <= 1 + M * (1 - xD),\n",
    "    yDT >= 1 - M * (1 - xD),\n",
    "\n",
    "    yED + yET <= 1 + M * (1 - xE),\n",
    "    yED + yET >= 1 - M * (1 - xE),\n",
    "]\n",
    "\n",
    "inbound_cons = [\n",
    "    yOA <= 1 + M * (1 - xA),\n",
    "    yOA >= 1 - M * (1 - xA),\n",
    "    \n",
    "    yAB + yOB <= 1 + M * (1 - xB),\n",
    "    yAB + yOB >= 1 - M * (1 - xB),\n",
    "    \n",
    "    yOC + yBC <= 1 + M * (1 - xC),\n",
    "    yOC + yBC >= 1 - M * (1 - xC),\n",
    "\n",
    "    yAD + yBD + yED <= 1 + M * (1 - xD),\n",
    "    yAD + yBD + yED >= 1 - M * (1 - xD),\n",
    "\n",
    "    yBE + yCE <= 1 + M * (1 - xE),\n",
    "    yBE + yCE >= 1 - M * (1 - xE),\n",
    "\n",
    "    yDT + yET <= 1 + M * (1 - xT),\n",
    "    yDT + yET >= 1 - M * (1 - xT),\n",
    "]\n",
    "\n",
    "connectivity_cons = [\n",
    "    xO + xA >= 2 * yOA,\n",
    "    xO + xB >= 2 * yOB,\n",
    "    xO + xC >= 2 * yOC,\n",
    "    xA + xB >= 2 * yAB,\n",
    "    xA + xD >= 2 * yAD,\n",
    "    xB + xC >= 2 * yBC,\n",
    "    xB + xE >= 2 * yBE,\n",
    "    xB + xD >= 2 * yBD,\n",
    "    xC + xE >= 2 * yCE,\n",
    "    xE + xD >= 2 * yED,\n",
    "    xD + xT >= 2 * yDT,\n",
    "    xE + xT >= 2 * yET,\n",
    "]\n",
    "\n",
    "constraints = outbound_cons + inbound_cons + connectivity_cons\n",
    "# objective\n",
    "\n",
    "obj = cp.Minimize(\n",
    "    cOA * yOA + \n",
    "    cOB * yOB + \n",
    "    cOC * yOC + \n",
    "    cAB * yAB + \n",
    "    cAD * yAD + \n",
    "    cBC * yBC + \n",
    "    cBE * yBE + \n",
    "    cBD * yBD +\n",
    "    cCE * yCE +\n",
    "    cDE * yED +\n",
    "    cDT * yDT +\n",
    "    cET * yET\n",
    ")"
   ]
  },
  {
   "cell_type": "code",
   "execution_count": 29,
   "id": "aa05a18c",
   "metadata": {},
   "outputs": [],
   "source": [
    "prob = cp.Problem(obj, constraints)"
   ]
  },
  {
   "cell_type": "code",
   "execution_count": 30,
   "id": "f8dac368",
   "metadata": {},
   "outputs": [
    {
     "data": {
      "text/plain": [
       "13.0"
      ]
     },
     "execution_count": 30,
     "metadata": {},
     "output_type": "execute_result"
    }
   ],
   "source": [
    "prob.solve()"
   ]
  },
  {
   "cell_type": "code",
   "execution_count": 31,
   "id": "40228f3f",
   "metadata": {},
   "outputs": [],
   "source": [
    "from solver.utils import get_result_summary"
   ]
  },
  {
   "cell_type": "code",
   "execution_count": 32,
   "id": "00dc3bc4",
   "metadata": {},
   "outputs": [
    {
     "data": {
      "text/plain": [
       "{'status': 'optimal',\n",
       " 'optimal_value': 13.0,\n",
       " 'optimal_solution': {'yOA': 1.0,\n",
       "  'yOB': 0.0,\n",
       "  'yOC': 0.0,\n",
       "  'yAB': 1.0,\n",
       "  'yAD': 0.0,\n",
       "  'yBC': 0.0,\n",
       "  'yBE': 0.0,\n",
       "  'yBD': 1.0,\n",
       "  'yCE': 0.0,\n",
       "  'yED': 0.0,\n",
       "  'yDT': 1.0,\n",
       "  'yET': 0.0,\n",
       "  'xA': 1.0,\n",
       "  'xB': 1.0,\n",
       "  'xC': 0.0,\n",
       "  'xD': 1.0,\n",
       "  'xE': 0.0}}"
      ]
     },
     "execution_count": 32,
     "metadata": {},
     "output_type": "execute_result"
    }
   ],
   "source": [
    "get_result_summary(prob)"
   ]
  },
  {
   "cell_type": "code",
   "execution_count": null,
   "id": "4e2ecf50",
   "metadata": {},
   "outputs": [],
   "source": []
  },
  {
   "cell_type": "code",
   "execution_count": null,
   "id": "d656cd71",
   "metadata": {},
   "outputs": [],
   "source": []
  },
  {
   "cell_type": "code",
   "execution_count": null,
   "id": "36e054e7",
   "metadata": {},
   "outputs": [],
   "source": []
  },
  {
   "cell_type": "markdown",
   "id": "3abc733a",
   "metadata": {},
   "source": [
    "# The maximum flow problem\n",
    "## *As a linear program*\n",
    "\n",
    "<img src=\"./images/seervada_maxflow.png\" width=\"500\" length=\"500\" align=\"center\">"
   ]
  },
  {
   "cell_type": "code",
   "execution_count": 9,
   "id": "3c7f9c42",
   "metadata": {},
   "outputs": [],
   "source": [
    "# variables\n",
    "xOA = cp.Variable(1, nonneg = True, name='xOA')\n",
    "xOB = cp.Variable(1, nonneg = True, name='xOB')\n",
    "xOC = cp.Variable(1, nonneg = True, name='xOC')\n",
    "\n",
    "xAB = cp.Variable(1, nonneg = True, name='xAB')\n",
    "xAD = cp.Variable(1, nonneg = True, name='xAD')\n",
    "\n",
    "xBC = cp.Variable(1, nonneg = True, name='xBC')\n",
    "xBD = cp.Variable(1, nonneg = True, name='xBD')\n",
    "xBE = cp.Variable(1, nonneg = True, name='xBE')\n",
    "\n",
    "xCE = cp.Variable(1, nonneg = True, name='xCE')\n",
    "\n",
    "xDT = cp.Variable(1, nonneg = True, name='xDT')\n",
    "\n",
    "xED = cp.Variable(1, nonneg = True, name='xED')\n",
    "xET = cp.Variable(1, nonneg = True, name='xET')"
   ]
  },
  {
   "cell_type": "code",
   "execution_count": 11,
   "id": "4240e97d",
   "metadata": {},
   "outputs": [],
   "source": [
    "# constraints\n",
    "node_flow_cons = [\n",
    "    xOA - xAB - xAD == 0,\n",
    "    xOB + xAB - xBC - xBE - xBD == 0,\n",
    "    xOC + xBC - xCE == 0,\n",
    "    xAD + xBD + xED - xDT == 0,\n",
    "    xCE + xBE - xED - xET == 0,\n",
    "]\n",
    "\n",
    "total_flow_cons = [-xOA - xOB - xOC + xDT + xET == 0,]\n",
    "\n",
    "edge_capacity_cons = [\n",
    "    xOA <= 5,\n",
    "    xOB <= 7,\n",
    "    xOC <= 4,\n",
    "    xAB <= 1,\n",
    "    xAD <= 3,\n",
    "    xBD <= 4,\n",
    "    xBE <= 5,\n",
    "    xBC <= 2,\n",
    "    xCE <= 4,\n",
    "    xDT <= 9,\n",
    "    xET <= 6,\n",
    "    xED <= 1,\n",
    "]"
   ]
  },
  {
   "cell_type": "code",
   "execution_count": 12,
   "id": "122e39f2",
   "metadata": {},
   "outputs": [],
   "source": [
    "obj = cp.Maximize(xDT + xET)"
   ]
  },
  {
   "cell_type": "code",
   "execution_count": 13,
   "id": "c444c7f5",
   "metadata": {},
   "outputs": [],
   "source": [
    "cons = node_flow_cons + total_flow_cons + edge_capacity_cons"
   ]
  },
  {
   "cell_type": "code",
   "execution_count": 14,
   "id": "d62af9a2",
   "metadata": {},
   "outputs": [],
   "source": [
    "prob = cp.Problem(obj, cons)"
   ]
  },
  {
   "cell_type": "code",
   "execution_count": 15,
   "id": "c368308a",
   "metadata": {},
   "outputs": [
    {
     "data": {
      "text/plain": [
       "13.999999996621327"
      ]
     },
     "execution_count": 15,
     "metadata": {},
     "output_type": "execute_result"
    }
   ],
   "source": [
    "prob.solve()"
   ]
  },
  {
   "cell_type": "code",
   "execution_count": null,
   "id": "b9a761f0",
   "metadata": {},
   "outputs": [],
   "source": []
  }
 ],
 "metadata": {
  "kernelspec": {
   "display_name": "Python 3 (ipykernel)",
   "language": "python",
   "name": "python3"
  },
  "language_info": {
   "codemirror_mode": {
    "name": "ipython",
    "version": 3
   },
   "file_extension": ".py",
   "mimetype": "text/x-python",
   "name": "python",
   "nbconvert_exporter": "python",
   "pygments_lexer": "ipython3",
   "version": "3.7.9"
  }
 },
 "nbformat": 4,
 "nbformat_minor": 5
}
