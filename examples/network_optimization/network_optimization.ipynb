{
 "cells": [
  {
   "cell_type": "markdown",
   "id": "3e35fabf",
   "metadata": {},
   "source": [
    "# Case Study: Aiding Allies\n",
    "[Source: Frederick S. Hillier and Gerald J. Lieberman.  *Introduction to Operations Research - 7th ed.*, McGraw-Hill, ISBN 0-07-232169-5]"
   ]
  },
  {
   "cell_type": "markdown",
   "id": "47e9da6c",
   "metadata": {},
   "source": [
    "<img src=\"images/aiding_allies_map.png\" width=\"700\">"
   ]
  },
  {
   "cell_type": "markdown",
   "id": "f768a200",
   "metadata": {},
   "source": [
    "|Transportation Type| Name| Capacity|Speed|\n",
    "|:---|:---|:---|:---|\n",
    "|Aircraft|C-141 Starlifter|150 tons|400 miles per hour|\n",
    "|Ship|Transport|240 tons|35 miles per hour|\n",
    "|Vehicle|Palletized Load System Truck|16,000 kilograms|60 miles per hour|"
   ]
  },
  {
   "cell_type": "markdown",
   "id": "c98446fb",
   "metadata": {},
   "source": [
    "1. <mark>All aircraft, ships, and vehicles are able to carry both troops and cargo.</mark>\n",
    "2. <mark>Once an aircraft or ship arrives in Europe, it stays there to support the armed forces.</mark>"
   ]
  },
  {
   "cell_type": "markdown",
   "id": "d81f9207",
   "metadata": {},
   "source": [
    "The President then turns to Tabitha Neal, who has been negotiating with the NATO countries for the last several hours to use their ports and airfields as stops to refuel and resupply before heading to the Russian Federation. She informs the President that the following ports and airfields in the NATO countries will be made available to the United States military.\n",
    "\n",
    "|Ports|Airfields|\n",
    "|:---|:---|\n",
    "|Napoli|London|\n",
    "|Hamburg|Berlin|\n",
    "|Rotterdam|Istanbul|\n"
   ]
  },
  {
   "cell_type": "markdown",
   "id": "1cca29ca",
   "metadata": {},
   "source": [
    "The President stands and walks to the map of the world projected on a large screen in the middle of the room. He maps the progress of troops and cargo from the United States to three strategic cities in the Russian Federation that have not yet been seized by Commander Votachev. The three cities are Saint Petersburg, Moscow, and Rostov. He explains that the troops and cargo will be used both to defend the Russian cities and to launch a counterattack against Votachev to recapture the cities he currently occupies. The President also explains that:\n",
    "\n",
    "3.  <mark>All Starlifters and transports leave either Boston or Jacksonville.</mark>\n",
    "4. <mark> All transports that have traveled across the Atlantic must dock at one of the NATO ports to unload.</mark>\n",
    "5. <mark>Palletized load system trucks brought over in the transports will then carry all troops and materials unloaded from the ships at the NATO ports to the three strategic Russian cities not yet seized by Votachev - Saint Petersburg, Moscow, and Rostov.</mark>\n",
    "6. <mark>All Starlifters that have traveled across the Atlantic must land at one of the NATO airfields for refueling. The planes will then carry all troops and cargo from the NATO airfields to the three Russian cities.</mark>\n"
   ]
  },
  {
   "cell_type": "markdown",
   "id": "eb4d6437",
   "metadata": {},
   "source": [
    "The different routes that may be taken by the troops and supplies to reach the Russian Federation from the United States are shown below:\n",
    "\n",
    "<img src=\"images/possible_routes.png\" width=\"500\" length=\"500\">"
   ]
  },
  {
   "cell_type": "markdown",
   "id": "5d781729",
   "metadata": {},
   "source": [
    "## When speed is of the essence\n",
    "Moscow and Washington do not know when Commander Votachev will launch his next attack. Leaders from the two countries have therefore agreed that\n",
    "\n",
    "7. <mark>Troops should reach each of the three strategic Russian cities as quickly as possible</mark>.\n",
    "\n",
    "The President has determined that the situation is so dire that cost is no object—as many Starlifters, transports, and trucks as are necessary will be used to transfer troops and cargo from the United States to Saint Petersburg, Moscow, and Rostov. Therefore,\n",
    "\n",
    "8. <mark>No limitations exist on the number of troops and amount of cargo that can be transferred between any cities.</mark>\n",
    "\n",
    "The President has been given the following information about the length of the available routes between cities on the Atlantic leg:\n",
    "\n",
    "|From|To|Length of route (km)|\n",
    "|:---|:---|:---:|\n",
    "|Boston |Berlin |7,250 |\n",
    "|Boston |Hamburg |8,250 |\n",
    "|Boston |Istanbul |8,300 |\n",
    "|Boston |London |6,200 |\n",
    "|Boston |Rotterdam |6,900 |\n",
    "|Boston |Napoli |7,950 |\n",
    "|Jacksonville |Berlin |9,200 |\n",
    "|Jacksonville |Hamburg |9,800 |\n",
    "|Jacksonville |Istanbul |10,100 |\n",
    "|Jacksonville |London |7,900 |\n",
    "|Jacksonville |Rotterdam |8,900 |\n",
    "|Jacksonville |Napoli |9,400 |"
   ]
  },
  {
   "cell_type": "markdown",
   "id": "927731b1",
   "metadata": {},
   "source": [
    "and on the Eurasian leg:\n",
    "\n",
    "|From|To|Length of route (km)|\n",
    "|:---|:---|:---:|\n",
    "|Berlin | Saint Petersburg |1,280 |\n",
    "|Hamburg |Saint Petersburg |1,880 |\n",
    "|Istanbul |Saint Petersburg |2,040 |\n",
    "|London |Saint Petersburg |1,980 |\n",
    "|Rotterdam |Saint Petersburg |2,200 |\n",
    "|Napoli |Saint Petersburg |2,970 |\n",
    "|Berlin |Moscow |1,600 |\n",
    "|Hamburg |Moscow |2,120 |\n",
    "|Istanbul |Moscow |1,700 |\n",
    "|London |Moscow |2,300 |\n",
    "|Rotterdam |Moscow |2,450 |\n",
    "|Napoli |Moscow |2,890 |\n",
    "|Berlin |Rostov |1,730 |\n",
    "|Hamburg |Rostov |2,470 |\n",
    "|Istanbul |Rostov |990 |\n",
    "|London |Rostov |2,860 |\n",
    "|Rotterdam |Rostov |2,760 |\n",
    "|Napoli |Rostov |2,800 |"
   ]
  },
  {
   "cell_type": "markdown",
   "id": "e22f900d",
   "metadata": {},
   "source": [
    "**Question 1.** ```Given the distance and the speed of the transportation used between each pair of cities, how can the President most quickly move troops from the United States to each of the three strategic Russian cities? How long will it take troops and supplies to reach Saint Petersburg? Moscow? Rostov?```"
   ]
  },
  {
   "cell_type": "markdown",
   "id": "b020295e",
   "metadata": {},
   "source": [
    "Since Question 1 is only concerned with the minimum time taken by the troops to reach Russia, we can model this problem as a shortest path problem."
   ]
  },
  {
   "cell_type": "markdown",
   "id": "2e45526c",
   "metadata": {},
   "source": []
  },
  {
   "cell_type": "code",
   "execution_count": 3,
   "id": "188342ad",
   "metadata": {},
   "outputs": [],
   "source": [
    "import pandas as pd\n",
    "\n",
    "from solver.algorithms import get_shortest_paths"
   ]
  },
  {
   "cell_type": "code",
   "execution_count": 4,
   "id": "09bf10ec",
   "metadata": {},
   "outputs": [],
   "source": []
  },
  {
   "cell_type": "code",
   "execution_count": 5,
   "id": "76f78556",
   "metadata": {},
   "outputs": [
    {
     "data": {
      "text/plain": [
       "{('Boston', 'Berlin'): 7250,\n",
       " ('Boston', 'Hamburg'): 8250,\n",
       " ('Boston', 'Istanbul'): 8300,\n",
       " ('Boston', 'London'): 6200,\n",
       " ('Boston', 'Rotterdam'): 6900,\n",
       " ('Boston', 'Napoli'): 7950,\n",
       " ('Jacksonville', 'Berlin'): 9200,\n",
       " ('Jacksonville', 'Hamburg'): 9800,\n",
       " ('Jacksonville', 'Istanbul'): 10100,\n",
       " ('Jacksonville', 'London'): 7900,\n",
       " ('Jacksonville', 'Rotterdam'): 8900,\n",
       " ('Jacksonville', 'Napoli'): 9400}"
      ]
     },
     "execution_count": 5,
     "metadata": {},
     "output_type": "execute_result"
    }
   ],
   "source": [
    "edges_distances = ('Boston', 'Berlin'): 7250,\n",
    "('Boston', 'Hamburg'): 8250,\n",
    "('Boston', 'Istanbul'): 8300,\n",
    "('Boston', 'London'): 6200,\n",
    "('Boston', 'Rotterdam'): 6900,\n",
    "('Boston', 'Napoli'): 7950,\n",
    "('Jacksonville', 'Berlin'): 9200,\n",
    "('Jacksonville', 'Hamburg'): 9800,\n",
    "('Jacksonville', 'Istanbul'): 10100,\n",
    "('Jacksonville', 'London'): 7900,\n",
    "('Jacksonville', 'Rotterdam'): 8900,\n",
    "('Jacksonville', 'Napoli'): 9400,"
   ]
  },
  {
   "cell_type": "markdown",
   "id": "3abc733a",
   "metadata": {},
   "source": [
    "# The maximum flow problem\n",
    "## *As a linear program*\n",
    "\n",
    "<img src=\"./images/seervada_maxflow.png\" width=\"500\" length=\"500\" align=\"center\">"
   ]
  },
  {
   "cell_type": "code",
   "execution_count": 9,
   "id": "3c7f9c42",
   "metadata": {},
   "outputs": [],
   "source": [
    "# variables\n",
    "xOA = cp.Variable(1, nonneg = True, name='xOA')\n",
    "xOB = cp.Variable(1, nonneg = True, name='xOB')\n",
    "xOC = cp.Variable(1, nonneg = True, name='xOC')\n",
    "\n",
    "xAB = cp.Variable(1, nonneg = True, name='xAB')\n",
    "xAD = cp.Variable(1, nonneg = True, name='xAD')\n",
    "\n",
    "xBC = cp.Variable(1, nonneg = True, name='xBC')\n",
    "xBD = cp.Variable(1, nonneg = True, name='xBD')\n",
    "xBE = cp.Variable(1, nonneg = True, name='xBE')\n",
    "\n",
    "xCE = cp.Variable(1, nonneg = True, name='xCE')\n",
    "\n",
    "xDT = cp.Variable(1, nonneg = True, name='xDT')\n",
    "\n",
    "xED = cp.Variable(1, nonneg = True, name='xED')\n",
    "xET = cp.Variable(1, nonneg = True, name='xET')"
   ]
  },
  {
   "cell_type": "code",
   "execution_count": 11,
   "id": "4240e97d",
   "metadata": {},
   "outputs": [],
   "source": [
    "# constraints\n",
    "node_flow_cons = [\n",
    "    xOA - xAB - xAD == 0,\n",
    "    xOB + xAB - xBC - xBE - xBD == 0,\n",
    "    xOC + xBC - xCE == 0,\n",
    "    xAD + xBD + xED - xDT == 0,\n",
    "    xCE + xBE - xED - xET == 0,\n",
    "]\n",
    "\n",
    "total_flow_cons = [-xOA - xOB - xOC + xDT + xET == 0,]\n",
    "\n",
    "edge_capacity_cons = [\n",
    "    xOA <= 5,\n",
    "    xOB <= 7,\n",
    "    xOC <= 4,\n",
    "    xAB <= 1,\n",
    "    xAD <= 3,\n",
    "    xBD <= 4,\n",
    "    xBE <= 5,\n",
    "    xBC <= 2,\n",
    "    xCE <= 4,\n",
    "    xDT <= 9,\n",
    "    xET <= 6,\n",
    "    xED <= 1,\n",
    "]"
   ]
  },
  {
   "cell_type": "code",
   "execution_count": 12,
   "id": "122e39f2",
   "metadata": {},
   "outputs": [],
   "source": [
    "obj = cp.Maximize(xDT + xET)"
   ]
  },
  {
   "cell_type": "code",
   "execution_count": 13,
   "id": "c444c7f5",
   "metadata": {},
   "outputs": [],
   "source": [
    "cons = node_flow_cons + total_flow_cons + edge_capacity_cons"
   ]
  },
  {
   "cell_type": "code",
   "execution_count": 14,
   "id": "d62af9a2",
   "metadata": {},
   "outputs": [],
   "source": [
    "prob = cp.Problem(obj, cons)"
   ]
  },
  {
   "cell_type": "code",
   "execution_count": 15,
   "id": "c368308a",
   "metadata": {},
   "outputs": [
    {
     "data": {
      "text/plain": [
       "13.999999996621327"
      ]
     },
     "execution_count": 15,
     "metadata": {},
     "output_type": "execute_result"
    }
   ],
   "source": [
    "prob.solve()"
   ]
  },
  {
   "cell_type": "code",
   "execution_count": null,
   "id": "b9a761f0",
   "metadata": {},
   "outputs": [],
   "source": []
  }
 ],
 "metadata": {
  "kernelspec": {
   "display_name": "Python 3 (ipykernel)",
   "language": "python",
   "name": "python3"
  },
  "language_info": {
   "codemirror_mode": {
    "name": "ipython",
    "version": 3
   },
   "file_extension": ".py",
   "mimetype": "text/x-python",
   "name": "python",
   "nbconvert_exporter": "python",
   "pygments_lexer": "ipython3",
   "version": "3.7.9"
  }
 },
 "nbformat": 4,
 "nbformat_minor": 5
}
