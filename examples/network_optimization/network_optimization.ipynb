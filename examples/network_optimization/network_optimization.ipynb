{
 "cells": [
  {
   "cell_type": "markdown",
   "id": "622b8564",
   "metadata": {},
   "source": [
    "# Network Optimization: Case 9.1 (Aiding Allies)\n",
    "[Source: Frederick S. Hillier and Gerald J. Lieberman.  *Introduction to Operations Research - 7th ed.*, McGraw-Hill, ISBN 0-07-232169-5]"
   ]
  },
  {
   "cell_type": "markdown",
   "id": "c513d6e6",
   "metadata": {},
   "source": [
    "Commander Votachev steps into the cold October night and deeply inhales the smoke from his cigarette, savoring its warmth. He surveys the destruction surrounding him — shattered windows, burning buildings, torn roads — and smiles. His two years of work training revolutionaries east of the Ural Mountains has proved successful; his troops now occupy seven strategically important cities in the Russian Federation: Kazan, Perm,Yekaterinburg, Ufa, Samara, Saratov, and Orenburg. His siege is not yet over, however. He looks to the west. Given the political and economic confusion in the Russian Federation at this time, he knows that his troops will be able to conquer Saint Petersburg and Moscow shortly. Commander Votachev will then be able to rule with the wisdom and control exhibited by his communist predecessors Lenin and Stalin.\n",
    "\n",
    "Across the Pacific Ocean, a meeting of the top security and foreign policy advisers of the United States is in progress at the White House. The President has recently been briefed about the communist revolution masterminded by Commander Votachev and is determining a plan of action. The President reflects upon a similar October long ago in 1917, and he fears the possibility of a new age of radical Communist rule accompanied by chaos, bloodshed, escalating tensions, and possibly nuclear war. He therefore decides that the United States needs to respond and to respond quickly. Moscow has requested assistance from the United States military, and the President plans to send troops and supplies immediately.\n",
    "\n",
    "The President turns to General Lankletter and asks him to describe the preparations being taken in the United States to send the necessary troops and supplies to the Russian Federation. General Lankletter informs the President that along with troops, weapons, ammunition, fuel, and supplies, aircraft, ships, and vehicles are being assembled at two port cities with airfields: Boston and Jacksonville. The aircraft and ships will transfer all troops and cargo across the Atlantic Ocean to the Eurasian continent. The general hands the President a list of the types of aircraft, ships, and vehicles being assembled along with a description of each type. The list is shown below."
   ]
  },
  {
   "cell_type": "markdown",
   "id": "219e45aa",
   "metadata": {},
   "source": [
    "|Transportation Type| Name| Capacity|Speed|\n",
    "|:---|:---|:---|:---|\n",
    "|Aircraft|C-141 Starlifter|150 tons|400 miles per hour|\n",
    "|Ship|Transport|240 tons|35 miles per hour|\n",
    "|Vehicle|Palletized Load System Truck|16,000 kilograms|60 miles per hour|"
   ]
  },
  {
   "cell_type": "markdown",
   "id": "3ca5f449",
   "metadata": {},
   "source": [
    "- All aircraft, ships, and vehicles are able to carry both troops and cargo.\n",
    "- Once an aircraft or ship arrives in Europe, it stays there to support the armed forces."
   ]
  },
  {
   "cell_type": "markdown",
   "id": "3727ce6f",
   "metadata": {},
   "source": [
    "The President then turns to Tabitha Neal, who has been negotiating with the NATO countries for the last several hours to use their ports and airfields as stops to refuel and resupply before heading to the Russian Federation. She informs the President that the following ports and airfields in the NATO countries will be made available to the United States military.\n",
    "\n",
    "|Ports|Airfields|\n",
    "|:---|:---|\n",
    "|Napoli|London|\n",
    "|Hamburg|Berlin|\n",
    "|Rotterdam|Istanbul|\n"
   ]
  },
  {
   "cell_type": "markdown",
   "id": "dfdb5ed4",
   "metadata": {},
   "source": [
    "The President stands and walks to the map of the world projected on a large screen in the middle of the room. He maps the progress of troops and cargo from the United States to three strategic cities in the Russian Federation that have not yet been seized by Commander Votachev. The three cities are Saint Petersburg, Moscow, and Rostov. He explains that the troops and cargo will be used both to defend the Russian cities and to launch a counterattack against Votachev to recapture the cities he currently occupies. The President also explains that:\n",
    "\n",
    "- All Starlifters and transports leave either Boston or Jacksonville.\n",
    "- All transports that have traveled across the Atlantic must dock at one of the NATO ports to unload.\n",
    "- Palletized load system trucks brought over in the transports will then carry all troops and materials unloaded from the ships at the NATO ports to the three strategic Russian cities not yet seized by Votachev - Saint Petersburg, Moscow, and Rostov.\n",
    "- All Starlifters that have traveled across the Atlantic must land at one of the NATO airfields for refueling. The planes will then carry all troops and cargo from the NATO airfields to the three Russian cities.\n"
   ]
  },
  {
   "cell_type": "markdown",
   "id": "908a0525",
   "metadata": {},
   "source": [
    "<img src=\"images/aiding_allies_map.png\" width=\"900\" align=\"center\">"
   ]
  },
  {
   "cell_type": "markdown",
   "id": "3ddb1dec",
   "metadata": {},
   "source": [
    "The different routes that may be taken by the troops and supplies to reach the Russian Federation from the United States are shown below:\n",
    "\n",
    "<img src=\"images/possible_routes_new.png\" width=\"500\" length=\"500\" align=\"center\">"
   ]
  },
  {
   "cell_type": "markdown",
   "id": "1e5bba75",
   "metadata": {},
   "source": [
    "## 1. The Shortest Path Problem: When time is of the essence\n",
    "Moscow and Washington do not know when Commander Votachev will launch his next attack. Leaders from the two countries have therefore agreed that\n",
    "\n",
    "- Troops should reach each of the three strategic Russian cities as quickly as possible.\n",
    "\n",
    "The President has determined that the situation is so dire that cost is no object—as many Starlifters, transports, and trucks as are necessary will be used to transfer troops and cargo from the United States to Saint Petersburg, Moscow, and Rostov. Therefore,\n",
    "\n",
    "- No limitations exist on the number of troops and amount of cargo that can be transferred between any cities.\n",
    "\n",
    "The President has been given the following information about the length of the available routes between cities on the Atlantic leg:\n",
    "\n",
    "|From|To|Length of route (km)|\n",
    "|:---|:---|:---:|\n",
    "|Boston |Berlin |7,250 |\n",
    "|Boston |Hamburg |8,250 |\n",
    "|Boston |Istanbul |8,300 |\n",
    "|Boston |London |6,200 |\n",
    "|Boston |Rotterdam |6,900 |\n",
    "|Boston |Napoli |7,950 |\n",
    "|Jacksonville |Berlin |9,200 |\n",
    "|Jacksonville |Hamburg |9,800 |\n",
    "|Jacksonville |Istanbul |10,100 |\n",
    "|Jacksonville |London |7,900 |\n",
    "|Jacksonville |Rotterdam |8,900 |\n",
    "|Jacksonville |Napoli |9,400 |"
   ]
  },
  {
   "cell_type": "markdown",
   "id": "24ffcb3a",
   "metadata": {},
   "source": [
    "and on the Eurasian leg:\n",
    "\n",
    "|From|To|Length of route (km)|\n",
    "|:---|:---|:---:|\n",
    "|Berlin | Saint Petersburg |1,280 |\n",
    "|Hamburg |Saint Petersburg |1,880 |\n",
    "|Istanbul |Saint Petersburg |2,040 |\n",
    "|London |Saint Petersburg |1,980 |\n",
    "|Rotterdam |Saint Petersburg |2,200 |\n",
    "|Napoli |Saint Petersburg |2,970 |\n",
    "|Berlin |Moscow |1,600 |\n",
    "|Hamburg |Moscow |2,120 |\n",
    "|Istanbul |Moscow |1,700 |\n",
    "|London |Moscow |2,300 |\n",
    "|Rotterdam |Moscow |2,450 |\n",
    "|Napoli |Moscow |2,890 |\n",
    "|Berlin |Rostov |1,730 |\n",
    "|Hamburg |Rostov |2,470 |\n",
    "|Istanbul |Rostov |990 |\n",
    "|London |Rostov |2,860 |\n",
    "|Rotterdam |Rostov |2,760 |\n",
    "|Napoli |Rostov |2,800 |"
   ]
  },
  {
   "cell_type": "markdown",
   "id": "0982a7f1",
   "metadata": {},
   "source": [
    "### Question\n",
    "\n",
    "Given the distance and the speed of the transportation used between each pair of cities, how can the President most quickly move troops from the United States to each of the three strategic Russian cities? How long will it take troops and supplies to reach Saint Petersburg? Moscow? Rostov?"
   ]
  },
  {
   "cell_type": "markdown",
   "id": "a479013a",
   "metadata": {},
   "source": [
    "### 1.1 Dijkstra's shortest path approach\n",
    "Since Question 1 is only concerned with the minimum time taken by the troops to reach Russia, we can model this problem as a *shortest path problem* with each edge length representing the time taken to travel from the source node to the target node. The problem can then be solved using *Dijkstra's shortest path algorithm*. We will use the helper classes and methods provided by the custom [solver](https://github.com/ayusbhar2/operations_research/tree/main/solver) module to solve the problem."
   ]
  },
  {
   "cell_type": "code",
   "execution_count": 1,
   "id": "40e227ac",
   "metadata": {},
   "outputs": [],
   "source": [
    "# my solver module\n",
    "from solver.algorithms import get_shortest_path\n",
    "from solver.classes import Edge, Graph\n",
    "from solver.utils import get_result_summary, prettify"
   ]
  },
  {
   "cell_type": "code",
   "execution_count": 2,
   "id": "1283e6e8",
   "metadata": {},
   "outputs": [],
   "source": [
    "AIR_SPEED_KMPH = 400 * 1.60934  # from MPH to KMPH\n",
    "WATER_SPEED_KMPH = 35 * 1.60934\n",
    "LAND_SPEED_KMPH = 60 * 1.60934"
   ]
  },
  {
   "cell_type": "code",
   "execution_count": 3,
   "id": "09bf10ec",
   "metadata": {},
   "outputs": [],
   "source": [
    "# Create the network graph with provided edges\n",
    "graph = Graph([\n",
    "    Edge('Boston', 'Berlin', distance_km=7250, route_type='air'),\n",
    "    Edge('Boston', 'Hamburg', distance_km=8250, route_type='sea'),\n",
    "    Edge('Boston', 'Istanbul', distance_km=8300, route_type='air'),\n",
    "    Edge('Boston', 'London', distance_km=6200, route_type='air'),\n",
    "    Edge('Boston', 'Rotterdam', distance_km=6900, route_type='sea'),\n",
    "    Edge('Boston', 'Napoli', distance_km=7950, route_type='sea'),\n",
    "    Edge('Jacksonville', 'Berlin', distance_km=9200, route_type='air'),\n",
    "    Edge('Jacksonville', 'Hamburg', distance_km=9800, route_type='sea'),\n",
    "    Edge('Jacksonville', 'Istanbul', distance_km=10100, route_type='air'),\n",
    "    Edge('Jacksonville', 'London', distance_km=7900, route_type='air'),\n",
    "    Edge('Jacksonville', 'Rotterdam', distance_km=8900, route_type='sea'),\n",
    "    Edge('Jacksonville', 'Napoli', distance_km=9400, route_type='sea'),\n",
    "    \n",
    "    Edge('Berlin', 'StPetersburg', distance_km=1280, route_type='land'),\n",
    "    Edge('Hamburg', 'StPetersburg', distance_km=1880, route_type='land'),\n",
    "    Edge('Istanbul', 'StPetersburg', distance_km=2040, route_type='air'),\n",
    "    Edge('London', 'StPetersburg', distance_km=1980, route_type='air'),\n",
    "    Edge('Rotterdam', 'StPetersburg', distance_km=2200, route_type='land'),\n",
    "    Edge('Napoli', 'StPetersburg', distance_km=2970, route_type='land'),\n",
    "    Edge('Berlin', 'Moscow', distance_km=1600, route_type='air'),\n",
    "    Edge('Hamburg', 'Moscow', distance_km=2120, route_type='land'),\n",
    "    Edge('Istanbul', 'Moscow', distance_km=1700, route_type='air'),\n",
    "    Edge('London', 'Moscow', distance_km=2300, route_type='air'),\n",
    "    Edge('Rotterdam', 'Moscow', distance_km=2450, route_type='land'),\n",
    "    Edge('Napoli', 'Moscow', distance_km=2890, route_type='land'),\n",
    "    Edge('Berlin', 'Rostov', distance_km=1730, route_type='air'),\n",
    "    Edge('Hamburg', 'Rostov', distance_km=2470, route_type='land'),\n",
    "    Edge('Istanbul', 'Rostov', distance_km=990, route_type='air'),\n",
    "    Edge('London', 'Rostov', distance_km=2860, route_type='air'),\n",
    "    Edge('Rotterdam', 'Rostov', distance_km=2760, route_type='land'),\n",
    "    Edge('Napoli', 'Rostov', distance_km=2800, route_type='land'),\n",
    "])"
   ]
  },
  {
   "cell_type": "code",
   "execution_count": 4,
   "id": "681d9fd5",
   "metadata": {},
   "outputs": [],
   "source": [
    "# Update all edges with a non-negative time-cost\n",
    "for edge in graph.edges:\n",
    "    if edge.route_type == 'air':\n",
    "        time_hr = edge.distance_km / AIR_SPEED_KMPH\n",
    "    elif edge.route_type == 'sea':\n",
    "        time_hr = edge.distance_km / WATER_SPEED_KMPH\n",
    "    else:\n",
    "        time_hr = edge.distance_km / LAND_SPEED_KMPH\n",
    "    edge.update(cost=time_hr) # edge cost is needed for shortest path algorithm"
   ]
  },
  {
   "cell_type": "code",
   "execution_count": 5,
   "id": "828c13e7",
   "metadata": {},
   "outputs": [
    {
     "data": {
      "text/plain": [
       "(15.347906595250226, ['Jacksonville', 'London', 'StPetersburg'])"
      ]
     },
     "execution_count": 5,
     "metadata": {},
     "output_type": "execute_result"
    }
   ],
   "source": [
    "get_shortest_path(graph, 'Jacksonville', target='StPetersburg', algorithm='dijkstra')"
   ]
  },
  {
   "cell_type": "code",
   "execution_count": 6,
   "id": "dcfc3819",
   "metadata": {},
   "outputs": [
    {
     "data": {
      "text/plain": [
       "(12.707072464488547, ['Boston', 'London', 'StPetersburg'])"
      ]
     },
     "execution_count": 6,
     "metadata": {},
     "output_type": "execute_result"
    }
   ],
   "source": [
    "get_shortest_path(graph, 'Boston', target='StPetersburg', algorithm='dijkstra')"
   ]
  },
  {
   "cell_type": "code",
   "execution_count": 7,
   "id": "af45c53b",
   "metadata": {},
   "outputs": [
    {
     "data": {
      "text/plain": [
       "(15.845004784570072, ['Jacksonville', 'London', 'Moscow'])"
      ]
     },
     "execution_count": 7,
     "metadata": {},
     "output_type": "execute_result"
    }
   ],
   "source": [
    "get_shortest_path(graph, 'Jacksonville', target='Moscow', algorithm='dijkstra')"
   ]
  },
  {
   "cell_type": "code",
   "execution_count": 8,
   "id": "71b61d95",
   "metadata": {},
   "outputs": [
    {
     "data": {
      "text/plain": [
       "(13.204170653808394, ['Boston', 'London', 'Moscow'])"
      ]
     },
     "execution_count": 8,
     "metadata": {},
     "output_type": "execute_result"
    }
   ],
   "source": [
    "get_shortest_path(graph, 'Boston', target='Moscow', algorithm='dijkstra')"
   ]
  },
  {
   "cell_type": "code",
   "execution_count": 9,
   "id": "0ffcfd30",
   "metadata": {},
   "outputs": [
    {
     "data": {
      "text/plain": [
       "(16.7149266158798, ['Jacksonville', 'London', 'Rostov'])"
      ]
     },
     "execution_count": 9,
     "metadata": {},
     "output_type": "execute_result"
    }
   ],
   "source": [
    "get_shortest_path(graph, 'Jacksonville', target='Rostov', algorithm='dijkstra')"
   ]
  },
  {
   "cell_type": "code",
   "execution_count": 10,
   "id": "39bb9137",
   "metadata": {},
   "outputs": [
    {
     "data": {
      "text/plain": [
       "(13.949817937788161, ['Boston', 'Berlin', 'Rostov'])"
      ]
     },
     "execution_count": 10,
     "metadata": {},
     "output_type": "execute_result"
    }
   ],
   "source": [
    "get_shortest_path(graph, 'Boston', target='Rostov', algorithm='dijkstra')"
   ]
  },
  {
   "cell_type": "markdown",
   "id": "26e5b7c4",
   "metadata": {},
   "source": [
    "From the above results we see that the fastest way to get troops and supplies to each of the three strategic Russian cities is:\n",
    "\n",
    "- **Boston --> London --> Saint Petersburg (12.70 hr)**\n",
    "\n",
    "- **Boston --> London --> Moscow (13.20 hr)**\n",
    "\n",
    "- **Boston --> Berlin --> Rostov (13.95 hr)**"
   ]
  },
  {
   "cell_type": "markdown",
   "id": "692cc315",
   "metadata": {},
   "source": [
    "### 1.2 Binary Integer Programming approach\n",
    "\n",
    "We can also model the above problem as a binary integer program as follows.\n",
    "\n",
    "Parameters:\n",
    "\n",
    "$$c_{j, k} := \\text{ the \"cost\" associated with edge } (j, k)$$\n",
    "\n",
    "Variables:\n",
    "\n",
    "$$x_i:= \\begin{cases}\n",
    "1 \\text{ if node i is on the path}\\\\\n",
    "0 \\text{ otherwise}\n",
    "\\end{cases}$$\n",
    "\n",
    "$$y_{j, k}:= \\begin{cases}\n",
    "1 \\text{ if edge (j, k) is on the path}\\\\\n",
    "0 \\text{ otherwise}\n",
    "\\end{cases}\n",
    "$$\n",
    "\n",
    "Objective:\n",
    "\n",
    "$$\\text{minimize} \\sum_{j, k} y_{j, k} c_{j, k}$$\n",
    "\n",
    "Constraints:\n",
    "\n",
    "$$x_O := 1 \\qquad\\text{(Origin constraint)}$$\n",
    "\n",
    "$$x_T := 1  \\qquad\\text{(Target constraint)}$$\n",
    "\n",
    "$$\n",
    "\\sum_{j} y_{j, i} \\le 1 + M (1 - x_i)\\ , \\quad i \\ne O \\quad \\text{(Inbound constraint 1)}\\\\\n",
    "\\sum_{j} y_{j, i} \\ge 1 - M (1 - x_i)\\ , \\quad i \\ne O \\quad \\text{(Inbound constraint 2)}\n",
    "$$\n",
    "\n",
    "$$\n",
    "\\sum_{k} y_{i, k} \\le 1 + M (1 - x_i)\\ , \\quad i \\ne T \\quad \\text{(Outbound constraint 1)}\\\\\n",
    "\\sum_{k} y_{i, k} \\ge 1 - M(1 - x_i)\\ , \\quad i \\ne T \\quad \\text{(Outbound constraint 2)}\n",
    "$$\n",
    "\n",
    "$$\n",
    "x_j + x_k \\ge 2 y_{j, k} \\quad \\forall\\ j, k \\quad \\text{(Connectivity constraint)}\n",
    "$$\n",
    "\n",
    "$$ x_i , y_{j, k} \\quad \\text{binary}\n",
    "$$"
   ]
  },
  {
   "cell_type": "markdown",
   "id": "60ce2a9e",
   "metadata": {},
   "source": [
    "In order to understand how this formulation would work, let us consider the subgraph with a single source node, viz. Boston, and a single target node, viz. St. Petersburg.\n",
    "\n",
    "<img src=\"images/bip_formulation.png\" width=\"500\">\n",
    "\n",
    "Lets solve the above program with `cvxpy`"
   ]
  },
  {
   "cell_type": "code",
   "execution_count": 11,
   "id": "930516ac",
   "metadata": {},
   "outputs": [],
   "source": [
    "import cvxpy as cp"
   ]
  },
  {
   "cell_type": "code",
   "execution_count": 12,
   "id": "2cda6f44",
   "metadata": {},
   "outputs": [],
   "source": [
    "def get_outbound_constraints(vertex, graph):\n",
    "    s = '('\n",
    "    t = '('\n",
    "    for edge in graph.get_edges(source=vertex):\n",
    "        s += 'y_{}_{} + '.format(edge.source, edge.target)\n",
    "        t += 'y_{}_{} + '.format(edge.source, edge.target)\n",
    "    s = s[:-2]\n",
    "    s = s + ') <= 1 + M * (1 - x_{})'.format(vertex)\n",
    "    \n",
    "    t = t[:-2]\n",
    "    t = t + ') >= 1 - M * (1 - x_{})'.format(vertex)\n",
    "        \n",
    "    return s, t"
   ]
  },
  {
   "cell_type": "code",
   "execution_count": 13,
   "id": "29c04f63",
   "metadata": {},
   "outputs": [],
   "source": [
    "def get_inbound_constraints(vertex, graph):\n",
    "    s = '('\n",
    "    t = '('\n",
    "    for edge in graph.get_edges(target=vertex):\n",
    "        s += 'y_{}_{} + '.format(edge.source, edge.target)\n",
    "        t += 'y_{}_{} + '.format(edge.source, edge.target)\n",
    "    s = s[:-2]\n",
    "    s = s + ') <= 1 + M * (1 - x_{})'.format(vertex)\n",
    "    \n",
    "    t = t[:-2]\n",
    "    t = t + ') >= 1 - M * (1 - x_{})'.format(vertex)\n",
    "        \n",
    "    return s, t"
   ]
  },
  {
   "cell_type": "code",
   "execution_count": 14,
   "id": "104ecc7b",
   "metadata": {},
   "outputs": [],
   "source": [
    "def get_connectivity_constraints(edge):\n",
    "    s = 'x_{s} + x_{t} >= 2 * y_{s}_{t}'.format(s=edge.source, t=edge.target)\n",
    "    return s    "
   ]
  },
  {
   "cell_type": "code",
   "execution_count": 15,
   "id": "2ccbc00b",
   "metadata": {},
   "outputs": [],
   "source": [
    "# Parameters\n",
    "\n",
    "M = 1000000\n",
    "for edge in graph.edges:\n",
    "    exec('c_{s}_{t} = edge.cost'.format(s=edge.source, t=edge.target))"
   ]
  },
  {
   "cell_type": "code",
   "execution_count": 16,
   "id": "b0401dea",
   "metadata": {},
   "outputs": [],
   "source": [
    "# Variables\n",
    "\n",
    "variables = []\n",
    "for edge in graph.edges:\n",
    "    exec('y_{s}_{t} = cp.Variable(1, boolean=True, name=\"y_{s}_{t}\")'.format(\n",
    "        s=edge.source, t=edge.target))\n",
    "    exec('variables.append(y_{s}_{t})'.format(s=edge.source, t=edge.target))\n",
    "\n",
    "for vertex in graph.vertices:\n",
    "    exec('x_{v} = cp.Variable(1, boolean=True, name=\"x_{v}\")'.format(v=vertex))\n",
    "    exec('variables.append(x_{v})'.format(v=vertex))"
   ]
  },
  {
   "cell_type": "code",
   "execution_count": 17,
   "id": "b06112dc",
   "metadata": {},
   "outputs": [],
   "source": [
    "# Constraints\n",
    "\n",
    "constraints_bip = [\n",
    "    # origin and destination constraints\n",
    "    x_Boston == 1,\n",
    "    x_Jacksonville == 0,\n",
    "    x_StPetersburg == 1,\n",
    "    x_Moscow == 0,\n",
    "    x_Rostov == 0,\n",
    "]\n",
    "\n",
    "# inbound and outbound constraints\n",
    "for v in graph.vertices:\n",
    "    if v != 'Boston' and v != 'Jacksonville':  # not a source node\n",
    "        s, t = get_inbound_constraints(v, graph)\n",
    "        constraints_bip.append(eval(s))\n",
    "        constraints_bip.append(eval(t))\n",
    "    if v != 'StPetersburg' and v != 'Moscow' and v != 'Rostov':  # not a target node\n",
    "        s, t = get_outbound_constraints(v, graph)\n",
    "        constraints_bip.append(eval(s))\n",
    "        constraints_bip.append(eval(t))\n",
    "\n",
    "# connectivity constraints\n",
    "for edge in graph.edges:\n",
    "    s = get_connectivity_constraints(edge)\n",
    "    constraints_bip.append(eval(s))"
   ]
  },
  {
   "cell_type": "code",
   "execution_count": 18,
   "id": "e360483a",
   "metadata": {},
   "outputs": [],
   "source": [
    "# Objective\n",
    "\n",
    "obj_str = ''\n",
    "for edge in graph.edges:\n",
    "    obj_str += 'c_{s}_{t} * y_{s}_{t} + '.format(s=edge.source, t=edge.target)\n",
    "\n",
    "obj_str = obj_str[:-2]\n",
    "\n",
    "objective_bip = cp.Minimize(eval(obj_str))"
   ]
  },
  {
   "cell_type": "code",
   "execution_count": 19,
   "id": "ba58ee23",
   "metadata": {},
   "outputs": [],
   "source": [
    "# Model\n",
    "\n",
    "prob = cp.Problem(objective_bip, constraints_bip)"
   ]
  },
  {
   "cell_type": "code",
   "execution_count": 20,
   "id": "838776fc",
   "metadata": {},
   "outputs": [],
   "source": [
    "prob.solve();"
   ]
  },
  {
   "cell_type": "code",
   "execution_count": 21,
   "id": "0c047723",
   "metadata": {
    "scrolled": false
   },
   "outputs": [],
   "source": [
    "summary = get_result_summary(prob)"
   ]
  },
  {
   "cell_type": "code",
   "execution_count": 23,
   "id": "8462c68e",
   "metadata": {},
   "outputs": [
    {
     "data": {
      "text/plain": [
       "'optimal'"
      ]
     },
     "execution_count": 23,
     "metadata": {},
     "output_type": "execute_result"
    }
   ],
   "source": [
    "summary['status']"
   ]
  },
  {
   "cell_type": "code",
   "execution_count": 24,
   "id": "fdc585fa",
   "metadata": {},
   "outputs": [
    {
     "data": {
      "text/plain": [
       "12.707072464488547"
      ]
     },
     "execution_count": 24,
     "metadata": {},
     "output_type": "execute_result"
    }
   ],
   "source": [
    "summary['optimal_value']"
   ]
  },
  {
   "cell_type": "code",
   "execution_count": 26,
   "id": "97bdf4a6",
   "metadata": {},
   "outputs": [],
   "source": [
    "df = prettify(summary['optimal_solution'])"
   ]
  },
  {
   "cell_type": "code",
   "execution_count": 29,
   "id": "1fadd38e",
   "metadata": {},
   "outputs": [
    {
     "data": {
      "text/html": [
       "<div>\n",
       "<style scoped>\n",
       "    .dataframe tbody tr th:only-of-type {\n",
       "        vertical-align: middle;\n",
       "    }\n",
       "\n",
       "    .dataframe tbody tr th {\n",
       "        vertical-align: top;\n",
       "    }\n",
       "\n",
       "    .dataframe thead th {\n",
       "        text-align: right;\n",
       "    }\n",
       "</style>\n",
       "<table border=\"1\" class=\"dataframe\">\n",
       "  <thead>\n",
       "    <tr style=\"text-align: right;\">\n",
       "      <th></th>\n",
       "      <th>variable</th>\n",
       "      <th>value</th>\n",
       "    </tr>\n",
       "  </thead>\n",
       "  <tbody>\n",
       "    <tr>\n",
       "      <th>0</th>\n",
       "      <td>x_Berlin</td>\n",
       "      <td>0.0</td>\n",
       "    </tr>\n",
       "    <tr>\n",
       "      <th>1</th>\n",
       "      <td>x_Boston</td>\n",
       "      <td>1.0</td>\n",
       "    </tr>\n",
       "    <tr>\n",
       "      <th>2</th>\n",
       "      <td>x_Hamburg</td>\n",
       "      <td>0.0</td>\n",
       "    </tr>\n",
       "    <tr>\n",
       "      <th>3</th>\n",
       "      <td>x_Istanbul</td>\n",
       "      <td>0.0</td>\n",
       "    </tr>\n",
       "    <tr>\n",
       "      <th>4</th>\n",
       "      <td>x_Jacksonville</td>\n",
       "      <td>0.0</td>\n",
       "    </tr>\n",
       "    <tr>\n",
       "      <th>5</th>\n",
       "      <td>x_London</td>\n",
       "      <td>1.0</td>\n",
       "    </tr>\n",
       "    <tr>\n",
       "      <th>6</th>\n",
       "      <td>x_Moscow</td>\n",
       "      <td>0.0</td>\n",
       "    </tr>\n",
       "    <tr>\n",
       "      <th>7</th>\n",
       "      <td>x_Napoli</td>\n",
       "      <td>0.0</td>\n",
       "    </tr>\n",
       "    <tr>\n",
       "      <th>8</th>\n",
       "      <td>x_Rostov</td>\n",
       "      <td>0.0</td>\n",
       "    </tr>\n",
       "    <tr>\n",
       "      <th>9</th>\n",
       "      <td>x_Rotterdam</td>\n",
       "      <td>0.0</td>\n",
       "    </tr>\n",
       "    <tr>\n",
       "      <th>10</th>\n",
       "      <td>x_StPetersburg</td>\n",
       "      <td>1.0</td>\n",
       "    </tr>\n",
       "    <tr>\n",
       "      <th>11</th>\n",
       "      <td>y_Berlin_Moscow</td>\n",
       "      <td>0.0</td>\n",
       "    </tr>\n",
       "    <tr>\n",
       "      <th>12</th>\n",
       "      <td>y_Berlin_Rostov</td>\n",
       "      <td>0.0</td>\n",
       "    </tr>\n",
       "    <tr>\n",
       "      <th>13</th>\n",
       "      <td>y_Berlin_StPetersburg</td>\n",
       "      <td>0.0</td>\n",
       "    </tr>\n",
       "    <tr>\n",
       "      <th>14</th>\n",
       "      <td>y_Boston_Berlin</td>\n",
       "      <td>0.0</td>\n",
       "    </tr>\n",
       "    <tr>\n",
       "      <th>15</th>\n",
       "      <td>y_Boston_Hamburg</td>\n",
       "      <td>0.0</td>\n",
       "    </tr>\n",
       "    <tr>\n",
       "      <th>16</th>\n",
       "      <td>y_Boston_Istanbul</td>\n",
       "      <td>0.0</td>\n",
       "    </tr>\n",
       "    <tr>\n",
       "      <th>17</th>\n",
       "      <td>y_Boston_London</td>\n",
       "      <td>1.0</td>\n",
       "    </tr>\n",
       "    <tr>\n",
       "      <th>18</th>\n",
       "      <td>y_Boston_Napoli</td>\n",
       "      <td>0.0</td>\n",
       "    </tr>\n",
       "    <tr>\n",
       "      <th>19</th>\n",
       "      <td>y_Boston_Rotterdam</td>\n",
       "      <td>0.0</td>\n",
       "    </tr>\n",
       "    <tr>\n",
       "      <th>20</th>\n",
       "      <td>y_Hamburg_Moscow</td>\n",
       "      <td>0.0</td>\n",
       "    </tr>\n",
       "    <tr>\n",
       "      <th>21</th>\n",
       "      <td>y_Hamburg_Rostov</td>\n",
       "      <td>0.0</td>\n",
       "    </tr>\n",
       "    <tr>\n",
       "      <th>22</th>\n",
       "      <td>y_Hamburg_StPetersburg</td>\n",
       "      <td>0.0</td>\n",
       "    </tr>\n",
       "    <tr>\n",
       "      <th>23</th>\n",
       "      <td>y_Istanbul_Moscow</td>\n",
       "      <td>0.0</td>\n",
       "    </tr>\n",
       "    <tr>\n",
       "      <th>24</th>\n",
       "      <td>y_Istanbul_Rostov</td>\n",
       "      <td>0.0</td>\n",
       "    </tr>\n",
       "    <tr>\n",
       "      <th>25</th>\n",
       "      <td>y_Istanbul_StPetersburg</td>\n",
       "      <td>0.0</td>\n",
       "    </tr>\n",
       "    <tr>\n",
       "      <th>26</th>\n",
       "      <td>y_Jacksonville_Berlin</td>\n",
       "      <td>0.0</td>\n",
       "    </tr>\n",
       "    <tr>\n",
       "      <th>27</th>\n",
       "      <td>y_Jacksonville_Hamburg</td>\n",
       "      <td>0.0</td>\n",
       "    </tr>\n",
       "    <tr>\n",
       "      <th>28</th>\n",
       "      <td>y_Jacksonville_Istanbul</td>\n",
       "      <td>0.0</td>\n",
       "    </tr>\n",
       "    <tr>\n",
       "      <th>29</th>\n",
       "      <td>y_Jacksonville_London</td>\n",
       "      <td>0.0</td>\n",
       "    </tr>\n",
       "    <tr>\n",
       "      <th>30</th>\n",
       "      <td>y_Jacksonville_Napoli</td>\n",
       "      <td>0.0</td>\n",
       "    </tr>\n",
       "    <tr>\n",
       "      <th>31</th>\n",
       "      <td>y_Jacksonville_Rotterdam</td>\n",
       "      <td>0.0</td>\n",
       "    </tr>\n",
       "    <tr>\n",
       "      <th>32</th>\n",
       "      <td>y_London_Moscow</td>\n",
       "      <td>0.0</td>\n",
       "    </tr>\n",
       "    <tr>\n",
       "      <th>33</th>\n",
       "      <td>y_London_Rostov</td>\n",
       "      <td>0.0</td>\n",
       "    </tr>\n",
       "    <tr>\n",
       "      <th>34</th>\n",
       "      <td>y_London_StPetersburg</td>\n",
       "      <td>1.0</td>\n",
       "    </tr>\n",
       "    <tr>\n",
       "      <th>35</th>\n",
       "      <td>y_Napoli_Moscow</td>\n",
       "      <td>0.0</td>\n",
       "    </tr>\n",
       "    <tr>\n",
       "      <th>36</th>\n",
       "      <td>y_Napoli_Rostov</td>\n",
       "      <td>0.0</td>\n",
       "    </tr>\n",
       "    <tr>\n",
       "      <th>37</th>\n",
       "      <td>y_Napoli_StPetersburg</td>\n",
       "      <td>0.0</td>\n",
       "    </tr>\n",
       "    <tr>\n",
       "      <th>38</th>\n",
       "      <td>y_Rotterdam_Moscow</td>\n",
       "      <td>0.0</td>\n",
       "    </tr>\n",
       "    <tr>\n",
       "      <th>39</th>\n",
       "      <td>y_Rotterdam_Rostov</td>\n",
       "      <td>0.0</td>\n",
       "    </tr>\n",
       "    <tr>\n",
       "      <th>40</th>\n",
       "      <td>y_Rotterdam_StPetersburg</td>\n",
       "      <td>0.0</td>\n",
       "    </tr>\n",
       "  </tbody>\n",
       "</table>\n",
       "</div>"
      ],
      "text/plain": [
       "                    variable  value\n",
       "0                   x_Berlin    0.0\n",
       "1                   x_Boston    1.0\n",
       "2                  x_Hamburg    0.0\n",
       "3                 x_Istanbul    0.0\n",
       "4             x_Jacksonville    0.0\n",
       "5                   x_London    1.0\n",
       "6                   x_Moscow    0.0\n",
       "7                   x_Napoli    0.0\n",
       "8                   x_Rostov    0.0\n",
       "9                x_Rotterdam    0.0\n",
       "10            x_StPetersburg    1.0\n",
       "11           y_Berlin_Moscow    0.0\n",
       "12           y_Berlin_Rostov    0.0\n",
       "13     y_Berlin_StPetersburg    0.0\n",
       "14           y_Boston_Berlin    0.0\n",
       "15          y_Boston_Hamburg    0.0\n",
       "16         y_Boston_Istanbul    0.0\n",
       "17           y_Boston_London    1.0\n",
       "18           y_Boston_Napoli    0.0\n",
       "19        y_Boston_Rotterdam    0.0\n",
       "20          y_Hamburg_Moscow    0.0\n",
       "21          y_Hamburg_Rostov    0.0\n",
       "22    y_Hamburg_StPetersburg    0.0\n",
       "23         y_Istanbul_Moscow    0.0\n",
       "24         y_Istanbul_Rostov    0.0\n",
       "25   y_Istanbul_StPetersburg    0.0\n",
       "26     y_Jacksonville_Berlin    0.0\n",
       "27    y_Jacksonville_Hamburg    0.0\n",
       "28   y_Jacksonville_Istanbul    0.0\n",
       "29     y_Jacksonville_London    0.0\n",
       "30     y_Jacksonville_Napoli    0.0\n",
       "31  y_Jacksonville_Rotterdam    0.0\n",
       "32           y_London_Moscow    0.0\n",
       "33           y_London_Rostov    0.0\n",
       "34     y_London_StPetersburg    1.0\n",
       "35           y_Napoli_Moscow    0.0\n",
       "36           y_Napoli_Rostov    0.0\n",
       "37     y_Napoli_StPetersburg    0.0\n",
       "38        y_Rotterdam_Moscow    0.0\n",
       "39        y_Rotterdam_Rostov    0.0\n",
       "40  y_Rotterdam_StPetersburg    0.0"
      ]
     },
     "execution_count": 29,
     "metadata": {},
     "output_type": "execute_result"
    }
   ],
   "source": [
    "df"
   ]
  },
  {
   "cell_type": "markdown",
   "id": "78980788",
   "metadata": {},
   "source": [
    "The above result confirms what we already knew from section 1.1 - the fastest path from Boston to StPetersburg is **Boston --> London --> Saint Petersburg (12.70 hr)**. We can solve similar fomulations for each source-target pair to get the desired results.\n",
    "\n",
    "<!-- It is worth noting that most BIP solvers use some variation of the Branch and Bound algorithm which recursively solves repeated LP relaxations of the original BIP with the simplex method. Since the simplex algorithm is a polynomial time algorithm, the average total running time for the original BIP is close to polynomial in the size of the problem (i.e. number of variables). Let $N: = $number of vertices and $M:=$ number of edges in the graph. Then, from the above formulation, we note that the total number of variables is $M + N$. The average running time of the Branch and Bound algorithm is given by $O(M + N)^p$, $p > 1$ \n",
    "\n",
    "On the other hand, Dijkstra's shortest path algorithm has a running time of $O(MN)$. -->"
   ]
  },
  {
   "cell_type": "markdown",
   "id": "49d8a600",
   "metadata": {},
   "source": [
    "## 1.3 Minimum cost flow approach"
   ]
  },
  {
   "cell_type": "code",
   "execution_count": null,
   "id": "f50fe85e",
   "metadata": {},
   "outputs": [],
   "source": []
  },
  {
   "cell_type": "code",
   "execution_count": null,
   "id": "f5951df6",
   "metadata": {},
   "outputs": [],
   "source": []
  },
  {
   "cell_type": "code",
   "execution_count": null,
   "id": "2c2a9cdf",
   "metadata": {},
   "outputs": [],
   "source": []
  },
  {
   "cell_type": "code",
   "execution_count": null,
   "id": "0f0f78c2",
   "metadata": {},
   "outputs": [],
   "source": []
  },
  {
   "cell_type": "code",
   "execution_count": null,
   "id": "51adbd73",
   "metadata": {},
   "outputs": [],
   "source": []
  },
  {
   "cell_type": "code",
   "execution_count": null,
   "id": "aef2d75e",
   "metadata": {},
   "outputs": [],
   "source": []
  },
  {
   "cell_type": "code",
   "execution_count": null,
   "id": "0fc5c209",
   "metadata": {},
   "outputs": [],
   "source": []
  },
  {
   "cell_type": "code",
   "execution_count": null,
   "id": "db66bec6",
   "metadata": {},
   "outputs": [],
   "source": []
  },
  {
   "cell_type": "code",
   "execution_count": null,
   "id": "8b4cf077",
   "metadata": {},
   "outputs": [],
   "source": []
  },
  {
   "cell_type": "code",
   "execution_count": null,
   "id": "c636764f",
   "metadata": {},
   "outputs": [],
   "source": []
  },
  {
   "cell_type": "markdown",
   "id": "2a4cb327",
   "metadata": {},
   "source": [
    "## Seervada Park Problem"
   ]
  },
  {
   "cell_type": "code",
   "execution_count": 28,
   "id": "3b6a3c88",
   "metadata": {},
   "outputs": [],
   "source": [
    "import cvxpy as cp\n",
    "\n",
    "## Seervada problem\n",
    "# parameters\n",
    "M = 1000000\n",
    "xO = 1\n",
    "xT = 1\n",
    "cOA = 2\n",
    "cOB = 5\n",
    "cOC = 4\n",
    "cAB = 2\n",
    "cAD = 7\n",
    "cBC = 1\n",
    "cBE = 3\n",
    "cBD = 4\n",
    "cCE = 4\n",
    "cED = 1\n",
    "cDT = 5\n",
    "cET = 7\n",
    "\n",
    "# variables\n",
    "xA = cp.Variable(1, boolean=True, name='xA')\n",
    "xB = cp.Variable(1, boolean=True, name='xB')\n",
    "xC = cp.Variable(1, boolean=True, name='xC')\n",
    "xD = cp.Variable(1, boolean=True, name='xD')\n",
    "xE = cp.Variable(1, boolean=True, name='xE')\n",
    "\n",
    "yOA = cp.Variable(1, boolean=True, name='yOA')\n",
    "yOB = cp.Variable(1, boolean=True, name='yOB')\n",
    "yOC = cp.Variable(1, boolean=True, name='yOC')\n",
    "yAB = cp.Variable(1, boolean=True, name='yAB')\n",
    "yAD = cp.Variable(1, boolean=True, name='yAD')\n",
    "yBC = cp.Variable(1, boolean=True, name='yBC')\n",
    "yBE = cp.Variable(1, boolean=True, name='yBE')\n",
    "yBD = cp.Variable(1, boolean=True, name='yBD')\n",
    "yCE = cp.Variable(1, boolean=True, name='yCE')\n",
    "yDT = cp.Variable(1, boolean=True, name='yDT')\n",
    "yED = cp.Variable(1, boolean=True, name='yED')\n",
    "yET = cp.Variable(1, boolean=True, name='yET')\n",
    "\n",
    "# constraints\n",
    "outbound_cons = [\n",
    "    yOA + yOB + yOC <= 1 + M * (1 - xO),\n",
    "    yOA + yOB + yOC >= 1 - M * (1 - xO),\n",
    "\n",
    "    yAB + yAD <= 1 + M * (1 - xA),\n",
    "    yAB + yAD >= 1 - M * (1 - xA),\n",
    "\n",
    "    yBC + yBD + yBE <= 1 + M * (1 - xB),\n",
    "    yBC + yBD + yBE >= 1 - M * (1 - xB),\n",
    "\n",
    "    yCE <= 1 + M * (1 - xC),\n",
    "    yCE >= 1 - M * (1 - xC),\n",
    "\n",
    "    yDT <= 1 + M * (1 - xD),\n",
    "    yDT >= 1 - M * (1 - xD),\n",
    "\n",
    "    yED + yET <= 1 + M * (1 - xE),\n",
    "    yED + yET >= 1 - M * (1 - xE),\n",
    "]\n",
    "\n",
    "inbound_cons = [\n",
    "    yOA <= 1 + M * (1 - xA),\n",
    "    yOA >= 1 - M * (1 - xA),\n",
    "    \n",
    "    yAB + yOB <= 1 + M * (1 - xB),\n",
    "    yAB + yOB >= 1 - M * (1 - xB),\n",
    "    \n",
    "    yOC + yBC <= 1 + M * (1 - xC),\n",
    "    yOC + yBC >= 1 - M * (1 - xC),\n",
    "\n",
    "    yAD + yBD + yED <= 1 + M * (1 - xD),\n",
    "    yAD + yBD + yED >= 1 - M * (1 - xD),\n",
    "\n",
    "    yBE + yCE <= 1 + M * (1 - xE),\n",
    "    yBE + yCE >= 1 - M * (1 - xE),\n",
    "\n",
    "    yDT + yET <= 1 + M * (1 - xT),\n",
    "    yDT + yET >= 1 - M * (1 - xT),\n",
    "]\n",
    "\n",
    "connectivity_cons = [\n",
    "    xO + xA >= 2 * yOA,\n",
    "    xO + xB >= 2 * yOB,\n",
    "    xO + xC >= 2 * yOC,\n",
    "    xA + xB >= 2 * yAB,\n",
    "    xA + xD >= 2 * yAD,\n",
    "    xB + xC >= 2 * yBC,\n",
    "    xB + xE >= 2 * yBE,\n",
    "    xB + xD >= 2 * yBD,\n",
    "    xC + xE >= 2 * yCE,\n",
    "    xE + xD >= 2 * yED,\n",
    "    xD + xT >= 2 * yDT,\n",
    "    xE + xT >= 2 * yET,\n",
    "]\n",
    "\n",
    "constraints = outbound_cons + inbound_cons + connectivity_cons\n",
    "# objective\n",
    "\n",
    "obj = cp.Minimize(\n",
    "    cOA * yOA + \n",
    "    cOB * yOB + \n",
    "    cOC * yOC + \n",
    "    cAB * yAB + \n",
    "    cAD * yAD + \n",
    "    cBC * yBC + \n",
    "    cBE * yBE + \n",
    "    cBD * yBD +\n",
    "    cCE * yCE +\n",
    "    cDE * yED +\n",
    "    cDT * yDT +\n",
    "    cET * yET\n",
    ")"
   ]
  },
  {
   "cell_type": "code",
   "execution_count": 29,
   "id": "aa05a18c",
   "metadata": {},
   "outputs": [],
   "source": [
    "prob = cp.Problem(obj, constraints)"
   ]
  },
  {
   "cell_type": "code",
   "execution_count": 30,
   "id": "f8dac368",
   "metadata": {},
   "outputs": [
    {
     "data": {
      "text/plain": [
       "13.0"
      ]
     },
     "execution_count": 30,
     "metadata": {},
     "output_type": "execute_result"
    }
   ],
   "source": [
    "prob.solve()"
   ]
  },
  {
   "cell_type": "code",
   "execution_count": 31,
   "id": "40228f3f",
   "metadata": {},
   "outputs": [],
   "source": [
    "from solver.utils import get_result_summary"
   ]
  },
  {
   "cell_type": "code",
   "execution_count": 32,
   "id": "00dc3bc4",
   "metadata": {},
   "outputs": [
    {
     "data": {
      "text/plain": [
       "{'status': 'optimal',\n",
       " 'optimal_value': 13.0,\n",
       " 'optimal_solution': {'yOA': 1.0,\n",
       "  'yOB': 0.0,\n",
       "  'yOC': 0.0,\n",
       "  'yAB': 1.0,\n",
       "  'yAD': 0.0,\n",
       "  'yBC': 0.0,\n",
       "  'yBE': 0.0,\n",
       "  'yBD': 1.0,\n",
       "  'yCE': 0.0,\n",
       "  'yED': 0.0,\n",
       "  'yDT': 1.0,\n",
       "  'yET': 0.0,\n",
       "  'xA': 1.0,\n",
       "  'xB': 1.0,\n",
       "  'xC': 0.0,\n",
       "  'xD': 1.0,\n",
       "  'xE': 0.0}}"
      ]
     },
     "execution_count": 32,
     "metadata": {},
     "output_type": "execute_result"
    }
   ],
   "source": [
    "get_result_summary(prob)"
   ]
  },
  {
   "cell_type": "code",
   "execution_count": null,
   "id": "4e2ecf50",
   "metadata": {},
   "outputs": [],
   "source": []
  },
  {
   "cell_type": "code",
   "execution_count": null,
   "id": "d656cd71",
   "metadata": {},
   "outputs": [],
   "source": []
  },
  {
   "cell_type": "code",
   "execution_count": null,
   "id": "36e054e7",
   "metadata": {},
   "outputs": [],
   "source": []
  },
  {
   "cell_type": "markdown",
   "id": "3abc733a",
   "metadata": {},
   "source": [
    "# The maximum flow problem\n",
    "## *As a linear program*\n",
    "\n",
    "<img src=\"./images/seervada_maxflow.png\" width=\"500\" length=\"500\" align=\"center\">"
   ]
  },
  {
   "cell_type": "code",
   "execution_count": 9,
   "id": "3c7f9c42",
   "metadata": {},
   "outputs": [],
   "source": [
    "# variables\n",
    "xOA = cp.Variable(1, nonneg = True, name='xOA')\n",
    "xOB = cp.Variable(1, nonneg = True, name='xOB')\n",
    "xOC = cp.Variable(1, nonneg = True, name='xOC')\n",
    "\n",
    "xAB = cp.Variable(1, nonneg = True, name='xAB')\n",
    "xAD = cp.Variable(1, nonneg = True, name='xAD')\n",
    "\n",
    "xBC = cp.Variable(1, nonneg = True, name='xBC')\n",
    "xBD = cp.Variable(1, nonneg = True, name='xBD')\n",
    "xBE = cp.Variable(1, nonneg = True, name='xBE')\n",
    "\n",
    "xCE = cp.Variable(1, nonneg = True, name='xCE')\n",
    "\n",
    "xDT = cp.Variable(1, nonneg = True, name='xDT')\n",
    "\n",
    "xED = cp.Variable(1, nonneg = True, name='xED')\n",
    "xET = cp.Variable(1, nonneg = True, name='xET')"
   ]
  },
  {
   "cell_type": "code",
   "execution_count": 11,
   "id": "4240e97d",
   "metadata": {},
   "outputs": [],
   "source": [
    "# constraints\n",
    "node_flow_cons = [\n",
    "    xOA - xAB - xAD == 0,\n",
    "    xOB + xAB - xBC - xBE - xBD == 0,\n",
    "    xOC + xBC - xCE == 0,\n",
    "    xAD + xBD + xED - xDT == 0,\n",
    "    xCE + xBE - xED - xET == 0,\n",
    "]\n",
    "\n",
    "total_flow_cons = [-xOA - xOB - xOC + xDT + xET == 0,]\n",
    "\n",
    "edge_capacity_cons = [\n",
    "    xOA <= 5,\n",
    "    xOB <= 7,\n",
    "    xOC <= 4,\n",
    "    xAB <= 1,\n",
    "    xAD <= 3,\n",
    "    xBD <= 4,\n",
    "    xBE <= 5,\n",
    "    xBC <= 2,\n",
    "    xCE <= 4,\n",
    "    xDT <= 9,\n",
    "    xET <= 6,\n",
    "    xED <= 1,\n",
    "]"
   ]
  },
  {
   "cell_type": "code",
   "execution_count": 12,
   "id": "122e39f2",
   "metadata": {},
   "outputs": [],
   "source": [
    "obj = cp.Maximize(xDT + xET)"
   ]
  },
  {
   "cell_type": "code",
   "execution_count": 13,
   "id": "c444c7f5",
   "metadata": {},
   "outputs": [],
   "source": [
    "cons = node_flow_cons + total_flow_cons + edge_capacity_cons"
   ]
  },
  {
   "cell_type": "code",
   "execution_count": 14,
   "id": "d62af9a2",
   "metadata": {},
   "outputs": [],
   "source": [
    "prob = cp.Problem(obj, cons)"
   ]
  },
  {
   "cell_type": "code",
   "execution_count": 15,
   "id": "c368308a",
   "metadata": {},
   "outputs": [
    {
     "data": {
      "text/plain": [
       "13.999999996621327"
      ]
     },
     "execution_count": 15,
     "metadata": {},
     "output_type": "execute_result"
    }
   ],
   "source": [
    "prob.solve()"
   ]
  },
  {
   "cell_type": "code",
   "execution_count": null,
   "id": "b9a761f0",
   "metadata": {},
   "outputs": [],
   "source": []
  }
 ],
 "metadata": {
  "kernelspec": {
   "display_name": "Python 3 (ipykernel)",
   "language": "python",
   "name": "python3"
  },
  "language_info": {
   "codemirror_mode": {
    "name": "ipython",
    "version": 3
   },
   "file_extension": ".py",
   "mimetype": "text/x-python",
   "name": "python",
   "nbconvert_exporter": "python",
   "pygments_lexer": "ipython3",
   "version": "3.7.9"
  }
 },
 "nbformat": 4,
 "nbformat_minor": 5
}
