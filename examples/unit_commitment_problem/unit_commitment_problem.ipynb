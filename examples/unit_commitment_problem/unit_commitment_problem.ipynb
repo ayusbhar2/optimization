{
 "cells": [
  {
   "cell_type": "markdown",
   "id": "1d53e8ac",
   "metadata": {},
   "source": [
    "# Introduction\n",
    "The Unit Commitment Problem (UCP) [1] in power systems is the problem of scheduling the optimal number of power generating units (or simply units) to meet the total demand in each time period (or slot) of a planning horizon. The UCP is an optimization problem that aims to minmize the running costs, startup costs and shutdown costs of the units while satisfying constraints that guarantee appropriate operating conditions for the units.\n",
    "\n",
    "The UCP can be formulated in a number of ways:\n",
    "- combinatorial approach\n",
    "- priority list / heuristic approach\n",
    "- dynamic programming\n",
    "- Lagrangian relaxation\n",
    "- **Mixed Integer Programming (MIP)**\n",
    "\n",
    "In this post we will consider the MIP approach since it is the state of the art for the UCP. Other approaches do not scale to any reasonable sized problem. We will consider a small but salient example [2] which has most features of a real life UCP.\n",
    "\n",
    "# Example\n",
    "We are given three units -  A, B and C - with their corresponding costs and operational constraints. The hourly demand  profile over a three-period planning horizon is also given. We want to find the optimal schedule that minimizes the total cost, meets the hourly demand requirements and satisfies the operational constraints."
   ]
  },
  {
   "cell_type": "markdown",
   "id": "0fdeaac3",
   "metadata": {},
   "source": [
    "|Unit|P_min (MW)|P_max (MW)|Min up (hr)|Min down (hr)|No-load cost (\\$)|Marginal cost (\\$/MWh)|Startup cost (\\$)|Initial status|\n",
    "|---|---| ---| ---|   ---|   ---|   ---|  ---|   ---|\n",
    "|A   | 150| 250| 3|   3|   0|   10|  1000|    ON|\n",
    "|B   | 50| 100| 2|   1|   0|   12|  600| OFF|\n",
    "|C   |10  |50  |1   |1   |0   |20  |100 |OFF|"
   ]
  },
  {
   "cell_type": "markdown",
   "id": "9eaa60f0",
   "metadata": {},
   "source": [
    "|Period| Demand (MW)|\n",
    "|---|---|\n",
    "|1 | 150|\n",
    "|2 | 300|\n",
    "|3 | 200|"
   ]
  },
  {
   "cell_type": "markdown",
   "id": "6b847ef0",
   "metadata": {},
   "source": [
    "We must call out the features of a real-life UCP that our example does NOT capture.\n",
    "- Ignores unit rampup constraints\n",
    "- Ignores reserve constraints and costs of reserves.\n",
    "- Ignores environmental constraints.\n",
    "- Ignores transmission network constraints.\n",
    "- Assumes marginal costs remain constant over the planning horizon.\n",
    "- Assumes constant startup costs. (Startup costs are often modeled by the approximationo of an exponential function of time)\n",
    "- Assumes zero cool-down costs\n",
    "- Assumes zero No-load costs\n",
    "\n",
    "In a real-life UCP some of the above features can cause non-trivial complications. However, our simplified example will serve us well for illustrative purposes."
   ]
  },
  {
   "cell_type": "markdown",
   "id": "c3bb9286",
   "metadata": {},
   "source": [
    "# A simple economic dispatch model with LP\n",
    "\n",
    "Let us start by making some relaxations to our problem (in subsequent sections, we will strike out these relaxations one by one).\n",
    "1. All units are running and available at all times (i.e. we don't have the choice to turn a unit ON/OFF.)\n",
    "2. Startup costs are ignored.\n",
    "3. Minimum up- and down-time constraints do not apply.\n",
    "\n",
    " Now, we are interested in finding the optimal power output of each unit in each time period that minimizes the total marginal cost.\n",
    "\n",
    "Parameters:\n",
    "\n",
    "$c_j$ := Marginal cost of running unit $j$ (\\$/MWh)\n",
    "\n",
    "$D_t$ := Total demand in time slot $t$ (MW)\n",
    "\n",
    "$P_{j, min}$ := Minimum recommended power output for unit $j$ (MW)\n",
    "\n",
    "$P_{j, max}$ := Maximum recommended power output for unit $j$ (MW)\n",
    "\n",
    "$J$ := Indexed set of all generators (a.k.a. units)\n",
    "\n",
    "$T$ := Indexed set of all time slots/periods (a.k.a. planning horizon)\n",
    "\n",
    "Variables:\n",
    "\n",
    "$p_{j,t}$ := Power output of unit $j$ in time slot $t$ (MW)\n",
    "\n",
    "Since we are only considering the marginal costs of runnint the units, the objective is pretty straightforward\n",
    "\n",
    "\\begin{equation*}\n",
    "    \\text{minimize} \\sum_{t\\in T} \\sum_{j \\in J} c_j p_{j, t}\n",
    "\\end{equation*}\n",
    "\n",
    "There are two sets of constraints we need to consider. The power output of each generating unit must be within the recommended output range. And the total power output of all generating units must satisfy the demand in each time period. We can write these constraints as follows:\n",
    "\n",
    "\\begin{gather*}\n",
    "P_{j, min} \\le p_{j, t} \\le P_{j, max}\\ \\text{(Output Range)}\\\\\n",
    "\\sum_{j \\in J} p_{j, t} \\ge D_t\\ \\text{(Demand)}\\\\\n",
    "\\end{gather*}\n",
    "\n",
    "We get the following model\n",
    "\n",
    "\\begin{gather*}\n",
    "    \\text{minimize} \\sum_{t\\in T} \\sum_{j \\in J} c_j p_{j, t}\\\\\\tag{LP}\n",
    "     \\text{s.t.}\\quad P_{j, min} \\le p_{j, t} \\le P_{j, max}\\\\\n",
    "     \\sum_{j \\in J} p_{j, t} \\ge D_t\n",
    "\\end{gather*}"
   ]
  },
  {
   "cell_type": "markdown",
   "id": "053815fe",
   "metadata": {},
   "source": [
    "Let us solve (LP) using `cvxpy`."
   ]
  },
  {
   "cell_type": "code",
   "execution_count": 1,
   "id": "b6c69f76",
   "metadata": {},
   "outputs": [],
   "source": [
    "import cvxpy as cp\n",
    "import cvxopt as cv\n",
    "import numpy as np\n",
    "import pandas as pd\n",
    "\n",
    "from solver.utils import get_result_summary, prettify\n",
    "\n",
    "# parameters\n",
    "cA = 10; cB = 12; cC = 20;\n",
    "\n",
    "p_min_A = 150\n",
    "p_min_B = 50\n",
    "p_min_C = 10\n",
    "\n",
    "p_max_A = 250\n",
    "p_max_B = 100\n",
    "p_max_C = 50\n",
    "\n",
    "D1 = 150; D2 = 300; D3 = 200\n",
    "\n",
    "T = 3"
   ]
  },
  {
   "cell_type": "code",
   "execution_count": 2,
   "id": "f90aea5f",
   "metadata": {},
   "outputs": [],
   "source": [
    "#variables\n",
    "pA1 = cp.Variable(1, nonneg=True, name='pA1')\n",
    "pA2 = cp.Variable(1, nonneg=True, name='pA2')\n",
    "pA3 = cp.Variable(1, nonneg=True, name='pA3')\n",
    "\n",
    "pB1 = cp.Variable(1, nonneg=True, name='pB1')\n",
    "pB2 = cp.Variable(1, nonneg=True, name='pB2')\n",
    "pB3 = cp.Variable(1, nonneg=True, name='pB3')\n",
    "\n",
    "pC1 = cp.Variable(1, nonneg=True, name='pC1')\n",
    "pC2 = cp.Variable(1, nonneg=True, name='pC2')\n",
    "pC3 = cp.Variable(1, nonneg=True, name='pC3')"
   ]
  },
  {
   "cell_type": "code",
   "execution_count": 3,
   "id": "cd92b6ee",
   "metadata": {},
   "outputs": [],
   "source": [
    "obj_LP = cp.Minimize(\n",
    "    cA * (pA1 + pA2 + pA3) +\n",
    "    cB * (pB1 + pB2 + pB3) +\n",
    "    cC * (pC1 + pC2 + pC3)\n",
    ")"
   ]
  },
  {
   "cell_type": "code",
   "execution_count": 4,
   "id": "f3805d77",
   "metadata": {},
   "outputs": [],
   "source": [
    "LP_output_range_cons = [\n",
    "    pA1 >= p_min_A,\n",
    "    pA1 <= p_max_A,\n",
    "    pA2 >= p_min_A,\n",
    "    pA2 <= p_max_A,\n",
    "    pA3 >= p_min_A,\n",
    "    pA3 <= p_max_A,\n",
    "    \n",
    "    pB1 >= p_min_B,\n",
    "    pB1 <= p_max_B,\n",
    "    pB2 >= p_min_B,\n",
    "    pB2 <= p_max_B,\n",
    "    pB3 >= p_min_B,\n",
    "    pB3 <= p_max_B,\n",
    "    \n",
    "    pC1 >= p_min_C,\n",
    "    pC1 <= p_max_C,\n",
    "    pC2 >= p_min_C,\n",
    "    pC2 <= p_max_C,\n",
    "    pC3 >= p_min_C,\n",
    "    pC3 <= p_max_C,\n",
    "]\n",
    "\n",
    "LP_demand_cons = [\n",
    "    pA1 + pB1 + pC1 >= D1,\n",
    "    pA2 + pB2 + pC2 >= D2,\n",
    "    pA3 + pB3 + pC3 >= D3,\n",
    "]\n",
    " \n",
    "cons_LP = LP_output_range_cons + LP_demand_cons"
   ]
  },
  {
   "cell_type": "code",
   "execution_count": 5,
   "id": "d4151469",
   "metadata": {},
   "outputs": [],
   "source": [
    "LP = cp.Problem(obj_LP, cons_LP)"
   ]
  },
  {
   "cell_type": "code",
   "execution_count": 6,
   "id": "2b0ef87c",
   "metadata": {},
   "outputs": [],
   "source": [
    "LP.solve();"
   ]
  },
  {
   "cell_type": "code",
   "execution_count": 7,
   "id": "de04f3b6",
   "metadata": {},
   "outputs": [],
   "source": [
    "summary_LP = get_result_summary(LP)"
   ]
  },
  {
   "cell_type": "code",
   "execution_count": 8,
   "id": "e6338f0d",
   "metadata": {},
   "outputs": [
    {
     "data": {
      "text/plain": [
       "'optimal'"
      ]
     },
     "execution_count": 8,
     "metadata": {},
     "output_type": "execute_result"
    }
   ],
   "source": [
    "summary_LP['status']"
   ]
  },
  {
   "cell_type": "code",
   "execution_count": 9,
   "id": "9faf7e31",
   "metadata": {},
   "outputs": [
    {
     "data": {
      "text/plain": [
       "7799.999998684703"
      ]
     },
     "execution_count": 9,
     "metadata": {},
     "output_type": "execute_result"
    }
   ],
   "source": [
    "summary_LP['optimal_value']"
   ]
  },
  {
   "cell_type": "code",
   "execution_count": 10,
   "id": "6c8f426b",
   "metadata": {},
   "outputs": [
    {
     "data": {
      "text/html": [
       "<div>\n",
       "<style scoped>\n",
       "    .dataframe tbody tr th:only-of-type {\n",
       "        vertical-align: middle;\n",
       "    }\n",
       "\n",
       "    .dataframe tbody tr th {\n",
       "        vertical-align: top;\n",
       "    }\n",
       "\n",
       "    .dataframe thead th {\n",
       "        text-align: right;\n",
       "    }\n",
       "</style>\n",
       "<table border=\"1\" class=\"dataframe\">\n",
       "  <thead>\n",
       "    <tr style=\"text-align: right;\">\n",
       "      <th></th>\n",
       "      <th>variable</th>\n",
       "      <th>value</th>\n",
       "    </tr>\n",
       "  </thead>\n",
       "  <tbody>\n",
       "    <tr>\n",
       "      <th>0</th>\n",
       "      <td>pA1</td>\n",
       "      <td>150.0</td>\n",
       "    </tr>\n",
       "    <tr>\n",
       "      <th>1</th>\n",
       "      <td>pA2</td>\n",
       "      <td>240.0</td>\n",
       "    </tr>\n",
       "    <tr>\n",
       "      <th>2</th>\n",
       "      <td>pA3</td>\n",
       "      <td>150.0</td>\n",
       "    </tr>\n",
       "    <tr>\n",
       "      <th>3</th>\n",
       "      <td>pB1</td>\n",
       "      <td>50.0</td>\n",
       "    </tr>\n",
       "    <tr>\n",
       "      <th>4</th>\n",
       "      <td>pB2</td>\n",
       "      <td>50.0</td>\n",
       "    </tr>\n",
       "    <tr>\n",
       "      <th>5</th>\n",
       "      <td>pB3</td>\n",
       "      <td>50.0</td>\n",
       "    </tr>\n",
       "    <tr>\n",
       "      <th>6</th>\n",
       "      <td>pC1</td>\n",
       "      <td>10.0</td>\n",
       "    </tr>\n",
       "    <tr>\n",
       "      <th>7</th>\n",
       "      <td>pC2</td>\n",
       "      <td>10.0</td>\n",
       "    </tr>\n",
       "    <tr>\n",
       "      <th>8</th>\n",
       "      <td>pC3</td>\n",
       "      <td>10.0</td>\n",
       "    </tr>\n",
       "  </tbody>\n",
       "</table>\n",
       "</div>"
      ],
      "text/plain": [
       "  variable  value\n",
       "0      pA1  150.0\n",
       "1      pA2  240.0\n",
       "2      pA3  150.0\n",
       "3      pB1   50.0\n",
       "4      pB2   50.0\n",
       "5      pB3   50.0\n",
       "6      pC1   10.0\n",
       "7      pC2   10.0\n",
       "8      pC3   10.0"
      ]
     },
     "execution_count": 10,
     "metadata": {},
     "output_type": "execute_result"
    }
   ],
   "source": [
    "prettify(summary_LP['optimal_solution'])"
   ]
  },
  {
   "cell_type": "markdown",
   "id": "973263dd",
   "metadata": {},
   "source": [
    "The minimum marginal cost of running the three units over the horizon is <mark> $7799.99 </mark>. Also note that unit A runs at minimum capacity during periods 1 and 3. During the peak period 2, the output of unit A is increased to meet the increased demand while units B and C continue to run at minimum capacity throughout the horizon. This makes sense because units B and C have a higher marginal cost than unit A. Next, we consider a model which allows us to choose which units are ON during each slot."
   ]
  },
  {
   "cell_type": "markdown",
   "id": "a3cf2457",
   "metadata": {},
   "source": [
    "# A first MIP formulation"
   ]
  },
  {
   "cell_type": "markdown",
   "id": "9495867b",
   "metadata": {},
   "source": [
    "Here, we get rid of the first relaxation:\n",
    "1. ~All units are running and available at all times. I.e. we don't have the choice to turn a unit ON/OFF.~\n",
    "2. Startup costs are ignored.\n",
    "3. Minimum up- and down-time constraints do not apply.\n",
    "\n",
    "We now have the choice to turn one or more units ON/OFF during any of the time slots. We will use a set of binary variables to model this choice.\n",
    "\n",
    "\\begin{equation*}\n",
    "u_{j, t} :=\n",
    "\\begin{cases}\n",
    "   1 &\\text{if unit $j$ is ON in slot $t$}\\\\\n",
    "   0 &\\text{otherwise }\n",
    "\\end{cases}\n",
    "\\end{equation*}"
   ]
  },
  {
   "cell_type": "markdown",
   "id": "31102a33",
   "metadata": {},
   "source": [
    "Our objective as well as the demand constraint remain unchanged. However, the output range constraint needs to be modified in order to incorporate the new $u_{j, t}$ variables.\n",
    "\n",
    "\\begin{align*}\n",
    "P_{j, min} u_{j, t} \\le p_{j, t} \\le P_{j, max} u_{j, t}\\ \\text{(Output Range)}\\\\\n",
    "\\end{align*}\n",
    "\n",
    "Note that in the above formulation, if the unit $j$ is OFF in period $t$, the power output $p_{j, t}$ is forced to be zero, so that we don't have any power output contribution from an OFF unit. Below is the new MIP model\n",
    "\n"
   ]
  },
  {
   "cell_type": "markdown",
   "id": "3df5bbc4",
   "metadata": {},
   "source": [
    "\\begin{gather*}\n",
    "    \\text{minimize} \\sum_{t\\in T} \\sum_{j \\in J} c_j p_{j, t}\\\\ \\tag{MIP-1}\n",
    "     \\text{s.t.}\\quad P_{j, min} u_{j, t} \\le p_{j, t} \\le P_{j, max} u_{j, t}\\\\ \n",
    "     \\sum_{j \\in J} p_{j, t} \\ge D_t\\\\\n",
    "     u_{j, t} \\in \\{0, 1\\} \\ \\forall\\ j, t\n",
    "\\end{gather*}"
   ]
  },
  {
   "cell_type": "markdown",
   "id": "d3a53ea2",
   "metadata": {},
   "source": [
    "Let's solve (MIP-1) with `cxvpy`"
   ]
  },
  {
   "cell_type": "code",
   "execution_count": 11,
   "id": "b0571704",
   "metadata": {},
   "outputs": [],
   "source": [
    "# ON/OFF variables\n",
    "uA1 = cp.Variable(1, boolean=True, name='uA1')\n",
    "uA2 = cp.Variable(1, boolean=True, name='uA2')\n",
    "uA3 = cp.Variable(1, boolean=True, name='uA3')\n",
    "\n",
    "uB1 = cp.Variable(1, boolean=True, name='uB1')\n",
    "uB2 = cp.Variable(1, boolean=True, name='uB2')\n",
    "uB3 = cp.Variable(1, boolean=True, name='uB3')\n",
    "\n",
    "uC1 = cp.Variable(1, boolean=True, name='uC1')\n",
    "uC2 = cp.Variable(1, boolean=True, name='uC2')\n",
    "uC3 = cp.Variable(1, boolean=True, name='uC3')"
   ]
  },
  {
   "cell_type": "code",
   "execution_count": 12,
   "id": "d82e56a4",
   "metadata": {},
   "outputs": [],
   "source": [
    "# Objective remains unchanged\n",
    "obj_MIP1 = LP.objective"
   ]
  },
  {
   "cell_type": "code",
   "execution_count": 13,
   "id": "76c202ae",
   "metadata": {},
   "outputs": [],
   "source": [
    "# New constraints\n",
    "MIP1_output_range_cons = [\n",
    "    # output range\n",
    "    pA1 >= p_min_A * uA1,\n",
    "    pA1 <= p_max_A * uA1,\n",
    "    pA2 >= p_min_A * uA2,\n",
    "    pA2 <= p_max_A * uA2,\n",
    "    pA3 >= p_min_A * uA3,\n",
    "    pA3 <= p_max_A * uA3,\n",
    "    \n",
    "    pB1 >= p_min_B * uB1,\n",
    "    pB1 <= p_max_B * uB1,\n",
    "    pB2 >= p_min_B * uB2,\n",
    "    pB2 <= p_max_B * uB2,\n",
    "    pB3 >= p_min_B * uB3,\n",
    "    pB3 <= p_max_B * uB3,\n",
    "    \n",
    "    pC1 >= p_min_C * uC1,\n",
    "    pC1 <= p_max_C * uC1,\n",
    "    pC2 >= p_min_C * uC2,\n",
    "    pC2 <= p_max_C * uC2,\n",
    "    pC3 >= p_min_C * uC3,\n",
    "    pC3 <= p_max_C * uC3,\n",
    "]\n",
    "\n",
    "cons_MIP1 = MIP1_output_range_cons + LP_demand_cons # demand constraints don't change"
   ]
  },
  {
   "cell_type": "code",
   "execution_count": 14,
   "id": "f30958e4",
   "metadata": {},
   "outputs": [],
   "source": [
    "MIP1 = cp.Problem(obj_MIP1, cons_MIP1)"
   ]
  },
  {
   "cell_type": "code",
   "execution_count": 15,
   "id": "06f133b9",
   "metadata": {},
   "outputs": [],
   "source": [
    "MIP1.solve();"
   ]
  },
  {
   "cell_type": "code",
   "execution_count": 16,
   "id": "ac387dc2",
   "metadata": {},
   "outputs": [],
   "source": [
    "summary_MIP1 = get_result_summary(MIP1)"
   ]
  },
  {
   "cell_type": "code",
   "execution_count": 17,
   "id": "26575721",
   "metadata": {},
   "outputs": [
    {
     "data": {
      "text/plain": [
       "'optimal'"
      ]
     },
     "execution_count": 17,
     "metadata": {},
     "output_type": "execute_result"
    }
   ],
   "source": [
    "summary_MIP1['status']"
   ]
  },
  {
   "cell_type": "code",
   "execution_count": 18,
   "id": "ebe021fc",
   "metadata": {},
   "outputs": [
    {
     "data": {
      "text/plain": [
       "6600.0"
      ]
     },
     "execution_count": 18,
     "metadata": {},
     "output_type": "execute_result"
    }
   ],
   "source": [
    "summary_MIP1['optimal_value']"
   ]
  },
  {
   "cell_type": "code",
   "execution_count": 19,
   "id": "da574fa6",
   "metadata": {},
   "outputs": [
    {
     "data": {
      "text/html": [
       "<div>\n",
       "<style scoped>\n",
       "    .dataframe tbody tr th:only-of-type {\n",
       "        vertical-align: middle;\n",
       "    }\n",
       "\n",
       "    .dataframe tbody tr th {\n",
       "        vertical-align: top;\n",
       "    }\n",
       "\n",
       "    .dataframe thead th {\n",
       "        text-align: right;\n",
       "    }\n",
       "</style>\n",
       "<table border=\"1\" class=\"dataframe\">\n",
       "  <thead>\n",
       "    <tr style=\"text-align: right;\">\n",
       "      <th></th>\n",
       "      <th>variable</th>\n",
       "      <th>value</th>\n",
       "    </tr>\n",
       "  </thead>\n",
       "  <tbody>\n",
       "    <tr>\n",
       "      <th>0</th>\n",
       "      <td>pA1</td>\n",
       "      <td>150.0</td>\n",
       "    </tr>\n",
       "    <tr>\n",
       "      <th>1</th>\n",
       "      <td>pA2</td>\n",
       "      <td>250.0</td>\n",
       "    </tr>\n",
       "    <tr>\n",
       "      <th>2</th>\n",
       "      <td>pA3</td>\n",
       "      <td>200.0</td>\n",
       "    </tr>\n",
       "    <tr>\n",
       "      <th>3</th>\n",
       "      <td>pB1</td>\n",
       "      <td>0.0</td>\n",
       "    </tr>\n",
       "    <tr>\n",
       "      <th>4</th>\n",
       "      <td>pB2</td>\n",
       "      <td>50.0</td>\n",
       "    </tr>\n",
       "    <tr>\n",
       "      <th>5</th>\n",
       "      <td>pB3</td>\n",
       "      <td>-0.0</td>\n",
       "    </tr>\n",
       "    <tr>\n",
       "      <th>6</th>\n",
       "      <td>pC1</td>\n",
       "      <td>0.0</td>\n",
       "    </tr>\n",
       "    <tr>\n",
       "      <th>7</th>\n",
       "      <td>pC2</td>\n",
       "      <td>-0.0</td>\n",
       "    </tr>\n",
       "    <tr>\n",
       "      <th>8</th>\n",
       "      <td>pC3</td>\n",
       "      <td>-0.0</td>\n",
       "    </tr>\n",
       "    <tr>\n",
       "      <th>9</th>\n",
       "      <td>uA1</td>\n",
       "      <td>1.0</td>\n",
       "    </tr>\n",
       "    <tr>\n",
       "      <th>10</th>\n",
       "      <td>uA2</td>\n",
       "      <td>1.0</td>\n",
       "    </tr>\n",
       "    <tr>\n",
       "      <th>11</th>\n",
       "      <td>uA3</td>\n",
       "      <td>1.0</td>\n",
       "    </tr>\n",
       "    <tr>\n",
       "      <th>12</th>\n",
       "      <td>uB1</td>\n",
       "      <td>0.0</td>\n",
       "    </tr>\n",
       "    <tr>\n",
       "      <th>13</th>\n",
       "      <td>uB2</td>\n",
       "      <td>1.0</td>\n",
       "    </tr>\n",
       "    <tr>\n",
       "      <th>14</th>\n",
       "      <td>uB3</td>\n",
       "      <td>0.0</td>\n",
       "    </tr>\n",
       "    <tr>\n",
       "      <th>15</th>\n",
       "      <td>uC1</td>\n",
       "      <td>0.0</td>\n",
       "    </tr>\n",
       "    <tr>\n",
       "      <th>16</th>\n",
       "      <td>uC2</td>\n",
       "      <td>0.0</td>\n",
       "    </tr>\n",
       "    <tr>\n",
       "      <th>17</th>\n",
       "      <td>uC3</td>\n",
       "      <td>0.0</td>\n",
       "    </tr>\n",
       "  </tbody>\n",
       "</table>\n",
       "</div>"
      ],
      "text/plain": [
       "   variable  value\n",
       "0       pA1  150.0\n",
       "1       pA2  250.0\n",
       "2       pA3  200.0\n",
       "3       pB1    0.0\n",
       "4       pB2   50.0\n",
       "5       pB3   -0.0\n",
       "6       pC1    0.0\n",
       "7       pC2   -0.0\n",
       "8       pC3   -0.0\n",
       "9       uA1    1.0\n",
       "10      uA2    1.0\n",
       "11      uA3    1.0\n",
       "12      uB1    0.0\n",
       "13      uB2    1.0\n",
       "14      uB3    0.0\n",
       "15      uC1    0.0\n",
       "16      uC2    0.0\n",
       "17      uC3    0.0"
      ]
     },
     "execution_count": 19,
     "metadata": {},
     "output_type": "execute_result"
    }
   ],
   "source": [
    "prettify(summary_MIP1['optimal_solution'])"
   ]
  },
  {
   "cell_type": "markdown",
   "id": "338b1bdc",
   "metadata": {},
   "source": [
    "The optimal cost with the basic MIP model turns out to be <mark>$6600</mark>. Note that this is <mark>\\$1200 cheaper</mark> than the result of the (LP) model. Indeed, being able to choose which units to commit during each time slot has saved us some money!\n",
    "\n",
    "Note that the model chose to fulfill all of the demand in period 1 with unit A, which is the cheapest to run. Both unit B and unit C are more expensive to run and were kept OFF during this period. For the peak demand period, unit B was turned ON to meet the additional demand and was turned back off at the end of the peak period. Unit C, which is the most expensive to run, was never turned ON."
   ]
  },
  {
   "cell_type": "markdown",
   "id": "72239dbf",
   "metadata": {},
   "source": [
    "# An MIP model with startup costs\n",
    "\n",
    "Here, we get rid of the second relaxation:\n",
    "1. ~All units are running and available at all times. I.e. we don't have the choice to turn a unit ON/OFF.~\n",
    "2. ~Startup costs are ignored.~\n",
    "3. Minimum up- and down-time constraints do not apply.\n",
    "\n",
    "We now consider the startup costs of the units. A unit incurs a startup cost in a time period only if it was started up in that period. We need a binary variable to indicate if a unit was turnd ON in a given period. If so, the unit will incur the startup cost in that period in addition to the marginal cost. (For simplicity, we have assumed the cool-down costs to be $0$.)\n",
    "\n",
    "We introduce a new parameter to denote the startup costs of the units\n",
    "\n",
    "\\begin{align*}\n",
    "    c_j^u := \\text{Startup cost of unit } j\\ (\\$)\n",
    "\\end{align*}\n",
    "\n",
    "and a new binary variable\n",
    "\n",
    "\\begin{equation*}\n",
    "\\alpha_{j, t} :=\n",
    "\\begin{cases}\n",
    "   1 &\\text{if unit $j$ was started in period $t$}\\\\\n",
    "   0 &\\text{otherwise }\n",
    "\\end{cases}\n",
    "\\end{equation*}"
   ]
  },
  {
   "cell_type": "markdown",
   "id": "50b5bbed",
   "metadata": {},
   "source": [
    "The new objective is given by:\n",
    "\n",
    "\\begin{align*}\n",
    "    \\text{minimize} \\sum_{t\\in T} \\sum_{j \\in J} c_j p_{j, t} + \\alpha_{j, t} c_j^u\\\\\n",
    "\\end{align*}"
   ]
  },
  {
   "cell_type": "markdown",
   "id": "3b204a82",
   "metadata": {},
   "source": [
    "The demand constraint as well as the output range constraints remain the same as for (MIP-1). However, we need a new constraint in order to ensure that $\\alpha_{j, t} = 1$ if and only if unit $j$ was started up in period $t$. This constraint can be modelled by the below function\n",
    "\n",
    "\\begin{align*}\n",
    "    \\alpha_{j, t} = \\lfloor \\frac{u_{j, t} - u_{j, t-1} + 1}{2} \\rfloor\n",
    "\\end{align*}\n",
    "\n",
    "The above non-linear function can be expressed in terms of linear constraints as follows:\n",
    "\n",
    "\\begin{align*}\n",
    "    \\alpha_{j, t} &\\le \\frac{u_{j, t} - u_{j, t-1} + 1}{2},\\ \\ \\ \\  \\alpha_{j, t} + 1 \\ge \\frac{u_{j, t} - u_{j, t-1} + 1}{2} + .25\\qquad \\text{(Startup)}\n",
    "\\end{align*}"
   ]
  },
  {
   "cell_type": "markdown",
   "id": "cf774bff",
   "metadata": {},
   "source": [
    "Our new model can be written as:\n",
    "\n",
    "\\begin{gather*}\n",
    "    \\text{minimize} \\sum_{t\\in T} \\sum_{j \\in J} c_j p_{j, t} + \\alpha_{j, t} c_j^u\\\\\n",
    "     \\text{s.t.}\\quad P_{j, min} u_{j, t} \\le p_{j, t} \\le P_{j, max} u_{j, t}\\\\ \n",
    "     \\sum_{j \\in J} p_{j, t} \\ge D_t\\\\ \\tag{MIP-2}\n",
    "     \\alpha_{j, t} \\le \\frac{u_{j, t} - u_{j, t-1} + 1}{2}\\\\\n",
    "     \\alpha_{j, t} + 1 \\ge \\frac{u_{j, t} - u_{j, t-1} + 1}{2} + .25\\\\\n",
    "     u_{j, t} \\in \\{0, 1\\} \\ \\forall\\ j, t\\\\\n",
    "     \\alpha_{j, t} \\in \\{0, 1\\} \\ \\forall\\ j, t\n",
    "\\end{gather*}\n",
    "\n",
    "Lets solve (MIP-2) with `cvxpy`"
   ]
  },
  {
   "cell_type": "code",
   "execution_count": 20,
   "id": "c16dea3b",
   "metadata": {},
   "outputs": [],
   "source": [
    "# parameters\n",
    "## startup costs\n",
    "cA_up = 1000\n",
    "cB_up = 600\n",
    "cC_up = 100\n",
    "\n",
    "## initial states\n",
    "uA0 = 1 # ON\n",
    "uB0 = 0 # OFF\n",
    "uC0 = 0 # OFF"
   ]
  },
  {
   "cell_type": "code",
   "execution_count": 21,
   "id": "d8701595",
   "metadata": {},
   "outputs": [],
   "source": [
    "# startup variables\n",
    "alpha_A1 = cp.Variable(1, boolean=True, name='alpha_A1')\n",
    "alpha_A2 = cp.Variable(1, boolean=True, name='alpha_A2')\n",
    "alpha_A3 = cp.Variable(1, boolean=True, name='alpha_A3')\n",
    "\n",
    "\n",
    "alpha_B1 = cp.Variable(1, boolean=True, name='alpha_B1')\n",
    "alpha_B2 = cp.Variable(1, boolean=True, name='alpha_B2')\n",
    "alpha_B3 = cp.Variable(1, boolean=True, name='alpha_B3')\n",
    "\n",
    "\n",
    "alpha_C1 = cp.Variable(1, boolean=True, name='alpha_C1')\n",
    "alpha_C2 = cp.Variable(1, boolean=True, name='alpha_C2')\n",
    "alpha_C3 = cp.Variable(1, boolean=True, name='alpha_C3')"
   ]
  },
  {
   "cell_type": "code",
   "execution_count": 22,
   "id": "52f05b39",
   "metadata": {},
   "outputs": [],
   "source": [
    "# objective\n",
    "obj_MIP2 = cp.Minimize(\n",
    "    cA * (pA1 + pA2 + pA3) + cA_up * (alpha_A1 + alpha_A2 + alpha_A3) +\n",
    "    cB * (pB1 + pB2 + pB3) + cB_up * (alpha_B1 + alpha_B2 + alpha_B3) +\n",
    "    cC * (pC1 + pC2 + pC3) + cC_up * (alpha_C1 + alpha_C2 + alpha_C3)\n",
    ")"
   ]
  },
  {
   "cell_type": "code",
   "execution_count": 23,
   "id": "2fd5a0a1",
   "metadata": {},
   "outputs": [],
   "source": [
    "# constraints\n",
    "MIP2_startup_cons =  [\n",
    "    alpha_A1 <= (uA1 - uA0 + 1)/2,\n",
    "    alpha_A1 >= (uA1 - uA0 + 1)/2 - .75,\n",
    "    alpha_A2 <= (uA2 - uA1 + 1)/2,\n",
    "    alpha_A2 >= (uA2 - uA1 + 1)/2 - .75,\n",
    "    alpha_A3 <= (uA3 - uA2 + 1)/2,\n",
    "    alpha_A3 >= (uA3 - uA2 + 1)/2 - .75,\n",
    "    \n",
    "    alpha_B1 <= (uB1 - uB0 + 1)/2,\n",
    "    alpha_B1 >= (uB1 - uB0 + 1)/2 - .75,\n",
    "    alpha_B2 <= (uB2 - uB1 + 1)/2,\n",
    "    alpha_B2 >= (uB2 - uB1 + 1)/2 - .75,\n",
    "    alpha_B3 <= (uB3 - uB2 + 1)/2,\n",
    "    alpha_B3 >= (uB3 - uB2 + 1)/2 - .75,\n",
    "    \n",
    "    alpha_C1 <= (uC1 - uC0 + 1)/2,\n",
    "    alpha_C1 >= (uC1 - uC0 + 1)/2 - .75,\n",
    "    alpha_C2 <= (uC2 - uC1 + 1)/2,\n",
    "    alpha_C2 >= (uC2 - uC1 + 1)/2 - .75,\n",
    "    alpha_C3 <= (uC3 - uC2 + 1)/2,\n",
    "    alpha_C3 >= (uC3 - uC2 + 1)/2 - .75,\n",
    "]\n",
    "    \n",
    "cons_MIP2 = MIP1.constraints + MIP2_startup_cons"
   ]
  },
  {
   "cell_type": "code",
   "execution_count": 24,
   "id": "581fdd03",
   "metadata": {},
   "outputs": [],
   "source": [
    "MIP2 = cp.Problem(obj_MIP2, cons_MIP2)\n",
    "MIP2.solve();\n",
    "summary_MIP2 = get_result_summary(MIP2)"
   ]
  },
  {
   "cell_type": "code",
   "execution_count": 25,
   "id": "dff94c7c",
   "metadata": {},
   "outputs": [
    {
     "data": {
      "text/plain": [
       "'optimal'"
      ]
     },
     "execution_count": 25,
     "metadata": {},
     "output_type": "execute_result"
    }
   ],
   "source": [
    "summary_MIP2['status']"
   ]
  },
  {
   "cell_type": "code",
   "execution_count": 26,
   "id": "79a14269",
   "metadata": {},
   "outputs": [
    {
     "data": {
      "text/plain": [
       "7100.0"
      ]
     },
     "execution_count": 26,
     "metadata": {},
     "output_type": "execute_result"
    }
   ],
   "source": [
    "summary_MIP2['optimal_value']"
   ]
  },
  {
   "cell_type": "code",
   "execution_count": 27,
   "id": "de33afa4",
   "metadata": {},
   "outputs": [
    {
     "data": {
      "text/html": [
       "<div>\n",
       "<style scoped>\n",
       "    .dataframe tbody tr th:only-of-type {\n",
       "        vertical-align: middle;\n",
       "    }\n",
       "\n",
       "    .dataframe tbody tr th {\n",
       "        vertical-align: top;\n",
       "    }\n",
       "\n",
       "    .dataframe thead th {\n",
       "        text-align: right;\n",
       "    }\n",
       "</style>\n",
       "<table border=\"1\" class=\"dataframe\">\n",
       "  <thead>\n",
       "    <tr style=\"text-align: right;\">\n",
       "      <th></th>\n",
       "      <th>variable</th>\n",
       "      <th>value</th>\n",
       "    </tr>\n",
       "  </thead>\n",
       "  <tbody>\n",
       "    <tr>\n",
       "      <th>0</th>\n",
       "      <td>alpha_A1</td>\n",
       "      <td>0.0</td>\n",
       "    </tr>\n",
       "    <tr>\n",
       "      <th>1</th>\n",
       "      <td>alpha_A2</td>\n",
       "      <td>0.0</td>\n",
       "    </tr>\n",
       "    <tr>\n",
       "      <th>2</th>\n",
       "      <td>alpha_A3</td>\n",
       "      <td>0.0</td>\n",
       "    </tr>\n",
       "    <tr>\n",
       "      <th>3</th>\n",
       "      <td>alpha_B1</td>\n",
       "      <td>0.0</td>\n",
       "    </tr>\n",
       "    <tr>\n",
       "      <th>4</th>\n",
       "      <td>alpha_B2</td>\n",
       "      <td>0.0</td>\n",
       "    </tr>\n",
       "    <tr>\n",
       "      <th>5</th>\n",
       "      <td>alpha_B3</td>\n",
       "      <td>0.0</td>\n",
       "    </tr>\n",
       "    <tr>\n",
       "      <th>6</th>\n",
       "      <td>alpha_C1</td>\n",
       "      <td>0.0</td>\n",
       "    </tr>\n",
       "    <tr>\n",
       "      <th>7</th>\n",
       "      <td>alpha_C2</td>\n",
       "      <td>1.0</td>\n",
       "    </tr>\n",
       "    <tr>\n",
       "      <th>8</th>\n",
       "      <td>alpha_C3</td>\n",
       "      <td>0.0</td>\n",
       "    </tr>\n",
       "    <tr>\n",
       "      <th>9</th>\n",
       "      <td>pA1</td>\n",
       "      <td>150.0</td>\n",
       "    </tr>\n",
       "    <tr>\n",
       "      <th>10</th>\n",
       "      <td>pA2</td>\n",
       "      <td>250.0</td>\n",
       "    </tr>\n",
       "    <tr>\n",
       "      <th>11</th>\n",
       "      <td>pA3</td>\n",
       "      <td>200.0</td>\n",
       "    </tr>\n",
       "    <tr>\n",
       "      <th>12</th>\n",
       "      <td>pB1</td>\n",
       "      <td>0.0</td>\n",
       "    </tr>\n",
       "    <tr>\n",
       "      <th>13</th>\n",
       "      <td>pB2</td>\n",
       "      <td>0.0</td>\n",
       "    </tr>\n",
       "    <tr>\n",
       "      <th>14</th>\n",
       "      <td>pB3</td>\n",
       "      <td>-0.0</td>\n",
       "    </tr>\n",
       "    <tr>\n",
       "      <th>15</th>\n",
       "      <td>pC1</td>\n",
       "      <td>-0.0</td>\n",
       "    </tr>\n",
       "    <tr>\n",
       "      <th>16</th>\n",
       "      <td>pC2</td>\n",
       "      <td>50.0</td>\n",
       "    </tr>\n",
       "    <tr>\n",
       "      <th>17</th>\n",
       "      <td>pC3</td>\n",
       "      <td>-0.0</td>\n",
       "    </tr>\n",
       "    <tr>\n",
       "      <th>18</th>\n",
       "      <td>uA1</td>\n",
       "      <td>1.0</td>\n",
       "    </tr>\n",
       "    <tr>\n",
       "      <th>19</th>\n",
       "      <td>uA2</td>\n",
       "      <td>1.0</td>\n",
       "    </tr>\n",
       "    <tr>\n",
       "      <th>20</th>\n",
       "      <td>uA3</td>\n",
       "      <td>1.0</td>\n",
       "    </tr>\n",
       "    <tr>\n",
       "      <th>21</th>\n",
       "      <td>uB1</td>\n",
       "      <td>0.0</td>\n",
       "    </tr>\n",
       "    <tr>\n",
       "      <th>22</th>\n",
       "      <td>uB2</td>\n",
       "      <td>0.0</td>\n",
       "    </tr>\n",
       "    <tr>\n",
       "      <th>23</th>\n",
       "      <td>uB3</td>\n",
       "      <td>0.0</td>\n",
       "    </tr>\n",
       "    <tr>\n",
       "      <th>24</th>\n",
       "      <td>uC1</td>\n",
       "      <td>0.0</td>\n",
       "    </tr>\n",
       "    <tr>\n",
       "      <th>25</th>\n",
       "      <td>uC2</td>\n",
       "      <td>1.0</td>\n",
       "    </tr>\n",
       "    <tr>\n",
       "      <th>26</th>\n",
       "      <td>uC3</td>\n",
       "      <td>0.0</td>\n",
       "    </tr>\n",
       "  </tbody>\n",
       "</table>\n",
       "</div>"
      ],
      "text/plain": [
       "    variable  value\n",
       "0   alpha_A1    0.0\n",
       "1   alpha_A2    0.0\n",
       "2   alpha_A3    0.0\n",
       "3   alpha_B1    0.0\n",
       "4   alpha_B2    0.0\n",
       "5   alpha_B3    0.0\n",
       "6   alpha_C1    0.0\n",
       "7   alpha_C2    1.0\n",
       "8   alpha_C3    0.0\n",
       "9        pA1  150.0\n",
       "10       pA2  250.0\n",
       "11       pA3  200.0\n",
       "12       pB1    0.0\n",
       "13       pB2    0.0\n",
       "14       pB3   -0.0\n",
       "15       pC1   -0.0\n",
       "16       pC2   50.0\n",
       "17       pC3   -0.0\n",
       "18       uA1    1.0\n",
       "19       uA2    1.0\n",
       "20       uA3    1.0\n",
       "21       uB1    0.0\n",
       "22       uB2    0.0\n",
       "23       uB3    0.0\n",
       "24       uC1    0.0\n",
       "25       uC2    1.0\n",
       "26       uC3    0.0"
      ]
     },
     "execution_count": 27,
     "metadata": {},
     "output_type": "execute_result"
    }
   ],
   "source": [
    "prettify(summary_MIP2['optimal_solution'])"
   ]
  },
  {
   "cell_type": "markdown",
   "id": "4e23ab50",
   "metadata": {},
   "source": [
    "The optimal value of the total cost (setup + marginal) is <mark> $7100</mark>. This optimal value is greater than the optimal value of MIP1 (\\$6600) because it includes the setup cost which we ignored in MIP1.\n",
    "    \n",
    "Also note that, once again, the model chose to meet all of the demand in period 1 with unit A. The reason for this is two-fold. First, unit A is the cheapest to run and incurrs the smallest marginal cost. So, it makes sense to preferentially run unit A whenever possible. Second, unit A was already in ON state at the beginning of the planning horizon and did not need to be turned ON. As a result, by keeping unit A running, we avoided the setup cost for unit A.\n",
    "\n",
    "We should also note that during the peak demand period, the model chose to turn on unit C instead of unit B as it had done in MIP1. This is because while unit B is cheaper to run than unit C, it is more expensive to start up than unit C. Since the setup cost dominates the marginal cost, the model preferred to start up unit C."
   ]
  },
  {
   "cell_type": "markdown",
   "id": "450339a5",
   "metadata": {},
   "source": [
    "## An MIP model with minimum up- and down-time constraints"
   ]
  },
  {
   "cell_type": "markdown",
   "id": "58add634",
   "metadata": {},
   "source": [
    "Here, we get rid of the third and final relaxation:\n",
    "1. ~~All units are running and available at all times. I.e. we don't have the choice to turn a unit ON/OFF.~~\n",
    "2. ~~Startup costs are ignored.~~\n",
    "3. ~~Minimum up- and down-time constraints do not apply.~~\n",
    "\n",
    "We now consider the up- and down-time constraints that apply to each unit. In order to model these constraints we need need to define two new parameters:\n",
    "\n",
    "$$\n",
    "UT_j := \\text{Minimum length of time (in periods/slots) that unit j must remain ON before it can be turned OFF.}\\\\\n",
    "DT_j := \\text{Minimum length of time (in periods/slots) that unit j must remain OFF before it can be turned ON.}\n",
    "$$"
   ]
  },
  {
   "cell_type": "code",
   "execution_count": 28,
   "id": "5fd3cda7",
   "metadata": {},
   "outputs": [],
   "source": [
    "# parameters\n",
    "UT_A = 3; UT_B = 2; UT_C = 1;\n",
    "DT_A = 3; DT_B = 1; DT_C = 1;"
   ]
  },
  {
   "cell_type": "markdown",
   "id": "2b04255b",
   "metadata": {},
   "source": [
    "We also need a new variable to indicate if a given unit was stopped in a given period.\n",
    "\n",
    "$$\n",
    "\\beta_{j, t} :=\n",
    "\\begin{cases}\n",
    "   1 &\\text{   if unit j was stopped in period t}\\\\\n",
    "   0 &\\text{   otherwise }\n",
    "\\end{cases}\n",
    "$$"
   ]
  },
  {
   "cell_type": "code",
   "execution_count": 29,
   "id": "abf2e01d",
   "metadata": {},
   "outputs": [],
   "source": [
    "# variables\n",
    "beta_A1 = cp.Variable(1, boolean=True, name=\"beta_A1\")\n",
    "beta_A2 = cp.Variable(1, boolean=True, name=\"beta_A2\")\n",
    "beta_A3 = cp.Variable(1, boolean=True, name=\"beta_A3\")\n",
    "\n",
    "beta_B1 = cp.Variable(1, boolean=True, name=\"beta_B1\")\n",
    "beta_B2 = cp.Variable(1, boolean=True, name=\"beta_B2\")\n",
    "beta_B3 = cp.Variable(1, boolean=True, name=\"beta_B3\")\n",
    "\n",
    "beta_C1 = cp.Variable(1, boolean=True, name=\"beta_C1\")\n",
    "beta_C2 = cp.Variable(1, boolean=True, name=\"beta_C2\")\n",
    "beta_C3 = cp.Variable(1, boolean=True, name=\"beta_C3\")"
   ]
  },
  {
   "cell_type": "markdown",
   "id": "2b61d2bb",
   "metadata": {},
   "source": [
    "We need to specify the shutdown constraint\n",
    "\n",
    "$$\n",
    "\\beta_{j, t} = \\lfloor \\frac{(-u_{j, t} + u_{j, t-1} + 1)}{2} \\rfloor\n",
    "$$\n",
    "\n",
    "which can be expressed in the form of linear inequalities as follows:\n",
    "\n",
    "$$\n",
    "\\beta_{j, t} \\le \\frac{-u_{j, t} + u_{j, t-1} + 1}{2},\\ \\ \\ \\  \\beta_{j, t} + 1 \\ge \\frac{-u_{j, t} + u_{j, t-1} + 1}{2} + .25\\qquad \\text{(Shut-down)}\n",
    "$$"
   ]
  },
  {
   "cell_type": "code",
   "execution_count": 30,
   "id": "0ab342cf",
   "metadata": {},
   "outputs": [],
   "source": [
    "MIP3_shutdown_cons = [\n",
    "    beta_A1 <= (-uA1 + uA0 + 1)/2,\n",
    "    beta_A1 >= (-uA1 + uA0 + 1)/2 + .25,\n",
    "    beta_A2 <= (-uA2 + uA1 + 1)/2,\n",
    "    beta_A2 >= (-uA2 + uA1 + 1)/2 + .25,\n",
    "    beta_A3 <= (-uA3 + uA2 + 1)/2,\n",
    "    beta_A3 >= (-uA3 + uA2 + 1)/2 + .25,\n",
    "\n",
    "    beta_B1 <= (-uB1 + uB0 + 1)/2,\n",
    "    beta_B1 >= (-uB1 + uB0 + 1)/2 + .25,\n",
    "    beta_B2 <= (-uB2 + uB1 + 1)/2,\n",
    "    beta_B2 >= (-uB2 + uB1 + 1)/2 + .25,\n",
    "    beta_B3 <= (-uB3 + uB2 + 1)/2,\n",
    "    beta_B3 >= (-uB3 + uB2 + 1)/2 + .25,\n",
    "    \n",
    "    beta_C1 <= (-uC1 + uC0 + 1)/2,\n",
    "    beta_C1 >= (-uC1 + uC0 + 1)/2 + .25,\n",
    "    beta_C2 <= (-uC2 + uC1 + 1)/2,\n",
    "    beta_C2 >= (-uC2 + uC1 + 1)/2 + .25,\n",
    "    beta_C3 <= (-uC3 + uC2 + 1)/2,\n",
    "    beta_C3 >= (-uC3 + uC2 + 1)/2 + .25,\n",
    "]"
   ]
  },
  {
   "cell_type": "markdown",
   "id": "dada008c",
   "metadata": {},
   "source": [
    "We also need the minimum uptime constraints:\n",
    "\n",
    "$$\n",
    "\\tag{Up-time}\n",
    "\\sum_{i=t}^{t + UT_j - 1} u_{j, i} \\ge \\alpha_{j,t} UT_j \\ ,\\qquad \\forall\\ t \\in \\{1,\\ T - UT_j + 1\\}\\\\\n",
    "\\sum_{i=t}^T u_{j, i} \\ge \\alpha_{j, t} (T - t + 1) \\ ,\\qquad \\forall\\ t \\in \\{T - UT_j + 2,\\ T\\}\n",
    "$$\n",
    "\n"
   ]
  },
  {
   "cell_type": "code",
   "execution_count": 31,
   "id": "f1bd564b",
   "metadata": {},
   "outputs": [],
   "source": [
    "def generate_uptime_cons(j, t):\n",
    "    sum = ''\n",
    "    UT_j = eval('UT_{j}'.format(j=j))\n",
    "    if t <= T - UT_j + 1:\n",
    "        for i in range(t, t + UT_j):\n",
    "            sum += 'u{j}{i} +'.format(j=j, i=i)\n",
    "        sum = sum[:-1]\n",
    "        sum += ' >= alpha_{j}{t} * UT_{j}'.format(j=j, t=t)\n",
    "    else:\n",
    "        for k in range(t, T + 1):\n",
    "            sum += 'u{j}{k} +'.format(j=j, k=k)\n",
    "        sum = sum[:-1]\n",
    "        sum += ' >= alpha_{j}{t} * (T - {t} + 1)'.format(j=j, t=t)\n",
    "    return eval(sum)"
   ]
  },
  {
   "cell_type": "code",
   "execution_count": 32,
   "id": "c51b9ff0",
   "metadata": {},
   "outputs": [
    {
     "name": "stdout",
     "output_type": "stream",
     "text": [
      "alpha_A1 @ 3.0 <= uA1 + uA2 + uA3\n",
      "alpha_A2 @ 2.0 <= uA2 + uA3\n",
      "alpha_A3 @ 1.0 <= uA3\n",
      "alpha_B1 @ 2.0 <= uB1 + uB2\n",
      "alpha_B2 @ 2.0 <= uB2 + uB3\n",
      "alpha_B3 @ 1.0 <= uB3\n",
      "alpha_C1 @ 1.0 <= uC1\n",
      "alpha_C2 @ 1.0 <= uC2\n",
      "alpha_C3 @ 1.0 <= uC3\n"
     ]
    }
   ],
   "source": [
    "MIP3_uptime_cons = []\n",
    "for j in ['A', 'B', 'C']:\n",
    "    for t in range(1, T + 1):\n",
    "        cons = generate_uptime_cons(j, t)\n",
    "        print(cons)\n",
    "        MIP3_uptime_cons.append(cons)"
   ]
  },
  {
   "cell_type": "markdown",
   "id": "3a70ec82",
   "metadata": {},
   "source": [
    "And the minimum downtime constraints:\n",
    "\n",
    "$$\n",
    "\\tag{Down-time}\n",
    "\\sum_{i=t}^{t + DT_j - 1} (1 - u_{j, i}) \\ge \\beta_{j,t} DT_j \\ ,\\qquad \\forall\\ t \\in \\{1,\\ T - DT_j + 1\\}\\\\\n",
    "\\sum_{i=t}^T (1 - u_{j, i}) \\ge \\beta_{j, t} (T - t + 1) \\ ,\\qquad \\forall\\ t \\in \\{T - DT_j + 2,\\ T\\}\n",
    "$$"
   ]
  },
  {
   "cell_type": "code",
   "execution_count": 33,
   "id": "c916bc1b",
   "metadata": {},
   "outputs": [],
   "source": [
    "def generate_downtime_cons(j, t):\n",
    "    sum = ''\n",
    "    DT_j = eval('DT_{j}'.format(j=j))\n",
    "    if t <= T - DT_j + 1:\n",
    "        for i in range(t, t + DT_j):\n",
    "            sum += '(1 - u{j}{i}) +'.format(j=j, i=i)\n",
    "        sum = sum[:-1]\n",
    "        sum += ' >= beta_{j}{t} * DT_{j}'.format(j=j, t=t)\n",
    "    else:\n",
    "        for k in range(t, T + 1):\n",
    "            sum += '(1 - u{j}{k}) +'.format(j=j, k=k)\n",
    "        sum = sum[:-1]\n",
    "        sum += ' >= beta_{j}{t} * (T - {t} + 1)'.format(j=j, t=t)\n",
    "    return eval(sum)"
   ]
  },
  {
   "cell_type": "code",
   "execution_count": 34,
   "id": "4c04739e",
   "metadata": {
    "scrolled": true
   },
   "outputs": [
    {
     "name": "stdout",
     "output_type": "stream",
     "text": [
      "beta_A1 @ 3.0 <= 1.0 + -uA1 + 1.0 + -uA2 + 1.0 + -uA3\n",
      "beta_A2 @ 2.0 <= 1.0 + -uA2 + 1.0 + -uA3\n",
      "beta_A3 @ 1.0 <= 1.0 + -uA3\n",
      "beta_B1 @ 1.0 <= 1.0 + -uB1\n",
      "beta_B2 @ 1.0 <= 1.0 + -uB2\n",
      "beta_B3 @ 1.0 <= 1.0 + -uB3\n",
      "beta_C1 @ 1.0 <= 1.0 + -uC1\n",
      "beta_C2 @ 1.0 <= 1.0 + -uC2\n",
      "beta_C3 @ 1.0 <= 1.0 + -uC3\n"
     ]
    }
   ],
   "source": [
    "MIP3_downtime_cons = []\n",
    "for j in ['A', 'B', 'C']:\n",
    "    for t in range(1, T + 1):\n",
    "        cons = generate_downtime_cons(j, t)\n",
    "        print(cons)\n",
    "        MIP3_downtime_cons.append(cons)"
   ]
  },
  {
   "cell_type": "markdown",
   "id": "7a0888d6",
   "metadata": {},
   "source": [
    "Finally, we need the logical constraints [1] to ensure that $\\alpha_{j,t} = 1$ only when the unit is scheduled to be switched on in slot $t$ (i.e., $u_{j, t-1} = 0$ and $u_{j, t} = 1$), and $\\beta_{j, t} = 1$ only when the unit is scheduled to be switched off in slot $t$ (i.e., $u_{j, t-1} = 1$ and $u_{j, t} = 0$).\n",
    "\n",
    "$$\n",
    "u_{j, t-1} - u_{j, t} + \\alpha_{j, t} - \\beta_{j, t} = 0\\ ,\\qquad \\forall\\ t\\in T,\\ j\\in J \\tag{Logical}\n",
    "$$"
   ]
  },
  {
   "cell_type": "code",
   "execution_count": 35,
   "id": "7e1039ac",
   "metadata": {},
   "outputs": [
    {
     "name": "stdout",
     "output_type": "stream",
     "text": [
      "1.0 + -uA1 + alpha_A1 + -beta_A1 == 0.0\n",
      "uA1 + -uA2 + alpha_A2 + -beta_A2 == 0.0\n",
      "uA2 + -uA3 + alpha_A3 + -beta_A3 == 0.0\n",
      "0.0 + -uB1 + alpha_B1 + -beta_B1 == 0.0\n",
      "uB1 + -uB2 + alpha_B2 + -beta_B2 == 0.0\n",
      "uB2 + -uB3 + alpha_B3 + -beta_B3 == 0.0\n",
      "0.0 + -uC1 + alpha_C1 + -beta_C1 == 0.0\n",
      "uC1 + -uC2 + alpha_C2 + -beta_C2 == 0.0\n",
      "uC2 + -uC3 + alpha_C3 + -beta_C3 == 0.0\n"
     ]
    }
   ],
   "source": [
    "MIP3_logical_cons = []\n",
    "for j in ['A', 'B', 'C']:\n",
    "    for t in range(1, T + 1):\n",
    "        cons = eval('u{j}{t_1} - u{j}{t} + alpha_{j}{t} - beta_{j}{t} == 0'.format(j=j, t_1=t-1, t=t))\n",
    "        print(cons)\n",
    "        MIP3_logical_cons.append(cons)"
   ]
  },
  {
   "cell_type": "markdown",
   "id": "128ff4a1",
   "metadata": {},
   "source": [
    "Since we are ignoring the shutdown costs of the units, our objective remains the same as that in (MIP-2). Below is our final model:\n",
    "\n",
    "$$\n",
    "    \\text{minimize} \\sum_{t\\in T} \\sum_{j \\in J} c_j p_{j, t} + \\alpha_{j, t} c_j^u\n",
    "$$\n",
    "\n",
    "$$\n",
    "     \\text{s.t.}\\quad P_{j, min} u_{j, t} \\le p_{j, t} \\le P_{j, max} u_{j, t}\\quad \\text{(Output Range)}\n",
    "$$\n",
    "\n",
    "$$\n",
    "     \\sum_{j \\in J} p_{j, t} \\ge D_t\\quad \\text{(Demand)} \n",
    "$$\n",
    "\n",
    "$$\n",
    "     \\alpha_{j, t} \\le \\frac{u_{j, t} - u_{j, t-1} + 1}{2},\\ \\alpha_{j, t} + 1 \\ge \\frac{u_{j, t} - u_{j, t-1} + 1}{2} + .25 \\quad \\text{(Startup)}\n",
    "$$\n",
    "\n",
    "$$\n",
    "\\sum_{i=t}^{t + UT_j - 1} u_{j, i} \\ge \\alpha_{j,t} UT_j \\ ,\\ \\forall\\ t \\in \\{1,\\ T - UT_j + 1\\} \\quad \\text{(Uptime)}\n",
    "$$\n",
    "\n",
    "$$\n",
    "\\sum_{i=t}^T u_{j, i} \\ge \\alpha_{j, t} (T - t + 1) \\ ,\\ \\ \\forall\\ t \\in \\{T - UT_j + 2,\\ T\\} \\quad \\text{(Uptime)}\n",
    "$$\n",
    "\n",
    "$$\n",
    "\\sum_{i=t}^{t + DT_j - 1} (1 - u_{j, i}) \\ge \\beta_{j,t} DT_j \\ ,\\ \\forall\\ t \\in \\{1,\\ T - DT_j + 1\\} \\quad \\text{(Downtime)}\n",
    "$$\n",
    "\n",
    "$$\n",
    "\\sum_{i=t}^T (1 - u_{j, i}) \\ge \\beta_{j, t} (T - t + 1) \\ ,\\ \\forall\\ t \\in \\{T - DT_j + 2,\\ T\\}\\quad \\text{(Downtime)}\n",
    "$$\n",
    "$$\n",
    "u_{j, t-1} - u_{j, t} + \\alpha_{j, t} - \\beta_{j, t} = 0\\ ,\\qquad \\forall\\ t\\in T,\\ j\\in J \\quad \\text{(Logical)}\n",
    "$$\n",
    "\n",
    "$$\n",
    "     u_{j, t} \\in \\{0, 1\\} \\ \\forall\\ j, t\\\\\n",
    "     \\alpha_{j, t} \\in \\{0, 1\\} \\ \\forall\\ j, t\\\\\n",
    "     \\beta_{j, t} \\in \\{0, 1\\} \\ \\forall\\ j, t \\tag{MIP-3}\n",
    "$$\n",
    "\n",
    "We now solve (MIP-3) with `cvxpy`"
   ]
  },
  {
   "cell_type": "code",
   "execution_count": 36,
   "id": "56ca1b85",
   "metadata": {},
   "outputs": [],
   "source": [
    "MIP3_obj = MIP2.objective"
   ]
  },
  {
   "cell_type": "code",
   "execution_count": 65,
   "id": "e08e2ec2",
   "metadata": {},
   "outputs": [],
   "source": [
    "MIP3_cons = MIP2.constraints + MIP3_uptime_cons + MIP3_downtime_cons + MIP3_logical_cons\n",
    "# + MIP3_shutdown_cons"
   ]
  },
  {
   "cell_type": "code",
   "execution_count": 79,
   "id": "4b19ffbf",
   "metadata": {},
   "outputs": [],
   "source": [
    "MIP3 = cp.Problem(MIP3_obj, MIP3_cons)\n",
    "MIP3.solve();\n",
    "summary_MIP3 = get_result_summary(MIP3);"
   ]
  },
  {
   "cell_type": "code",
   "execution_count": 80,
   "id": "07e96d8e",
   "metadata": {},
   "outputs": [
    {
     "data": {
      "text/plain": [
       "'optimal'"
      ]
     },
     "execution_count": 80,
     "metadata": {},
     "output_type": "execute_result"
    }
   ],
   "source": [
    "summary_MIP3['status']"
   ]
  },
  {
   "cell_type": "code",
   "execution_count": 81,
   "id": "7e274620",
   "metadata": {},
   "outputs": [
    {
     "data": {
      "text/plain": [
       "7100.0"
      ]
     },
     "execution_count": 81,
     "metadata": {},
     "output_type": "execute_result"
    }
   ],
   "source": [
    "summary_MIP3['optimal_value']"
   ]
  },
  {
   "cell_type": "code",
   "execution_count": 82,
   "id": "4f759212",
   "metadata": {},
   "outputs": [
    {
     "data": {
      "text/html": [
       "<div>\n",
       "<style scoped>\n",
       "    .dataframe tbody tr th:only-of-type {\n",
       "        vertical-align: middle;\n",
       "    }\n",
       "\n",
       "    .dataframe tbody tr th {\n",
       "        vertical-align: top;\n",
       "    }\n",
       "\n",
       "    .dataframe thead th {\n",
       "        text-align: right;\n",
       "    }\n",
       "</style>\n",
       "<table border=\"1\" class=\"dataframe\">\n",
       "  <thead>\n",
       "    <tr style=\"text-align: right;\">\n",
       "      <th></th>\n",
       "      <th>variable</th>\n",
       "      <th>value</th>\n",
       "    </tr>\n",
       "  </thead>\n",
       "  <tbody>\n",
       "    <tr>\n",
       "      <th>0</th>\n",
       "      <td>alpha_A1</td>\n",
       "      <td>0.0</td>\n",
       "    </tr>\n",
       "    <tr>\n",
       "      <th>1</th>\n",
       "      <td>alpha_A2</td>\n",
       "      <td>0.0</td>\n",
       "    </tr>\n",
       "    <tr>\n",
       "      <th>2</th>\n",
       "      <td>alpha_A3</td>\n",
       "      <td>0.0</td>\n",
       "    </tr>\n",
       "    <tr>\n",
       "      <th>3</th>\n",
       "      <td>alpha_B1</td>\n",
       "      <td>0.0</td>\n",
       "    </tr>\n",
       "    <tr>\n",
       "      <th>4</th>\n",
       "      <td>alpha_B2</td>\n",
       "      <td>0.0</td>\n",
       "    </tr>\n",
       "    <tr>\n",
       "      <th>5</th>\n",
       "      <td>alpha_B3</td>\n",
       "      <td>0.0</td>\n",
       "    </tr>\n",
       "    <tr>\n",
       "      <th>6</th>\n",
       "      <td>alpha_C1</td>\n",
       "      <td>0.0</td>\n",
       "    </tr>\n",
       "    <tr>\n",
       "      <th>7</th>\n",
       "      <td>alpha_C2</td>\n",
       "      <td>1.0</td>\n",
       "    </tr>\n",
       "    <tr>\n",
       "      <th>8</th>\n",
       "      <td>alpha_C3</td>\n",
       "      <td>0.0</td>\n",
       "    </tr>\n",
       "    <tr>\n",
       "      <th>9</th>\n",
       "      <td>beta_A1</td>\n",
       "      <td>0.0</td>\n",
       "    </tr>\n",
       "    <tr>\n",
       "      <th>10</th>\n",
       "      <td>beta_A2</td>\n",
       "      <td>0.0</td>\n",
       "    </tr>\n",
       "    <tr>\n",
       "      <th>11</th>\n",
       "      <td>beta_A3</td>\n",
       "      <td>0.0</td>\n",
       "    </tr>\n",
       "    <tr>\n",
       "      <th>12</th>\n",
       "      <td>beta_B1</td>\n",
       "      <td>0.0</td>\n",
       "    </tr>\n",
       "    <tr>\n",
       "      <th>13</th>\n",
       "      <td>beta_B2</td>\n",
       "      <td>0.0</td>\n",
       "    </tr>\n",
       "    <tr>\n",
       "      <th>14</th>\n",
       "      <td>beta_B3</td>\n",
       "      <td>0.0</td>\n",
       "    </tr>\n",
       "    <tr>\n",
       "      <th>15</th>\n",
       "      <td>beta_C1</td>\n",
       "      <td>0.0</td>\n",
       "    </tr>\n",
       "    <tr>\n",
       "      <th>16</th>\n",
       "      <td>beta_C2</td>\n",
       "      <td>0.0</td>\n",
       "    </tr>\n",
       "    <tr>\n",
       "      <th>17</th>\n",
       "      <td>beta_C3</td>\n",
       "      <td>1.0</td>\n",
       "    </tr>\n",
       "    <tr>\n",
       "      <th>18</th>\n",
       "      <td>pA1</td>\n",
       "      <td>150.0</td>\n",
       "    </tr>\n",
       "    <tr>\n",
       "      <th>19</th>\n",
       "      <td>pA2</td>\n",
       "      <td>250.0</td>\n",
       "    </tr>\n",
       "    <tr>\n",
       "      <th>20</th>\n",
       "      <td>pA3</td>\n",
       "      <td>200.0</td>\n",
       "    </tr>\n",
       "    <tr>\n",
       "      <th>21</th>\n",
       "      <td>pB1</td>\n",
       "      <td>0.0</td>\n",
       "    </tr>\n",
       "    <tr>\n",
       "      <th>22</th>\n",
       "      <td>pB2</td>\n",
       "      <td>0.0</td>\n",
       "    </tr>\n",
       "    <tr>\n",
       "      <th>23</th>\n",
       "      <td>pB3</td>\n",
       "      <td>-0.0</td>\n",
       "    </tr>\n",
       "    <tr>\n",
       "      <th>24</th>\n",
       "      <td>pC1</td>\n",
       "      <td>-0.0</td>\n",
       "    </tr>\n",
       "    <tr>\n",
       "      <th>25</th>\n",
       "      <td>pC2</td>\n",
       "      <td>50.0</td>\n",
       "    </tr>\n",
       "    <tr>\n",
       "      <th>26</th>\n",
       "      <td>pC3</td>\n",
       "      <td>-0.0</td>\n",
       "    </tr>\n",
       "    <tr>\n",
       "      <th>27</th>\n",
       "      <td>uA1</td>\n",
       "      <td>1.0</td>\n",
       "    </tr>\n",
       "    <tr>\n",
       "      <th>28</th>\n",
       "      <td>uA2</td>\n",
       "      <td>1.0</td>\n",
       "    </tr>\n",
       "    <tr>\n",
       "      <th>29</th>\n",
       "      <td>uA3</td>\n",
       "      <td>1.0</td>\n",
       "    </tr>\n",
       "    <tr>\n",
       "      <th>30</th>\n",
       "      <td>uB1</td>\n",
       "      <td>0.0</td>\n",
       "    </tr>\n",
       "    <tr>\n",
       "      <th>31</th>\n",
       "      <td>uB2</td>\n",
       "      <td>0.0</td>\n",
       "    </tr>\n",
       "    <tr>\n",
       "      <th>32</th>\n",
       "      <td>uB3</td>\n",
       "      <td>0.0</td>\n",
       "    </tr>\n",
       "    <tr>\n",
       "      <th>33</th>\n",
       "      <td>uC1</td>\n",
       "      <td>0.0</td>\n",
       "    </tr>\n",
       "    <tr>\n",
       "      <th>34</th>\n",
       "      <td>uC2</td>\n",
       "      <td>1.0</td>\n",
       "    </tr>\n",
       "    <tr>\n",
       "      <th>35</th>\n",
       "      <td>uC3</td>\n",
       "      <td>0.0</td>\n",
       "    </tr>\n",
       "  </tbody>\n",
       "</table>\n",
       "</div>"
      ],
      "text/plain": [
       "    variable  value\n",
       "0   alpha_A1    0.0\n",
       "1   alpha_A2    0.0\n",
       "2   alpha_A3    0.0\n",
       "3   alpha_B1    0.0\n",
       "4   alpha_B2    0.0\n",
       "5   alpha_B3    0.0\n",
       "6   alpha_C1    0.0\n",
       "7   alpha_C2    1.0\n",
       "8   alpha_C3    0.0\n",
       "9    beta_A1    0.0\n",
       "10   beta_A2    0.0\n",
       "11   beta_A3    0.0\n",
       "12   beta_B1    0.0\n",
       "13   beta_B2    0.0\n",
       "14   beta_B3    0.0\n",
       "15   beta_C1    0.0\n",
       "16   beta_C2    0.0\n",
       "17   beta_C3    1.0\n",
       "18       pA1  150.0\n",
       "19       pA2  250.0\n",
       "20       pA3  200.0\n",
       "21       pB1    0.0\n",
       "22       pB2    0.0\n",
       "23       pB3   -0.0\n",
       "24       pC1   -0.0\n",
       "25       pC2   50.0\n",
       "26       pC3   -0.0\n",
       "27       uA1    1.0\n",
       "28       uA2    1.0\n",
       "29       uA3    1.0\n",
       "30       uB1    0.0\n",
       "31       uB2    0.0\n",
       "32       uB3    0.0\n",
       "33       uC1    0.0\n",
       "34       uC2    1.0\n",
       "35       uC3    0.0"
      ]
     },
     "execution_count": 82,
     "metadata": {},
     "output_type": "execute_result"
    }
   ],
   "source": [
    "prettify(summary_MIP3['optimal_solution'])"
   ]
  },
  {
   "cell_type": "markdown",
   "id": "9e77d96e",
   "metadata": {},
   "source": [
    "As it turns out, the optimal cost of scheduling the three units over the given planning horizon remains unchanged at <mark>$7100</mark>. What is interesting is that we are able to satisfy multiple additional constraints at the same total cost as MIP2! This fact is due to the (simplified) structure of our specific problem. In a real-life scenario, adding constraints can lead to increased total cost. Nevertheless, discussing the above porblem gives us insight into how MIP can be used to model and solve similar, larger problems at scale."
   ]
  },
  {
   "cell_type": "markdown",
   "id": "fbe41922",
   "metadata": {},
   "source": [
    "# References\n",
    "\n",
    "[1] https://ntnuopen.ntnu.no/ntnu-xmlui/bitstream/handle/11250/298917/UnitCommitment.pdf?sequence=3\n",
    "\n",
    "[2] https://www.youtube.com/watch?v=jS15dU_422Q"
   ]
  }
 ],
 "metadata": {
  "kernelspec": {
   "display_name": "Python 3 (ipykernel)",
   "language": "python",
   "name": "python3"
  },
  "language_info": {
   "codemirror_mode": {
    "name": "ipython",
    "version": 3
   },
   "file_extension": ".py",
   "mimetype": "text/x-python",
   "name": "python",
   "nbconvert_exporter": "python",
   "pygments_lexer": "ipython3",
   "version": "3.7.9"
  }
 },
 "nbformat": 4,
 "nbformat_minor": 5
}
