{
 "cells": [
  {
   "cell_type": "markdown",
   "id": "3695f5f7",
   "metadata": {},
   "source": [
    "# MILP approach for solving the Unit Commitment Problem"
   ]
  },
  {
   "cell_type": "markdown",
   "id": "2f4925d1",
   "metadata": {},
   "source": [
    "## Introduction\n",
    "Stuff\n",
    "\n",
    "## Example"
   ]
  },
  {
   "cell_type": "markdown",
   "id": "c80833e7",
   "metadata": {},
   "source": [
    "|Unit|P_min (MW)|P_max (MW)|Min up (hr)|Min down (hr)|No-load cost (\\$)|Marginal cost (\\$/MWh)|Startup cost (\\$)|Initial status|\n",
    "|---|---| ---| ---|   ---|   ---|   ---|  ---|   ---|\n",
    "|A   | 150| 250| 3|   3|   0|   10|  1000|    ON|\n",
    "|B   | 50| 100| 2|   1|   0|   12|  600| OFF|\n",
    "|C   |10  |50  |1   |1   |0   |20  |100 |OFF|"
   ]
  },
  {
   "cell_type": "markdown",
   "id": "580bdbc4",
   "metadata": {},
   "source": [
    "Hourly demand profile is shown below"
   ]
  },
  {
   "cell_type": "markdown",
   "id": "a2d24105",
   "metadata": {},
   "source": [
    "|1|2|3|\n",
    "|---|---|---|\n",
    "|150|300|200|"
   ]
  },
  {
   "cell_type": "markdown",
   "id": "ce83dc66",
   "metadata": {},
   "source": [
    "Callout the simplifications and assumptions in the above example\n",
    "\n",
    "- marginal costs are often a function of time\n",
    "- startup costs are often modeled by an xponeential function of time. which causes additional complications. Various approaches have been proposed\n",
    "- no cool-down cost\n",
    "- No-load costs are often non-zero because >>>>"
   ]
  },
  {
   "cell_type": "markdown",
   "id": "029fd245",
   "metadata": {},
   "source": [
    "## A simple economic dispatch model with LP\n",
    "\n",
    "Simplifying assumptions:\n",
    "1. All units are running and available at all times. I.e. we don't have the choice to turn a unit ON/OFF.\n",
    "2. Startup costs are ignored.\n",
    "3. Minimum up- and down-time constraints do not apply.\n",
    "4. Initial states of the units are ignored.\n",
    "\n",
    "We are interested in finding the optimal power output of each unit in each time period that minimizes the total marginal cost.\n",
    "\n",
    "Parameters:\n",
    "\n",
    "$c_j$ := Marginal cost of running unit $j$ (\\$/MWh)\n",
    "\n",
    "$D_t$ := Total demand in time slot $t$ (MW)\n",
    "\n",
    "$P_{j, min}$ := Minimum recommended power output for unit $j$ (MW)\n",
    "\n",
    "$P_{j, max}$ := Maximum recommended power output for unit $j$ (MW)\n",
    "\n",
    "$J$ := Indexed set of all generators (a.k.a. units)\n",
    "\n",
    "$T$ := Indexed set of all time slots/periods (a.k.a. planning horizon)\n",
    "\n",
    "Variables:\n",
    "\n",
    "$p_{j,t}$ := Power output of unit $j$ in time slot $t$ (MW)\n",
    "\n",
    "Since we are only considering the marginal costs of runnint the units, the objective is pretty straightforward\n",
    "\n",
    "\\begin{equation*}\n",
    "    \\text{minimize} \\sum_{t\\in T} \\sum_{j \\in J} c_j p_{j, t}\n",
    "\\end{equation*}\n",
    "\n",
    "There are two sets of constraints we need to consider. The power output of each generating unit must be within the recommended output range. And the total power output of all generating units must satisfy the demand in each time period. We can write these constraints as follows:\n",
    "\n",
    "\\begin{gather*}\n",
    "P_{j, min} \\le p_{j, t} \\le P_{j, max}\\ \\text{(Output Range)}\\\\\n",
    "\\sum_{j \\in J} p_{j, t} \\ge D_t\\ \\text{(Demand)}\\\\\n",
    "\\end{gather*}\n",
    "\n",
    "We get the following model\n",
    "\n",
    "\\begin{gather*}\n",
    "    \\text{minimize} \\sum_{t\\in T} \\sum_{j \\in J} c_j p_{j, t}\\\\\\tag{LP}\n",
    "     \\text{s.t.}\\quad P_{j, min} \\le p_{j, t} \\le P_{j, max}\\\\\n",
    "     \\sum_{j \\in J} p_{j, t} \\ge D_t\n",
    "\\end{gather*}"
   ]
  },
  {
   "cell_type": "markdown",
   "id": "aaa4042a",
   "metadata": {},
   "source": [
    "Let us solve (LP) using `cvxpy`."
   ]
  },
  {
   "cell_type": "code",
   "execution_count": 1,
   "id": "1317cf80",
   "metadata": {},
   "outputs": [],
   "source": [
    "import cvxpy as cp\n",
    "import cvxopt as cv\n",
    "import numpy as np\n",
    "import pandas as pd\n",
    "\n",
    "from solver.utils import get_result_summary, prettify\n",
    "\n",
    "# parameters\n",
    "cA = 10; cB = 12; cC = 20;\n",
    "\n",
    "p_min_A = 150\n",
    "p_min_B = 50\n",
    "p_min_C = 10\n",
    "\n",
    "p_max_A = 250\n",
    "p_max_B = 100\n",
    "p_max_C = 50\n",
    "\n",
    "D1 = 150; D2 = 300; D3 = 200"
   ]
  },
  {
   "cell_type": "code",
   "execution_count": 2,
   "id": "b31e6395",
   "metadata": {},
   "outputs": [],
   "source": [
    "#variables\n",
    "pA1 = cp.Variable(1, nonneg=True, name='pA1')\n",
    "pA2 = cp.Variable(1, nonneg=True, name='pA2')\n",
    "pA3 = cp.Variable(1, nonneg=True, name='pA3')\n",
    "\n",
    "pB1 = cp.Variable(1, nonneg=True, name='pB1')\n",
    "pB2 = cp.Variable(1, nonneg=True, name='pB2')\n",
    "pB3 = cp.Variable(1, nonneg=True, name='pB3')\n",
    "\n",
    "pC1 = cp.Variable(1, nonneg=True, name='pC1')\n",
    "pC2 = cp.Variable(1, nonneg=True, name='pC2')\n",
    "pC3 = cp.Variable(1, nonneg=True, name='pC3')"
   ]
  },
  {
   "cell_type": "code",
   "execution_count": 3,
   "id": "bae67058",
   "metadata": {},
   "outputs": [],
   "source": [
    "obj_LP = cp.Minimize(\n",
    "    cA * (pA1 + pA2 + pA3) +\n",
    "    cB * (pB1 + pB2 + pB3) +\n",
    "    cC * (pC1 + pC2 + pC3)\n",
    ")"
   ]
  },
  {
   "cell_type": "code",
   "execution_count": 32,
   "id": "87b1d79d",
   "metadata": {},
   "outputs": [],
   "source": [
    "LP_output_range_cons = [\n",
    "    pA1 >= p_min_A,\n",
    "    pA1 <= p_max_A,\n",
    "    pA2 >= p_min_A,\n",
    "    pA2 <= p_max_A,\n",
    "    pA3 >= p_min_A,\n",
    "    pA3 <= p_max_A,\n",
    "    \n",
    "    pB1 >= p_min_B,\n",
    "    pB1 <= p_max_B,\n",
    "    pB2 >= p_min_B,\n",
    "    pB2 <= p_max_B,\n",
    "    pB3 >= p_min_B,\n",
    "    pB3 <= p_max_B,\n",
    "    \n",
    "    pC1 >= p_min_C,\n",
    "    pC1 <= p_max_C,\n",
    "    pC2 >= p_min_C,\n",
    "    pC2 <= p_max_C,\n",
    "    pC3 >= p_min_C,\n",
    "    pC3 <= p_max_C,\n",
    "]\n",
    "\n",
    "LP_demand_cons = [\n",
    "    pA1 + pB1 + pC1 >= D1,\n",
    "    pA2 + pB2 + pC2 >= D2,\n",
    "    pA3 + pB3 + pC3 >= D3,\n",
    "]\n",
    " \n",
    "cons_LP = LP_output_range_cons + LP_demand_cons"
   ]
  },
  {
   "cell_type": "code",
   "execution_count": 33,
   "id": "6676b09f",
   "metadata": {},
   "outputs": [],
   "source": [
    "LP = cp.Problem(obj_LP, cons_LP)"
   ]
  },
  {
   "cell_type": "code",
   "execution_count": 34,
   "id": "8462d8da",
   "metadata": {},
   "outputs": [],
   "source": [
    "LP.solve();"
   ]
  },
  {
   "cell_type": "code",
   "execution_count": 35,
   "id": "26a38591",
   "metadata": {},
   "outputs": [],
   "source": [
    "summary_LP = get_result_summary(LP)"
   ]
  },
  {
   "cell_type": "code",
   "execution_count": 36,
   "id": "aa3ef577",
   "metadata": {},
   "outputs": [
    {
     "data": {
      "text/plain": [
       "'optimal'"
      ]
     },
     "execution_count": 36,
     "metadata": {},
     "output_type": "execute_result"
    }
   ],
   "source": [
    "summary_LP['status']"
   ]
  },
  {
   "cell_type": "code",
   "execution_count": 37,
   "id": "fe74b531",
   "metadata": {},
   "outputs": [
    {
     "data": {
      "text/plain": [
       "7799.999998684703"
      ]
     },
     "execution_count": 37,
     "metadata": {},
     "output_type": "execute_result"
    }
   ],
   "source": [
    "summary_LP['optimal_value']"
   ]
  },
  {
   "cell_type": "code",
   "execution_count": 38,
   "id": "9a581eeb",
   "metadata": {},
   "outputs": [
    {
     "data": {
      "text/html": [
       "<div>\n",
       "<style scoped>\n",
       "    .dataframe tbody tr th:only-of-type {\n",
       "        vertical-align: middle;\n",
       "    }\n",
       "\n",
       "    .dataframe tbody tr th {\n",
       "        vertical-align: top;\n",
       "    }\n",
       "\n",
       "    .dataframe thead th {\n",
       "        text-align: right;\n",
       "    }\n",
       "</style>\n",
       "<table border=\"1\" class=\"dataframe\">\n",
       "  <thead>\n",
       "    <tr style=\"text-align: right;\">\n",
       "      <th></th>\n",
       "      <th>variable</th>\n",
       "      <th>value</th>\n",
       "    </tr>\n",
       "  </thead>\n",
       "  <tbody>\n",
       "    <tr>\n",
       "      <th>0</th>\n",
       "      <td>pA1</td>\n",
       "      <td>150.0</td>\n",
       "    </tr>\n",
       "    <tr>\n",
       "      <th>1</th>\n",
       "      <td>pA2</td>\n",
       "      <td>240.0</td>\n",
       "    </tr>\n",
       "    <tr>\n",
       "      <th>2</th>\n",
       "      <td>pA3</td>\n",
       "      <td>150.0</td>\n",
       "    </tr>\n",
       "    <tr>\n",
       "      <th>3</th>\n",
       "      <td>pB1</td>\n",
       "      <td>50.0</td>\n",
       "    </tr>\n",
       "    <tr>\n",
       "      <th>4</th>\n",
       "      <td>pB2</td>\n",
       "      <td>50.0</td>\n",
       "    </tr>\n",
       "    <tr>\n",
       "      <th>5</th>\n",
       "      <td>pB3</td>\n",
       "      <td>50.0</td>\n",
       "    </tr>\n",
       "    <tr>\n",
       "      <th>6</th>\n",
       "      <td>pC1</td>\n",
       "      <td>10.0</td>\n",
       "    </tr>\n",
       "    <tr>\n",
       "      <th>7</th>\n",
       "      <td>pC2</td>\n",
       "      <td>10.0</td>\n",
       "    </tr>\n",
       "    <tr>\n",
       "      <th>8</th>\n",
       "      <td>pC3</td>\n",
       "      <td>10.0</td>\n",
       "    </tr>\n",
       "  </tbody>\n",
       "</table>\n",
       "</div>"
      ],
      "text/plain": [
       "  variable  value\n",
       "0      pA1  150.0\n",
       "1      pA2  240.0\n",
       "2      pA3  150.0\n",
       "3      pB1   50.0\n",
       "4      pB2   50.0\n",
       "5      pB3   50.0\n",
       "6      pC1   10.0\n",
       "7      pC2   10.0\n",
       "8      pC3   10.0"
      ]
     },
     "execution_count": 38,
     "metadata": {},
     "output_type": "execute_result"
    }
   ],
   "source": [
    "prettify(summary_LP['optimal_solution'])"
   ]
  },
  {
   "cell_type": "markdown",
   "id": "dadac666",
   "metadata": {},
   "source": [
    "The minimum marginal cost of running the three units over the horizon is <mark> $7799.99 </mark>. Also note that unit A runs at minimum capacity during periods 1 and 3. During the peak period 2, the output of unit A is increased to meet the increased demand while units B and C continue to run at minimum capacity throughout the horizon. This makes sense because units B and C have a higher marginal cost than unit A. Next, we consider a model which allows us to choose which units are ON during each slot."
   ]
  },
  {
   "cell_type": "markdown",
   "id": "45c7974e",
   "metadata": {},
   "source": [
    "## A first MIP formulation"
   ]
  },
  {
   "cell_type": "markdown",
   "id": "3dc98d87",
   "metadata": {},
   "source": [
    "Here, we get rid of the first assumption:\n",
    "1. ~All units are running and available at all times. I.e. we don't have the choice to turn a unit ON/OFF.~\n",
    "2. Startup costs are ignored.\n",
    "3. Minimum up- and down-time constraints do not apply.\n",
    "4. Initial states of the units are ignored.\n",
    "\n",
    "We now have the choice to turn one or more units ON/OFF during any of the time slots. We will use a set of binary variables to model this choice.\n",
    "\n",
    "\\begin{equation*}\n",
    "u_{j, t} :=\n",
    "\\begin{cases}\n",
    "   1 &\\text{if unit $j$ is ON in slot $t$}\\\\\n",
    "   0 &\\text{otherwise }\n",
    "\\end{cases}\n",
    "\\end{equation*}"
   ]
  },
  {
   "cell_type": "markdown",
   "id": "3c336bf1",
   "metadata": {},
   "source": [
    "Our objective as well as the demand constraint remain unchanged. However, the output range constraint needs to be modified in order to incorporate the new $u_{j, t}$ variables.\n",
    "\n",
    "\\begin{align*}\n",
    "P_{j, min} u_{j, t} \\le p_{j, t} \\le P_{j, max} u_{j, t}\\ \\text{(Output Range)}\\\\\n",
    "\\end{align*}\n",
    "\n",
    "Note that in the above formulation, if the unit $j$ is OFF in period $t$, the power output $p_{j, t}$ is forced to be zero, so that we don't have any power output contribution from an OFF unit. Below is the new MIP model\n",
    "\n"
   ]
  },
  {
   "cell_type": "markdown",
   "id": "fe365266",
   "metadata": {},
   "source": [
    "\\begin{gather*}\n",
    "    \\text{minimize} \\sum_{t\\in T} \\sum_{j \\in J} c_j p_{j, t}\\\\ \\tag{MIP-1}\n",
    "     \\text{s.t.}\\quad P_{j, min} u_{j, t} \\le p_{j, t} \\le P_{j, max} u_{j, t}\\\\ \n",
    "     \\sum_{j \\in J} p_{j, t} \\ge D_t\\\\\n",
    "     u_{j, t} \\in \\{0, 1\\} \\ \\forall\\ j, t\n",
    "\\end{gather*}"
   ]
  },
  {
   "cell_type": "markdown",
   "id": "0e8f2a2e",
   "metadata": {},
   "source": [
    "Let's solve (MIP-1) with `cxvpy`"
   ]
  },
  {
   "cell_type": "code",
   "execution_count": 11,
   "id": "1c996863",
   "metadata": {},
   "outputs": [],
   "source": [
    "# ON/OFF variables\n",
    "uA1 = cp.Variable(1, boolean=True, name='uA1')\n",
    "uA2 = cp.Variable(1, boolean=True, name='uA2')\n",
    "uA3 = cp.Variable(1, boolean=True, name='uA3')\n",
    "\n",
    "uB1 = cp.Variable(1, boolean=True, name='uB1')\n",
    "uB2 = cp.Variable(1, boolean=True, name='uB2')\n",
    "uB3 = cp.Variable(1, boolean=True, name='uB3')\n",
    "\n",
    "uC1 = cp.Variable(1, boolean=True, name='uC1')\n",
    "uC2 = cp.Variable(1, boolean=True, name='uC2')\n",
    "uC3 = cp.Variable(1, boolean=True, name='uC3')"
   ]
  },
  {
   "cell_type": "code",
   "execution_count": 12,
   "id": "e10b5a3e",
   "metadata": {},
   "outputs": [],
   "source": [
    "# Objective remains unchanged\n",
    "obj_MIP1 = LP.objective"
   ]
  },
  {
   "cell_type": "code",
   "execution_count": 45,
   "id": "b373289e",
   "metadata": {},
   "outputs": [],
   "source": [
    "# New constraints\n",
    "MIP1_output_range_cons = [\n",
    "    # output range\n",
    "    pA1 >= p_min_A * uA1,\n",
    "    pA1 <= p_max_A * uA1,\n",
    "    pA2 >= p_min_A * uA2,\n",
    "    pA2 <= p_max_A * uA2,\n",
    "    pA3 >= p_min_A * uA3,\n",
    "    pA3 <= p_max_A * uA3,\n",
    "    \n",
    "    pB1 >= p_min_B * uB1,\n",
    "    pB1 <= p_max_B * uB1,\n",
    "    pB2 >= p_min_B * uB2,\n",
    "    pB2 <= p_max_B * uB2,\n",
    "    pB3 >= p_min_B * uB3,\n",
    "    pB3 <= p_max_B * uB3,\n",
    "    \n",
    "    pC1 >= p_min_C * uC1,\n",
    "    pC1 <= p_max_C * uC1,\n",
    "    pC2 >= p_min_C * uC2,\n",
    "    pC2 <= p_max_C * uC2,\n",
    "    pC3 >= p_min_C * uC3,\n",
    "    pC3 <= p_max_C * uC3,\n",
    "]\n",
    "\n",
    "cons_MIP1 = MIP1_output_range_cons + LP_demand_cons # demand constraints don't change"
   ]
  },
  {
   "cell_type": "code",
   "execution_count": 46,
   "id": "6e755bbd",
   "metadata": {},
   "outputs": [],
   "source": [
    "MIP1 = cp.Problem(obj_MIP1, cons_MIP1)"
   ]
  },
  {
   "cell_type": "code",
   "execution_count": 47,
   "id": "55e5dfe7",
   "metadata": {},
   "outputs": [],
   "source": [
    "MIP1.solve();"
   ]
  },
  {
   "cell_type": "code",
   "execution_count": 48,
   "id": "f6c6ae1f",
   "metadata": {},
   "outputs": [],
   "source": [
    "summary_MIP1 = get_result_summary(MIP1)"
   ]
  },
  {
   "cell_type": "code",
   "execution_count": 49,
   "id": "b664cb99",
   "metadata": {},
   "outputs": [
    {
     "data": {
      "text/plain": [
       "'optimal'"
      ]
     },
     "execution_count": 49,
     "metadata": {},
     "output_type": "execute_result"
    }
   ],
   "source": [
    "summary_MIP1['status']"
   ]
  },
  {
   "cell_type": "code",
   "execution_count": 50,
   "id": "4fd254d6",
   "metadata": {},
   "outputs": [
    {
     "data": {
      "text/plain": [
       "6600.0"
      ]
     },
     "execution_count": 50,
     "metadata": {},
     "output_type": "execute_result"
    }
   ],
   "source": [
    "summary_MIP1['optimal_value']"
   ]
  },
  {
   "cell_type": "code",
   "execution_count": 51,
   "id": "5d945d5a",
   "metadata": {},
   "outputs": [
    {
     "data": {
      "text/html": [
       "<div>\n",
       "<style scoped>\n",
       "    .dataframe tbody tr th:only-of-type {\n",
       "        vertical-align: middle;\n",
       "    }\n",
       "\n",
       "    .dataframe tbody tr th {\n",
       "        vertical-align: top;\n",
       "    }\n",
       "\n",
       "    .dataframe thead th {\n",
       "        text-align: right;\n",
       "    }\n",
       "</style>\n",
       "<table border=\"1\" class=\"dataframe\">\n",
       "  <thead>\n",
       "    <tr style=\"text-align: right;\">\n",
       "      <th></th>\n",
       "      <th>variable</th>\n",
       "      <th>value</th>\n",
       "    </tr>\n",
       "  </thead>\n",
       "  <tbody>\n",
       "    <tr>\n",
       "      <th>0</th>\n",
       "      <td>pA1</td>\n",
       "      <td>150.0</td>\n",
       "    </tr>\n",
       "    <tr>\n",
       "      <th>1</th>\n",
       "      <td>pA2</td>\n",
       "      <td>250.0</td>\n",
       "    </tr>\n",
       "    <tr>\n",
       "      <th>2</th>\n",
       "      <td>pA3</td>\n",
       "      <td>200.0</td>\n",
       "    </tr>\n",
       "    <tr>\n",
       "      <th>3</th>\n",
       "      <td>pB1</td>\n",
       "      <td>0.0</td>\n",
       "    </tr>\n",
       "    <tr>\n",
       "      <th>4</th>\n",
       "      <td>pB2</td>\n",
       "      <td>50.0</td>\n",
       "    </tr>\n",
       "    <tr>\n",
       "      <th>5</th>\n",
       "      <td>pB3</td>\n",
       "      <td>-0.0</td>\n",
       "    </tr>\n",
       "    <tr>\n",
       "      <th>6</th>\n",
       "      <td>pC1</td>\n",
       "      <td>0.0</td>\n",
       "    </tr>\n",
       "    <tr>\n",
       "      <th>7</th>\n",
       "      <td>pC2</td>\n",
       "      <td>-0.0</td>\n",
       "    </tr>\n",
       "    <tr>\n",
       "      <th>8</th>\n",
       "      <td>pC3</td>\n",
       "      <td>-0.0</td>\n",
       "    </tr>\n",
       "    <tr>\n",
       "      <th>9</th>\n",
       "      <td>uA1</td>\n",
       "      <td>1.0</td>\n",
       "    </tr>\n",
       "    <tr>\n",
       "      <th>10</th>\n",
       "      <td>uA2</td>\n",
       "      <td>1.0</td>\n",
       "    </tr>\n",
       "    <tr>\n",
       "      <th>11</th>\n",
       "      <td>uA3</td>\n",
       "      <td>1.0</td>\n",
       "    </tr>\n",
       "    <tr>\n",
       "      <th>12</th>\n",
       "      <td>uB1</td>\n",
       "      <td>0.0</td>\n",
       "    </tr>\n",
       "    <tr>\n",
       "      <th>13</th>\n",
       "      <td>uB2</td>\n",
       "      <td>1.0</td>\n",
       "    </tr>\n",
       "    <tr>\n",
       "      <th>14</th>\n",
       "      <td>uB3</td>\n",
       "      <td>0.0</td>\n",
       "    </tr>\n",
       "    <tr>\n",
       "      <th>15</th>\n",
       "      <td>uC1</td>\n",
       "      <td>0.0</td>\n",
       "    </tr>\n",
       "    <tr>\n",
       "      <th>16</th>\n",
       "      <td>uC2</td>\n",
       "      <td>0.0</td>\n",
       "    </tr>\n",
       "    <tr>\n",
       "      <th>17</th>\n",
       "      <td>uC3</td>\n",
       "      <td>0.0</td>\n",
       "    </tr>\n",
       "  </tbody>\n",
       "</table>\n",
       "</div>"
      ],
      "text/plain": [
       "   variable  value\n",
       "0       pA1  150.0\n",
       "1       pA2  250.0\n",
       "2       pA3  200.0\n",
       "3       pB1    0.0\n",
       "4       pB2   50.0\n",
       "5       pB3   -0.0\n",
       "6       pC1    0.0\n",
       "7       pC2   -0.0\n",
       "8       pC3   -0.0\n",
       "9       uA1    1.0\n",
       "10      uA2    1.0\n",
       "11      uA3    1.0\n",
       "12      uB1    0.0\n",
       "13      uB2    1.0\n",
       "14      uB3    0.0\n",
       "15      uC1    0.0\n",
       "16      uC2    0.0\n",
       "17      uC3    0.0"
      ]
     },
     "execution_count": 51,
     "metadata": {},
     "output_type": "execute_result"
    }
   ],
   "source": [
    "prettify(summary_MIP1['optimal_solution'])"
   ]
  },
  {
   "cell_type": "markdown",
   "id": "1662caf6",
   "metadata": {},
   "source": [
    "The optimal cost with the basic MIP model turns out to be <mark>$6600</mark>. Note that this is <mark>\\$1200 cheaper</mark> than the result of the (LP) model. Indeed, being able to choose which units to commit during each time slot has saved us some money!\n",
    "\n",
    "Note that the model chose to fulfill all of the demand in period 1 with unit A, which is the cheapest to run. Both unit B and unit C are more expensive to run and were kept OFF during this period. For the peak demand period, unit B was turned ON to meet the additional demand and was turned back off at the end of the peak period. Unit C, which is the most expensive to run, was never turned ON."
   ]
  },
  {
   "cell_type": "markdown",
   "id": "ffec51b5",
   "metadata": {},
   "source": [
    "## An MIP model with startup costs\n",
    "\n",
    "Here, we get rid of the second assumption:\n",
    "1. ~All units are running and available at all times. I.e. we don't have the choice to turn a unit ON/OFF.~\n",
    "2. ~Startup costs are ignored.~\n",
    "3. ~Initial states of the units are ignored.~\n",
    "4. Minimum up- and down-time constraints do not apply.\n",
    "\n",
    "We now consider the startup costs of the units. A unit incurs a startup cost in a time period only if it was started up in that period. We need a binary variable to indicate if a unit was turnd ON in a given period. If so, the unit will incur the startup cost in that period in addition to the marginal cost. (For simplicity, we have assumed the cool-down costs to be $0$.)\n",
    "\n",
    "We introduce a new parameter to denote the startup costs of the units\n",
    "\n",
    "\\begin{align*}\n",
    "    c_j^u := \\text{Startup cost of unit } j\\ (\\$)\n",
    "\\end{align*}\n",
    "\n",
    "and a new binary variable\n",
    "\n",
    "\\begin{equation*}\n",
    "\\alpha_{j, t} :=\n",
    "\\begin{cases}\n",
    "   1 &\\text{if unit $j$ was started in period $t$}\\\\\n",
    "   0 &\\text{otherwise }\n",
    "\\end{cases}\n",
    "\\end{equation*}"
   ]
  },
  {
   "cell_type": "markdown",
   "id": "3e4aadf0",
   "metadata": {},
   "source": [
    "The new objective is given by:\n",
    "\n",
    "\\begin{align*}\n",
    "    \\text{minimize} \\sum_{t\\in T} \\sum_{j \\in J} c_j p_{j, t} + \\alpha_{j, t} c_j^u\\\\\n",
    "\\end{align*}"
   ]
  },
  {
   "cell_type": "markdown",
   "id": "c6871b38",
   "metadata": {},
   "source": [
    "The demand constraint as well as the output range constraints remain the same as for (MIP-1). However, we need a new constraint in order to ensure that $\\alpha_{j, t} = 1$ if and only if unit $j$ was started up in period $t$. This constraint can be modelled by the below function\n",
    "\n",
    "\\begin{align*}\n",
    "    \\alpha_{j, t} = \\lfloor \\frac{u_{j, t} - u_{j, t-1} + 1}{2} \\rfloor\n",
    "\\end{align*}\n",
    "\n",
    "The above non-linear function can be expressed in terms of linear constraints as follows:\n",
    "\n",
    "\\begin{align*}\n",
    "    \\alpha_{j, t} &\\le \\frac{u_{j, t} - u_{j, t-1} + 1}{2},\\ \\ \\ \\  \\alpha_{j, t} + 1 \\ge \\frac{u_{j, t} - u_{j, t-1} + 1}{2} + .25\\qquad \\text{(Startup)}\n",
    "\\end{align*}"
   ]
  },
  {
   "cell_type": "markdown",
   "id": "d502c1bc",
   "metadata": {},
   "source": [
    "Our new model can be written as:\n",
    "\n",
    "\\begin{gather*}\n",
    "    \\text{minimize} \\sum_{t\\in T} \\sum_{j \\in J} c_j p_{j, t} + \\alpha_{j, t} c_j^u\\\\\n",
    "     \\text{s.t.}\\quad P_{j, min} u_{j, t} \\le p_{j, t} \\le P_{j, max} u_{j, t}\\\\ \n",
    "     \\sum_{j \\in J} p_{j, t} \\ge D_t\\\\ \\tag{MIP-2}\n",
    "     \\alpha_{j, t} \\le \\frac{u_{j, t} - u_{j, t-1} + 1}{2}\\\\\n",
    "     \\alpha_{j, t} + 1 \\ge \\frac{u_{j, t} - u_{j, t-1} + 1}{2} + .25\\\\\n",
    "     u_{j, t} \\in \\{0, 1\\} \\ \\forall\\ j, t\\\\\n",
    "     \\alpha_{j, t} \\in \\{0, 1\\} \\ \\forall\\ j, t\n",
    "\\end{gather*}\n",
    "\n",
    "Lets solve (MIP-2) with `cvxpy`"
   ]
  },
  {
   "cell_type": "code",
   "execution_count": 53,
   "id": "7792c7cc",
   "metadata": {},
   "outputs": [],
   "source": [
    "# parameters\n",
    "## startup costs\n",
    "cA_up = 1000\n",
    "cB_up = 600\n",
    "cC_up = 100\n",
    "\n",
    "## initial states\n",
    "uA0 = 1 # ON\n",
    "uB0 = 0 # OFF\n",
    "uC0 = 0 # OFF"
   ]
  },
  {
   "cell_type": "code",
   "execution_count": 54,
   "id": "20379056",
   "metadata": {},
   "outputs": [],
   "source": [
    "# startup variables\n",
    "alpha_A1 = cp.Variable(1, boolean=True, name='alpha_A1')\n",
    "alpha_A2 = cp.Variable(1, boolean=True, name='alpha_A2')\n",
    "alpha_A3 = cp.Variable(1, boolean=True, name='alpha_A3')\n",
    "\n",
    "\n",
    "alpha_B1 = cp.Variable(1, boolean=True, name='alpha_B1')\n",
    "alpha_B2 = cp.Variable(1, boolean=True, name='alpha_B2')\n",
    "alpha_B3 = cp.Variable(1, boolean=True, name='alpha_B3')\n",
    "\n",
    "\n",
    "alpha_C1 = cp.Variable(1, boolean=True, name='alpha_C1')\n",
    "alpha_C2 = cp.Variable(1, boolean=True, name='alpha_C2')\n",
    "alpha_C3 = cp.Variable(1, boolean=True, name='alpha_C3')"
   ]
  },
  {
   "cell_type": "code",
   "execution_count": 55,
   "id": "363400f4",
   "metadata": {},
   "outputs": [],
   "source": [
    "# objective\n",
    "obj_MIP2 = cp.Minimize(\n",
    "    cA * (pA1 + pA2 + pA3) + cA_up * (alpha_A1 + alpha_A2 + alpha_A3) +\n",
    "    cB * (pB1 + pB2 + pB3) + cB_up * (alpha_B1 + alpha_B2 + alpha_B3) +\n",
    "    cC * (pC1 + pC2 + pC3) + cC_up * (alpha_C1 + alpha_C2 + alpha_C3)\n",
    ")"
   ]
  },
  {
   "cell_type": "code",
   "execution_count": 56,
   "id": "9c9b2353",
   "metadata": {},
   "outputs": [],
   "source": [
    "# constraints\n",
    "MIP2_startup_cons =  [\n",
    "    alpha_A1 <= (uA1 - uA0 + 1)/2,\n",
    "    alpha_A1 >= (uA1 - uA0 + 1)/2 - .75,\n",
    "    alpha_A2 <= (uA2 - uA1 + 1)/2,\n",
    "    alpha_A2 >= (uA2 - uA1 + 1)/2 - .75,\n",
    "    alpha_A3 <= (uA3 - uA2 + 1)/2,\n",
    "    alpha_A3 >= (uA3 - uA2 + 1)/2 - .75,\n",
    "    \n",
    "    alpha_B1 <= (uB1 - uB0 + 1)/2,\n",
    "    alpha_B1 >= (uB1 - uB0 + 1)/2 - .75,\n",
    "    alpha_B2 <= (uB2 - uB1 + 1)/2,\n",
    "    alpha_B2 >= (uB2 - uB1 + 1)/2 - .75,\n",
    "    alpha_B3 <= (uB3 - uB2 + 1)/2,\n",
    "    alpha_B3 >= (uB3 - uB2 + 1)/2 - .75,\n",
    "    \n",
    "    alpha_C1 <= (uC1 - uC0 + 1)/2,\n",
    "    alpha_C1 >= (uC1 - uC0 + 1)/2 - .75,\n",
    "    alpha_C2 <= (uC2 - uC1 + 1)/2,\n",
    "    alpha_C2 >= (uC2 - uC1 + 1)/2 - .75,\n",
    "    alpha_C3 <= (uC3 - uC2 + 1)/2,\n",
    "    alpha_C3 >= (uC3 - uC2 + 1)/2 - .75,\n",
    "]\n",
    "    \n",
    "cons_MIP2 = MIP1.constraints + MIP2_startup_cons"
   ]
  },
  {
   "cell_type": "code",
   "execution_count": 57,
   "id": "31594ad7",
   "metadata": {},
   "outputs": [],
   "source": [
    "MIP2 = cp.Problem(obj_MIP2, cons_MIP2)\n",
    "MIP2.solve();\n",
    "summary_MIP2 = get_result_summary(MIP2)"
   ]
  },
  {
   "cell_type": "code",
   "execution_count": 59,
   "id": "7f454d84",
   "metadata": {},
   "outputs": [
    {
     "data": {
      "text/plain": [
       "'optimal'"
      ]
     },
     "execution_count": 59,
     "metadata": {},
     "output_type": "execute_result"
    }
   ],
   "source": [
    "summary_MIP2['status']"
   ]
  },
  {
   "cell_type": "code",
   "execution_count": 60,
   "id": "f89dc9e0",
   "metadata": {},
   "outputs": [
    {
     "data": {
      "text/plain": [
       "7100.0"
      ]
     },
     "execution_count": 60,
     "metadata": {},
     "output_type": "execute_result"
    }
   ],
   "source": [
    "summary_MIP2['optimal_value']"
   ]
  },
  {
   "cell_type": "code",
   "execution_count": 58,
   "id": "858517bd",
   "metadata": {},
   "outputs": [
    {
     "data": {
      "text/html": [
       "<div>\n",
       "<style scoped>\n",
       "    .dataframe tbody tr th:only-of-type {\n",
       "        vertical-align: middle;\n",
       "    }\n",
       "\n",
       "    .dataframe tbody tr th {\n",
       "        vertical-align: top;\n",
       "    }\n",
       "\n",
       "    .dataframe thead th {\n",
       "        text-align: right;\n",
       "    }\n",
       "</style>\n",
       "<table border=\"1\" class=\"dataframe\">\n",
       "  <thead>\n",
       "    <tr style=\"text-align: right;\">\n",
       "      <th></th>\n",
       "      <th>variable</th>\n",
       "      <th>value</th>\n",
       "    </tr>\n",
       "  </thead>\n",
       "  <tbody>\n",
       "    <tr>\n",
       "      <th>0</th>\n",
       "      <td>alpha_A1</td>\n",
       "      <td>0.0</td>\n",
       "    </tr>\n",
       "    <tr>\n",
       "      <th>1</th>\n",
       "      <td>alpha_A2</td>\n",
       "      <td>0.0</td>\n",
       "    </tr>\n",
       "    <tr>\n",
       "      <th>2</th>\n",
       "      <td>alpha_A3</td>\n",
       "      <td>0.0</td>\n",
       "    </tr>\n",
       "    <tr>\n",
       "      <th>3</th>\n",
       "      <td>alpha_B1</td>\n",
       "      <td>0.0</td>\n",
       "    </tr>\n",
       "    <tr>\n",
       "      <th>4</th>\n",
       "      <td>alpha_B2</td>\n",
       "      <td>0.0</td>\n",
       "    </tr>\n",
       "    <tr>\n",
       "      <th>5</th>\n",
       "      <td>alpha_B3</td>\n",
       "      <td>0.0</td>\n",
       "    </tr>\n",
       "    <tr>\n",
       "      <th>6</th>\n",
       "      <td>alpha_C1</td>\n",
       "      <td>0.0</td>\n",
       "    </tr>\n",
       "    <tr>\n",
       "      <th>7</th>\n",
       "      <td>alpha_C2</td>\n",
       "      <td>1.0</td>\n",
       "    </tr>\n",
       "    <tr>\n",
       "      <th>8</th>\n",
       "      <td>alpha_C3</td>\n",
       "      <td>0.0</td>\n",
       "    </tr>\n",
       "    <tr>\n",
       "      <th>9</th>\n",
       "      <td>pA1</td>\n",
       "      <td>150.0</td>\n",
       "    </tr>\n",
       "    <tr>\n",
       "      <th>10</th>\n",
       "      <td>pA2</td>\n",
       "      <td>250.0</td>\n",
       "    </tr>\n",
       "    <tr>\n",
       "      <th>11</th>\n",
       "      <td>pA3</td>\n",
       "      <td>200.0</td>\n",
       "    </tr>\n",
       "    <tr>\n",
       "      <th>12</th>\n",
       "      <td>pB1</td>\n",
       "      <td>0.0</td>\n",
       "    </tr>\n",
       "    <tr>\n",
       "      <th>13</th>\n",
       "      <td>pB2</td>\n",
       "      <td>0.0</td>\n",
       "    </tr>\n",
       "    <tr>\n",
       "      <th>14</th>\n",
       "      <td>pB3</td>\n",
       "      <td>-0.0</td>\n",
       "    </tr>\n",
       "    <tr>\n",
       "      <th>15</th>\n",
       "      <td>pC1</td>\n",
       "      <td>-0.0</td>\n",
       "    </tr>\n",
       "    <tr>\n",
       "      <th>16</th>\n",
       "      <td>pC2</td>\n",
       "      <td>50.0</td>\n",
       "    </tr>\n",
       "    <tr>\n",
       "      <th>17</th>\n",
       "      <td>pC3</td>\n",
       "      <td>-0.0</td>\n",
       "    </tr>\n",
       "    <tr>\n",
       "      <th>18</th>\n",
       "      <td>uA1</td>\n",
       "      <td>1.0</td>\n",
       "    </tr>\n",
       "    <tr>\n",
       "      <th>19</th>\n",
       "      <td>uA2</td>\n",
       "      <td>1.0</td>\n",
       "    </tr>\n",
       "    <tr>\n",
       "      <th>20</th>\n",
       "      <td>uA3</td>\n",
       "      <td>1.0</td>\n",
       "    </tr>\n",
       "    <tr>\n",
       "      <th>21</th>\n",
       "      <td>uB1</td>\n",
       "      <td>0.0</td>\n",
       "    </tr>\n",
       "    <tr>\n",
       "      <th>22</th>\n",
       "      <td>uB2</td>\n",
       "      <td>0.0</td>\n",
       "    </tr>\n",
       "    <tr>\n",
       "      <th>23</th>\n",
       "      <td>uB3</td>\n",
       "      <td>0.0</td>\n",
       "    </tr>\n",
       "    <tr>\n",
       "      <th>24</th>\n",
       "      <td>uC1</td>\n",
       "      <td>0.0</td>\n",
       "    </tr>\n",
       "    <tr>\n",
       "      <th>25</th>\n",
       "      <td>uC2</td>\n",
       "      <td>1.0</td>\n",
       "    </tr>\n",
       "    <tr>\n",
       "      <th>26</th>\n",
       "      <td>uC3</td>\n",
       "      <td>0.0</td>\n",
       "    </tr>\n",
       "  </tbody>\n",
       "</table>\n",
       "</div>"
      ],
      "text/plain": [
       "    variable  value\n",
       "0   alpha_A1    0.0\n",
       "1   alpha_A2    0.0\n",
       "2   alpha_A3    0.0\n",
       "3   alpha_B1    0.0\n",
       "4   alpha_B2    0.0\n",
       "5   alpha_B3    0.0\n",
       "6   alpha_C1    0.0\n",
       "7   alpha_C2    1.0\n",
       "8   alpha_C3    0.0\n",
       "9        pA1  150.0\n",
       "10       pA2  250.0\n",
       "11       pA3  200.0\n",
       "12       pB1    0.0\n",
       "13       pB2    0.0\n",
       "14       pB3   -0.0\n",
       "15       pC1   -0.0\n",
       "16       pC2   50.0\n",
       "17       pC3   -0.0\n",
       "18       uA1    1.0\n",
       "19       uA2    1.0\n",
       "20       uA3    1.0\n",
       "21       uB1    0.0\n",
       "22       uB2    0.0\n",
       "23       uB3    0.0\n",
       "24       uC1    0.0\n",
       "25       uC2    1.0\n",
       "26       uC3    0.0"
      ]
     },
     "execution_count": 58,
     "metadata": {},
     "output_type": "execute_result"
    }
   ],
   "source": [
    "prettify(summary_MIP2['optimal_solution'])"
   ]
  },
  {
   "cell_type": "markdown",
   "id": "46bef7a7",
   "metadata": {},
   "source": [
    "The optimal value of the total cost (setup + marginal) is <mark> $7100</mark>. This optimal value is greater than the optimal value of MIP1 (\\$6600) because it includes the setup cost which we ignored in MIP1.\n",
    "    \n",
    "Also note that, once again, the model chose to meet all of the demand in period 1 with unit A. The reason for this is two-fold. First, unit A is the cheapest to run and incurrs the smallest marginal cost. So, it makes sense to preferentially run unit A whenever possible. Second, unit A was already in ON state at the beginning of the planning horizon and did not need to be turned ON. As a result, by keeping unit A running, we avoided the setup cost for unit A.\n",
    "\n",
    "We should also note that during the peak demand period, the model chose to turn on unit C instead of unit B as it had done in MIP1. This is because while unit B is cheaper to run than unit C, it is more expensive to start up than unit C. Since the setup cost dominates the marginal cost, the model preferred to start up unit C."
   ]
  },
  {
   "cell_type": "markdown",
   "id": "64c14593",
   "metadata": {},
   "source": [
    "# References\n",
    "\n",
    "[1] https://ntnuopen.ntnu.no/ntnu-xmlui/bitstream/handle/11250/298917/UnitCommitment.pdf?sequence=3\n",
    "\n",
    "[2] https://www.youtube.com/watch?v=jS15dU_422Q"
   ]
  },
  {
   "cell_type": "code",
   "execution_count": null,
   "id": "831ea35c",
   "metadata": {},
   "outputs": [],
   "source": []
  }
 ],
 "metadata": {
  "kernelspec": {
   "display_name": "Python 3 (ipykernel)",
   "language": "python",
   "name": "python3"
  },
  "language_info": {
   "codemirror_mode": {
    "name": "ipython",
    "version": 3
   },
   "file_extension": ".py",
   "mimetype": "text/x-python",
   "name": "python",
   "nbconvert_exporter": "python",
   "pygments_lexer": "ipython3",
   "version": "3.7.9"
  }
 },
 "nbformat": 4,
 "nbformat_minor": 5
}
