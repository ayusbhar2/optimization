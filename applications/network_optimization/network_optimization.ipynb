{
 "cells": [
  {
   "cell_type": "markdown",
   "id": "622b8564",
   "metadata": {},
   "source": [
    "# Network Optimization Case Study: Aiding Allies"
   ]
  },
  {
   "cell_type": "markdown",
   "id": "c513d6e6",
   "metadata": {},
   "source": [
    "[Source: Frederick S. Hillier and Gerald J. Lieberman.  *Introduction to Operations Research - 7th ed.*, McGraw-Hill, ISBN 0-07-232169-5]\n",
    "\n",
    "A rebel army is attempting to overthrow the elected government of the Russian Federation. The United States government has decided to assist its ally by quickly sending troops and supplies to the Federation. A plan needs to be developed for shipping the troops and supplies most effectively. Depending on the overall measure of performance, the analysis requires formulating and solving a shortest-path problem, a minimum cost flow problem, or a maximum flow problem.\n",
    "\n",
    "\n",
    "-------------------------------------------------------------------------------\n",
    "Commander Votachev steps into the cold October night and deeply inhales the smoke from his cigarette, savoring its warmth. He surveys the destruction surrounding him — shattered windows, burning buildings, torn roads — and smiles. His two years of work training revolutionaries east of the Ural Mountains has proved successful; his troops now occupy seven strategically important cities in the Russian Federation: Kazan, Perm,Yekaterinburg, Ufa, Samara, Saratov, and Orenburg. His siege is not yet over, however. He looks to the west. Given the political and economic confusion in the Russian Federation at this time, he knows that his troops will be able to conquer Saint Petersburg and Moscow shortly. Commander Votachev will then be able to rule with the wisdom and control exhibited by his communist predecessors Lenin and Stalin.\n",
    "\n",
    "Across the Pacific Ocean, a meeting of the top security and foreign policy advisers of the United States is in progress at the White House. The President has recently been briefed about the communist revolution masterminded by Commander Votachev and is determining a plan of action. The President reflects upon a similar October long ago in 1917, and he fears the possibility of a new age of radical Communist rule accompanied by chaos, bloodshed, escalating tensions, and possibly nuclear war. He therefore decides that the United States needs to respond and to respond quickly. Moscow has requested assistance from the United States military, and the President plans to send troops and supplies immediately.\n",
    "\n",
    "The President turns to General Lankletter and asks him to describe the preparations being taken in the United States to send the necessary troops and supplies to the Russian Federation. General Lankletter informs the President that along with troops, weapons, ammunition, fuel, and supplies, aircraft, ships, and vehicles are being assembled at two port cities with airfields: Boston and Jacksonville. The aircraft and ships will transfer all troops and cargo across the Atlantic Ocean to the Eurasian continent. The general hands the President a list of the types of aircraft, ships, and vehicles being assembled along with a description of each type. The list is shown below."
   ]
  },
  {
   "cell_type": "markdown",
   "id": "219e45aa",
   "metadata": {},
   "source": [
    "|Transportation Type| Name| Capacity|Speed|\n",
    "|:---|:---|:---|:---|\n",
    "|Aircraft|C-141 Starlifter|150 tons|400 miles per hour|\n",
    "|Ship|Transport|240 tons|35 miles per hour|\n",
    "|Vehicle|Palletized Load System Truck|16,000 kilograms|60 miles per hour|"
   ]
  },
  {
   "cell_type": "markdown",
   "id": "3ca5f449",
   "metadata": {},
   "source": [
    "- All aircraft, ships, and vehicles are able to carry both troops and cargo.\n",
    "- Once an aircraft or ship arrives in Europe, it stays there to support the armed forces."
   ]
  },
  {
   "cell_type": "markdown",
   "id": "3727ce6f",
   "metadata": {},
   "source": [
    "The President then turns to Tabitha Neal, who has been negotiating with the NATO countries for the last several hours to use their ports and airfields as stops to refuel and resupply before heading to the Russian Federation. She informs the President that the following ports and airfields in the NATO countries will be made available to the United States military.\n",
    "\n",
    "|Ports|Airfields|\n",
    "|:---|:---|\n",
    "|Napoli|London|\n",
    "|Hamburg|Berlin|\n",
    "|Rotterdam|Istanbul|\n"
   ]
  },
  {
   "cell_type": "markdown",
   "id": "dfdb5ed4",
   "metadata": {},
   "source": [
    "The President stands and walks to the map of the world projected on a large screen in the middle of the room. He maps the progress of troops and cargo from the United States to three strategic cities in the Russian Federation that have not yet been seized by Commander Votachev. The three cities are Saint Petersburg, Moscow, and Rostov. He explains that the troops and cargo will be used both to defend the Russian cities and to launch a counterattack against Votachev to recapture the cities he currently occupies. The President also explains that:\n",
    "\n",
    "- All Starlifters and transports leave either Boston or Jacksonville.\n",
    "- All transports that have traveled across the Atlantic must dock at one of the NATO ports to unload.\n",
    "- Palletized load system trucks brought over in the transports will then carry all troops and materials unloaded from the ships at the NATO ports to the three strategic Russian cities not yet seized by Votachev - Saint Petersburg, Moscow, and Rostov.\n",
    "- All Starlifters that have traveled across the Atlantic must land at one of the NATO airfields for refueling. The planes will then carry all troops and cargo from the NATO airfields to the three Russian cities.\n"
   ]
  },
  {
   "cell_type": "markdown",
   "id": "908a0525",
   "metadata": {},
   "source": [
    "<img src=\"images/aiding_allies_map.png\" width=\"900\" align=\"center\">"
   ]
  },
  {
   "cell_type": "markdown",
   "id": "3ddb1dec",
   "metadata": {},
   "source": [
    "The different routes that may be taken by the troops and supplies to reach the Russian Federation from the United States are shown below:\n",
    "\n",
    "<img src=\"images/possible_routes_new.png\" width=\"500\" length=\"500\" align=\"center\">"
   ]
  },
  {
   "cell_type": "markdown",
   "id": "1e5bba75",
   "metadata": {},
   "source": [
    "## Scenario 1: When time is of the essence\n",
    "### The shortest path problem\n",
    "Moscow and Washington do not know when Commander Votachev will launch his next attack. Leaders from the two countries have therefore agreed that troops should reach each of the three strategic Russian cities as quickly as possible.\n",
    "\n",
    "The President has determined that the situation is so dire that cost is no object—as many Starlifters, transports, and trucks as are necessary will be used to transfer troops and cargo from the United States to Saint Petersburg, Moscow, and Rostov. Therefore,no limitations exist on the number of troops and amount of cargo that can be transferred between any cities.\n",
    "\n",
    "The President has been given the following information about the length of the available routes between cities on the Atlantic leg:\n",
    "\n",
    "|From|To|Length of route (km)|\n",
    "|:---|:---|:---:|\n",
    "|Boston |Berlin |7,250 |\n",
    "|Boston |Hamburg |8,250 |\n",
    "|Boston |Istanbul |8,300 |\n",
    "|Boston |London |6,200 |\n",
    "|Boston |Rotterdam |6,900 |\n",
    "|Boston |Napoli |7,950 |\n",
    "|Jacksonville |Berlin |9,200 |\n",
    "|Jacksonville |Hamburg |9,800 |\n",
    "|Jacksonville |Istanbul |10,100 |\n",
    "|Jacksonville |London |7,900 |\n",
    "|Jacksonville |Rotterdam |8,900 |\n",
    "|Jacksonville |Napoli |9,400 |"
   ]
  },
  {
   "cell_type": "markdown",
   "id": "24ffcb3a",
   "metadata": {},
   "source": [
    "and on the Eurasian leg:\n",
    "\n",
    "|From|To|Length of route (km)|\n",
    "|:---|:---|:---:|\n",
    "|Berlin | Saint Petersburg |1,280 |\n",
    "|Hamburg |Saint Petersburg |1,880 |\n",
    "|Istanbul |Saint Petersburg |2,040 |\n",
    "|London |Saint Petersburg |1,980 |\n",
    "|Rotterdam |Saint Petersburg |2,200 |\n",
    "|Napoli |Saint Petersburg |2,970 |\n",
    "|Berlin |Moscow |1,600 |\n",
    "|Hamburg |Moscow |2,120 |\n",
    "|Istanbul |Moscow |1,700 |\n",
    "|London |Moscow |2,300 |\n",
    "|Rotterdam |Moscow |2,450 |\n",
    "|Napoli |Moscow |2,890 |\n",
    "|Berlin |Rostov |1,730 |\n",
    "|Hamburg |Rostov |2,470 |\n",
    "|Istanbul |Rostov |990 |\n",
    "|London |Rostov |2,860 |\n",
    "|Rotterdam |Rostov |2,760 |\n",
    "|Napoli |Rostov |2,800 |"
   ]
  },
  {
   "cell_type": "markdown",
   "id": "0982a7f1",
   "metadata": {},
   "source": [
    "Given the distance and the speed of the transportation used between each pair of cities, how can the President most quickly move troops from the United States to each of the three strategic Russian cities?"
   ]
  },
  {
   "cell_type": "markdown",
   "id": "a479013a",
   "metadata": {},
   "source": [
    "### Dijkstra's shortest path model\n",
    "Since Question 1 is only concerned with the minimum time taken by the troops to reach Russia, we can model this problem as a *shortest path problem* with each edge length representing the time taken to travel from the source node to the target node. The problem can then be solved using *Dijkstra's shortest path algorithm*. We will use the helper classes and methods provided by the custom [solver](https://github.com/ayusbhar2/operations_research/tree/main/solver) module to solve the problem."
   ]
  },
  {
   "cell_type": "code",
   "execution_count": 1,
   "id": "40e227ac",
   "metadata": {},
   "outputs": [],
   "source": [
    "# my solver module\n",
    "from solver.algorithms import get_shortest_path\n",
    "from solver.classes import Edge, Graph\n",
    "from solver.utils import get_result_summary, get_variable, prettify"
   ]
  },
  {
   "cell_type": "code",
   "execution_count": 2,
   "id": "1283e6e8",
   "metadata": {},
   "outputs": [],
   "source": [
    "AIR_SPEED_KMPH = 400 * 1.60934  # from MPH to KMPH\n",
    "WATER_SPEED_KMPH = 35 * 1.60934\n",
    "LAND_SPEED_KMPH = 60 * 1.60934"
   ]
  },
  {
   "cell_type": "code",
   "execution_count": 3,
   "id": "09bf10ec",
   "metadata": {},
   "outputs": [],
   "source": [
    "# Create the network graph with provided edges\n",
    "graph = Graph([\n",
    "    Edge('Boston', 'Berlin', distance_km=7250, route_type='air'),\n",
    "    Edge('Boston', 'Hamburg', distance_km=8250, route_type='sea'),\n",
    "    Edge('Boston', 'Istanbul', distance_km=8300, route_type='air'),\n",
    "    Edge('Boston', 'London', distance_km=6200, route_type='air'),\n",
    "    Edge('Boston', 'Rotterdam', distance_km=6900, route_type='sea'),\n",
    "    Edge('Boston', 'Napoli', distance_km=7950, route_type='sea'),\n",
    "    Edge('Jacksonville', 'Berlin', distance_km=9200, route_type='air'),\n",
    "    Edge('Jacksonville', 'Hamburg', distance_km=9800, route_type='sea'),\n",
    "    Edge('Jacksonville', 'Istanbul', distance_km=10100, route_type='air'),\n",
    "    Edge('Jacksonville', 'London', distance_km=7900, route_type='air'),\n",
    "    Edge('Jacksonville', 'Rotterdam', distance_km=8900, route_type='sea'),\n",
    "    Edge('Jacksonville', 'Napoli', distance_km=9400, route_type='sea'),\n",
    "    \n",
    "    Edge('Berlin', 'StPetersburg', distance_km=1280, route_type='air'),\n",
    "    Edge('Hamburg', 'StPetersburg', distance_km=1880, route_type='land'),\n",
    "    Edge('Istanbul', 'StPetersburg', distance_km=2040, route_type='air'),\n",
    "    Edge('London', 'StPetersburg', distance_km=1980, route_type='air'),\n",
    "    Edge('Rotterdam', 'StPetersburg', distance_km=2200, route_type='land'),\n",
    "    Edge('Napoli', 'StPetersburg', distance_km=2970, route_type='land'),\n",
    "    Edge('Berlin', 'Moscow', distance_km=1600, route_type='air'),\n",
    "    Edge('Hamburg', 'Moscow', distance_km=2120, route_type='land'),\n",
    "    Edge('Istanbul', 'Moscow', distance_km=1700, route_type='air'),\n",
    "    Edge('London', 'Moscow', distance_km=2300, route_type='air'),\n",
    "    Edge('Rotterdam', 'Moscow', distance_km=2450, route_type='land'),\n",
    "    Edge('Napoli', 'Moscow', distance_km=2890, route_type='land'),\n",
    "    Edge('Berlin', 'Rostov', distance_km=1730, route_type='air'),\n",
    "    Edge('Hamburg', 'Rostov', distance_km=2470, route_type='land'),\n",
    "    Edge('Istanbul', 'Rostov', distance_km=990, route_type='air'),\n",
    "    Edge('London', 'Rostov', distance_km=2860, route_type='air'),\n",
    "    Edge('Rotterdam', 'Rostov', distance_km=2760, route_type='land'),\n",
    "    Edge('Napoli', 'Rostov', distance_km=2800, route_type='land'),\n",
    "])"
   ]
  },
  {
   "cell_type": "code",
   "execution_count": 4,
   "id": "681d9fd5",
   "metadata": {},
   "outputs": [],
   "source": [
    "# Update all edges with a non-negative time-cost\n",
    "for edge in graph.edges:\n",
    "    if edge.route_type == 'air':\n",
    "        time_hr = edge.distance_km / AIR_SPEED_KMPH\n",
    "    elif edge.route_type == 'sea':\n",
    "        time_hr = edge.distance_km / WATER_SPEED_KMPH\n",
    "    else:\n",
    "        time_hr = edge.distance_km / LAND_SPEED_KMPH\n",
    "    edge.update(cost=time_hr) # edge cost is needed for shortest path algorithm"
   ]
  },
  {
   "cell_type": "code",
   "execution_count": 5,
   "id": "828c13e7",
   "metadata": {},
   "outputs": [
    {
     "data": {
      "text/plain": [
       "(15.347906595250226, ['Jacksonville', 'London', 'StPetersburg'])"
      ]
     },
     "execution_count": 5,
     "metadata": {},
     "output_type": "execute_result"
    }
   ],
   "source": [
    "get_shortest_path(graph, 'Jacksonville', target_name='StPetersburg', algorithm='dijkstra')"
   ]
  },
  {
   "cell_type": "code",
   "execution_count": 6,
   "id": "dcfc3819",
   "metadata": {},
   "outputs": [
    {
     "data": {
      "text/plain": [
       "(12.707072464488547, ['Boston', 'London', 'StPetersburg'])"
      ]
     },
     "execution_count": 6,
     "metadata": {},
     "output_type": "execute_result"
    }
   ],
   "source": [
    "get_shortest_path(graph, 'Boston', target_name='StPetersburg', algorithm='dijkstra')"
   ]
  },
  {
   "cell_type": "code",
   "execution_count": 7,
   "id": "af45c53b",
   "metadata": {},
   "outputs": [
    {
     "data": {
      "text/plain": [
       "(15.845004784570072, ['Jacksonville', 'London', 'Moscow'])"
      ]
     },
     "execution_count": 7,
     "metadata": {},
     "output_type": "execute_result"
    }
   ],
   "source": [
    "get_shortest_path(graph, 'Jacksonville', target_name='Moscow', algorithm='dijkstra')"
   ]
  },
  {
   "cell_type": "code",
   "execution_count": 8,
   "id": "71b61d95",
   "metadata": {},
   "outputs": [
    {
     "data": {
      "text/plain": [
       "(13.204170653808394, ['Boston', 'London', 'Moscow'])"
      ]
     },
     "execution_count": 8,
     "metadata": {},
     "output_type": "execute_result"
    }
   ],
   "source": [
    "get_shortest_path(graph, 'Boston', target_name='Moscow', algorithm='dijkstra')"
   ]
  },
  {
   "cell_type": "code",
   "execution_count": 9,
   "id": "0ffcfd30",
   "metadata": {},
   "outputs": [
    {
     "data": {
      "text/plain": [
       "(16.7149266158798, ['Jacksonville', 'London', 'Rostov'])"
      ]
     },
     "execution_count": 9,
     "metadata": {},
     "output_type": "execute_result"
    }
   ],
   "source": [
    "get_shortest_path(graph, 'Jacksonville', target_name='Rostov', algorithm='dijkstra')"
   ]
  },
  {
   "cell_type": "code",
   "execution_count": 10,
   "id": "39bb9137",
   "metadata": {},
   "outputs": [
    {
     "data": {
      "text/plain": [
       "(13.949817937788161, ['Boston', 'Berlin', 'Rostov'])"
      ]
     },
     "execution_count": 10,
     "metadata": {},
     "output_type": "execute_result"
    }
   ],
   "source": [
    "get_shortest_path(graph, 'Boston', target_name='Rostov', algorithm='dijkstra')"
   ]
  },
  {
   "cell_type": "markdown",
   "id": "26e5b7c4",
   "metadata": {},
   "source": [
    "From the above results we see that the fastest way to get troops and supplies to each of the three strategic Russian cities is:\n",
    "\n",
    "- `Boston --> London --> Saint Petersburg (12.70 hr)`\n",
    "\n",
    "- `Boston --> London --> Moscow (13.20 hr)`\n",
    "\n",
    "- `Boston --> Berlin --> Rostov (13.95 hr)`"
   ]
  },
  {
   "cell_type": "markdown",
   "id": "692cc315",
   "metadata": {},
   "source": [
    "### The Binary Integer Programming model\n",
    "\n",
    "We can also model the above problem as a binary integer program as follows.\n",
    "\n",
    "Parameters:\n",
    "\n",
    "$$c_{j, k} := \\text{ the \"cost\" associated with edge } (j, k)$$\n",
    "\n",
    "Variables:\n",
    "\n",
    "$$x_i:= \\begin{cases}\n",
    "1 \\text{ if node i is on the path}\\\\\n",
    "0 \\text{ otherwise}\n",
    "\\end{cases}$$\n",
    "\n",
    "$$y_{j, k}:= \\begin{cases}\n",
    "1 \\text{ if edge (j, k) is on the path}\\\\\n",
    "0 \\text{ otherwise}\n",
    "\\end{cases}\n",
    "$$\n",
    "\n",
    "Objective:\n",
    "\n",
    "$$\\text{minimize} \\sum_{j, k} y_{j, k} c_{j, k}$$\n",
    "\n",
    "Constraints:\n",
    "\n",
    "$$x_O := 1 \\qquad\\text{(Origin constraint)}$$\n",
    "\n",
    "$$x_T := 1  \\qquad\\text{(Target constraint)}$$\n",
    "\n",
    "$$\n",
    "\\sum_{j} y_{j, i} \\le 1 + M (1 - x_i)\\ , \\quad i \\ne O \\quad \\text{(Inbound constraint 1)}\\\\\n",
    "\\sum_{j} y_{j, i} \\ge 1 - M (1 - x_i)\\ , \\quad i \\ne O \\quad \\text{(Inbound constraint 2)}\n",
    "$$\n",
    "\n",
    "$$\n",
    "\\sum_{k} y_{i, k} \\le 1 + M (1 - x_i)\\ , \\quad i \\ne T \\quad \\text{(Outbound constraint 1)}\\\\\n",
    "\\sum_{k} y_{i, k} \\ge 1 - M(1 - x_i)\\ , \\quad i \\ne T \\quad \\text{(Outbound constraint 2)}\n",
    "$$\n",
    "\n",
    "$$\n",
    "x_j + x_k \\ge 2 y_{j, k} \\quad \\forall\\ j, k \\quad \\text{(Connectivity constraint)}\n",
    "$$\n",
    "\n",
    "$$ x_i , y_{j, k} \\quad \\text{binary}\n",
    "$$"
   ]
  },
  {
   "cell_type": "markdown",
   "id": "60ce2a9e",
   "metadata": {},
   "source": [
    "In order to understand how this formulation would work, let us consider the subgraph with a single source node, viz. Boston, and a single target node, viz. St. Petersburg.\n",
    "\n",
    "<img src=\"images/bip_formulation.png\" width=\"500\">\n",
    "\n",
    "Lets solve the above program with `cvxpy`"
   ]
  },
  {
   "cell_type": "code",
   "execution_count": 11,
   "id": "930516ac",
   "metadata": {},
   "outputs": [],
   "source": [
    "import cvxpy as cp\n",
    "import numpy as np\n",
    "\n",
    "# my custom solver module\n",
    "from solver.classes import BinaryIntegerProblem\n",
    "from solver.algorithms import branch_and_bound"
   ]
  },
  {
   "cell_type": "code",
   "execution_count": 12,
   "id": "16e20f8d",
   "metadata": {},
   "outputs": [],
   "source": [
    "#define function for conditional formatting\n",
    "def cond_formatting(x):\n",
    "    if type(x) == int or type(x) == float:\n",
    "        if x > 0:\n",
    "            return 'background-color: lightgray'\n",
    "    return None"
   ]
  },
  {
   "cell_type": "code",
   "execution_count": 13,
   "id": "2cda6f44",
   "metadata": {},
   "outputs": [],
   "source": [
    "def get_outbound_constraints(vertex_name, graph):\n",
    "    s = '('\n",
    "    t = '('\n",
    "    for edge in graph.get_edges(source_name=vertex_name):\n",
    "        s += 'y_{}_{} + '.format(edge.source.name, edge.target.name)\n",
    "        t += 'y_{}_{} + '.format(edge.source.name, edge.target.name)\n",
    "    s = s[:-2]\n",
    "    s = s + ') <= 1 + M * (1 - x_{})'.format(vertex_name)\n",
    "    \n",
    "    t = t[:-2]\n",
    "    t = t + ') >= 1 - M * (1 - x_{})'.format(vertex_name)\n",
    "        \n",
    "    return s, t"
   ]
  },
  {
   "cell_type": "code",
   "execution_count": 14,
   "id": "29c04f63",
   "metadata": {},
   "outputs": [],
   "source": [
    "def get_inbound_constraints(vertex_name, graph):\n",
    "    s = '('\n",
    "    t = '('\n",
    "    for edge in graph.get_edges(target_name=vertex_name):\n",
    "        s += 'y_{}_{} + '.format(edge.source.name, edge.target.name)\n",
    "        t += 'y_{}_{} + '.format(edge.source.name, edge.target.name)\n",
    "    s = s[:-2]\n",
    "    s = s + ') <= 1 + M * (1 - x_{})'.format(vertex_name)\n",
    "    \n",
    "    t = t[:-2]\n",
    "    t = t + ') >= 1 - M * (1 - x_{})'.format(vertex_name)\n",
    "        \n",
    "    return s, t"
   ]
  },
  {
   "cell_type": "code",
   "execution_count": 15,
   "id": "104ecc7b",
   "metadata": {},
   "outputs": [],
   "source": [
    "def get_connectivity_constraints(edge):\n",
    "    s = 'x_{s} + x_{t} >= 2 * y_{s}_{t}'.format(s=edge.source.name, t=edge.target.name)\n",
    "    return s    "
   ]
  },
  {
   "cell_type": "code",
   "execution_count": 16,
   "id": "2ccbc00b",
   "metadata": {},
   "outputs": [],
   "source": [
    "# Parameters\n",
    "\n",
    "M = 1000000\n",
    "for edge in graph.edges:\n",
    "    exec('c_{s}_{t} = edge.cost'.format(s=edge.source.name, t=edge.target.name))"
   ]
  },
  {
   "cell_type": "code",
   "execution_count": 17,
   "id": "b0401dea",
   "metadata": {},
   "outputs": [],
   "source": [
    "# Variables\n",
    "\n",
    "variables = []\n",
    "for edge in graph.edges:\n",
    "    exec('y_{s}_{t} = cp.Variable(1, boolean=True, name=\"y_{s}_{t}\")'.format(\n",
    "        s=edge.source.name, t=edge.target.name))\n",
    "    exec('variables.append(y_{s}_{t})'.format(s=edge.source.name, t=edge.target.name))\n",
    "\n",
    "for vertex in graph.vertices:\n",
    "    exec('x_{v} = cp.Variable(1, boolean=True, name=\"x_{v}\")'.format(v=vertex.name))\n",
    "    exec('variables.append(x_{v})'.format(v=vertex.name))"
   ]
  },
  {
   "cell_type": "code",
   "execution_count": 18,
   "id": "b06112dc",
   "metadata": {},
   "outputs": [],
   "source": [
    "# Constraints\n",
    "\n",
    "constraints_bip = [\n",
    "    # origin and destination constraints\n",
    "    x_Boston == 1,\n",
    "    x_Jacksonville == 0,\n",
    "    x_StPetersburg == 1,\n",
    "    x_Moscow == 0,\n",
    "    x_Rostov == 0,\n",
    "]\n",
    "\n",
    "# inbound and outbound constraints\n",
    "for v in graph.vertices:\n",
    "    if v.name != 'Boston' and v.name != 'Jacksonville':  # not a source node\n",
    "        s, t = get_inbound_constraints(v.name, graph)\n",
    "        constraints_bip.append(eval(s))\n",
    "        constraints_bip.append(eval(t))\n",
    "    if v.name != 'StPetersburg' and v.name != 'Moscow' and v.name != 'Rostov':  # not a target node\n",
    "        s, t = get_outbound_constraints(v.name, graph)\n",
    "        constraints_bip.append(eval(s))\n",
    "        constraints_bip.append(eval(t))\n",
    "\n",
    "# connectivity constraints\n",
    "for edge in graph.edges:\n",
    "    s = get_connectivity_constraints(edge)\n",
    "    constraints_bip.append(eval(s))"
   ]
  },
  {
   "cell_type": "code",
   "execution_count": 19,
   "id": "e360483a",
   "metadata": {},
   "outputs": [],
   "source": [
    "# Objective\n",
    "\n",
    "obj_str = ''\n",
    "for edge in graph.edges:\n",
    "    obj_str += 'c_{s}_{t} * y_{s}_{t} + '.format(s=edge.source.name, t=edge.target.name)\n",
    "\n",
    "obj_str = obj_str[:-2]\n",
    "\n",
    "objective_bip = cp.Minimize(eval(obj_str))"
   ]
  },
  {
   "cell_type": "code",
   "execution_count": 20,
   "id": "ba58ee23",
   "metadata": {},
   "outputs": [],
   "source": [
    "# Model\n",
    "\n",
    "bip = BinaryIntegerProblem(objective_bip, constraints_bip)"
   ]
  },
  {
   "cell_type": "code",
   "execution_count": 21,
   "id": "838776fc",
   "metadata": {},
   "outputs": [
    {
     "name": "stdout",
     "output_type": "stream",
     "text": [
      "===============================================================================\n",
      "                                     CVXPY                                     \n",
      "                                     v1.3.1                                    \n",
      "===============================================================================\n",
      "(CVXPY) Jun 05 02:22:40 PM: Your problem has 41 variables, 69 constraints, and 0 parameters.\n",
      "(CVXPY) Jun 05 02:22:40 PM: It is compliant with the following grammars: DCP, DQCP\n",
      "(CVXPY) Jun 05 02:22:40 PM: (If you need to solve this problem multiple times, but with different data, consider using parameters.)\n",
      "(CVXPY) Jun 05 02:22:40 PM: CVXPY will first compile your problem; then, it will invoke a numerical solver to obtain a solution.\n",
      "-------------------------------------------------------------------------------\n",
      "                                  Compilation                                  \n",
      "-------------------------------------------------------------------------------\n",
      "(CVXPY) Jun 05 02:22:40 PM: Compiling problem (target solver=GLPK_MI).\n",
      "(CVXPY) Jun 05 02:22:40 PM: Reduction chain: Dcp2Cone -> CvxAttr2Constr -> ConeMatrixStuffing -> GLPK_MI\n",
      "(CVXPY) Jun 05 02:22:40 PM: Applying reduction Dcp2Cone\n",
      "(CVXPY) Jun 05 02:22:40 PM: Applying reduction CvxAttr2Constr\n",
      "(CVXPY) Jun 05 02:22:40 PM: Applying reduction ConeMatrixStuffing\n",
      "(CVXPY) Jun 05 02:22:40 PM: Applying reduction GLPK_MI\n",
      "(CVXPY) Jun 05 02:22:40 PM: Finished problem compilation (took 1.321e-01 seconds).\n",
      "-------------------------------------------------------------------------------\n",
      "                                Numerical solver                               \n",
      "-------------------------------------------------------------------------------\n",
      "(CVXPY) Jun 05 02:22:40 PM: Invoking solver GLPK_MI  to obtain a solution.\n",
      "-------------------------------------------------------------------------------\n",
      "                                    Summary                                    \n",
      "-------------------------------------------------------------------------------      0: obj =   0.000000000e+00 inf =   2.000e+00 (2)\n",
      "      6: obj =   1.325077361e+01 inf =   0.000e+00 (0)\n",
      "\n",
      "(CVXPY) Jun 05 02:22:40 PM: Problem status: optimal\n",
      "*    14: obj =   1.270707246e+01 inf =   0.000e+00 (0)\n",
      "+    14: mip =     not found yet >=              -inf        (1; 0)\n",
      "+    14: >>>>>   1.270707246e+01 >=   1.270707246e+01   0.0% (1; 0)\n",
      "+    14: mip =   1.270707246e+01 >=     tree is empty   0.0% (0; 1)\n",
      "(CVXPY) Jun 05 02:22:40 PM: Optimal value: 1.271e+01\n",
      "(CVXPY) Jun 05 02:22:40 PM: Compilation took 1.321e-01 seconds\n",
      "(CVXPY) Jun 05 02:22:40 PM: Solver (including time spent in interface) took 9.940e-04 seconds\n"
     ]
    }
   ],
   "source": [
    "bip.solve(verbose=True);"
   ]
  },
  {
   "cell_type": "code",
   "execution_count": 22,
   "id": "0c047723",
   "metadata": {
    "scrolled": false
   },
   "outputs": [],
   "source": [
    "summary = get_result_summary(bip)"
   ]
  },
  {
   "cell_type": "code",
   "execution_count": 23,
   "id": "8462c68e",
   "metadata": {},
   "outputs": [
    {
     "data": {
      "text/plain": [
       "'optimal'"
      ]
     },
     "execution_count": 23,
     "metadata": {},
     "output_type": "execute_result"
    }
   ],
   "source": [
    "summary['status']"
   ]
  },
  {
   "cell_type": "code",
   "execution_count": 24,
   "id": "fdc585fa",
   "metadata": {},
   "outputs": [
    {
     "data": {
      "text/plain": [
       "12.707072464488547"
      ]
     },
     "execution_count": 24,
     "metadata": {},
     "output_type": "execute_result"
    }
   ],
   "source": [
    "summary['optimal_value']"
   ]
  },
  {
   "cell_type": "code",
   "execution_count": 25,
   "id": "97bdf4a6",
   "metadata": {},
   "outputs": [],
   "source": [
    "df = prettify(summary['optimal_solution'])"
   ]
  },
  {
   "cell_type": "code",
   "execution_count": 26,
   "id": "1fadd38e",
   "metadata": {},
   "outputs": [
    {
     "data": {
      "text/html": [
       "<style type=\"text/css\">\n",
       "#T_72f6d_row1_col1, #T_72f6d_row5_col1, #T_72f6d_row10_col1, #T_72f6d_row17_col1, #T_72f6d_row34_col1 {\n",
       "  background-color: lightgray;\n",
       "}\n",
       "</style>\n",
       "<table id=\"T_72f6d_\">\n",
       "  <thead>\n",
       "    <tr>\n",
       "      <th class=\"blank level0\" >&nbsp;</th>\n",
       "      <th class=\"col_heading level0 col0\" >variable</th>\n",
       "      <th class=\"col_heading level0 col1\" >value</th>\n",
       "    </tr>\n",
       "  </thead>\n",
       "  <tbody>\n",
       "    <tr>\n",
       "      <th id=\"T_72f6d_level0_row0\" class=\"row_heading level0 row0\" >0</th>\n",
       "      <td id=\"T_72f6d_row0_col0\" class=\"data row0 col0\" >x_Berlin</td>\n",
       "      <td id=\"T_72f6d_row0_col1\" class=\"data row0 col1\" >0.000000</td>\n",
       "    </tr>\n",
       "    <tr>\n",
       "      <th id=\"T_72f6d_level0_row1\" class=\"row_heading level0 row1\" >1</th>\n",
       "      <td id=\"T_72f6d_row1_col0\" class=\"data row1 col0\" >x_Boston</td>\n",
       "      <td id=\"T_72f6d_row1_col1\" class=\"data row1 col1\" >1.000000</td>\n",
       "    </tr>\n",
       "    <tr>\n",
       "      <th id=\"T_72f6d_level0_row2\" class=\"row_heading level0 row2\" >2</th>\n",
       "      <td id=\"T_72f6d_row2_col0\" class=\"data row2 col0\" >x_Hamburg</td>\n",
       "      <td id=\"T_72f6d_row2_col1\" class=\"data row2 col1\" >0.000000</td>\n",
       "    </tr>\n",
       "    <tr>\n",
       "      <th id=\"T_72f6d_level0_row3\" class=\"row_heading level0 row3\" >3</th>\n",
       "      <td id=\"T_72f6d_row3_col0\" class=\"data row3 col0\" >x_Istanbul</td>\n",
       "      <td id=\"T_72f6d_row3_col1\" class=\"data row3 col1\" >0.000000</td>\n",
       "    </tr>\n",
       "    <tr>\n",
       "      <th id=\"T_72f6d_level0_row4\" class=\"row_heading level0 row4\" >4</th>\n",
       "      <td id=\"T_72f6d_row4_col0\" class=\"data row4 col0\" >x_Jacksonville</td>\n",
       "      <td id=\"T_72f6d_row4_col1\" class=\"data row4 col1\" >0.000000</td>\n",
       "    </tr>\n",
       "    <tr>\n",
       "      <th id=\"T_72f6d_level0_row5\" class=\"row_heading level0 row5\" >5</th>\n",
       "      <td id=\"T_72f6d_row5_col0\" class=\"data row5 col0\" >x_London</td>\n",
       "      <td id=\"T_72f6d_row5_col1\" class=\"data row5 col1\" >1.000000</td>\n",
       "    </tr>\n",
       "    <tr>\n",
       "      <th id=\"T_72f6d_level0_row6\" class=\"row_heading level0 row6\" >6</th>\n",
       "      <td id=\"T_72f6d_row6_col0\" class=\"data row6 col0\" >x_Moscow</td>\n",
       "      <td id=\"T_72f6d_row6_col1\" class=\"data row6 col1\" >0.000000</td>\n",
       "    </tr>\n",
       "    <tr>\n",
       "      <th id=\"T_72f6d_level0_row7\" class=\"row_heading level0 row7\" >7</th>\n",
       "      <td id=\"T_72f6d_row7_col0\" class=\"data row7 col0\" >x_Napoli</td>\n",
       "      <td id=\"T_72f6d_row7_col1\" class=\"data row7 col1\" >0.000000</td>\n",
       "    </tr>\n",
       "    <tr>\n",
       "      <th id=\"T_72f6d_level0_row8\" class=\"row_heading level0 row8\" >8</th>\n",
       "      <td id=\"T_72f6d_row8_col0\" class=\"data row8 col0\" >x_Rostov</td>\n",
       "      <td id=\"T_72f6d_row8_col1\" class=\"data row8 col1\" >0.000000</td>\n",
       "    </tr>\n",
       "    <tr>\n",
       "      <th id=\"T_72f6d_level0_row9\" class=\"row_heading level0 row9\" >9</th>\n",
       "      <td id=\"T_72f6d_row9_col0\" class=\"data row9 col0\" >x_Rotterdam</td>\n",
       "      <td id=\"T_72f6d_row9_col1\" class=\"data row9 col1\" >0.000000</td>\n",
       "    </tr>\n",
       "    <tr>\n",
       "      <th id=\"T_72f6d_level0_row10\" class=\"row_heading level0 row10\" >10</th>\n",
       "      <td id=\"T_72f6d_row10_col0\" class=\"data row10 col0\" >x_StPetersburg</td>\n",
       "      <td id=\"T_72f6d_row10_col1\" class=\"data row10 col1\" >1.000000</td>\n",
       "    </tr>\n",
       "    <tr>\n",
       "      <th id=\"T_72f6d_level0_row11\" class=\"row_heading level0 row11\" >11</th>\n",
       "      <td id=\"T_72f6d_row11_col0\" class=\"data row11 col0\" >y_Berlin_Moscow</td>\n",
       "      <td id=\"T_72f6d_row11_col1\" class=\"data row11 col1\" >0.000000</td>\n",
       "    </tr>\n",
       "    <tr>\n",
       "      <th id=\"T_72f6d_level0_row12\" class=\"row_heading level0 row12\" >12</th>\n",
       "      <td id=\"T_72f6d_row12_col0\" class=\"data row12 col0\" >y_Berlin_Rostov</td>\n",
       "      <td id=\"T_72f6d_row12_col1\" class=\"data row12 col1\" >0.000000</td>\n",
       "    </tr>\n",
       "    <tr>\n",
       "      <th id=\"T_72f6d_level0_row13\" class=\"row_heading level0 row13\" >13</th>\n",
       "      <td id=\"T_72f6d_row13_col0\" class=\"data row13 col0\" >y_Berlin_StPetersburg</td>\n",
       "      <td id=\"T_72f6d_row13_col1\" class=\"data row13 col1\" >0.000000</td>\n",
       "    </tr>\n",
       "    <tr>\n",
       "      <th id=\"T_72f6d_level0_row14\" class=\"row_heading level0 row14\" >14</th>\n",
       "      <td id=\"T_72f6d_row14_col0\" class=\"data row14 col0\" >y_Boston_Berlin</td>\n",
       "      <td id=\"T_72f6d_row14_col1\" class=\"data row14 col1\" >0.000000</td>\n",
       "    </tr>\n",
       "    <tr>\n",
       "      <th id=\"T_72f6d_level0_row15\" class=\"row_heading level0 row15\" >15</th>\n",
       "      <td id=\"T_72f6d_row15_col0\" class=\"data row15 col0\" >y_Boston_Hamburg</td>\n",
       "      <td id=\"T_72f6d_row15_col1\" class=\"data row15 col1\" >0.000000</td>\n",
       "    </tr>\n",
       "    <tr>\n",
       "      <th id=\"T_72f6d_level0_row16\" class=\"row_heading level0 row16\" >16</th>\n",
       "      <td id=\"T_72f6d_row16_col0\" class=\"data row16 col0\" >y_Boston_Istanbul</td>\n",
       "      <td id=\"T_72f6d_row16_col1\" class=\"data row16 col1\" >0.000000</td>\n",
       "    </tr>\n",
       "    <tr>\n",
       "      <th id=\"T_72f6d_level0_row17\" class=\"row_heading level0 row17\" >17</th>\n",
       "      <td id=\"T_72f6d_row17_col0\" class=\"data row17 col0\" >y_Boston_London</td>\n",
       "      <td id=\"T_72f6d_row17_col1\" class=\"data row17 col1\" >1.000000</td>\n",
       "    </tr>\n",
       "    <tr>\n",
       "      <th id=\"T_72f6d_level0_row18\" class=\"row_heading level0 row18\" >18</th>\n",
       "      <td id=\"T_72f6d_row18_col0\" class=\"data row18 col0\" >y_Boston_Napoli</td>\n",
       "      <td id=\"T_72f6d_row18_col1\" class=\"data row18 col1\" >0.000000</td>\n",
       "    </tr>\n",
       "    <tr>\n",
       "      <th id=\"T_72f6d_level0_row19\" class=\"row_heading level0 row19\" >19</th>\n",
       "      <td id=\"T_72f6d_row19_col0\" class=\"data row19 col0\" >y_Boston_Rotterdam</td>\n",
       "      <td id=\"T_72f6d_row19_col1\" class=\"data row19 col1\" >0.000000</td>\n",
       "    </tr>\n",
       "    <tr>\n",
       "      <th id=\"T_72f6d_level0_row20\" class=\"row_heading level0 row20\" >20</th>\n",
       "      <td id=\"T_72f6d_row20_col0\" class=\"data row20 col0\" >y_Hamburg_Moscow</td>\n",
       "      <td id=\"T_72f6d_row20_col1\" class=\"data row20 col1\" >0.000000</td>\n",
       "    </tr>\n",
       "    <tr>\n",
       "      <th id=\"T_72f6d_level0_row21\" class=\"row_heading level0 row21\" >21</th>\n",
       "      <td id=\"T_72f6d_row21_col0\" class=\"data row21 col0\" >y_Hamburg_Rostov</td>\n",
       "      <td id=\"T_72f6d_row21_col1\" class=\"data row21 col1\" >0.000000</td>\n",
       "    </tr>\n",
       "    <tr>\n",
       "      <th id=\"T_72f6d_level0_row22\" class=\"row_heading level0 row22\" >22</th>\n",
       "      <td id=\"T_72f6d_row22_col0\" class=\"data row22 col0\" >y_Hamburg_StPetersburg</td>\n",
       "      <td id=\"T_72f6d_row22_col1\" class=\"data row22 col1\" >0.000000</td>\n",
       "    </tr>\n",
       "    <tr>\n",
       "      <th id=\"T_72f6d_level0_row23\" class=\"row_heading level0 row23\" >23</th>\n",
       "      <td id=\"T_72f6d_row23_col0\" class=\"data row23 col0\" >y_Istanbul_Moscow</td>\n",
       "      <td id=\"T_72f6d_row23_col1\" class=\"data row23 col1\" >0.000000</td>\n",
       "    </tr>\n",
       "    <tr>\n",
       "      <th id=\"T_72f6d_level0_row24\" class=\"row_heading level0 row24\" >24</th>\n",
       "      <td id=\"T_72f6d_row24_col0\" class=\"data row24 col0\" >y_Istanbul_Rostov</td>\n",
       "      <td id=\"T_72f6d_row24_col1\" class=\"data row24 col1\" >0.000000</td>\n",
       "    </tr>\n",
       "    <tr>\n",
       "      <th id=\"T_72f6d_level0_row25\" class=\"row_heading level0 row25\" >25</th>\n",
       "      <td id=\"T_72f6d_row25_col0\" class=\"data row25 col0\" >y_Istanbul_StPetersburg</td>\n",
       "      <td id=\"T_72f6d_row25_col1\" class=\"data row25 col1\" >0.000000</td>\n",
       "    </tr>\n",
       "    <tr>\n",
       "      <th id=\"T_72f6d_level0_row26\" class=\"row_heading level0 row26\" >26</th>\n",
       "      <td id=\"T_72f6d_row26_col0\" class=\"data row26 col0\" >y_Jacksonville_Berlin</td>\n",
       "      <td id=\"T_72f6d_row26_col1\" class=\"data row26 col1\" >0.000000</td>\n",
       "    </tr>\n",
       "    <tr>\n",
       "      <th id=\"T_72f6d_level0_row27\" class=\"row_heading level0 row27\" >27</th>\n",
       "      <td id=\"T_72f6d_row27_col0\" class=\"data row27 col0\" >y_Jacksonville_Hamburg</td>\n",
       "      <td id=\"T_72f6d_row27_col1\" class=\"data row27 col1\" >0.000000</td>\n",
       "    </tr>\n",
       "    <tr>\n",
       "      <th id=\"T_72f6d_level0_row28\" class=\"row_heading level0 row28\" >28</th>\n",
       "      <td id=\"T_72f6d_row28_col0\" class=\"data row28 col0\" >y_Jacksonville_Istanbul</td>\n",
       "      <td id=\"T_72f6d_row28_col1\" class=\"data row28 col1\" >0.000000</td>\n",
       "    </tr>\n",
       "    <tr>\n",
       "      <th id=\"T_72f6d_level0_row29\" class=\"row_heading level0 row29\" >29</th>\n",
       "      <td id=\"T_72f6d_row29_col0\" class=\"data row29 col0\" >y_Jacksonville_London</td>\n",
       "      <td id=\"T_72f6d_row29_col1\" class=\"data row29 col1\" >0.000000</td>\n",
       "    </tr>\n",
       "    <tr>\n",
       "      <th id=\"T_72f6d_level0_row30\" class=\"row_heading level0 row30\" >30</th>\n",
       "      <td id=\"T_72f6d_row30_col0\" class=\"data row30 col0\" >y_Jacksonville_Napoli</td>\n",
       "      <td id=\"T_72f6d_row30_col1\" class=\"data row30 col1\" >0.000000</td>\n",
       "    </tr>\n",
       "    <tr>\n",
       "      <th id=\"T_72f6d_level0_row31\" class=\"row_heading level0 row31\" >31</th>\n",
       "      <td id=\"T_72f6d_row31_col0\" class=\"data row31 col0\" >y_Jacksonville_Rotterdam</td>\n",
       "      <td id=\"T_72f6d_row31_col1\" class=\"data row31 col1\" >0.000000</td>\n",
       "    </tr>\n",
       "    <tr>\n",
       "      <th id=\"T_72f6d_level0_row32\" class=\"row_heading level0 row32\" >32</th>\n",
       "      <td id=\"T_72f6d_row32_col0\" class=\"data row32 col0\" >y_London_Moscow</td>\n",
       "      <td id=\"T_72f6d_row32_col1\" class=\"data row32 col1\" >0.000000</td>\n",
       "    </tr>\n",
       "    <tr>\n",
       "      <th id=\"T_72f6d_level0_row33\" class=\"row_heading level0 row33\" >33</th>\n",
       "      <td id=\"T_72f6d_row33_col0\" class=\"data row33 col0\" >y_London_Rostov</td>\n",
       "      <td id=\"T_72f6d_row33_col1\" class=\"data row33 col1\" >0.000000</td>\n",
       "    </tr>\n",
       "    <tr>\n",
       "      <th id=\"T_72f6d_level0_row34\" class=\"row_heading level0 row34\" >34</th>\n",
       "      <td id=\"T_72f6d_row34_col0\" class=\"data row34 col0\" >y_London_StPetersburg</td>\n",
       "      <td id=\"T_72f6d_row34_col1\" class=\"data row34 col1\" >1.000000</td>\n",
       "    </tr>\n",
       "    <tr>\n",
       "      <th id=\"T_72f6d_level0_row35\" class=\"row_heading level0 row35\" >35</th>\n",
       "      <td id=\"T_72f6d_row35_col0\" class=\"data row35 col0\" >y_Napoli_Moscow</td>\n",
       "      <td id=\"T_72f6d_row35_col1\" class=\"data row35 col1\" >0.000000</td>\n",
       "    </tr>\n",
       "    <tr>\n",
       "      <th id=\"T_72f6d_level0_row36\" class=\"row_heading level0 row36\" >36</th>\n",
       "      <td id=\"T_72f6d_row36_col0\" class=\"data row36 col0\" >y_Napoli_Rostov</td>\n",
       "      <td id=\"T_72f6d_row36_col1\" class=\"data row36 col1\" >0.000000</td>\n",
       "    </tr>\n",
       "    <tr>\n",
       "      <th id=\"T_72f6d_level0_row37\" class=\"row_heading level0 row37\" >37</th>\n",
       "      <td id=\"T_72f6d_row37_col0\" class=\"data row37 col0\" >y_Napoli_StPetersburg</td>\n",
       "      <td id=\"T_72f6d_row37_col1\" class=\"data row37 col1\" >0.000000</td>\n",
       "    </tr>\n",
       "    <tr>\n",
       "      <th id=\"T_72f6d_level0_row38\" class=\"row_heading level0 row38\" >38</th>\n",
       "      <td id=\"T_72f6d_row38_col0\" class=\"data row38 col0\" >y_Rotterdam_Moscow</td>\n",
       "      <td id=\"T_72f6d_row38_col1\" class=\"data row38 col1\" >0.000000</td>\n",
       "    </tr>\n",
       "    <tr>\n",
       "      <th id=\"T_72f6d_level0_row39\" class=\"row_heading level0 row39\" >39</th>\n",
       "      <td id=\"T_72f6d_row39_col0\" class=\"data row39 col0\" >y_Rotterdam_Rostov</td>\n",
       "      <td id=\"T_72f6d_row39_col1\" class=\"data row39 col1\" >0.000000</td>\n",
       "    </tr>\n",
       "    <tr>\n",
       "      <th id=\"T_72f6d_level0_row40\" class=\"row_heading level0 row40\" >40</th>\n",
       "      <td id=\"T_72f6d_row40_col0\" class=\"data row40 col0\" >y_Rotterdam_StPetersburg</td>\n",
       "      <td id=\"T_72f6d_row40_col1\" class=\"data row40 col1\" >0.000000</td>\n",
       "    </tr>\n",
       "  </tbody>\n",
       "</table>\n"
      ],
      "text/plain": [
       "<pandas.io.formats.style.Styler at 0x7f9231cb1bd0>"
      ]
     },
     "execution_count": 26,
     "metadata": {},
     "output_type": "execute_result"
    }
   ],
   "source": [
    "df.style.applymap(cond_formatting)"
   ]
  },
  {
   "cell_type": "markdown",
   "id": "78980788",
   "metadata": {},
   "source": [
    "The above result confirms what we already knew from the previous section - the fastest path from Boston to StPetersburg is `Boston --> London --> Saint Petersburg (12.70 hr)`. We can solve similar fomulations for each source-target pair to get the desired results.\n",
    "\n",
    "It is worth noting that most BIP solvers use some variation of the Branch and Bound algorithm which recursively solves repeated LP relaxations of the original BIP with the simplex method. Since the simplex algorithm is a polynomial time algorithm, the average total running time for the original BIP is close to polynomial in the size of the problem (i.e. number of variables). Let $N: = $number of vertices and $M:=$ number of edges in the graph. Then, from the above formulation, we note that the total number of variables is $M + N$. The average running time of the Branch and Bound algorithm is given by $O(M + N)^p$, $p > 1$. On the other hand, Dijkstra's shortest path algorithm has a running time of $O(MN)$.\n",
    "\n",
    "However, while the BIP formulation only works for a single source-destination pair at a time, Dijkstra's algorithm can return the shortest path from a source node to *all* the other nodes in a single run. Hence, for larger problems, it may be advantageous to use Dijkstra's algortihm instead of a BIP formulation.\n"
   ]
  },
  {
   "cell_type": "markdown",
   "id": "49d8a600",
   "metadata": {},
   "source": [
    "## Scenario 2: When money *is* an object\n",
    "### A minimum cost flow problem"
   ]
  },
  {
   "cell_type": "markdown",
   "id": "2645f5b5",
   "metadata": {},
   "source": [
    "The President encounters only one problem with his first plan: he has to sell the military deployment to Congress. Under the War Powers Act, the President is required to consult with Congress before introducing troops into hostilities or situations where hostilities will occur. If Congress does not give authorization to the President for such use of troops, the President must withdraw troops after 60 days. Congress also has the power to decrease the 60-day time period by passing a concurrent resolution.\n",
    "\n",
    "The President knows that Congress will not authorize significant spending for another country’s war, especially when voters have paid so much attention to decreasing the national debt. He therefore decides that he needs to find a way to get the needed troops and supplies to Saint Petersburg, Moscow, and Rostov at the minimum cost.\n",
    "\n",
    "Each Russian city has contacted Washington to communicate the number of troops and supplies the city needs at a minimum for reinforcement. After analyzing the requests, General Lankletter has converted the requests from numbers of troops, gallons of gasoline, etc., to tons of cargo for easier planning. The requirements are listed below."
   ]
  },
  {
   "cell_type": "markdown",
   "id": "b255f217",
   "metadata": {},
   "source": [
    "|City | Requirements|\n",
    "|:---|:---|\n",
    "|Saint Petersburg|320,000 tons|\n",
    "|Moscow|440,000 tons|\n",
    "|Rostov|240,000 tons|"
   ]
  },
  {
   "cell_type": "markdown",
   "id": "c07f15b2",
   "metadata": {},
   "source": [
    "Both in Boston and Jacksonville there are 500,000 tons of the necessary cargo available. When the United States decides to send a plane, ship, or truck between two cities, several costs occur—fuel costs, labor costs, maintenance costs, and appropriate port or airfield taxes and tariffs. These costs are listed below.\n",
    "\n",
    "|From|To|Cost|\n",
    "|:---|:---|:---|\n",
    "|Boston|Berlin|\\$50,000 per Starlifter|\n",
    "|Boston|Hamburg|\\$30,000 per transport|\n",
    "|Boston |Istanbul|\\$55,000 per Starlifter|\n",
    "|Boston |London |\\$45,000 per Starlifter|\n",
    "|Boston |Rotterdam |\\$30,000 per transport|\n",
    "|Boston |Napoli |\\$32,000 per transport|\n",
    "|Jacksonville |Berlin |\\$57,000 per Starlifter|\n",
    "|Jacksonville |Hamburg |\\$48,000 per transport|\n",
    "|Jacksonville |Istanbul |\\$61,000 per Starlifter|\n",
    "|Jacksonville |London |\\$49,000 per Starlifter|\n",
    "|Jacksonville |Rotterdam |\\$44,000 per transport|\n",
    "|Jacksonville |Napoli |\\$56,000 per transport|\n",
    "|Berlin |Saint Petersburg |\\$24,000 per Starlifter|\n",
    "|Hamburg |Saint Petersburg |\\$3,000 per truck|\n",
    "|Istanbul |Saint Petersburg |\\$28,000 per Starlifter|\n",
    "|London |Saint Petersburg |\\$22,000 per Starlifter|\n",
    "|Rotterdam |Saint Petersburg |\\$3,000 per truck|\n",
    "|Napoli |Saint Petersburg |\\$ 5,000 per truck|\n",
    "|Berlin |Moscow |\\$22,000 per Starlifter|\n",
    "|Hamburg |Moscow |\\$ 4,000 per truck|\n",
    "|Istanbul |Moscow |\\$25,000 per Starlifter|\n",
    "|London |Moscow |\\$19,000 per Starlifter|\n",
    "|Rotterdam |Moscow |\\$ 5,000 per truck|\n",
    "|Napoli |Moscow |\\$ 5,000 per truck|\n",
    "|Berlin |Rostov |\\$23,000 per Starlifter|\n",
    "|Hamburg |Rostov |\\$ 7,000 per truck|\n",
    "|Istanbul |Rostov |\\$ 2,000 per Starlifter|\n",
    "|London |Rostov |\\$ 4,000 per Starlifter|\n",
    "|Rotterdam |Rostov |\\$ 8,000 per truck|\n",
    "|Napoli |Rostov |\\$ 9,000 per truck|"
   ]
  },
  {
   "cell_type": "markdown",
   "id": "4df01e38",
   "metadata": {},
   "source": [
    "The President faces a number of restrictions when trying to satisfy the requirements. Early winter weather in northern Russia has brought a deep freeze with much snow. Therefore, General Lankletter is opposed to sending truck convoys in the area.\n",
    "\n",
    "- He convinces the President to supply Saint Petersburg only through the air.\n",
    "- Moreover, the truck routes into Rostov are quite limited, so that from each port at most 2,500 trucks can be sent to Rostov.\n",
    "- The Ukrainian government is very sensitive about American airplanes flying through their air space. It restricts the U.S. military to at most 200 flights from Berlin to Rostov and to at most 200 flights from London to Rostov. (The U.S. military does not want to fly around the Ukraine and is thus restricted by the Ukrainian limitations.)\n",
    "\n",
    "How does the President satisfy each Russian city’s military requirements at minimum cost?"
   ]
  },
  {
   "cell_type": "markdown",
   "id": "b845f9eb",
   "metadata": {},
   "source": [
    "### The minimum cost flow model"
   ]
  },
  {
   "cell_type": "markdown",
   "id": "ba8270db",
   "metadata": {},
   "source": [
    "Our scenario lends itself well to a standard minimum cost flow formulation. Boston and Jacksonville are the *supply nodes*, Saint Petersburg, Moscow and Rostov are the *demand nodes* and every other node is a *transshipment node*. Each edge has a cost per unit of cargo associated with it, and some of the edges have maximum capacities as specified in the scenario.\n",
    "\n",
    "<img src=\"images/possible_routes_new.png\" width=\"600\" length=\"600\" align=\"center\">\n",
    "\n"
   ]
  },
  {
   "cell_type": "markdown",
   "id": "9976d144",
   "metadata": {},
   "source": [
    "Let us write the mathematical model for this minimum cost flow problem.\n",
    "\n",
    "Parameters:\n",
    "$$n := \\text{number of nodes in the network}$$\n",
    "\n",
    "$$c_{i, j}:= \\text{cost (\\$ / ton) of transportation along (i, j)}$$\n",
    "\n",
    "$$u_{i, j} := \\text{maximum capacity (ton) of the edge (i, j)}$$\n",
    "\n",
    "$$b_i:= \\text{net amount of cargo (tons) generated at node i}$$\n",
    "\n",
    "\n",
    "Variables:\n",
    "$$x_{i, j} := \\text{tons of cargo transported along the edge (i, j)}$$\n",
    "\n",
    "\n",
    "Objective:\n",
    "$$\\text{minimize}\\ \\sum_{i=1}^n \\sum_{j=1}^n c_{i, j} x_{i, j}$$\n",
    "\n",
    "Constraints:\n",
    "$$\\sum_{j=1}^n x_{i,j} - \\sum_{j=1}^n x_{j, i} = b_i\\ \\quad i = 1, ..., n \\quad \\text{(Node Flow)}$$\n",
    "$$x_{i, j} \\le u_{i, j} \\quad \\text{(Capacity)}$$ \n",
    "\n",
    "$$x_{i, j}\\ge 0\\quad \\text{(Non-negativity)}$$"
   ]
  },
  {
   "cell_type": "code",
   "execution_count": 27,
   "id": "082973fb",
   "metadata": {},
   "outputs": [],
   "source": [
    "# cleanup\n",
    "for edge in graph.edges:\n",
    "    edge.delete_attr('cost')"
   ]
  },
  {
   "cell_type": "code",
   "execution_count": 28,
   "id": "8b4dc46e",
   "metadata": {},
   "outputs": [],
   "source": [
    "# Parameters\n",
    "ROUTE_TYPE_TO_VEHICLE = {\n",
    "    'air': 'Starlifter',\n",
    "    'sea': 'Transport',\n",
    "    'land': 'Truck',\n",
    "}\n",
    "VEHICLE_CAPACITY_TONS = {\n",
    "    'Starlifter':150,\n",
    "    'Transport': 240,\n",
    "    'Truck': 16,\n",
    "}\n",
    "ROSTOV_TRUCK_NUM_LIMIT = 2500\n",
    "BERLIN_TO_ROSTOV_FLIGHT_NUM_LIMIT = 200\n",
    "LONDON_TO_ROSTOV_FLIGHT_NUM_LIMIT = 200\n",
    "\n",
    "SUPPLY_AT_BOSTON = 500000\n",
    "SUPPLY_AT_JACKSONVILLE = 500000\n",
    "DEMAND_AT_STPETERSBURG = 320000\n",
    "DEMAND_AT_MOSCOW = 440000\n",
    "DEMAND_AT_ROSTOV = 240000\n",
    "\n",
    "SUPPLY_NODES = ['Boston', 'Jacksonville']\n",
    "DEMAND_NODES = ['StPetersburg', 'Moscow', 'Rostov']\n",
    "\n",
    "EDGE_COSTS_PER_VEHICLE = {\n",
    "    ('Boston', 'Berlin'): 50000,\n",
    "    ('Boston', 'Hamburg'): 30000,\n",
    "    ('Boston', 'Istanbul'): 55000,\n",
    "    ('Boston', 'London'): 45000,\n",
    "    ('Boston', 'Rotterdam'): 30000,\n",
    "    ('Boston', 'Napoli'): 32000,\n",
    "    ('Jacksonville', 'Berlin'): 57000,\n",
    "    ('Jacksonville', 'Hamburg'): 48000,\n",
    "    ('Jacksonville', 'Istanbul'): 61000,\n",
    "    ('Jacksonville', 'London'): 49000,\n",
    "    ('Jacksonville', 'Rotterdam'): 44000,\n",
    "    ('Jacksonville', 'Napoli'): 56000,\n",
    "    ('Berlin', 'StPetersburg'): 24000,\n",
    "    ('Hamburg', 'StPetersburg'): 3000,\n",
    "    ('Istanbul', 'StPetersburg'): 28000,\n",
    "    ('London', 'StPetersburg'): 22000,\n",
    "    ('Rotterdam', 'StPetersburg'): 3000,\n",
    "    ('Napoli', 'StPetersburg'): 5000,\n",
    "    ('Berlin', 'Moscow'): 22000,\n",
    "    ('Hamburg', 'Moscow'): 4000,\n",
    "    ('Istanbul', 'Moscow'): 25000,\n",
    "    ('London', 'Moscow'): 19000,\n",
    "    ('Rotterdam', 'Moscow'): 5000,\n",
    "    ('Napoli', 'Moscow'): 5000,\n",
    "    ('Berlin', 'Rostov'): 23000,\n",
    "    ('Hamburg', 'Rostov'): 7000,\n",
    "    ('Istanbul', 'Rostov'): 2000,\n",
    "    ('London', 'Rostov'): 4000,\n",
    "    ('Rotterdam', 'Rostov'): 8000,\n",
    "    ('Napoli', 'Rostov'): 9000,\n",
    "}"
   ]
  },
  {
   "cell_type": "code",
   "execution_count": 29,
   "id": "6c3d6e0f",
   "metadata": {},
   "outputs": [],
   "source": [
    "# computing edge costs\n",
    "\n",
    "for k, c in EDGE_COSTS_PER_VEHICLE.items():  \n",
    "    edge = graph.get_edge(k[0], k[1])\n",
    "    cost_per_vehicle = c\n",
    "    vehicle = ROUTE_TYPE_TO_VEHICLE[edge.route_type]  \n",
    "    vehicle_capacity_tons = VEHICLE_CAPACITY_TONS[vehicle]\n",
    "    cost_per_ton = cost_per_vehicle / vehicle_capacity_tons\n",
    "    edge.update(cost_per_ton=cost_per_ton)"
   ]
  },
  {
   "cell_type": "code",
   "execution_count": 30,
   "id": "0fc5c209",
   "metadata": {
    "scrolled": false
   },
   "outputs": [],
   "source": [
    "# computing edge capacities\n",
    "\n",
    "## start with infinite edge cpacities\n",
    "for edge in graph.edges:\n",
    "    edge.capacity_tons = np.inf\n",
    "    \n",
    "## Saint Petersburg is only reachable through air\n",
    "edges_to_StPetersburg = graph.get_edges(target_name='StPetersburg')\n",
    "for edge in edges_to_StPetersburg:\n",
    "    if edge.route_type == 'land':\n",
    "        edge.update(capacity_tons=0)\n",
    "\n",
    "## Limited # of trucks to Rostov\n",
    "edges_to_Rostov = graph.get_edges(target_name='Rostov')\n",
    "for edge in edges_to_Rostov:\n",
    "    if edge.route_type == 'land':\n",
    "        capacity_tons = ROSTOV_TRUCK_NUM_LIMIT * VEHICLE_CAPACITY_TONS['Truck']\n",
    "        edge.update(capacity_tons=capacity_tons)\n",
    "\n",
    "## Limited # of flights over Ukrain\n",
    "edge_Ber_Ros = graph.get_edge('Berlin', 'Rostov')\n",
    "edge_Ber_Ros.capacity_tons = BERLIN_TO_ROSTOV_FLIGHT_NUM_LIMIT * VEHICLE_CAPACITY_TONS['Starlifter']\n",
    "\n",
    "edge_Lon_Ros = graph.get_edge('London', 'Rostov')\n",
    "edge_Lon_Ros.capacity_tons = LONDON_TO_ROSTOV_FLIGHT_NUM_LIMIT * VEHICLE_CAPACITY_TONS['Starlifter']"
   ]
  },
  {
   "cell_type": "code",
   "execution_count": 31,
   "id": "deadc19e",
   "metadata": {},
   "outputs": [
    {
     "name": "stdout",
     "output_type": "stream",
     "text": [
      "Edge | Route_Type | Cost($/ton) | Limit(tons)\n",
      "---- | ---------- | ----------- | -----------\n",
      "Jacksonville-London | air | 327.0 | inf\n",
      "Boston-Rotterdam | sea | 125.0 | inf\n",
      "Berlin-StPetersburg | air | 160.0 | inf\n",
      "Berlin-Rostov | air | 153.0 | 30000\n",
      "Rotterdam-Moscow | land | 312.0 | inf\n",
      "Boston-Napoli | sea | 133.0 | inf\n",
      "Jacksonville-Istanbul | air | 407.0 | inf\n",
      "Istanbul-Moscow | air | 167.0 | inf\n",
      "Boston-London | air | 300.0 | inf\n",
      "Hamburg-Moscow | land | 250.0 | inf\n",
      "Istanbul-Rostov | air | 13.0 | inf\n",
      "Jacksonville-Berlin | air | 380.0 | inf\n",
      "Boston-Berlin | air | 333.0 | inf\n",
      "Rotterdam-StPetersburg | land | 188.0 | 0\n",
      "Boston-Hamburg | sea | 125.0 | inf\n",
      "Hamburg-Rostov | land | 438.0 | 40000\n",
      "Rotterdam-Rostov | land | 500.0 | 40000\n",
      "Napoli-StPetersburg | land | 312.0 | 0\n",
      "Jacksonville-Hamburg | sea | 200.0 | inf\n",
      "Berlin-Moscow | air | 147.0 | inf\n",
      "Napoli-Rostov | land | 562.0 | 40000\n",
      "Istanbul-StPetersburg | air | 187.0 | inf\n",
      "Jacksonville-Napoli | sea | 233.0 | inf\n",
      "London-Moscow | air | 127.0 | inf\n",
      "Boston-Istanbul | air | 367.0 | inf\n",
      "Napoli-Moscow | land | 312.0 | inf\n",
      "Hamburg-StPetersburg | land | 188.0 | 0\n",
      "London-StPetersburg | air | 147.0 | inf\n",
      "Jacksonville-Rotterdam | sea | 183.0 | inf\n",
      "London-Rostov | air | 27.0 | 30000\n"
     ]
    }
   ],
   "source": [
    "print('Edge | Route_Type | Cost($/ton) | Limit(tons)')\n",
    "print('---- | ---------- | ----------- | -----------')\n",
    "for edge in graph.edges:\n",
    "    print('{s}-{t} | {r} | {c} | {capacity}'.format(\n",
    "    s=edge.source.name, t=edge.target.name,\n",
    "        r=edge.route_type, c=np.round(edge.cost_per_ton),\n",
    "            capacity=edge.capacity_tons\n",
    "    ))"
   ]
  },
  {
   "cell_type": "code",
   "execution_count": 32,
   "id": "8b4cf077",
   "metadata": {},
   "outputs": [
    {
     "data": {
      "text/plain": [
       "['x_Jacksonville_London',\n",
       " 'x_Boston_Rotterdam',\n",
       " 'x_Berlin_StPetersburg',\n",
       " 'x_Berlin_Rostov',\n",
       " 'x_Rotterdam_Moscow',\n",
       " 'x_Boston_Napoli',\n",
       " 'x_Jacksonville_Istanbul',\n",
       " 'x_Istanbul_Moscow',\n",
       " 'x_Boston_London',\n",
       " 'x_Hamburg_Moscow',\n",
       " 'x_Istanbul_Rostov',\n",
       " 'x_Jacksonville_Berlin',\n",
       " 'x_Boston_Berlin',\n",
       " 'x_Rotterdam_StPetersburg',\n",
       " 'x_Boston_Hamburg',\n",
       " 'x_Hamburg_Rostov',\n",
       " 'x_Rotterdam_Rostov',\n",
       " 'x_Napoli_StPetersburg',\n",
       " 'x_Jacksonville_Hamburg',\n",
       " 'x_Berlin_Moscow',\n",
       " 'x_Napoli_Rostov',\n",
       " 'x_Istanbul_StPetersburg',\n",
       " 'x_Jacksonville_Napoli',\n",
       " 'x_London_Moscow',\n",
       " 'x_Boston_Istanbul',\n",
       " 'x_Napoli_Moscow',\n",
       " 'x_Hamburg_StPetersburg',\n",
       " 'x_London_StPetersburg',\n",
       " 'x_Jacksonville_Rotterdam',\n",
       " 'x_London_Rostov']"
      ]
     },
     "execution_count": 32,
     "metadata": {},
     "output_type": "execute_result"
    }
   ],
   "source": [
    "# Variables\n",
    "\n",
    "variables = []\n",
    "for edge in graph.edges:\n",
    "    exec('x_{s}_{t} = cp.Variable(1, nonneg=True, name=\"x_{s}_{t}\")'.format(\n",
    "        s=edge.source.name, t=edge.target.name))\n",
    "    exec('variables.append(x_{s}_{t})'.format(\n",
    "        s=edge.source.name, t=edge.target.name))\n",
    "\n",
    "[v.name() for v in variables]"
   ]
  },
  {
   "cell_type": "code",
   "execution_count": 33,
   "id": "6d8e9393",
   "metadata": {},
   "outputs": [],
   "source": [
    "# Objective\n",
    "\n",
    "obj_str = ''\n",
    "for edge in graph.edges:\n",
    "    cost = edge.cost_per_ton\n",
    "    obj_str += '+ {c} * x_{s}_{t}'.format(s=edge.source.name, t=edge.target.name, c=cost)\n",
    "    \n",
    "exec('obj_min_cost_flow = cp.Minimize({})'.format(obj_str))"
   ]
  },
  {
   "cell_type": "code",
   "execution_count": 34,
   "id": "1bd0335e",
   "metadata": {
    "scrolled": true
   },
   "outputs": [],
   "source": [
    "# Constraints\n",
    "\n",
    "## flow constraints\n",
    "\n",
    "node_flow_constraints = []\n",
    "for v in graph.vertices:\n",
    "    if v.name == 'Boston':  # supply node\n",
    "        b = SUPPLY_AT_BOSTON\n",
    "    elif v.name == 'Jacksonville':  # supply node\n",
    "        b = SUPPLY_AT_JACKSONVILLE\n",
    "    elif v.name == 'StPetersburg':  # demand node\n",
    "        b =  -1 * DEMAND_AT_STPETERSBURG\n",
    "    elif v.name == 'Moscow':  # demand node\n",
    "        b = -1 * DEMAND_AT_MOSCOW\n",
    "    elif v.name == 'Rostov':  # demand node\n",
    "        b = -1 * DEMAND_AT_ROSTOV\n",
    "    else:\n",
    "        b = 0  # transshipment node\n",
    "    v.add_attr(b=b)\n",
    "        \n",
    "    constr_out_str = ''\n",
    "    constr_in_str = ''\n",
    "    # outbound\n",
    "    if v.name not in DEMAND_NODES:\n",
    "        for edge in graph.get_edges(source_name=v.name):\n",
    "            constr_out_str += 'x_{s}_{t} + '.format(\n",
    "                s=v.name, t=edge.target.name)\n",
    "        constr_out_str = constr_out_str[:-2] \n",
    "    # inbound\n",
    "    if v.name not in SUPPLY_NODES:\n",
    "        constr_in_str = ''\n",
    "        for edge in graph.get_edges(target_name=v.name):\n",
    "            constr_in_str += ' - x_{s}_{t}'.format(s=edge.source.name, t=v.name)\n",
    "\n",
    "    constr_str = constr_out_str + constr_in_str + ' == {}'.format(b)\n",
    "    constr = eval(constr_str)\n",
    "    node_flow_constraints.append(constr)\n",
    "    \n",
    "## edge capacity constraints\n",
    "\n",
    "capacity_constraints = []\n",
    "for edge in graph.edges:\n",
    "    constr = eval('x_{s}_{t} <= edge.capacity_tons'.format(\n",
    "        s=edge.source.name, t=edge.target.name))\n",
    "    capacity_constraints.append(constr)"
   ]
  },
  {
   "cell_type": "markdown",
   "id": "696ce89a",
   "metadata": {},
   "source": [
    "Note that the above problem satisfies the **Feasible Solution Property** of minimum cost flow problems. viz. the problem has a feasible solution only if $\\sum_{i = 1}^n b_i = 0$. Clearly in our case, this is true because the total supply at Boston and Jacksonville is equal to the total demand at St Petersburg, Moscow and Rostov, viz. $500,000$ tons."
   ]
  },
  {
   "cell_type": "markdown",
   "id": "5fb9837d",
   "metadata": {},
   "source": [
    "It is also worth noting that we do not need to restrict $x_{i, j}$ to be integers. This follows from the **Integer Solutions Property** of minimum cost flow problems. This property implies that if $b_i$ and $u_{i, j}$ are integers, then so is every feasible solution of the problem. Hence, we can get away by formulating the above problem as a Linear Program and not an Integer Program! "
   ]
  },
  {
   "cell_type": "code",
   "execution_count": 35,
   "id": "d47af8dd",
   "metadata": {},
   "outputs": [
    {
     "name": "stdout",
     "output_type": "stream",
     "text": [
      "===============================================================================\n",
      "                                     CVXPY                                     \n",
      "                                     v1.3.1                                    \n",
      "===============================================================================\n",
      "(CVXPY) Jun 05 02:22:41 PM: Your problem has 30 variables, 41 constraints, and 0 parameters.\n",
      "(CVXPY) Jun 05 02:22:41 PM: It is compliant with the following grammars: DCP, DQCP\n",
      "(CVXPY) Jun 05 02:22:41 PM: (If you need to solve this problem multiple times, but with different data, consider using parameters.)\n",
      "(CVXPY) Jun 05 02:22:41 PM: CVXPY will first compile your problem; then, it will invoke a numerical solver to obtain a solution.\n",
      "-------------------------------------------------------------------------------\n",
      "                                  Compilation                                  \n",
      "-------------------------------------------------------------------------------\n",
      "(CVXPY) Jun 05 02:22:41 PM: Compiling problem (target solver=GLPK).\n",
      "(CVXPY) Jun 05 02:22:41 PM: Reduction chain: Dcp2Cone -> CvxAttr2Constr -> ConeMatrixStuffing -> GLPK\n",
      "(CVXPY) Jun 05 02:22:41 PM: Applying reduction Dcp2Cone\n",
      "(CVXPY) Jun 05 02:22:41 PM: Applying reduction CvxAttr2Constr\n",
      "(CVXPY) Jun 05 02:22:41 PM: Applying reduction ConeMatrixStuffing\n",
      "(CVXPY) Jun 05 02:22:41 PM: Applying reduction GLPK\n",
      "(CVXPY) Jun 05 02:22:41 PM: Finished problem compilation (took 1.010e-01 seconds).\n",
      "-------------------------------------------------------------------------------\n",
      "                                Numerical solver                               \n",
      "-------------------------------------------------------------------------------\n",
      "(CVXPY) Jun 05 02:22:41 PM: Invoking solver GLPK  to obtain a solution.\n",
      "-------------------------------------------------------------------------------\n",
      "                                    Summary                                    \n",
      "-------------------------------------------------------------------------------\n",
      "(CVXPY) Jun 05 02:22:41 PM: Problem status: optimal\n",
      "GLPK Simplex Optimizer 5.0\n",
      "71 rows, 30 columns, 120 non-zeros\n",
      "      0: obj =               nan inf =   2.000e+06 (5)\n",
      "     13: obj =               nan inf =   0.000e+00 (0)\n",
      "*    34: obj =               nan inf =   0.000e+00 (0)\n",
      "OPTIMAL LP SOLUTION FOUND\n",
      "(CVXPY) Jun 05 02:22:41 PM: Optimal value: 4.129e+08\n",
      "(CVXPY) Jun 05 02:22:41 PM: Compilation took 1.010e-01 seconds\n",
      "(CVXPY) Jun 05 02:22:41 PM: Solver (including time spent in interface) took 4.974e-03 seconds\n"
     ]
    },
    {
     "data": {
      "text/plain": [
       "412866666.6666667"
      ]
     },
     "execution_count": 35,
     "metadata": {},
     "output_type": "execute_result"
    }
   ],
   "source": [
    "# Model\n",
    "prob_min_cost_flow = cp.Problem(obj_min_cost_flow, node_flow_constraints + capacity_constraints)\n",
    "prob_min_cost_flow.solve(solver=cp.GLPK, verbose=True)"
   ]
  },
  {
   "cell_type": "code",
   "execution_count": 36,
   "id": "c34332ad",
   "metadata": {},
   "outputs": [],
   "source": [
    "summary = get_result_summary(prob_min_cost_flow)"
   ]
  },
  {
   "cell_type": "code",
   "execution_count": 37,
   "id": "790e3553",
   "metadata": {},
   "outputs": [
    {
     "data": {
      "text/plain": [
       "'optimal'"
      ]
     },
     "execution_count": 37,
     "metadata": {},
     "output_type": "execute_result"
    }
   ],
   "source": [
    "summary['status']"
   ]
  },
  {
   "cell_type": "code",
   "execution_count": 38,
   "id": "ca42b2f8",
   "metadata": {},
   "outputs": [
    {
     "data": {
      "text/plain": [
       "412866666.6666667"
      ]
     },
     "execution_count": 38,
     "metadata": {},
     "output_type": "execute_result"
    }
   ],
   "source": [
    "summary['optimal_value']"
   ]
  },
  {
   "cell_type": "code",
   "execution_count": 39,
   "id": "f8502215",
   "metadata": {},
   "outputs": [
    {
     "data": {
      "text/html": [
       "<div>\n",
       "<style scoped>\n",
       "    .dataframe tbody tr th:only-of-type {\n",
       "        vertical-align: middle;\n",
       "    }\n",
       "\n",
       "    .dataframe tbody tr th {\n",
       "        vertical-align: top;\n",
       "    }\n",
       "\n",
       "    .dataframe thead th {\n",
       "        text-align: right;\n",
       "    }\n",
       "</style>\n",
       "<table border=\"1\" class=\"dataframe\">\n",
       "  <thead>\n",
       "    <tr style=\"text-align: right;\">\n",
       "      <th></th>\n",
       "      <th>variable</th>\n",
       "      <th>value</th>\n",
       "    </tr>\n",
       "  </thead>\n",
       "  <tbody>\n",
       "    <tr>\n",
       "      <th>4</th>\n",
       "      <td>x_Boston_Hamburg</td>\n",
       "      <td>440000.0</td>\n",
       "    </tr>\n",
       "    <tr>\n",
       "      <th>5</th>\n",
       "      <td>x_Boston_Istanbul</td>\n",
       "      <td>60000.0</td>\n",
       "    </tr>\n",
       "    <tr>\n",
       "      <th>9</th>\n",
       "      <td>x_Hamburg_Moscow</td>\n",
       "      <td>440000.0</td>\n",
       "    </tr>\n",
       "    <tr>\n",
       "      <th>13</th>\n",
       "      <td>x_Istanbul_Rostov</td>\n",
       "      <td>210000.0</td>\n",
       "    </tr>\n",
       "    <tr>\n",
       "      <th>17</th>\n",
       "      <td>x_Jacksonville_Istanbul</td>\n",
       "      <td>150000.0</td>\n",
       "    </tr>\n",
       "    <tr>\n",
       "      <th>18</th>\n",
       "      <td>x_Jacksonville_London</td>\n",
       "      <td>350000.0</td>\n",
       "    </tr>\n",
       "    <tr>\n",
       "      <th>22</th>\n",
       "      <td>x_London_Rostov</td>\n",
       "      <td>30000.0</td>\n",
       "    </tr>\n",
       "    <tr>\n",
       "      <th>23</th>\n",
       "      <td>x_London_StPetersburg</td>\n",
       "      <td>320000.0</td>\n",
       "    </tr>\n",
       "  </tbody>\n",
       "</table>\n",
       "</div>"
      ],
      "text/plain": [
       "                   variable     value\n",
       "4          x_Boston_Hamburg  440000.0\n",
       "5         x_Boston_Istanbul   60000.0\n",
       "9          x_Hamburg_Moscow  440000.0\n",
       "13        x_Istanbul_Rostov  210000.0\n",
       "17  x_Jacksonville_Istanbul  150000.0\n",
       "18    x_Jacksonville_London  350000.0\n",
       "22          x_London_Rostov   30000.0\n",
       "23    x_London_StPetersburg  320000.0"
      ]
     },
     "execution_count": 39,
     "metadata": {},
     "output_type": "execute_result"
    }
   ],
   "source": [
    "df = prettify(summary['optimal_solution'])\n",
    "df[df.value>0]"
   ]
  },
  {
   "cell_type": "markdown",
   "id": "f641bbef",
   "metadata": {},
   "source": [
    "Hence we conclude that the United States can meet the cargo requirements at three Russian cities at a minimum cost of **\\$ 412,866,667** while honoring all the specified restrictions. The corresponding optimal solution is shown below:\n",
    " <img src=\"images/min_cost_flow_optimal_soln.png\" width=\"600\" length=\"600\" align=\"center\">"
   ]
  },
  {
   "cell_type": "markdown",
   "id": "925a10c5",
   "metadata": {},
   "source": [
    "## Scenario 3: When you cannot do everything, do the best you can!\n",
    "### A maximum flow problem"
   ]
  },
  {
   "cell_type": "markdown",
   "id": "f169c511",
   "metadata": {},
   "source": [
    "Once the President releases the number of planes, ships, and trucks that will travel between the United States and the Russian Federation, Tabitha Neal contacts each of the American cities and NATO countries to indicate the number of planes to expect at the airfields, the number of ships to expect at the docks, and the number of trucks to expect traveling across the roads. Unfortunately, Tabitha learns that several additional restrictions exist which cannot be immediately eliminated. Because of airfield congestion and unalterable flight schedules, only a limited number of planes may be sent between any two cities. These plane limitations are given below.\n",
    "\n",
    "|From |To |Maximum|\n",
    "|:---|:---|:---|\n",
    "|Boston |Berlin |300 airplanes|\n",
    "|Boston |Istanbul |500 airplanes|\n",
    "|Boston |London |500 airplanes|\n",
    "|Jacksonville |Berlin |500 airplanes|\n",
    "|Jacksonville |Istanbul |700 airplanes|\n",
    "|Jacksonville |London |600 airplanes|\n",
    "|Berlin |Saint Petersburg |500 airplanes|\n",
    "|Istanbul |Saint Petersburg |0 airplanes|\n",
    "|London |Saint Petersburg |1,000 airplanes|\n",
    "|Berlin |Moscow |300 airplanes|\n",
    "|Istanbul |Moscow |100 airplanes|\n",
    "|London |Moscow |200 airplanes|\n",
    "|Berlin |Rostov |0 airplanes|\n",
    "|Istanbul |Rostov |900 airplanes|\n",
    "|London |Rostov |100 airplanes|"
   ]
  },
  {
   "cell_type": "markdown",
   "id": "4c32e5a1",
   "metadata": {},
   "source": [
    "In addition, because some countries fear that citizens will become alarmed if too many military trucks travel the public highways, they object to a large number of trucks traveling through their countries. These objections mean that a limited number of trucks are able to travel between certain ports and Russian cities. These limitations are listed below.\n",
    "\n",
    "|From | To | Maximum|\n",
    "|:--- |:--- |:--- |\n",
    "|Rotterdam | Moscow | 600 trucks\n",
    "|Rotterdam | Rostov | 750 trucks\n",
    "|Hamburg | Moscow | 700 trucks\n",
    "|Hamburg | Rostov | 500 trucks\n",
    "|Napoli | Moscow | 1,500 trucks\n",
    "|Napoli | Rostov | 1,400 trucks\n",
    "\n",
    "Tabitha learns that all shipping lanes have no capacity limits, owing to the American control of the Atlantic Ocean.\n",
    "The President realizes that because of all the restrictions **he will not be able to satisfy all the reinforcement requirements of the three Russian cities**. He decides to disregard the cost issue and instead to maximize the total amount of cargo he can get to the Russian cities.\n",
    "\n",
    "How does the President maximize the total amount of cargo that reaches the Russian Federation?"
   ]
  },
  {
   "cell_type": "markdown",
   "id": "208a8bd1",
   "metadata": {},
   "source": [
    "### The maximum flow model\n",
    "\n",
    "The current scenario appears very similar to the standard *Maximum Flow* problem where we want to maximize the flow through a network while honoring the capacity of each edge in the network. Next, we note that **the maximum flow problem is just a special case of the minimum cost flow problem** and we can reuse the model in the previous section with the following modifications.\n",
    "1. We add a new Source node $S$ with total supply of 1 million tons and a new target node $T$ with total demand of 1 million tons.\n",
    "2. We add a direct edge from the $S$ to $T$ with infinite cost and infinite capacity.\n",
    "3. We assign zero cost to all edges in the network except the edge $S$-->$T$."
   ]
  },
  {
   "cell_type": "code",
   "execution_count": 40,
   "id": "ac20a954",
   "metadata": {},
   "outputs": [],
   "source": [
    "M = 1.0e10\n",
    "SUPPLY_UPPER_BOUND_TONS = 1000000"
   ]
  },
  {
   "cell_type": "code",
   "execution_count": 41,
   "id": "ae64f770",
   "metadata": {},
   "outputs": [],
   "source": [
    "# Add fictitious source and target\n",
    "graph.add_edge(Edge('S', 'Boston'))\n",
    "graph.add_edge(Edge('S', 'Jacksonville'))\n",
    "\n",
    "graph.add_edge(Edge('StPetersburg', 'T'))\n",
    "graph.add_edge(Edge('Moscow', 'T'))\n",
    "graph.add_edge(Edge('Rostov', 'T'))\n",
    "\n",
    "# Add a direct edge from the  𝑆 to  𝑇\n",
    "graph.add_edge(Edge('S', 'T'))"
   ]
  },
  {
   "cell_type": "code",
   "execution_count": 42,
   "id": "76688397",
   "metadata": {},
   "outputs": [],
   "source": [
    "# Make all edge costs zero\n",
    "for edge in graph.edges:\n",
    "    edge.update(cost_per_ton=0)\n",
    "    \n",
    "# Assign infinite cost to S-->T\n",
    "s_t = graph.get_edge('S', 'T')\n",
    "s_t.update(cost_per_ton=M)"
   ]
  },
  {
   "cell_type": "code",
   "execution_count": 43,
   "id": "ff2dbf1e",
   "metadata": {},
   "outputs": [],
   "source": [
    "# Initialize all edge capacities to infinity\n",
    "for edge in graph.edges:\n",
    "    edge.update(capacity_tons=np.inf)\n",
    "    \n",
    "# Assign edge cpacities\n",
    "EDGE_CAPACITIES_IN_VEHICLE_NUMS = {\n",
    "    ('Boston', 'Berlin'): 300,\n",
    "    ('Boston', 'Istanbul'): 500,\n",
    "    ('Boston', 'London'): 500,\n",
    "    ('Jacksonville', 'Berlin'): 500,\n",
    "    ('Jacksonville', 'Istanbul'): 700,\n",
    "    ('Jacksonville', 'London'): 600,\n",
    "    ('Berlin', 'StPetersburg'): 500,\n",
    "    ('Istanbul', 'StPetersburg'): 0,\n",
    "    ('London', 'StPetersburg'): 1000,\n",
    "    ('Berlin', 'Moscow'): 300,\n",
    "    ('Istanbul', 'Moscow'): 100,\n",
    "    ('London', 'Moscow'): 200,\n",
    "    ('Berlin', 'Rostov'): 0,\n",
    "    ('Istanbul', 'Rostov'): 900,\n",
    "    ('London', 'Rostov'): 100,\n",
    "\n",
    "    ('Rotterdam', 'Moscow'): 600,\n",
    "    ('Rotterdam', 'Rostov'): 750,\n",
    "    ('Hamburg', 'Moscow'): 700,\n",
    "    ('Hamburg', 'Rostov'): 500,\n",
    "    ('Napoli', 'Moscow'): 1500,\n",
    "    ('Napoli', 'Rostov'): 1400,\n",
    "}\n",
    "for k, c in EDGE_CAPACITIES_IN_VEHICLE_NUMS.items():\n",
    "    edge = graph.get_edge(k[0], k[1])\n",
    "    route_type = edge.route_type\n",
    "    vehicle = ROUTE_TYPE_TO_VEHICLE[route_type]\n",
    "    vehicle_capacity_tons = VEHICLE_CAPACITY_TONS[vehicle]\n",
    "    edge_capacity_tons = c * vehicle_capacity_tons\n",
    "    edge.update(capacity_tons=edge_capacity_tons)"
   ]
  },
  {
   "cell_type": "code",
   "execution_count": 44,
   "id": "973840c9",
   "metadata": {},
   "outputs": [
    {
     "data": {
      "text/plain": [
       "['x_Jacksonville_London',\n",
       " 'x_Boston_Rotterdam',\n",
       " 'x_Berlin_StPetersburg',\n",
       " 'x_StPetersburg_T',\n",
       " 'x_Berlin_Rostov',\n",
       " 'x_Rotterdam_Moscow',\n",
       " 'x_Boston_Napoli',\n",
       " 'x_Jacksonville_Istanbul',\n",
       " 'x_Istanbul_Moscow',\n",
       " 'x_S_T',\n",
       " 'x_Boston_London',\n",
       " 'x_Hamburg_Moscow',\n",
       " 'x_Istanbul_Rostov',\n",
       " 'x_Rostov_T',\n",
       " 'x_Jacksonville_Berlin',\n",
       " 'x_Boston_Berlin',\n",
       " 'x_Rotterdam_StPetersburg',\n",
       " 'x_Boston_Hamburg',\n",
       " 'x_Hamburg_Rostov',\n",
       " 'x_Rotterdam_Rostov',\n",
       " 'x_Napoli_StPetersburg',\n",
       " 'x_Moscow_T',\n",
       " 'x_Jacksonville_Hamburg',\n",
       " 'x_S_Boston',\n",
       " 'x_Berlin_Moscow',\n",
       " 'x_Napoli_Rostov',\n",
       " 'x_S_Jacksonville',\n",
       " 'x_Istanbul_StPetersburg',\n",
       " 'x_Jacksonville_Napoli',\n",
       " 'x_London_Moscow',\n",
       " 'x_Boston_Istanbul',\n",
       " 'x_Napoli_Moscow',\n",
       " 'x_Hamburg_StPetersburg',\n",
       " 'x_London_StPetersburg',\n",
       " 'x_Jacksonville_Rotterdam',\n",
       " 'x_London_Rostov']"
      ]
     },
     "execution_count": 44,
     "metadata": {},
     "output_type": "execute_result"
    }
   ],
   "source": [
    "# Variables\n",
    "variables = []\n",
    "for edge in graph.edges:\n",
    "    exec('x_{s}_{t} = cp.Variable(1, nonneg=True, name=\"x_{s}_{t}\")'.format(\n",
    "        s=edge.source.name, t=edge.target.name))\n",
    "    exec('variables.append(x_{s}_{t})'.format(\n",
    "        s=edge.source.name, t=edge.target.name))\n",
    "\n",
    "[v.name() for v in variables]"
   ]
  },
  {
   "cell_type": "code",
   "execution_count": 45,
   "id": "351b49aa",
   "metadata": {},
   "outputs": [],
   "source": [
    "# Objective\n",
    "obj_str = ''\n",
    "for edge in graph.edges:\n",
    "    cost = edge.cost_per_ton\n",
    "    obj_str += '+ {c} * x_{s}_{t}'.format(s=edge.source.name, t=edge.target.name, c=cost)\n",
    "    \n",
    "exec('obj_max_flow = cp.Minimize({})'.format(obj_str))"
   ]
  },
  {
   "cell_type": "code",
   "execution_count": 46,
   "id": "3b6bdc83",
   "metadata": {},
   "outputs": [
    {
     "name": "stdout",
     "output_type": "stream",
     "text": [
      "Vertex: Rotterdam\n",
      "x_Rotterdam_Moscow + x_Rotterdam_StPetersburg + x_Rotterdam_Rostov + -x_Boston_Rotterdam + -x_Jacksonville_Rotterdam == 0.0\n",
      "\n",
      "Vertex: Boston\n",
      "x_Boston_Rotterdam + x_Boston_Napoli + x_Boston_London + x_Boston_Berlin + x_Boston_Hamburg + x_Boston_Istanbul + -x_S_Boston == 0.0\n",
      "\n",
      "Vertex: S\n",
      "x_S_T + x_S_Boston + x_S_Jacksonville == 1000000.0\n",
      "\n",
      "Vertex: Moscow\n",
      "x_Moscow_T + -x_Rotterdam_Moscow + -x_Istanbul_Moscow + -x_Hamburg_Moscow + -x_Berlin_Moscow + -x_London_Moscow + -x_Napoli_Moscow == 0.0\n",
      "\n",
      "Vertex: Jacksonville\n",
      "x_Jacksonville_London + x_Jacksonville_Istanbul + x_Jacksonville_Berlin + x_Jacksonville_Hamburg + x_Jacksonville_Napoli + x_Jacksonville_Rotterdam + -x_S_Jacksonville == 0.0\n",
      "\n",
      "Vertex: London\n",
      "x_London_Moscow + x_London_StPetersburg + x_London_Rostov + -x_Jacksonville_London + -x_Boston_London == 0.0\n",
      "\n",
      "Vertex: T\n",
      "-x_StPetersburg_T + -x_S_T + -x_Rostov_T + -x_Moscow_T == -1000000.0\n",
      "\n",
      "Vertex: Berlin\n",
      "x_Berlin_StPetersburg + x_Berlin_Rostov + x_Berlin_Moscow + -x_Jacksonville_Berlin + -x_Boston_Berlin == 0.0\n",
      "\n",
      "Vertex: Rostov\n",
      "x_Rostov_T + -x_Berlin_Rostov + -x_Istanbul_Rostov + -x_Hamburg_Rostov + -x_Rotterdam_Rostov + -x_Napoli_Rostov + -x_London_Rostov == 0.0\n",
      "\n",
      "Vertex: Hamburg\n",
      "x_Hamburg_Moscow + x_Hamburg_Rostov + x_Hamburg_StPetersburg + -x_Boston_Hamburg + -x_Jacksonville_Hamburg == 0.0\n",
      "\n",
      "Vertex: StPetersburg\n",
      "x_StPetersburg_T + -x_Berlin_StPetersburg + -x_Rotterdam_StPetersburg + -x_Napoli_StPetersburg + -x_Istanbul_StPetersburg + -x_Hamburg_StPetersburg + -x_London_StPetersburg == 0.0\n",
      "\n",
      "Vertex: Istanbul\n",
      "x_Istanbul_Moscow + x_Istanbul_Rostov + x_Istanbul_StPetersburg + -x_Jacksonville_Istanbul + -x_Boston_Istanbul == 0.0\n",
      "\n",
      "Vertex: Napoli\n",
      "x_Napoli_StPetersburg + x_Napoli_Rostov + x_Napoli_Moscow + -x_Boston_Napoli + -x_Jacksonville_Napoli == 0.0\n",
      "\n"
     ]
    }
   ],
   "source": [
    "# Constraints\n",
    "## Update the node flow constraints\n",
    "node_flow_constraints = []\n",
    "for v in graph.vertices:\n",
    "    if v.name == 'S':  # supply node\n",
    "        b = SUPPLY_UPPER_BOUND_TONS\n",
    "    elif v.name == 'T':  # demand node\n",
    "        b =  -1 * SUPPLY_UPPER_BOUND_TONS\n",
    "    else:\n",
    "        b = 0  # transshipment node\n",
    "    v.add_attr(b=b)\n",
    "    print('{}'.format(v))\n",
    "    \n",
    "    constr_out_str = ''\n",
    "    constr_in_str = ''\n",
    "    # outbound\n",
    "    if v.name != 'T':\n",
    "        for edge in graph.get_edges(source_name=v.name):\n",
    "            constr_out_str += 'x_{s}_{t} + '.format(\n",
    "                s=v.name, t=edge.target.name)\n",
    "        constr_out_str = constr_out_str[:-2] \n",
    "    # inbound\n",
    "    if v.name != 'S':\n",
    "        constr_in_str = ''\n",
    "        for edge in graph.get_edges(target_name=v.name):\n",
    "            constr_in_str += ' - x_{s}_{t}'.format(s=edge.source.name, t=v.name)\n",
    "\n",
    "    constr_str = constr_out_str + constr_in_str + ' == {}'.format(b)\n",
    "    constr = eval(constr_str)\n",
    "    node_flow_constraints.append(constr)\n",
    "    print('{}\\n'.format(constr))   "
   ]
  },
  {
   "cell_type": "code",
   "execution_count": 48,
   "id": "dacfc595",
   "metadata": {},
   "outputs": [
    {
     "name": "stdout",
     "output_type": "stream",
     "text": [
      "x_Jacksonville_London <= 90000.0\n",
      "x_Boston_Rotterdam <= inf\n",
      "x_Berlin_StPetersburg <= 75000.0\n",
      "x_StPetersburg_T <= inf\n",
      "x_Berlin_Rostov <= 0.0\n",
      "x_Rotterdam_Moscow <= 9600.0\n",
      "x_Boston_Napoli <= inf\n",
      "x_Jacksonville_Istanbul <= 105000.0\n",
      "x_Istanbul_Moscow <= 15000.0\n",
      "x_S_T <= inf\n",
      "x_Boston_London <= 75000.0\n",
      "x_Hamburg_Moscow <= 11200.0\n",
      "x_Istanbul_Rostov <= 135000.0\n",
      "x_Rostov_T <= inf\n",
      "x_Jacksonville_Berlin <= 75000.0\n",
      "x_Boston_Berlin <= 45000.0\n",
      "x_Rotterdam_StPetersburg <= inf\n",
      "x_Boston_Hamburg <= inf\n",
      "x_Hamburg_Rostov <= 8000.0\n",
      "x_Rotterdam_Rostov <= 12000.0\n",
      "x_Napoli_StPetersburg <= inf\n",
      "x_Moscow_T <= inf\n",
      "x_Jacksonville_Hamburg <= inf\n",
      "x_S_Boston <= inf\n",
      "x_Berlin_Moscow <= 45000.0\n",
      "x_Napoli_Rostov <= 22400.0\n",
      "x_S_Jacksonville <= inf\n",
      "x_Istanbul_StPetersburg <= 0.0\n",
      "x_Jacksonville_Napoli <= inf\n",
      "x_London_Moscow <= 30000.0\n",
      "x_Boston_Istanbul <= 75000.0\n",
      "x_Napoli_Moscow <= 24000.0\n",
      "x_Hamburg_StPetersburg <= inf\n",
      "x_London_StPetersburg <= 150000.0\n",
      "x_Jacksonville_Rotterdam <= inf\n",
      "x_London_Rostov <= 15000.0\n"
     ]
    }
   ],
   "source": [
    "## Update the edge capacity constraints\n",
    "capacity_constraints = []\n",
    "for edge in graph.edges:\n",
    "    constr = eval('x_{s}_{t} <= edge.capacity_tons'.format(\n",
    "        s=edge.source.name, t=edge.target.name))\n",
    "    capacity_constraints.append(constr)\n",
    "    print(constr)"
   ]
  },
  {
   "cell_type": "code",
   "execution_count": 49,
   "id": "dd36ab49",
   "metadata": {},
   "outputs": [],
   "source": [
    "prob_max_flow = cp.Problem(obj_max_flow, node_flow_constraints + capacity_constraints)"
   ]
  },
  {
   "cell_type": "code",
   "execution_count": 50,
   "id": "5be46125",
   "metadata": {},
   "outputs": [
    {
     "name": "stdout",
     "output_type": "stream",
     "text": [
      "===============================================================================\n",
      "                                     CVXPY                                     \n",
      "                                     v1.3.1                                    \n",
      "===============================================================================\n",
      "(CVXPY) Jun 05 02:22:48 PM: Your problem has 36 variables, 49 constraints, and 0 parameters.\n",
      "(CVXPY) Jun 05 02:22:48 PM: It is compliant with the following grammars: DCP, DQCP\n",
      "(CVXPY) Jun 05 02:22:48 PM: (If you need to solve this problem multiple times, but with different data, consider using parameters.)\n",
      "(CVXPY) Jun 05 02:22:48 PM: CVXPY will first compile your problem; then, it will invoke a numerical solver to obtain a solution.\n",
      "-------------------------------------------------------------------------------\n",
      "                                  Compilation                                  \n",
      "-------------------------------------------------------------------------------\n",
      "(CVXPY) Jun 05 02:22:48 PM: Compiling problem (target solver=GLPK).\n",
      "(CVXPY) Jun 05 02:22:48 PM: Reduction chain: Dcp2Cone -> CvxAttr2Constr -> ConeMatrixStuffing -> GLPK\n",
      "(CVXPY) Jun 05 02:22:48 PM: Applying reduction Dcp2Cone\n",
      "(CVXPY) Jun 05 02:22:48 PM: Applying reduction CvxAttr2Constr\n",
      "(CVXPY) Jun 05 02:22:48 PM: Applying reduction ConeMatrixStuffing\n",
      "(CVXPY) Jun 05 02:22:48 PM: Applying reduction GLPK\n",
      "(CVXPY) Jun 05 02:22:48 PM: Finished problem compilation (took 1.120e-01 seconds).\n",
      "-------------------------------------------------------------------------------\n",
      "                                Numerical solver                               \n",
      "-------------------------------------------------------------------------------\n",
      "(CVXPY) Jun 05 02:22:48 PM: Invoking solver GLPK  to obtain a solution.\n",
      "-------------------------------------------------------------------------------\n",
      "                                    Summary                                    \n",
      "-------------------------------------------------------------------------------\n",
      "(CVXPY) Jun 05 02:22:48 PM: Problem status: optimal\n",
      "GLPK Simplex Optimizer 5.0\n",
      "85 rows, 36 columns, 144 non-zeros\n",
      "      0: obj =               nan inf =   2.000e+06 (2)\n",
      "      1: obj =               nan inf =   0.000e+00 (0)\n",
      "*    18: obj =               nan inf =   0.000e+00 (0)\n",
      "OPTIMAL LP SOLUTION FOUND\n",
      "(CVXPY) Jun 05 02:22:48 PM: Optimal value: 0.000e+00\n",
      "(CVXPY) Jun 05 02:22:48 PM: Compilation took 1.120e-01 seconds\n",
      "(CVXPY) Jun 05 02:22:48 PM: Solver (including time spent in interface) took 6.440e-04 seconds\n"
     ]
    },
    {
     "data": {
      "text/plain": [
       "0.0"
      ]
     },
     "execution_count": 50,
     "metadata": {},
     "output_type": "execute_result"
    }
   ],
   "source": [
    "prob_max_flow.solve(solver=cp.GLPK, verbose=True)"
   ]
  },
  {
   "cell_type": "code",
   "execution_count": 51,
   "id": "5a2eecbb",
   "metadata": {},
   "outputs": [],
   "source": [
    "summary = get_result_summary(prob_max_flow)"
   ]
  },
  {
   "cell_type": "code",
   "execution_count": 52,
   "id": "f43f135b",
   "metadata": {},
   "outputs": [
    {
     "data": {
      "text/plain": [
       "'optimal'"
      ]
     },
     "execution_count": 52,
     "metadata": {},
     "output_type": "execute_result"
    }
   ],
   "source": [
    "summary['status']"
   ]
  },
  {
   "cell_type": "code",
   "execution_count": 53,
   "id": "ffe91b10",
   "metadata": {},
   "outputs": [
    {
     "data": {
      "text/plain": [
       "0.0"
      ]
     },
     "execution_count": 53,
     "metadata": {},
     "output_type": "execute_result"
    }
   ],
   "source": [
    "summary['optimal_value']"
   ]
  },
  {
   "cell_type": "code",
   "execution_count": 63,
   "id": "676b10c9",
   "metadata": {},
   "outputs": [
    {
     "data": {
      "text/html": [
       "<div>\n",
       "<style scoped>\n",
       "    .dataframe tbody tr th:only-of-type {\n",
       "        vertical-align: middle;\n",
       "    }\n",
       "\n",
       "    .dataframe tbody tr th {\n",
       "        vertical-align: top;\n",
       "    }\n",
       "\n",
       "    .dataframe thead th {\n",
       "        text-align: right;\n",
       "    }\n",
       "</style>\n",
       "<table border=\"1\" class=\"dataframe\">\n",
       "  <thead>\n",
       "    <tr style=\"text-align: right;\">\n",
       "      <th></th>\n",
       "      <th>variable</th>\n",
       "      <th>value</th>\n",
       "    </tr>\n",
       "  </thead>\n",
       "  <tbody>\n",
       "    <tr>\n",
       "      <th>2</th>\n",
       "      <td>x_Berlin_StPetersburg</td>\n",
       "      <td>75000.0</td>\n",
       "    </tr>\n",
       "    <tr>\n",
       "      <th>8</th>\n",
       "      <td>x_Boston_Rotterdam</td>\n",
       "      <td>820000.0</td>\n",
       "    </tr>\n",
       "    <tr>\n",
       "      <th>12</th>\n",
       "      <td>x_Istanbul_Moscow</td>\n",
       "      <td>15000.0</td>\n",
       "    </tr>\n",
       "    <tr>\n",
       "      <th>13</th>\n",
       "      <td>x_Istanbul_Rostov</td>\n",
       "      <td>90000.0</td>\n",
       "    </tr>\n",
       "    <tr>\n",
       "      <th>15</th>\n",
       "      <td>x_Jacksonville_Berlin</td>\n",
       "      <td>75000.0</td>\n",
       "    </tr>\n",
       "    <tr>\n",
       "      <th>17</th>\n",
       "      <td>x_Jacksonville_Istanbul</td>\n",
       "      <td>105000.0</td>\n",
       "    </tr>\n",
       "    <tr>\n",
       "      <th>24</th>\n",
       "      <td>x_Moscow_T</td>\n",
       "      <td>24600.0</td>\n",
       "    </tr>\n",
       "    <tr>\n",
       "      <th>28</th>\n",
       "      <td>x_Rostov_T</td>\n",
       "      <td>90000.0</td>\n",
       "    </tr>\n",
       "    <tr>\n",
       "      <th>29</th>\n",
       "      <td>x_Rotterdam_Moscow</td>\n",
       "      <td>9600.0</td>\n",
       "    </tr>\n",
       "    <tr>\n",
       "      <th>31</th>\n",
       "      <td>x_Rotterdam_StPetersburg</td>\n",
       "      <td>810400.0</td>\n",
       "    </tr>\n",
       "    <tr>\n",
       "      <th>32</th>\n",
       "      <td>x_S_Boston</td>\n",
       "      <td>820000.0</td>\n",
       "    </tr>\n",
       "    <tr>\n",
       "      <th>33</th>\n",
       "      <td>x_S_Jacksonville</td>\n",
       "      <td>180000.0</td>\n",
       "    </tr>\n",
       "    <tr>\n",
       "      <th>35</th>\n",
       "      <td>x_StPetersburg_T</td>\n",
       "      <td>885400.0</td>\n",
       "    </tr>\n",
       "  </tbody>\n",
       "</table>\n",
       "</div>"
      ],
      "text/plain": [
       "                    variable     value\n",
       "2      x_Berlin_StPetersburg   75000.0\n",
       "8         x_Boston_Rotterdam  820000.0\n",
       "12         x_Istanbul_Moscow   15000.0\n",
       "13         x_Istanbul_Rostov   90000.0\n",
       "15     x_Jacksonville_Berlin   75000.0\n",
       "17   x_Jacksonville_Istanbul  105000.0\n",
       "24                x_Moscow_T   24600.0\n",
       "28                x_Rostov_T   90000.0\n",
       "29        x_Rotterdam_Moscow    9600.0\n",
       "31  x_Rotterdam_StPetersburg  810400.0\n",
       "32                x_S_Boston  820000.0\n",
       "33          x_S_Jacksonville  180000.0\n",
       "35          x_StPetersburg_T  885400.0"
      ]
     },
     "execution_count": 63,
     "metadata": {},
     "output_type": "execute_result"
    }
   ],
   "source": [
    "df = prettify(summary['optimal_solution'])\n",
    "df[df.value > 0]"
   ]
  },
  {
   "cell_type": "markdown",
   "id": "daf1ae2d",
   "metadata": {},
   "source": [
    "The optimal soution is shown below\n",
    "\n",
    "<img src=\"images/max_flow_optimal_solution.png\" width=\"700\" length=\"700\">"
   ]
  },
  {
   "cell_type": "markdown",
   "id": "23c8641f",
   "metadata": {},
   "source": [
    "Points to note:\n",
    "- The total cargo (1 million tons) shipped from the US reaches the Russian Federation.\n",
    "- However, as expected, the individual requirements of the three cities from the previous scenario could not be satisfied. E.g. the total cargo reaching Rostov is 90,000 while the cargo requirement at Rostov from the previous was 240,000.\n",
    "\n",
    "\n",
    "Hence, we conclude that if the President could choose to ignore the edge costs and the individual city requirements in the interest of making sure that all the intended cargo reaches the Russian Federation, the above solution will accomplish that. However, a logical question is: *what would the above solution cost?*\n",
    "\n",
    "In order to answer this question, we use the edge costs specified in the previous scenario."
   ]
  },
  {
   "cell_type": "code",
   "execution_count": 67,
   "id": "b9a761f0",
   "metadata": {},
   "outputs": [],
   "source": [
    "for k, c in EDGE_COSTS_PER_VEHICLE.items():  \n",
    "    edge = graph.get_edge(k[0], k[1])\n",
    "    cost_per_vehicle = c\n",
    "    vehicle = ROUTE_TYPE_TO_VEHICLE[edge.route_type]  \n",
    "    vehicle_capacity_tons = VEHICLE_CAPACITY_TONS[vehicle]\n",
    "    cost_per_ton = cost_per_vehicle / vehicle_capacity_tons\n",
    "    edge.update(cost_per_ton=cost_per_ton)"
   ]
  },
  {
   "cell_type": "code",
   "execution_count": 70,
   "id": "fb57893a",
   "metadata": {},
   "outputs": [],
   "source": [
    "obj_str = ''\n",
    "for edge in graph.edges:\n",
    "    cost = edge.cost_per_ton\n",
    "    obj_str += '+ {c} * x_{s}_{t}'.format(s=edge.source.name, t=edge.target.name, c=cost)\n",
    "    \n",
    "exec('obj_min_cost_flow = cp.Minimize({})'.format(obj_str))"
   ]
  },
  {
   "cell_type": "code",
   "execution_count": 71,
   "id": "c988862b",
   "metadata": {},
   "outputs": [
    {
     "data": {
      "text/plain": [
       "344350000.0"
      ]
     },
     "execution_count": 71,
     "metadata": {},
     "output_type": "execute_result"
    }
   ],
   "source": [
    "obj_min_cost_flow.value"
   ]
  },
  {
   "cell_type": "markdown",
   "id": "dccaeefe",
   "metadata": {},
   "source": [
    "As seen above, the optimal solution for the maximum cost flow problem shown above has a cost of **\\$ 344,350,000**. By contrast, the optimal solution to the minimum cost flow model is **\\$ 412,866,667**. This may seem counterintuitive because we expect that trying to minimize the total cost should give a smaller optimal value. However, the reason for the above disparity is that in the minimum cost flow problem, we were trying to satisfy the demand constraints at each of the three demand nodes - Saint Petersburg, Moscow and Rostov. However, in the maximum flow problem, we relaxed these constraints and were able to achieve an overall cheaper solution!"
   ]
  },
  {
   "cell_type": "markdown",
   "id": "380fc38b",
   "metadata": {},
   "source": [
    "# References\n",
    "\n",
    "Notebook available at: https://github.com/ayusbhar2/optimization/blob/main/applications/network_optimization/network_optimization.ipynb"
   ]
  },
  {
   "cell_type": "code",
   "execution_count": null,
   "id": "e5b71612",
   "metadata": {},
   "outputs": [],
   "source": []
  }
 ],
 "metadata": {
  "kernelspec": {
   "display_name": "Python 3 (ipykernel)",
   "language": "python",
   "name": "python3"
  },
  "language_info": {
   "codemirror_mode": {
    "name": "ipython",
    "version": 3
   },
   "file_extension": ".py",
   "mimetype": "text/x-python",
   "name": "python",
   "nbconvert_exporter": "python",
   "pygments_lexer": "ipython3",
   "version": "3.7.9"
  }
 },
 "nbformat": 4,
 "nbformat_minor": 5
}
