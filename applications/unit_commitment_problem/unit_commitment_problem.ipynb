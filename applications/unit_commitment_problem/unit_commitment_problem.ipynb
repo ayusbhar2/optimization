{
 "cells": [
  {
   "cell_type": "markdown",
   "id": "858c9826",
   "metadata": {},
   "source": [
    "# Table of Contents\n",
    "1. [Introduction](#Introduction)\n",
    "\n",
    "2. [A prototype example](#Example)\n",
    "\n",
    "3. [A simple economic dispatch model with LP](#A_simple_economic_dispatch_model_with_LP)\n",
    "\n",
    "    3.1. [Sensitivity analysis using Duality](#sensitivity_analysis_LP)\n",
    "    \n",
    "4. [A first MIP formulation](#A_first_MIP_formulation)\n",
    "\n",
    "5. [An MIP formulation with startup costs](#An_MIP_model_with_startup_costs)\n",
    "\n",
    "6. [An MIP model with up- and down-time constraints](#An_MIP_model_with_up_and_down_time_constraints)\n",
    "\n",
    "7. [References](#References)"
   ]
  },
  {
   "cell_type": "markdown",
   "id": "1d53e8ac",
   "metadata": {},
   "source": [
    "# 1. Introduction <a class=\"anchor\" id=\"Introduction\"></a>\n",
    "The Unit Commitment Problem (UCP) [[1]](#References) in power systems is the problem of scheduling the optimal number of power generating units (or simply units) to meet the total demand in each time period (or slot) of a planning horizon. The UCP is an optimization problem that aims to minmize the running costs, startup costs and shutdown costs of the units while satisfying constraints that guarantee appropriate operating conditions for the units.\n",
    "\n",
    "The UCP can be formulated in a number of ways:\n",
    "- combinatorial approach\n",
    "- priority list / heuristic approach\n",
    "- dynamic programming\n",
    "- Lagrangian relaxation\n",
    "- **Mixed Integer Programming (MIP)**\n",
    "\n",
    "In this post we will consider the MIP approach since it is the state of the art for the UCP. Other approaches do not scale to any reasonable sized problem. We will consider a small but salient example [2] which has most features of a real life UCP.\n",
    "\n",
    "# 2. A prototype example <a class=\"anchor\" id=\"Example\"></a>\n",
    "We are given three units -  A, B and C - with their corresponding costs and operational constraints. The hourly demand  profile over a three-period planning horizon is also given. We want to find the optimal schedule that minimizes the total cost, meets the hourly demand requirements and satisfies the operational constraints."
   ]
  },
  {
   "cell_type": "markdown",
   "id": "0fdeaac3",
   "metadata": {},
   "source": [
    "|Unit|P_min (MW)|P_max (MW)|Min up (hr)|Min down (hr)|No-load cost (\\$)|Marginal cost (\\$/MWh)|Startup cost (\\$)|Initial status|\n",
    "|---|---| ---| ---|   ---|   ---|   ---|  ---|   ---|\n",
    "|A   | 150| 250| 3|   3|   0|   10|  1000|    ON|\n",
    "|B   | 50| 100| 2|   1|   0|   12|  600| OFF|\n",
    "|C   |10  |50  |1   |1   |0   |20  |100 |OFF|"
   ]
  },
  {
   "cell_type": "markdown",
   "id": "9eaa60f0",
   "metadata": {},
   "source": [
    "|Period| Demand (MW)|\n",
    "|---|---|\n",
    "|1 | 150|\n",
    "|2 | 300|\n",
    "|3 | 200|"
   ]
  },
  {
   "cell_type": "markdown",
   "id": "6b847ef0",
   "metadata": {},
   "source": [
    "We must call out the features of a real-life UCP that our example does NOT capture.\n",
    "- Ignores unit rampup constraints\n",
    "- Ignores reserve constraints and costs of reserves.\n",
    "- Ignores environmental constraints.\n",
    "- Ignores transmission network constraints.\n",
    "- Assumes marginal costs remain constant over the planning horizon.\n",
    "- Assumes constant startup costs. (Startup costs are often modeled by a piecewise linear approximation of an exponential function of time)\n",
    "- Assumes zero cool-down costs\n",
    "- Assumes zero No-load costs\n",
    "\n",
    "In a real-life UCP some of the above features can cause non-trivial complications. However, our simplified example will serve us well for illustrative purposes."
   ]
  },
  {
   "cell_type": "markdown",
   "id": "c3bb9286",
   "metadata": {},
   "source": [
    "# 3. A simple economic dispatch model with LP <a class=\"anchor\" id=\"A_simple_economic_dispatch_model_with_LP\"></a>\n",
    "\n",
    "Let us start by making some relaxations to our problem (in subsequent sections, we will strike out these relaxations one by one).\n",
    "1. All units are running and available at all times (i.e. we don't have the choice to turn a unit ON/OFF.)\n",
    "2. Startup costs are ignored.\n",
    "3. Minimum up- and down-time constraints do not apply.\n",
    "\n",
    " Now, we are interested in finding the optimal power output of each unit in each time period that minimizes the total marginal cost.\n",
    "\n",
    "Parameters:\n",
    "\n",
    "$c_j$ := Marginal cost of running unit $j$ (\\$/MWh)\n",
    "\n",
    "$D_t$ := Total demand in time slot $t$ (MW)\n",
    "\n",
    "$P_{j, min}$ := Minimum recommended power output for unit $j$ (MW)\n",
    "\n",
    "$P_{j, max}$ := Maximum recommended power output for unit $j$ (MW)\n",
    "\n",
    "$J$ := Indexed set of all generators (a.k.a. units)\n",
    "\n",
    "$T$ := Indexed set of all time slots/periods (a.k.a. planning horizon)\n",
    "\n",
    "Variables:\n",
    "\n",
    "$p_{j,t}$ := Power output of unit $j$ in time slot $t$ (MW)\n",
    "\n",
    "Since we are only considering the marginal costs of runnint the units, the objective is pretty straightforward\n",
    "\n",
    "$$\n",
    "    \\text{minimize} \\sum_{t\\in T} \\sum_{j \\in J} c_j p_{j, t}\n",
    "$$\n",
    "\n",
    "There are two sets of constraints we need to consider. The power output of each generating unit must be within the recommended output range. And the total power output of all generating units must satisfy the demand in each time period. We can write these constraints as follows:\n",
    "\n",
    "$$\n",
    "P_{j, min} \\le p_{j, t} \\le P_{j, max}\\ \\text{(Output Range)}\\\\\n",
    "\\sum_{j \\in J} p_{j, t} \\ge D_t\\ \\text{(Demand)}\\\\\n",
    "$$\n",
    "\n",
    "We get the following model\n",
    "\n",
    "$$\n",
    "    \\text{minimize} \\sum_{t\\in T} \\sum_{j \\in J} c_j p_{j, t}\\\\\\tag{LP}\n",
    "     \\text{s.t.}\\quad P_{j, min} \\le p_{j, t} \\le P_{j, max}\\\\\n",
    "     \\sum_{j \\in J} p_{j, t} \\ge D_t\n",
    "$$"
   ]
  },
  {
   "cell_type": "markdown",
   "id": "053815fe",
   "metadata": {},
   "source": [
    "Let us solve (LP) using `cvxpy`."
   ]
  },
  {
   "cell_type": "code",
   "execution_count": 1,
   "id": "b6c69f76",
   "metadata": {},
   "outputs": [],
   "source": [
    "import cvxpy as cp\n",
    "import cvxopt as cv\n",
    "import numpy as np\n",
    "import pandas as pd\n",
    "\n",
    "from solver.utils import get_result_summary, prettify\n",
    "\n",
    "# parameters\n",
    "cA = cp.Parameter(name=\"cA\")\n",
    "cB = cp.Parameter(name=\"cB\")\n",
    "cC = cp.Parameter(name=\"cC\")\n",
    "\n",
    "p_min_A = cp.Parameter(name=\"p_min_A\")\n",
    "p_min_B = cp.Parameter(name=\"p_min_B\")\n",
    "p_min_C = cp.Parameter(name=\"p_min_C\")\n",
    "\n",
    "p_max_A = cp.Parameter(name=\"p_max_A\")\n",
    "p_max_B = cp.Parameter(name=\"p_max_B\")\n",
    "p_max_C = cp.Parameter(name=\"p_max_C\")\n",
    "\n",
    "D1 = cp.Parameter(name=\"D1\")\n",
    "D2 = cp.Parameter(name=\"D2\")\n",
    "D3 = cp.Parameter(name=\"D3\")\n",
    "\n",
    "# set param values\n",
    "cA.value = 10\n",
    "cB.value = 12\n",
    "cC.value = 20\n",
    "\n",
    "p_min_A.value = 150\n",
    "p_min_B.value = 50\n",
    "p_min_C.value = 10\n",
    "\n",
    "p_max_A.value = 250\n",
    "p_max_B.value = 100\n",
    "p_max_C.value = 50\n",
    "\n",
    "D1.value = 150\n",
    "D2.value = 300\n",
    "D3.value = 200\n",
    "\n",
    "T = 3"
   ]
  },
  {
   "cell_type": "code",
   "execution_count": 2,
   "id": "f90aea5f",
   "metadata": {},
   "outputs": [],
   "source": [
    "#variables\n",
    "pA1 = cp.Variable(1, nonneg=True, name='pA1')\n",
    "pA2 = cp.Variable(1, nonneg=True, name='pA2')\n",
    "pA3 = cp.Variable(1, nonneg=True, name='pA3')\n",
    "\n",
    "pB1 = cp.Variable(1, nonneg=True, name='pB1')\n",
    "pB2 = cp.Variable(1, nonneg=True, name='pB2')\n",
    "pB3 = cp.Variable(1, nonneg=True, name='pB3')\n",
    "\n",
    "pC1 = cp.Variable(1, nonneg=True, name='pC1')\n",
    "pC2 = cp.Variable(1, nonneg=True, name='pC2')\n",
    "pC3 = cp.Variable(1, nonneg=True, name='pC3')"
   ]
  },
  {
   "cell_type": "code",
   "execution_count": 3,
   "id": "cd92b6ee",
   "metadata": {},
   "outputs": [],
   "source": [
    "obj_LP = cp.Minimize(\n",
    "    cA * (pA1 + pA2 + pA3) +\n",
    "    cB * (pB1 + pB2 + pB3) +\n",
    "    cC * (pC1 + pC2 + pC3)\n",
    ")"
   ]
  },
  {
   "cell_type": "code",
   "execution_count": 4,
   "id": "5aa1add1",
   "metadata": {},
   "outputs": [
    {
     "name": "stdout",
     "output_type": "stream",
     "text": [
      "minimize cA @ (pA1 + pA2 + pA3) + cB @ (pB1 + pB2 + pB3) + cC @ (pC1 + pC2 + pC3)\n"
     ]
    }
   ],
   "source": [
    "print(obj_LP)"
   ]
  },
  {
   "cell_type": "code",
   "execution_count": 5,
   "id": "d4151469",
   "metadata": {},
   "outputs": [],
   "source": [
    "LP_output_range_cons = [\n",
    "    pA1 >= p_min_A,\n",
    "    pA1 <= p_max_A,\n",
    "    pA2 >= p_min_A,\n",
    "    pA2 <= p_max_A,\n",
    "    pA3 >= p_min_A,\n",
    "    pA3 <= p_max_A,\n",
    "    \n",
    "    pB1 >= p_min_B,\n",
    "    pB1 <= p_max_B,\n",
    "    pB2 >= p_min_B,\n",
    "    pB2 <= p_max_B,\n",
    "    pB3 >= p_min_B,\n",
    "    pB3 <= p_max_B,\n",
    "    \n",
    "    pC1 >= p_min_C,\n",
    "    pC1 <= p_max_C,\n",
    "    pC2 >= p_min_C,\n",
    "    pC2 <= p_max_C,\n",
    "    pC3 >= p_min_C,\n",
    "    pC3 <= p_max_C,\n",
    "]\n",
    "\n",
    "LP_demand_cons = [\n",
    "    pA1 + pB1 + pC1 >= D1,\n",
    "    pA2 + pB2 + pC2 >= D2,\n",
    "    pA3 + pB3 + pC3 >= D3,\n",
    "]\n",
    " \n",
    "cons_LP = LP_output_range_cons + LP_demand_cons"
   ]
  },
  {
   "cell_type": "code",
   "execution_count": 6,
   "id": "e6afac6e",
   "metadata": {
    "scrolled": false
   },
   "outputs": [
    {
     "name": "stdout",
     "output_type": "stream",
     "text": [
      "p_min_A <= pA1\n",
      "pA1 <= p_max_A\n",
      "p_min_A <= pA2\n",
      "pA2 <= p_max_A\n",
      "p_min_A <= pA3\n",
      "pA3 <= p_max_A\n",
      "p_min_B <= pB1\n",
      "pB1 <= p_max_B\n",
      "p_min_B <= pB2\n",
      "pB2 <= p_max_B\n",
      "p_min_B <= pB3\n",
      "pB3 <= p_max_B\n",
      "p_min_C <= pC1\n",
      "pC1 <= p_max_C\n",
      "p_min_C <= pC2\n",
      "pC2 <= p_max_C\n",
      "p_min_C <= pC3\n",
      "pC3 <= p_max_C\n",
      "D1 <= pA1 + pB1 + pC1\n",
      "D2 <= pA2 + pB2 + pC2\n",
      "D3 <= pA3 + pB3 + pC3\n"
     ]
    }
   ],
   "source": [
    "for c in cons_LP:\n",
    "    print(c)"
   ]
  },
  {
   "cell_type": "code",
   "execution_count": 7,
   "id": "de04f3b6",
   "metadata": {},
   "outputs": [
    {
     "name": "stdout",
     "output_type": "stream",
     "text": [
      "optimal\n",
      "7799.999998684703\n"
     ]
    }
   ],
   "source": [
    "LP = cp.Problem(obj_LP, cons_LP)\n",
    "LP.solve();\n",
    "summary_LP = get_result_summary(LP)\n",
    "\n",
    "print(summary_LP['status'])\n",
    "print(summary_LP['optimal_value'])"
   ]
  },
  {
   "cell_type": "code",
   "execution_count": 8,
   "id": "6c8f426b",
   "metadata": {},
   "outputs": [
    {
     "data": {
      "text/html": [
       "<div>\n",
       "<style scoped>\n",
       "    .dataframe tbody tr th:only-of-type {\n",
       "        vertical-align: middle;\n",
       "    }\n",
       "\n",
       "    .dataframe tbody tr th {\n",
       "        vertical-align: top;\n",
       "    }\n",
       "\n",
       "    .dataframe thead th {\n",
       "        text-align: right;\n",
       "    }\n",
       "</style>\n",
       "<table border=\"1\" class=\"dataframe\">\n",
       "  <thead>\n",
       "    <tr style=\"text-align: right;\">\n",
       "      <th></th>\n",
       "      <th>variable</th>\n",
       "      <th>value</th>\n",
       "    </tr>\n",
       "  </thead>\n",
       "  <tbody>\n",
       "    <tr>\n",
       "      <th>0</th>\n",
       "      <td>pA1</td>\n",
       "      <td>150.0</td>\n",
       "    </tr>\n",
       "    <tr>\n",
       "      <th>1</th>\n",
       "      <td>pA2</td>\n",
       "      <td>240.0</td>\n",
       "    </tr>\n",
       "    <tr>\n",
       "      <th>2</th>\n",
       "      <td>pA3</td>\n",
       "      <td>150.0</td>\n",
       "    </tr>\n",
       "    <tr>\n",
       "      <th>3</th>\n",
       "      <td>pB1</td>\n",
       "      <td>50.0</td>\n",
       "    </tr>\n",
       "    <tr>\n",
       "      <th>4</th>\n",
       "      <td>pB2</td>\n",
       "      <td>50.0</td>\n",
       "    </tr>\n",
       "    <tr>\n",
       "      <th>5</th>\n",
       "      <td>pB3</td>\n",
       "      <td>50.0</td>\n",
       "    </tr>\n",
       "    <tr>\n",
       "      <th>6</th>\n",
       "      <td>pC1</td>\n",
       "      <td>10.0</td>\n",
       "    </tr>\n",
       "    <tr>\n",
       "      <th>7</th>\n",
       "      <td>pC2</td>\n",
       "      <td>10.0</td>\n",
       "    </tr>\n",
       "    <tr>\n",
       "      <th>8</th>\n",
       "      <td>pC3</td>\n",
       "      <td>10.0</td>\n",
       "    </tr>\n",
       "  </tbody>\n",
       "</table>\n",
       "</div>"
      ],
      "text/plain": [
       "  variable  value\n",
       "0      pA1  150.0\n",
       "1      pA2  240.0\n",
       "2      pA3  150.0\n",
       "3      pB1   50.0\n",
       "4      pB2   50.0\n",
       "5      pB3   50.0\n",
       "6      pC1   10.0\n",
       "7      pC2   10.0\n",
       "8      pC3   10.0"
      ]
     },
     "execution_count": 8,
     "metadata": {},
     "output_type": "execute_result"
    }
   ],
   "source": [
    "prettify(summary_LP['optimal_solution'])"
   ]
  },
  {
   "cell_type": "markdown",
   "id": "973263dd",
   "metadata": {},
   "source": [
    "The minimum marginal cost of running the three units over the horizon is <mark> $7799.99 </mark>. Also note that unit A runs at minimum capacity during periods 1 and 3. During the peak period 2, the output of unit A is increased to meet the increased demand while units B and C continue to run at minimum capacity throughout the horizon. This makes sense because units B and C have a higher marginal cost than unit A. In the next section, we will consider a model which allows us to choose which units are ON during each slot. But first, let us analyze the current solution in depth."
   ]
  },
  {
   "cell_type": "markdown",
   "id": "a4418bc5",
   "metadata": {},
   "source": [
    "### 3.1. Sensitivity analysis usig Duality <a class=\"anchor\" id=\"sensitivity_analysis_LP\">\n",
    "\n",
    "For a primal-dual optimal pair $(x^*, y^*)$ for an LP, we havet the following results.\n",
    "    \n",
    "\\begin{equation}\\tag{Zero duality gap}\n",
    "    b^T y^* = c^T x^*\n",
    "\\end{equation}\n",
    "    \n",
    "$$y_i^*\\left[ Ax^* - b\\right]_i = 0\\ ,\\ i=1, ..., m \\tag{Complementary slackness}$$\n",
    "\n",
    "Zero duality gap implies that, whenever $y_i^* > 0$, reducing $b_i$ will improve the optimal value. Complementary slackness implies that whenever $y_i^* > 0$, $\\left[Ax^* - b\\right]_i = 0$, which implies that the $i$th constraint is **active**. Note that changing $b_i$ will improve the optimal value only while the $i$th constraint is active. Reducing $b_i$ beyond that point may not improve the optimal value any more. Next, we will identify active constraints and improve the optimal value by using the above ideas."
   ]
  },
  {
   "cell_type": "code",
   "execution_count": 9,
   "id": "1d6f42b8",
   "metadata": {
    "scrolled": false
   },
   "outputs": [],
   "source": [
    "def print_active_constraints(constraints: list):\n",
    "    for constraint in constraints:\n",
    "        if constraint.dual_value > 1.0e-5:\n",
    "            print('> active constaint: \"{}\", dual_value: {}'.format(\n",
    "                constraint, np.round(constraint.dual_value)))"
   ]
  },
  {
   "cell_type": "code",
   "execution_count": 10,
   "id": "e3b73c79",
   "metadata": {
    "scrolled": false
   },
   "outputs": [
    {
     "name": "stdout",
     "output_type": "stream",
     "text": [
      "> active constaint: \"p_min_A <= pA1\", dual_value: [10.]\n",
      "> active constaint: \"p_min_A <= pA3\", dual_value: [10.]\n",
      "> active constaint: \"p_min_B <= pB1\", dual_value: [12.]\n",
      "> active constaint: \"p_min_B <= pB2\", dual_value: [2.]\n",
      "> active constaint: \"p_min_B <= pB3\", dual_value: [12.]\n",
      "> active constaint: \"p_min_C <= pC1\", dual_value: [20.]\n",
      "> active constaint: \"p_min_C <= pC2\", dual_value: [10.]\n",
      "> active constaint: \"p_min_C <= pC3\", dual_value: [20.]\n",
      "> active constaint: \"D2 <= pA2 + pB2 + pC2\", dual_value: [10.]\n"
     ]
    }
   ],
   "source": [
    "print_active_constraints(cons_LP)"
   ]
  },
  {
   "cell_type": "markdown",
   "id": "f0fd1c25",
   "metadata": {},
   "source": [
    "Note that all active constraints, except the demand constraint on the last line, are lower-bound constraints on the output range of the units. In other words, by lowering the lower bound on the output range of each unit, we can reduce the total cost. More concretely, lets look at line 1 above. It says that a decrease of 1 unit in `p_min_A` will decrease the optimal cost by \\$10. Since, `p_min_A` appears in constraint 1 as well as constraint 2, a decrease of 1 unit in `p_min_A` will result in a total decrease of \\$20.00 in the total cost. Similarly, each unit of reduction in `p_min_B` will result in a total reduction of $26.00, while each unit of reduction in `p_min_C` will result in a total reduction of \\$50.00!\n",
    "\n",
    "Lets verify the above claim for unit $C$."
   ]
  },
  {
   "cell_type": "code",
   "execution_count": 11,
   "id": "0a4a358d",
   "metadata": {},
   "outputs": [],
   "source": [
    "p_min_C.value = 9 # from 10"
   ]
  },
  {
   "cell_type": "code",
   "execution_count": 12,
   "id": "c990357e",
   "metadata": {
    "scrolled": true
   },
   "outputs": [
    {
     "name": "stdout",
     "output_type": "stream",
     "text": [
      "optimal\n",
      "7749.999995946553\n"
     ]
    }
   ],
   "source": [
    "LP = cp.Problem(obj_LP, cons_LP)\n",
    "LP.solve();\n",
    "summary_LP = get_result_summary(LP)\n",
    "\n",
    "print(summary_LP['status'])\n",
    "print(summary_LP['optimal_value'])"
   ]
  },
  {
   "cell_type": "code",
   "execution_count": 13,
   "id": "88ae3736",
   "metadata": {
    "scrolled": true
   },
   "outputs": [
    {
     "data": {
      "text/html": [
       "<div>\n",
       "<style scoped>\n",
       "    .dataframe tbody tr th:only-of-type {\n",
       "        vertical-align: middle;\n",
       "    }\n",
       "\n",
       "    .dataframe tbody tr th {\n",
       "        vertical-align: top;\n",
       "    }\n",
       "\n",
       "    .dataframe thead th {\n",
       "        text-align: right;\n",
       "    }\n",
       "</style>\n",
       "<table border=\"1\" class=\"dataframe\">\n",
       "  <thead>\n",
       "    <tr style=\"text-align: right;\">\n",
       "      <th></th>\n",
       "      <th>variable</th>\n",
       "      <th>value</th>\n",
       "    </tr>\n",
       "  </thead>\n",
       "  <tbody>\n",
       "    <tr>\n",
       "      <th>0</th>\n",
       "      <td>pA1</td>\n",
       "      <td>150.0</td>\n",
       "    </tr>\n",
       "    <tr>\n",
       "      <th>1</th>\n",
       "      <td>pA2</td>\n",
       "      <td>241.0</td>\n",
       "    </tr>\n",
       "    <tr>\n",
       "      <th>2</th>\n",
       "      <td>pA3</td>\n",
       "      <td>150.0</td>\n",
       "    </tr>\n",
       "    <tr>\n",
       "      <th>3</th>\n",
       "      <td>pB1</td>\n",
       "      <td>50.0</td>\n",
       "    </tr>\n",
       "    <tr>\n",
       "      <th>4</th>\n",
       "      <td>pB2</td>\n",
       "      <td>50.0</td>\n",
       "    </tr>\n",
       "    <tr>\n",
       "      <th>5</th>\n",
       "      <td>pB3</td>\n",
       "      <td>50.0</td>\n",
       "    </tr>\n",
       "    <tr>\n",
       "      <th>6</th>\n",
       "      <td>pC1</td>\n",
       "      <td>9.0</td>\n",
       "    </tr>\n",
       "    <tr>\n",
       "      <th>7</th>\n",
       "      <td>pC2</td>\n",
       "      <td>9.0</td>\n",
       "    </tr>\n",
       "    <tr>\n",
       "      <th>8</th>\n",
       "      <td>pC3</td>\n",
       "      <td>9.0</td>\n",
       "    </tr>\n",
       "  </tbody>\n",
       "</table>\n",
       "</div>"
      ],
      "text/plain": [
       "  variable  value\n",
       "0      pA1  150.0\n",
       "1      pA2  241.0\n",
       "2      pA3  150.0\n",
       "3      pB1   50.0\n",
       "4      pB2   50.0\n",
       "5      pB3   50.0\n",
       "6      pC1    9.0\n",
       "7      pC2    9.0\n",
       "8      pC3    9.0"
      ]
     },
     "execution_count": 13,
     "metadata": {},
     "output_type": "execute_result"
    }
   ],
   "source": [
    "prettify(summary_LP['optimal_solution'])"
   ]
  },
  {
   "cell_type": "markdown",
   "id": "f5bd6176",
   "metadata": {},
   "source": [
    "As expected, the total cost decresed from <mark>\\$7799.99</mark> to <mark>\\$7749.99</mark>! So, if we could lower the lower bound of the output range of one generating unit, that unit must be the unit $C$ because that will give us the best marginal improvement in the total cost.\n",
    "\n",
    "Let us check if the constraints related to the unit $C$ are still active."
   ]
  },
  {
   "cell_type": "code",
   "execution_count": 14,
   "id": "485c58fe",
   "metadata": {},
   "outputs": [
    {
     "name": "stdout",
     "output_type": "stream",
     "text": [
      "> active constaint: \"p_min_A <= pA1\", dual_value: [10.]\n",
      "> active constaint: \"p_min_A <= pA3\", dual_value: [10.]\n",
      "> active constaint: \"p_min_B <= pB1\", dual_value: [12.]\n",
      "> active constaint: \"p_min_B <= pB2\", dual_value: [2.]\n",
      "> active constaint: \"p_min_B <= pB3\", dual_value: [12.]\n",
      "> active constaint: \"p_min_C <= pC1\", dual_value: [20.]\n",
      "> active constaint: \"p_min_C <= pC2\", dual_value: [10.]\n",
      "> active constaint: \"p_min_C <= pC3\", dual_value: [20.]\n",
      "> active constaint: \"D2 <= pA2 + pB2 + pC2\", dual_value: [10.]\n"
     ]
    }
   ],
   "source": [
    "print_active_constraints(cons_LP)"
   ]
  },
  {
   "cell_type": "markdown",
   "id": "c79551d1",
   "metadata": {},
   "source": [
    "As seen above, the constraints associated with `p_min_C` are **still active**. So, we can reduce `p_min_C` even further. Can we make it zero? Let us check."
   ]
  },
  {
   "cell_type": "code",
   "execution_count": 15,
   "id": "5a70309d",
   "metadata": {},
   "outputs": [],
   "source": [
    "p_min_C.value = 0 # from 9"
   ]
  },
  {
   "cell_type": "code",
   "execution_count": 16,
   "id": "ceb706db",
   "metadata": {},
   "outputs": [
    {
     "name": "stdout",
     "output_type": "stream",
     "text": [
      "optimal\n",
      "7299.999999997212\n"
     ]
    }
   ],
   "source": [
    "LP = cp.Problem(obj_LP, cons_LP)\n",
    "LP.solve();\n",
    "summary_LP = get_result_summary(LP)\n",
    "\n",
    "print(summary_LP['status'])\n",
    "print(summary_LP['optimal_value'])"
   ]
  },
  {
   "cell_type": "code",
   "execution_count": 17,
   "id": "91e4e080",
   "metadata": {},
   "outputs": [
    {
     "name": "stdout",
     "output_type": "stream",
     "text": [
      "> active constaint: \"p_min_A <= pA1\", dual_value: [10.]\n",
      "> active constaint: \"pA2 <= p_max_A\", dual_value: [1.]\n",
      "> active constaint: \"p_min_A <= pA3\", dual_value: [3.]\n",
      "> active constaint: \"p_min_B <= pB1\", dual_value: [12.]\n",
      "> active constaint: \"p_min_B <= pB2\", dual_value: [1.]\n",
      "> active constaint: \"p_min_B <= pB3\", dual_value: [5.]\n",
      "> active constaint: \"p_min_C <= pC1\", dual_value: [10.]\n",
      "> active constaint: \"p_min_C <= pC2\", dual_value: [4.]\n",
      "> active constaint: \"p_min_C <= pC3\", dual_value: [7.]\n",
      "> active constaint: \"D2 <= pA2 + pB2 + pC2\", dual_value: [11.]\n",
      "> active constaint: \"D3 <= pA3 + pB3 + pC3\", dual_value: [7.]\n"
     ]
    }
   ],
   "source": [
    "print_active_constraints(cons_LP)"
   ]
  },
  {
   "cell_type": "markdown",
   "id": "98904ae5",
   "metadata": {},
   "source": [
    "Interestingly, even after making `p_min_C = 0`, the constraints are **still active**, although the values of the corresponding dual variables have now changed. Also note that some new constraints have become active (see constraint 2 above).\n",
    "\n",
    "Can we reduce `p_min_C` even further? In real life, assigning a negative value to `p_min_C` would not make sense. However, we will do it anyway for illustrative purposes."
   ]
  },
  {
   "cell_type": "code",
   "execution_count": 18,
   "id": "fc55310f",
   "metadata": {},
   "outputs": [],
   "source": [
    "p_min_C.value = -1 # from 0"
   ]
  },
  {
   "cell_type": "code",
   "execution_count": 19,
   "id": "8b27f198",
   "metadata": {},
   "outputs": [
    {
     "name": "stdout",
     "output_type": "stream",
     "text": [
      "optimal\n",
      "7300.000000167821\n"
     ]
    }
   ],
   "source": [
    "LP = cp.Problem(obj_LP, cons_LP)\n",
    "LP.solve();\n",
    "summary_LP = get_result_summary(LP)\n",
    "\n",
    "print(summary_LP['status'])\n",
    "print(summary_LP['optimal_value'])"
   ]
  },
  {
   "cell_type": "code",
   "execution_count": 20,
   "id": "fb343352",
   "metadata": {},
   "outputs": [
    {
     "name": "stdout",
     "output_type": "stream",
     "text": [
      "> active constaint: \"p_min_A <= pA1\", dual_value: [10.]\n",
      "> active constaint: \"pA2 <= p_max_A\", dual_value: [1.]\n",
      "> active constaint: \"p_min_A <= pA3\", dual_value: [3.]\n",
      "> active constaint: \"p_min_B <= pB1\", dual_value: [12.]\n",
      "> active constaint: \"p_min_B <= pB2\", dual_value: [1.]\n",
      "> active constaint: \"p_min_B <= pB3\", dual_value: [5.]\n",
      "> active constaint: \"D2 <= pA2 + pB2 + pC2\", dual_value: [11.]\n",
      "> active constaint: \"D3 <= pA3 + pB3 + pC3\", dual_value: [7.]\n"
     ]
    }
   ],
   "source": [
    "print_active_constraints(cons_LP)"
   ]
  },
  {
   "cell_type": "markdown",
   "id": "87031aa3",
   "metadata": {},
   "source": [
    "At last, the constraints related to `p_min_C` **are no longer active**. As expected, reducing `p_min_C` from 0 to -1 did NOT reduce the optimal value (which stayed constant at \\$7300). Hence, we conclude that no more benefit can be derived by reducing `p_min_C` any further. A similar analysis can be performed for each of the constraints that are active in the initial optimal solution individually or simultaneously.\n",
    "\n",
    "It is worth noting that the results of the above analysis hold for small changes to the $b$ vector only. This is because large changes to the $b$ vector may change the shape of the feasible region too much and the predicted changes to the optimal value may not hold. More concretely, we know that, **for fixed objective function coefficients $\\hat{c}$, the optimal value function $\\phi(b, \\hat{c})$ is piecewise linear and convex over $K_b$, the admissible set for $b$** [[3]](#References). In other words, $\\phi$ is determined by a particular linear function over each *critical region* of the admissible set. It is this linearity of the optimal value function that allows us to predict the changes to the optimal value as a function of changes in $b$. However, this linearity only holds as long as we stay within a particular critical region. Large changes to $b$ may take us out of the critical region where $\\phi$ is determined by a different linear function. As a result, our predicted changes to $\\phi$ will no longer hold.\n",
    "\n",
    "So far we only talked about perturbations to the $b$ vector. Note that the perturbations to the $c$ vector can be analyzed in a similar way by considering the Dual problem of (LP) where the $c$ vector takes the place of the $b$ vector and the convexity of $\\phi$ is replaced by concavity. Moreover, we have only considered methods that attempt to describe changes to the optimal value analytically as $b$ or $c$ (or both) are perturbed. Next, we look at an approach called *parametric sensitivity analysis* where we try to directly characterize the optimal value function $\\phi(b, c)$ by computing its gradient at various point values of $(b, c)$"
   ]
  },
  {
   "cell_type": "code",
   "execution_count": 21,
   "id": "72b5618c",
   "metadata": {},
   "outputs": [],
   "source": [
    "p_min_C.value = 10 # reset"
   ]
  },
  {
   "cell_type": "code",
   "execution_count": 22,
   "id": "f92dd8e2",
   "metadata": {},
   "outputs": [
    {
     "name": "stdout",
     "output_type": "stream",
     "text": [
      "optimal\n",
      "7799.999998684703\n"
     ]
    }
   ],
   "source": [
    "LP = cp.Problem(obj_LP, cons_LP)\n",
    "LP.solve();\n",
    "summary_LP = get_result_summary(LP)\n",
    "\n",
    "print(summary_LP['status'])\n",
    "print(summary_LP['optimal_value'])"
   ]
  },
  {
   "cell_type": "code",
   "execution_count": 23,
   "id": "013220e1",
   "metadata": {},
   "outputs": [
    {
     "data": {
      "text/html": [
       "<div>\n",
       "<style scoped>\n",
       "    .dataframe tbody tr th:only-of-type {\n",
       "        vertical-align: middle;\n",
       "    }\n",
       "\n",
       "    .dataframe tbody tr th {\n",
       "        vertical-align: top;\n",
       "    }\n",
       "\n",
       "    .dataframe thead th {\n",
       "        text-align: right;\n",
       "    }\n",
       "</style>\n",
       "<table border=\"1\" class=\"dataframe\">\n",
       "  <thead>\n",
       "    <tr style=\"text-align: right;\">\n",
       "      <th></th>\n",
       "      <th>variable</th>\n",
       "      <th>value</th>\n",
       "    </tr>\n",
       "  </thead>\n",
       "  <tbody>\n",
       "    <tr>\n",
       "      <th>0</th>\n",
       "      <td>pA1</td>\n",
       "      <td>150.0</td>\n",
       "    </tr>\n",
       "    <tr>\n",
       "      <th>1</th>\n",
       "      <td>pA2</td>\n",
       "      <td>240.0</td>\n",
       "    </tr>\n",
       "    <tr>\n",
       "      <th>2</th>\n",
       "      <td>pA3</td>\n",
       "      <td>150.0</td>\n",
       "    </tr>\n",
       "    <tr>\n",
       "      <th>3</th>\n",
       "      <td>pB1</td>\n",
       "      <td>50.0</td>\n",
       "    </tr>\n",
       "    <tr>\n",
       "      <th>4</th>\n",
       "      <td>pB2</td>\n",
       "      <td>50.0</td>\n",
       "    </tr>\n",
       "    <tr>\n",
       "      <th>5</th>\n",
       "      <td>pB3</td>\n",
       "      <td>50.0</td>\n",
       "    </tr>\n",
       "    <tr>\n",
       "      <th>6</th>\n",
       "      <td>pC1</td>\n",
       "      <td>10.0</td>\n",
       "    </tr>\n",
       "    <tr>\n",
       "      <th>7</th>\n",
       "      <td>pC2</td>\n",
       "      <td>10.0</td>\n",
       "    </tr>\n",
       "    <tr>\n",
       "      <th>8</th>\n",
       "      <td>pC3</td>\n",
       "      <td>10.0</td>\n",
       "    </tr>\n",
       "  </tbody>\n",
       "</table>\n",
       "</div>"
      ],
      "text/plain": [
       "  variable  value\n",
       "0      pA1  150.0\n",
       "1      pA2  240.0\n",
       "2      pA3  150.0\n",
       "3      pB1   50.0\n",
       "4      pB2   50.0\n",
       "5      pB3   50.0\n",
       "6      pC1   10.0\n",
       "7      pC2   10.0\n",
       "8      pC3   10.0"
      ]
     },
     "execution_count": 23,
     "metadata": {},
     "output_type": "execute_result"
    }
   ],
   "source": [
    "prettify(summary_LP['optimal_solution'])"
   ]
  },
  {
   "cell_type": "markdown",
   "id": "6ba4d17f",
   "metadata": {},
   "source": [
    "### 3.2. Parametric Sensitivity Analysis\n",
    "#### Along a change direction\n",
    "Suppose we want to investigate how the optimal value will change if the $c$ vector is perturbed along a particular direction, $g$, while keeping the $b$ vector fixed. Then we can write $c = \\hat{c} + \\gamma g$. We can write the optimal value function as a function of $\\gamma$\n",
    "\n",
    "$$z(\\gamma) = \\phi(\\hat{b}, \\hat{c} + \\gamma g )$$\n",
    "\n",
    "We know that $z(\\gamma)$ is piecewise linear and concave. Hence, plotting he graph of $z(\\gamma)$ will literally show us how the optimal value will change as we move along the direction $g$. Moreover, a similar analysis can be done for the $b$ vector while keeping the $c$ vector fixed. Both these scenarios are shown in the figure below. As expected, the graph of $\\phi(\\hat{b}, c)$ is concave (although very slightly) and the graph of $\\phi(b, \\hat{c})$ is convex (although very slightly)."
   ]
  },
  {
   "cell_type": "code",
   "execution_count": 24,
   "id": "65135308",
   "metadata": {},
   "outputs": [
    {
     "data": {
      "text/plain": [
       "[('cA', 10),\n",
       " ('cB', 12),\n",
       " ('cC', 20),\n",
       " ('p_min_A', 150),\n",
       " ('p_max_A', 250),\n",
       " ('p_min_B', 50),\n",
       " ('p_max_B', 100),\n",
       " ('p_min_C', 10),\n",
       " ('p_max_C', 50),\n",
       " ('D1', 150),\n",
       " ('D2', 300),\n",
       " ('D3', 200)]"
      ]
     },
     "execution_count": 24,
     "metadata": {},
     "output_type": "execute_result"
    }
   ],
   "source": [
    "[(p.name(), p.value ) for p in LP.parameters()]"
   ]
  },
  {
   "cell_type": "code",
   "execution_count": 82,
   "id": "a6fe7564",
   "metadata": {},
   "outputs": [
    {
     "name": "stdout",
     "output_type": "stream",
     "text": [
      "change vector for c:  [ 3.92860151 -1.68020195  3.21229123]\n",
      "change vector for b:  [-4.58303374 -3.9234332   0.95052064  0.29817362 -0.81192571 -1.64592151\n",
      "  1.22519432 -0.61858574  2.35882106]\n"
     ]
    }
   ],
   "source": [
    "c_params = [p for p in LP.parameters() if p.name() in ['cA', 'cB', 'cC']]\n",
    "b_params = [p for p in LP.parameters() if p.name() in [\n",
    "    'p_min_A',\n",
    "    'p_max_A',\n",
    "    'p_min_B',\n",
    "    'p_max_B',\n",
    "    'p_min_C',\n",
    "    'p_max_C',\n",
    "    'D1',\n",
    "    'D2',\n",
    "    'D3']]\n",
    "\n",
    "np.random.seed(6)\n",
    "c_change_vector = (np.random.random(len(c_params)) - 0.5) * 10\n",
    "b_change_vector = (np.random.random(len(b_params)) -0.5) * 10\n",
    "\n",
    "print('change vector for c: ', c_change_vector)\n",
    "print('change vector for b: ', b_change_vector)"
   ]
  },
  {
   "cell_type": "code",
   "execution_count": 70,
   "id": "f93e6c75",
   "metadata": {},
   "outputs": [],
   "source": [
    "def evaluate_optimal_value_function(LP, param_vector,\n",
    "                                    change_vector,\n",
    "                                    gamma=[0, .25, .5, 1]):\n",
    "    assert len(param_vector) == len(change_vector)\n",
    "    z = []\n",
    "    for g in gamma:\n",
    "        # move by g along the change vector\n",
    "        for i in range(len((param_vector))):\n",
    "            param_vector[i].value += g * change_vector[i]\n",
    "        LP.solve();\n",
    "        z.append(LP.value)\n",
    "\n",
    "        # reset params\n",
    "        for i in range(len((param_vector))):\n",
    "            param_vector[i].value -= g * change_vector[i]\n",
    "    return z"
   ]
  },
  {
   "cell_type": "code",
   "execution_count": 71,
   "id": "922cd826",
   "metadata": {},
   "outputs": [],
   "source": [
    "gamma = [0.0, 0.25, 0.50, 0.75, 1.0]\n",
    "z_c = evaluate_optimal_value_function(LP, c_params,\n",
    "                                      c_change_vector,\n",
    "                                      gamma=gamma)\n",
    "\n",
    "z_b = evaluate_optimal_value_function(LP, b_params,\n",
    "                                      b_change_vector,\n",
    "                                      gamma=gamma)"
   ]
  },
  {
   "cell_type": "code",
   "execution_count": 79,
   "id": "2d56e5d2",
   "metadata": {},
   "outputs": [
    {
     "data": {
      "text/plain": [
       "<matplotlib.legend.Legend at 0x7fb16d1b0b10>"
      ]
     },
     "execution_count": 79,
     "metadata": {},
     "output_type": "execute_result"
    },
    {
     "data": {
      "image/png": "[encoded data removed]",
      "text/plain": [
       "<Figure size 600x400 with 1 Axes>"
      ]
     },
     "metadata": {},
     "output_type": "display_data"
    }
   ],
   "source": [
    "import matplotlib.pyplot as plt\n",
    "\n",
    "plt.figure(figsize=(6, 4), layout='constrained')\n",
    "plt.plot(gamma, z_c, color='#1f77b4', label=r'$\\phi(\\hat{b}, c)$')  # Plot some data on the (implicit) axes.\n",
    "plt.plot(gamma, z_b, color='orange', label=r'$\\phi(b, \\hat{c})$')\n",
    "plt.xlabel(r'$\\gamma$')\n",
    "plt.ylabel(r'$z (\\gamma)$')\n",
    "plt.title(\"Optimal Value Function\\n (Along a change vector)\")\n",
    "plt.legend()"
   ]
  },
  {
   "cell_type": "markdown",
   "id": "63b34aae",
   "metadata": {},
   "source": [
    "#### By computing the gradient of $\\phi$\n",
    "\n",
    "Sensitivity analysis becomes more involved when $b$ and $c$ are varied simultaneously. Fortunately, we know that the optimal value function $\\phi(b, c)$ is piecewise quadratic and continuous over the admissible set $K = K_b \\times K_c$ where $K_b$ and $K_c$ are the admissible sets for $b$ and $c$ respectively [[3]](#References). Therefore, we can conclude that $\\phi$ is differentiable almost everywhere on $K$ (except for some zero measure degenerate set comprising the boundaries for various critical regions). We will compute the derivative of $\\phi$ at various point values $(\\hat{b}, \\hat{c})$ to get a sense of how the optimal value will change in response to a given change in the parameters at a fixed optimal solution $x^*$. In particular, we are interested in parameters with greatest magnitude in the gradient vector $\\nabla \\phi$. These are the most **sensitive parameters**, and care must be taken to ensure their accuracy.\n",
    "\n",
    "Of course, as mentioned in the previous section, the optimal solution $x^*$ may itself change as a result of perturbations in $(b, c)$. There are methods to summarize the region in parameter space (a.k.a. critical set) for which a given $x^*$ remains optimal (for details see [[3]](#References)). However, for the sake of simplicity we will not delve into such methods here."
   ]
  },
  {
   "cell_type": "code",
   "execution_count": 24,
   "id": "7d716ab7",
   "metadata": {},
   "outputs": [
    {
     "name": "stdout",
     "output_type": "stream",
     "text": [
      "param: cA, delta: -0.01, obj_change: -5.404835539526175\n",
      "param: cB, delta: -0.01, obj_change: -1.500006735353054\n",
      "param: cC, delta: -0.01, obj_change: -0.3014224138632926\n",
      "param: p_min_A, delta: -0.01, obj_change: -0.20098007302658516\n",
      "param: p_max_A, delta: -0.01, obj_change: -0.030931145365684642\n",
      "param: p_min_B, delta: -0.01, obj_change: -0.2546690913623024\n",
      "param: p_max_B, delta: -0.01, obj_change: -0.006609240559555474\n",
      "param: p_min_C, delta: -0.01, obj_change: -0.49320348214769183\n",
      "param: p_max_C, delta: -0.01, obj_change: -0.006817099558247719\n",
      "param: D1, delta: -0.01, obj_change: 0.0025338151726828073\n",
      "param: D2, delta: -0.01, obj_change: -0.10093881691591378\n",
      "param: D3, delta: -0.01, obj_change: 0.0012138022902945522\n"
     ]
    }
   ],
   "source": [
    "for param in LP.parameters():\n",
    "    param.value += delta\n",
    "    LP.solve(requires_grad=True)\n",
    "    LP.derivative()\n",
    "    print(\n",
    "        'param: {}, delta: {}, obj_change: {}'.format(\n",
    "        param.name(), delta, LP.value - c_star))\n",
    "    param.value -= delta"
   ]
  },
  {
   "cell_type": "markdown",
   "id": "54eaba40",
   "metadata": {},
   "source": [
    "As seen above, the three most sensitive parameters are `cA`, `cB` and `p_min_C` in that order. Care must be taken to ensure that these parameters are estimated / specified accurately. A negative error in these parameters will lead to an underestimation of the total cost and vice-versa. On the other hand, none of the demand parameters seem to be sensitive. So, our model is relatively insensitive to imprecise specification of the demand."
   ]
  },
  {
   "cell_type": "markdown",
   "id": "a3cf2457",
   "metadata": {},
   "source": [
    "# 4. A first MIP formulation <a class=\"anchor\" id=\"A_first_MIP_formulation\"></a>"
   ]
  },
  {
   "cell_type": "markdown",
   "id": "9495867b",
   "metadata": {},
   "source": [
    "Next, we formulate the first version of a Mixed Integer Program for our problem. Here, we get rid of the first relaxation:\n",
    "1. ~All units are running and available at all times. I.e. we don't have the choice to turn a unit ON/OFF.~\n",
    "2. Startup costs are ignored.\n",
    "3. Minimum up- and down-time constraints do not apply.\n",
    "\n",
    "We now have the choice to turn one or more units ON/OFF during any of the time slots. We will use a set of binary variables to model this choice.\n",
    "\n",
    "$$\n",
    "u_{j, t} :=\n",
    "\\begin{cases}\n",
    "   1 &\\text{if unit $j$ is ON in slot $t$}\\\\\n",
    "   0 &\\text{otherwise }\n",
    "\\end{cases}\n",
    "$$"
   ]
  },
  {
   "cell_type": "markdown",
   "id": "31102a33",
   "metadata": {},
   "source": [
    "Our objective as well as the demand constraint remain unchanged. However, the output range constraint needs to be modified in order to incorporate the new $u_{j, t}$ variables.\n",
    "\n",
    "$$\n",
    "P_{j, min} u_{j, t} \\le p_{j, t} \\le P_{j, max} u_{j, t}\\ \\text{(Output Range)}\\\\\n",
    "$$\n",
    "\n",
    "Note that in the above formulation, if the unit $j$ is OFF in period $t$, the power output $p_{j, t}$ is forced to be zero, so that we don't have any power output contribution from an OFF unit. Below is the new MIP model\n",
    "\n"
   ]
  },
  {
   "cell_type": "markdown",
   "id": "3df5bbc4",
   "metadata": {},
   "source": [
    "$$\n",
    "    \\text{minimize} \\sum_{t\\in T} \\sum_{j \\in J} c_j p_{j, t}\\\\ \\tag{MIP-1}\n",
    "     \\text{s.t.}\\quad P_{j, min} u_{j, t} \\le p_{j, t} \\le P_{j, max} u_{j, t}\\\\ \n",
    "     \\sum_{j \\in J} p_{j, t} \\ge D_t\\\\\n",
    "     u_{j, t} \\in \\{0, 1\\} \\ \\forall\\ j, t\n",
    "$$"
   ]
  },
  {
   "cell_type": "markdown",
   "id": "d3a53ea2",
   "metadata": {},
   "source": [
    "Let's solve (MIP-1) with `cxvpy`"
   ]
  },
  {
   "cell_type": "code",
   "execution_count": 25,
   "id": "b0571704",
   "metadata": {},
   "outputs": [],
   "source": [
    "# ON/OFF variables\n",
    "uA1 = cp.Variable(1, boolean=True, name='uA1')\n",
    "uA2 = cp.Variable(1, boolean=True, name='uA2')\n",
    "uA3 = cp.Variable(1, boolean=True, name='uA3')\n",
    "\n",
    "uB1 = cp.Variable(1, boolean=True, name='uB1')\n",
    "uB2 = cp.Variable(1, boolean=True, name='uB2')\n",
    "uB3 = cp.Variable(1, boolean=True, name='uB3')\n",
    "\n",
    "uC1 = cp.Variable(1, boolean=True, name='uC1')\n",
    "uC2 = cp.Variable(1, boolean=True, name='uC2')\n",
    "uC3 = cp.Variable(1, boolean=True, name='uC3')"
   ]
  },
  {
   "cell_type": "code",
   "execution_count": 26,
   "id": "d82e56a4",
   "metadata": {},
   "outputs": [],
   "source": [
    "# Objective remains unchanged\n",
    "obj_MIP1 = LP.objective"
   ]
  },
  {
   "cell_type": "code",
   "execution_count": 27,
   "id": "76c202ae",
   "metadata": {},
   "outputs": [],
   "source": [
    "# New constraints\n",
    "MIP1_output_range_cons = [\n",
    "    # output range\n",
    "    pA1 >= p_min_A * uA1,\n",
    "    pA1 <= p_max_A * uA1,\n",
    "    pA2 >= p_min_A * uA2,\n",
    "    pA2 <= p_max_A * uA2,\n",
    "    pA3 >= p_min_A * uA3,\n",
    "    pA3 <= p_max_A * uA3,\n",
    "    \n",
    "    pB1 >= p_min_B * uB1,\n",
    "    pB1 <= p_max_B * uB1,\n",
    "    pB2 >= p_min_B * uB2,\n",
    "    pB2 <= p_max_B * uB2,\n",
    "    pB3 >= p_min_B * uB3,\n",
    "    pB3 <= p_max_B * uB3,\n",
    "    \n",
    "    pC1 >= p_min_C * uC1,\n",
    "    pC1 <= p_max_C * uC1,\n",
    "    pC2 >= p_min_C * uC2,\n",
    "    pC2 <= p_max_C * uC2,\n",
    "    pC3 >= p_min_C * uC3,\n",
    "    pC3 <= p_max_C * uC3,\n",
    "]\n",
    "\n",
    "cons_MIP1 = MIP1_output_range_cons + LP_demand_cons # demand constraints don't change"
   ]
  },
  {
   "cell_type": "code",
   "execution_count": 28,
   "id": "ac387dc2",
   "metadata": {},
   "outputs": [
    {
     "name": "stdout",
     "output_type": "stream",
     "text": [
      "optimal\n",
      "6600.0\n"
     ]
    }
   ],
   "source": [
    "MIP1 = cp.Problem(obj_MIP1, cons_MIP1)\n",
    "MIP1.solve();\n",
    "summary_MIP1 = get_result_summary(MIP1)\n",
    "\n",
    "print(summary_MIP1['status'])\n",
    "print(summary_MIP1['optimal_value'])"
   ]
  },
  {
   "cell_type": "code",
   "execution_count": 29,
   "id": "da574fa6",
   "metadata": {},
   "outputs": [
    {
     "data": {
      "text/html": [
       "<div>\n",
       "<style scoped>\n",
       "    .dataframe tbody tr th:only-of-type {\n",
       "        vertical-align: middle;\n",
       "    }\n",
       "\n",
       "    .dataframe tbody tr th {\n",
       "        vertical-align: top;\n",
       "    }\n",
       "\n",
       "    .dataframe thead th {\n",
       "        text-align: right;\n",
       "    }\n",
       "</style>\n",
       "<table border=\"1\" class=\"dataframe\">\n",
       "  <thead>\n",
       "    <tr style=\"text-align: right;\">\n",
       "      <th></th>\n",
       "      <th>variable</th>\n",
       "      <th>value</th>\n",
       "    </tr>\n",
       "  </thead>\n",
       "  <tbody>\n",
       "    <tr>\n",
       "      <th>0</th>\n",
       "      <td>pA1</td>\n",
       "      <td>150.0</td>\n",
       "    </tr>\n",
       "    <tr>\n",
       "      <th>1</th>\n",
       "      <td>pA2</td>\n",
       "      <td>250.0</td>\n",
       "    </tr>\n",
       "    <tr>\n",
       "      <th>2</th>\n",
       "      <td>pA3</td>\n",
       "      <td>200.0</td>\n",
       "    </tr>\n",
       "    <tr>\n",
       "      <th>3</th>\n",
       "      <td>pB1</td>\n",
       "      <td>0.0</td>\n",
       "    </tr>\n",
       "    <tr>\n",
       "      <th>4</th>\n",
       "      <td>pB2</td>\n",
       "      <td>50.0</td>\n",
       "    </tr>\n",
       "    <tr>\n",
       "      <th>5</th>\n",
       "      <td>pB3</td>\n",
       "      <td>-0.0</td>\n",
       "    </tr>\n",
       "    <tr>\n",
       "      <th>6</th>\n",
       "      <td>pC1</td>\n",
       "      <td>0.0</td>\n",
       "    </tr>\n",
       "    <tr>\n",
       "      <th>7</th>\n",
       "      <td>pC2</td>\n",
       "      <td>-0.0</td>\n",
       "    </tr>\n",
       "    <tr>\n",
       "      <th>8</th>\n",
       "      <td>pC3</td>\n",
       "      <td>-0.0</td>\n",
       "    </tr>\n",
       "    <tr>\n",
       "      <th>9</th>\n",
       "      <td>uA1</td>\n",
       "      <td>1.0</td>\n",
       "    </tr>\n",
       "    <tr>\n",
       "      <th>10</th>\n",
       "      <td>uA2</td>\n",
       "      <td>1.0</td>\n",
       "    </tr>\n",
       "    <tr>\n",
       "      <th>11</th>\n",
       "      <td>uA3</td>\n",
       "      <td>1.0</td>\n",
       "    </tr>\n",
       "    <tr>\n",
       "      <th>12</th>\n",
       "      <td>uB1</td>\n",
       "      <td>0.0</td>\n",
       "    </tr>\n",
       "    <tr>\n",
       "      <th>13</th>\n",
       "      <td>uB2</td>\n",
       "      <td>1.0</td>\n",
       "    </tr>\n",
       "    <tr>\n",
       "      <th>14</th>\n",
       "      <td>uB3</td>\n",
       "      <td>0.0</td>\n",
       "    </tr>\n",
       "    <tr>\n",
       "      <th>15</th>\n",
       "      <td>uC1</td>\n",
       "      <td>0.0</td>\n",
       "    </tr>\n",
       "    <tr>\n",
       "      <th>16</th>\n",
       "      <td>uC2</td>\n",
       "      <td>0.0</td>\n",
       "    </tr>\n",
       "    <tr>\n",
       "      <th>17</th>\n",
       "      <td>uC3</td>\n",
       "      <td>0.0</td>\n",
       "    </tr>\n",
       "  </tbody>\n",
       "</table>\n",
       "</div>"
      ],
      "text/plain": [
       "   variable  value\n",
       "0       pA1  150.0\n",
       "1       pA2  250.0\n",
       "2       pA3  200.0\n",
       "3       pB1    0.0\n",
       "4       pB2   50.0\n",
       "5       pB3   -0.0\n",
       "6       pC1    0.0\n",
       "7       pC2   -0.0\n",
       "8       pC3   -0.0\n",
       "9       uA1    1.0\n",
       "10      uA2    1.0\n",
       "11      uA3    1.0\n",
       "12      uB1    0.0\n",
       "13      uB2    1.0\n",
       "14      uB3    0.0\n",
       "15      uC1    0.0\n",
       "16      uC2    0.0\n",
       "17      uC3    0.0"
      ]
     },
     "execution_count": 29,
     "metadata": {},
     "output_type": "execute_result"
    }
   ],
   "source": [
    "prettify(summary_MIP1['optimal_solution'])"
   ]
  },
  {
   "cell_type": "markdown",
   "id": "338b1bdc",
   "metadata": {},
   "source": [
    "The optimal cost with the basic MIP model turns out to be <mark>$6600</mark>. Note that this is <mark>\\$1200 cheaper</mark> than the result of the (LP) model. Indeed, being able to choose which units to commit during each time slot has saved us some money!\n",
    "\n",
    "Note that the model chose to fulfill all of the demand in period 1 with unit A, which is the cheapest to run. Both unit B and unit C are more expensive to run and were kept OFF during this period. For the peak demand period, unit B was turned ON to meet the additional demand and was turned back off at the end of the peak period. Unit C, which is the most expensive to run, was never turned ON.\n",
    "\n",
    "**Note:** We will defer the discussion of sensitivity analysis for MIPs to the end once we have developed a relatively complete MIP model for our UCP."
   ]
  },
  {
   "cell_type": "markdown",
   "id": "72239dbf",
   "metadata": {},
   "source": [
    "# 5. An MIP formulation with startup costs <a class=\"anchor\" id=\"An_MIP_model_with_startup_costs\"></a>\n",
    "\n",
    "Here, we get rid of the second relaxation:\n",
    "1. ~All units are running and available at all times. I.e. we don't have the choice to turn a unit ON/OFF.~\n",
    "2. ~Startup costs are ignored.~\n",
    "3. Minimum up- and down-time constraints do not apply.\n",
    "\n",
    "We now consider the startup costs of the units. A unit incurs a startup cost in a time period only if it was started up in that period. We need a binary variable to indicate if a unit was turnd ON in a given period. If so, the unit will incur the startup cost in that period in addition to the marginal cost. (For simplicity, we have assumed the cool-down costs to be $0$.)\n",
    "\n",
    "We introduce a new parameter to denote the startup costs of the units\n",
    "\n",
    "$$\n",
    "    c_j^u := \\text{Startup cost of unit } j\\ (\\$)\n",
    "$$\n",
    "\n",
    "and a new binary variable\n",
    "\n",
    "$$\n",
    "\\alpha_{j, t} :=\n",
    "\\begin{cases}\n",
    "   1 &\\text{if unit $j$ was started in period $t$}\\\\\n",
    "   0 &\\text{otherwise }\n",
    "\\end{cases}\n",
    "$$"
   ]
  },
  {
   "cell_type": "markdown",
   "id": "50b5bbed",
   "metadata": {},
   "source": [
    "The new objective is given by:\n",
    "\n",
    "\\begin{align*}\n",
    "    \\text{minimize} \\sum_{t\\in T} \\sum_{j \\in J} c_j p_{j, t} + \\alpha_{j, t} c_j^u\\\\\n",
    "\\end{align*}"
   ]
  },
  {
   "cell_type": "markdown",
   "id": "3b204a82",
   "metadata": {},
   "source": [
    "The demand constraint as well as the output range constraints remain the same as for (MIP-1). However, we need a new constraint in order to ensure that $\\alpha_{j, t} = 1$ if and only if unit $j$ was started up in period $t$. This constraint can be modelled by the below function\n",
    "\n",
    "$$\\alpha_{j, t} = \\lfloor \\frac{u_{j, t} - u_{j, t-1} + 1}{2} \\rfloor$$\n",
    "\n",
    "The above non-linear function can be expressed in terms of linear constraints as follows:\n",
    "\n",
    "$$\\alpha_{j, t} \\le \\frac{u_{j, t} - u_{j, t-1} + 1}{2},\\ \\ \\ \\  \\alpha_{j, t} + 1 \\ge \\frac{u_{j, t} - u_{j, t-1} + 1}{2} + .25\\qquad \\text{(Startup)}$$"
   ]
  },
  {
   "cell_type": "markdown",
   "id": "cf774bff",
   "metadata": {},
   "source": [
    "Our new model can be written as:\n",
    "\n",
    "$$\n",
    "    \\text{minimize} \\sum_{t\\in T} \\sum_{j \\in J} c_j p_{j, t} + \\alpha_{j, t} c_j^u\\\\\n",
    "     \\text{s.t.}\\quad P_{j, min} u_{j, t} \\le p_{j, t} \\le P_{j, max} u_{j, t}\\\\ \n",
    "     \\sum_{j \\in J} p_{j, t} \\ge D_t\\\\ \\tag{MIP-2}\n",
    "     \\alpha_{j, t} \\le \\frac{u_{j, t} - u_{j, t-1} + 1}{2}\\\\\n",
    "     \\alpha_{j, t} + 1 \\ge \\frac{u_{j, t} - u_{j, t-1} + 1}{2} + .25\\\\\n",
    "     u_{j, t} \\in \\{0, 1\\} \\ \\forall\\ j, t\\\\\n",
    "     \\alpha_{j, t} \\in \\{0, 1\\} \\ \\forall\\ j, t\n",
    "$$\n",
    "\n",
    "Lets solve (MIP-2) with `cvxpy`"
   ]
  },
  {
   "cell_type": "code",
   "execution_count": 30,
   "id": "7b20fcea",
   "metadata": {},
   "outputs": [],
   "source": [
    "# constants\n",
    "## initial states\n",
    "uA0 = 1 # ON\n",
    "uB0 = 0 # OFF\n",
    "uC0 = 0 # OFF"
   ]
  },
  {
   "cell_type": "code",
   "execution_count": 31,
   "id": "c16dea3b",
   "metadata": {},
   "outputs": [],
   "source": [
    "# parameters\n",
    "## startup costs\n",
    "cA_up = cp.Parameter(name=\"cA_up\")\n",
    "cB_up = cp.Parameter(name=\"cB_up\")\n",
    "cC_up = cp.Parameter(name=\"cC_up\")\n",
    "\n",
    "cA_up.value = 1000\n",
    "cB_up.value = 600\n",
    "cC_up.value = 100"
   ]
  },
  {
   "cell_type": "code",
   "execution_count": 32,
   "id": "d8701595",
   "metadata": {},
   "outputs": [],
   "source": [
    "# startup variables\n",
    "alpha_A1 = cp.Variable(1, boolean=True, name='alpha_A1')\n",
    "alpha_A2 = cp.Variable(1, boolean=True, name='alpha_A2')\n",
    "alpha_A3 = cp.Variable(1, boolean=True, name='alpha_A3')\n",
    "\n",
    "\n",
    "alpha_B1 = cp.Variable(1, boolean=True, name='alpha_B1')\n",
    "alpha_B2 = cp.Variable(1, boolean=True, name='alpha_B2')\n",
    "alpha_B3 = cp.Variable(1, boolean=True, name='alpha_B3')\n",
    "\n",
    "\n",
    "alpha_C1 = cp.Variable(1, boolean=True, name='alpha_C1')\n",
    "alpha_C2 = cp.Variable(1, boolean=True, name='alpha_C2')\n",
    "alpha_C3 = cp.Variable(1, boolean=True, name='alpha_C3')"
   ]
  },
  {
   "cell_type": "code",
   "execution_count": 33,
   "id": "52f05b39",
   "metadata": {},
   "outputs": [],
   "source": [
    "# objective\n",
    "obj_MIP2 = cp.Minimize(\n",
    "    cA * (pA1 + pA2 + pA3) + cA_up * (alpha_A1 + alpha_A2 + alpha_A3) +\n",
    "    cB * (pB1 + pB2 + pB3) + cB_up * (alpha_B1 + alpha_B2 + alpha_B3) +\n",
    "    cC * (pC1 + pC2 + pC3) + cC_up * (alpha_C1 + alpha_C2 + alpha_C3)\n",
    ")"
   ]
  },
  {
   "cell_type": "code",
   "execution_count": 34,
   "id": "2fd5a0a1",
   "metadata": {},
   "outputs": [],
   "source": [
    "# constraints\n",
    "MIP2_startup_cons =  [\n",
    "    alpha_A1 <= (uA1 - uA0 + 1)/2,\n",
    "    alpha_A1 >= (uA1 - uA0 + 1)/2 - .75,\n",
    "    alpha_A2 <= (uA2 - uA1 + 1)/2,\n",
    "    alpha_A2 >= (uA2 - uA1 + 1)/2 - .75,\n",
    "    alpha_A3 <= (uA3 - uA2 + 1)/2,\n",
    "    alpha_A3 >= (uA3 - uA2 + 1)/2 - .75,\n",
    "    \n",
    "    alpha_B1 <= (uB1 - uB0 + 1)/2,\n",
    "    alpha_B1 >= (uB1 - uB0 + 1)/2 - .75,\n",
    "    alpha_B2 <= (uB2 - uB1 + 1)/2,\n",
    "    alpha_B2 >= (uB2 - uB1 + 1)/2 - .75,\n",
    "    alpha_B3 <= (uB3 - uB2 + 1)/2,\n",
    "    alpha_B3 >= (uB3 - uB2 + 1)/2 - .75,\n",
    "    \n",
    "    alpha_C1 <= (uC1 - uC0 + 1)/2,\n",
    "    alpha_C1 >= (uC1 - uC0 + 1)/2 - .75,\n",
    "    alpha_C2 <= (uC2 - uC1 + 1)/2,\n",
    "    alpha_C2 >= (uC2 - uC1 + 1)/2 - .75,\n",
    "    alpha_C3 <= (uC3 - uC2 + 1)/2,\n",
    "    alpha_C3 >= (uC3 - uC2 + 1)/2 - .75,\n",
    "]\n",
    "    \n",
    "cons_MIP2 = MIP1.constraints + MIP2_startup_cons"
   ]
  },
  {
   "cell_type": "code",
   "execution_count": 35,
   "id": "581fdd03",
   "metadata": {},
   "outputs": [
    {
     "name": "stdout",
     "output_type": "stream",
     "text": [
      "optimal\n",
      "7100.0\n"
     ]
    }
   ],
   "source": [
    "MIP2 = cp.Problem(obj_MIP2, cons_MIP2)\n",
    "MIP2.solve();\n",
    "summary_MIP2 = get_result_summary(MIP2)\n",
    "\n",
    "print(summary_MIP2['status'])\n",
    "print(summary_MIP2['optimal_value'])"
   ]
  },
  {
   "cell_type": "code",
   "execution_count": 36,
   "id": "de33afa4",
   "metadata": {},
   "outputs": [
    {
     "data": {
      "text/html": [
       "<div>\n",
       "<style scoped>\n",
       "    .dataframe tbody tr th:only-of-type {\n",
       "        vertical-align: middle;\n",
       "    }\n",
       "\n",
       "    .dataframe tbody tr th {\n",
       "        vertical-align: top;\n",
       "    }\n",
       "\n",
       "    .dataframe thead th {\n",
       "        text-align: right;\n",
       "    }\n",
       "</style>\n",
       "<table border=\"1\" class=\"dataframe\">\n",
       "  <thead>\n",
       "    <tr style=\"text-align: right;\">\n",
       "      <th></th>\n",
       "      <th>variable</th>\n",
       "      <th>value</th>\n",
       "    </tr>\n",
       "  </thead>\n",
       "  <tbody>\n",
       "    <tr>\n",
       "      <th>0</th>\n",
       "      <td>alpha_A1</td>\n",
       "      <td>0.0</td>\n",
       "    </tr>\n",
       "    <tr>\n",
       "      <th>1</th>\n",
       "      <td>alpha_A2</td>\n",
       "      <td>0.0</td>\n",
       "    </tr>\n",
       "    <tr>\n",
       "      <th>2</th>\n",
       "      <td>alpha_A3</td>\n",
       "      <td>0.0</td>\n",
       "    </tr>\n",
       "    <tr>\n",
       "      <th>3</th>\n",
       "      <td>alpha_B1</td>\n",
       "      <td>0.0</td>\n",
       "    </tr>\n",
       "    <tr>\n",
       "      <th>4</th>\n",
       "      <td>alpha_B2</td>\n",
       "      <td>0.0</td>\n",
       "    </tr>\n",
       "    <tr>\n",
       "      <th>5</th>\n",
       "      <td>alpha_B3</td>\n",
       "      <td>0.0</td>\n",
       "    </tr>\n",
       "    <tr>\n",
       "      <th>6</th>\n",
       "      <td>alpha_C1</td>\n",
       "      <td>0.0</td>\n",
       "    </tr>\n",
       "    <tr>\n",
       "      <th>7</th>\n",
       "      <td>alpha_C2</td>\n",
       "      <td>1.0</td>\n",
       "    </tr>\n",
       "    <tr>\n",
       "      <th>8</th>\n",
       "      <td>alpha_C3</td>\n",
       "      <td>0.0</td>\n",
       "    </tr>\n",
       "    <tr>\n",
       "      <th>9</th>\n",
       "      <td>pA1</td>\n",
       "      <td>150.0</td>\n",
       "    </tr>\n",
       "    <tr>\n",
       "      <th>10</th>\n",
       "      <td>pA2</td>\n",
       "      <td>250.0</td>\n",
       "    </tr>\n",
       "    <tr>\n",
       "      <th>11</th>\n",
       "      <td>pA3</td>\n",
       "      <td>200.0</td>\n",
       "    </tr>\n",
       "    <tr>\n",
       "      <th>12</th>\n",
       "      <td>pB1</td>\n",
       "      <td>0.0</td>\n",
       "    </tr>\n",
       "    <tr>\n",
       "      <th>13</th>\n",
       "      <td>pB2</td>\n",
       "      <td>0.0</td>\n",
       "    </tr>\n",
       "    <tr>\n",
       "      <th>14</th>\n",
       "      <td>pB3</td>\n",
       "      <td>-0.0</td>\n",
       "    </tr>\n",
       "    <tr>\n",
       "      <th>15</th>\n",
       "      <td>pC1</td>\n",
       "      <td>-0.0</td>\n",
       "    </tr>\n",
       "    <tr>\n",
       "      <th>16</th>\n",
       "      <td>pC2</td>\n",
       "      <td>50.0</td>\n",
       "    </tr>\n",
       "    <tr>\n",
       "      <th>17</th>\n",
       "      <td>pC3</td>\n",
       "      <td>-0.0</td>\n",
       "    </tr>\n",
       "    <tr>\n",
       "      <th>18</th>\n",
       "      <td>uA1</td>\n",
       "      <td>1.0</td>\n",
       "    </tr>\n",
       "    <tr>\n",
       "      <th>19</th>\n",
       "      <td>uA2</td>\n",
       "      <td>1.0</td>\n",
       "    </tr>\n",
       "    <tr>\n",
       "      <th>20</th>\n",
       "      <td>uA3</td>\n",
       "      <td>1.0</td>\n",
       "    </tr>\n",
       "    <tr>\n",
       "      <th>21</th>\n",
       "      <td>uB1</td>\n",
       "      <td>0.0</td>\n",
       "    </tr>\n",
       "    <tr>\n",
       "      <th>22</th>\n",
       "      <td>uB2</td>\n",
       "      <td>0.0</td>\n",
       "    </tr>\n",
       "    <tr>\n",
       "      <th>23</th>\n",
       "      <td>uB3</td>\n",
       "      <td>0.0</td>\n",
       "    </tr>\n",
       "    <tr>\n",
       "      <th>24</th>\n",
       "      <td>uC1</td>\n",
       "      <td>0.0</td>\n",
       "    </tr>\n",
       "    <tr>\n",
       "      <th>25</th>\n",
       "      <td>uC2</td>\n",
       "      <td>1.0</td>\n",
       "    </tr>\n",
       "    <tr>\n",
       "      <th>26</th>\n",
       "      <td>uC3</td>\n",
       "      <td>0.0</td>\n",
       "    </tr>\n",
       "  </tbody>\n",
       "</table>\n",
       "</div>"
      ],
      "text/plain": [
       "    variable  value\n",
       "0   alpha_A1    0.0\n",
       "1   alpha_A2    0.0\n",
       "2   alpha_A3    0.0\n",
       "3   alpha_B1    0.0\n",
       "4   alpha_B2    0.0\n",
       "5   alpha_B3    0.0\n",
       "6   alpha_C1    0.0\n",
       "7   alpha_C2    1.0\n",
       "8   alpha_C3    0.0\n",
       "9        pA1  150.0\n",
       "10       pA2  250.0\n",
       "11       pA3  200.0\n",
       "12       pB1    0.0\n",
       "13       pB2    0.0\n",
       "14       pB3   -0.0\n",
       "15       pC1   -0.0\n",
       "16       pC2   50.0\n",
       "17       pC3   -0.0\n",
       "18       uA1    1.0\n",
       "19       uA2    1.0\n",
       "20       uA3    1.0\n",
       "21       uB1    0.0\n",
       "22       uB2    0.0\n",
       "23       uB3    0.0\n",
       "24       uC1    0.0\n",
       "25       uC2    1.0\n",
       "26       uC3    0.0"
      ]
     },
     "execution_count": 36,
     "metadata": {},
     "output_type": "execute_result"
    }
   ],
   "source": [
    "prettify(summary_MIP2['optimal_solution'])"
   ]
  },
  {
   "cell_type": "markdown",
   "id": "4e23ab50",
   "metadata": {},
   "source": [
    "The optimal value of the total cost (setup + marginal) is <mark> $7100</mark>. This optimal value is greater than the optimal value of MIP1 (\\$6600) because it includes the setup cost which we ignored in MIP1.\n",
    "    \n",
    "Also note that, once again, the model chose to meet all of the demand in period 1 with unit A. The reason for this is two-fold. First, unit A is the cheapest to run and incurrs the smallest marginal cost. So, it makes sense to preferentially run unit A whenever possible. Second, unit A was already in ON state at the beginning of the planning horizon and did not need to be turned ON. As a result, by keeping unit A running, we avoided the setup cost for unit A.\n",
    "\n",
    "We should also note that during the peak demand period, the model chose to turn on unit C instead of unit B as it had done in MIP1. This is because while unit B is cheaper to run than unit C, it is more expensive to start up than unit C. Since the setup cost dominates the marginal cost, the model preferred to start up unit C."
   ]
  },
  {
   "cell_type": "markdown",
   "id": "450339a5",
   "metadata": {},
   "source": [
    "# 6. An MIP model with up- and down-time constraints <a class=\"anchor\" id=\"An_MIP_model_with_up_and_down_time_constraints\"></a>"
   ]
  },
  {
   "cell_type": "markdown",
   "id": "58add634",
   "metadata": {},
   "source": [
    "Here, we get rid of the third and final relaxation:\n",
    "1. ~~All units are running and available at all times. I.e. we don't have the choice to turn a unit ON/OFF.~~\n",
    "2. ~~Startup costs are ignored.~~\n",
    "3. ~~Minimum up- and down-time constraints do not apply.~~\n",
    "\n",
    "We now consider the up- and down-time constraints that apply to each unit. In order to model these constraints we need need to define two new parameters:\n",
    "\n",
    "$$\n",
    "UT_j := \\text{Minimum length of time (in periods/slots) that unit j must remain ON before it can be turned OFF.}\\\\\n",
    "DT_j := \\text{Minimum length of time (in periods/slots) that unit j must remain OFF before it can be turned ON.}\n",
    "$$"
   ]
  },
  {
   "cell_type": "code",
   "execution_count": 37,
   "id": "5fd3cda7",
   "metadata": {},
   "outputs": [],
   "source": [
    "# constants\n",
    "# up-times and down-times\n",
    "UT_A = 3\n",
    "UT_B = 2\n",
    "UT_C = 1\n",
    "DT_A = 3\n",
    "DT_B = 1\n",
    "DT_C = 1"
   ]
  },
  {
   "cell_type": "markdown",
   "id": "2b04255b",
   "metadata": {},
   "source": [
    "We also need a new variable to indicate if a given unit was stopped in a given period.\n",
    "\n",
    "$$\n",
    "\\beta_{j, t} :=\n",
    "\\begin{cases}\n",
    "   1 &\\text{   if unit j was stopped in period t}\\\\\n",
    "   0 &\\text{   otherwise }\n",
    "\\end{cases}\n",
    "$$"
   ]
  },
  {
   "cell_type": "code",
   "execution_count": 38,
   "id": "abf2e01d",
   "metadata": {},
   "outputs": [],
   "source": [
    "# variables\n",
    "beta_A1 = cp.Variable(1, boolean=True, name=\"beta_A1\")\n",
    "beta_A2 = cp.Variable(1, boolean=True, name=\"beta_A2\")\n",
    "beta_A3 = cp.Variable(1, boolean=True, name=\"beta_A3\")\n",
    "\n",
    "beta_B1 = cp.Variable(1, boolean=True, name=\"beta_B1\")\n",
    "beta_B2 = cp.Variable(1, boolean=True, name=\"beta_B2\")\n",
    "beta_B3 = cp.Variable(1, boolean=True, name=\"beta_B3\")\n",
    "\n",
    "beta_C1 = cp.Variable(1, boolean=True, name=\"beta_C1\")\n",
    "beta_C2 = cp.Variable(1, boolean=True, name=\"beta_C2\")\n",
    "beta_C3 = cp.Variable(1, boolean=True, name=\"beta_C3\")"
   ]
  },
  {
   "cell_type": "markdown",
   "id": "2b61d2bb",
   "metadata": {},
   "source": [
    "We need to specify the shutdown constraint\n",
    "\n",
    "$$\n",
    "\\beta_{j, t} = \\lfloor \\frac{(-u_{j, t} + u_{j, t-1} + 1)}{2} \\rfloor\n",
    "$$\n",
    "\n",
    "which can be expressed in the form of linear inequalities as follows:\n",
    "\n",
    "$$\n",
    "\\beta_{j, t} \\le \\frac{-u_{j, t} + u_{j, t-1} + 1}{2},\\ \\ \\ \\  \\beta_{j, t} + 1 \\ge \\frac{-u_{j, t} + u_{j, t-1} + 1}{2} + .25\\qquad \\text{(Shut-down)}\n",
    "$$"
   ]
  },
  {
   "cell_type": "code",
   "execution_count": 39,
   "id": "0ab342cf",
   "metadata": {},
   "outputs": [],
   "source": [
    "MIP3_shutdown_cons = [\n",
    "    beta_A1 <= (-uA1 + uA0 + 1)/2,\n",
    "    beta_A1 >= (-uA1 + uA0 + 1)/2 + .25,\n",
    "    beta_A2 <= (-uA2 + uA1 + 1)/2,\n",
    "    beta_A2 >= (-uA2 + uA1 + 1)/2 + .25,\n",
    "    beta_A3 <= (-uA3 + uA2 + 1)/2,\n",
    "    beta_A3 >= (-uA3 + uA2 + 1)/2 + .25,\n",
    "\n",
    "    beta_B1 <= (-uB1 + uB0 + 1)/2,\n",
    "    beta_B1 >= (-uB1 + uB0 + 1)/2 + .25,\n",
    "    beta_B2 <= (-uB2 + uB1 + 1)/2,\n",
    "    beta_B2 >= (-uB2 + uB1 + 1)/2 + .25,\n",
    "    beta_B3 <= (-uB3 + uB2 + 1)/2,\n",
    "    beta_B3 >= (-uB3 + uB2 + 1)/2 + .25,\n",
    "    \n",
    "    beta_C1 <= (-uC1 + uC0 + 1)/2,\n",
    "    beta_C1 >= (-uC1 + uC0 + 1)/2 + .25,\n",
    "    beta_C2 <= (-uC2 + uC1 + 1)/2,\n",
    "    beta_C2 >= (-uC2 + uC1 + 1)/2 + .25,\n",
    "    beta_C3 <= (-uC3 + uC2 + 1)/2,\n",
    "    beta_C3 >= (-uC3 + uC2 + 1)/2 + .25,\n",
    "]"
   ]
  },
  {
   "cell_type": "markdown",
   "id": "dada008c",
   "metadata": {},
   "source": [
    "We also need the minimum uptime constraints:\n",
    "\n",
    "$$\n",
    "\\tag{Up-time}\n",
    "\\sum_{i=t}^{t + UT_j - 1} u_{j, i} \\ge \\alpha_{j,t} UT_j \\ ,\\qquad \\forall\\ t \\in \\{1,\\ T - UT_j + 1\\}\\\\\n",
    "\\sum_{i=t}^T u_{j, i} \\ge \\alpha_{j, t} (T - t + 1) \\ ,\\qquad \\forall\\ t \\in \\{T - UT_j + 2,\\ T\\}\n",
    "$$\n",
    "\n"
   ]
  },
  {
   "cell_type": "code",
   "execution_count": 40,
   "id": "f1bd564b",
   "metadata": {},
   "outputs": [],
   "source": [
    "def generate_uptime_cons(j, t):\n",
    "    sum = ''\n",
    "    UT_j = eval('UT_{j}'.format(j=j))\n",
    "    if t <= T - UT_j + 1:\n",
    "        for i in range(t, t + UT_j):\n",
    "            sum += 'u{j}{i} +'.format(j=j, i=i)\n",
    "        sum = sum[:-1]\n",
    "        sum += ' >= alpha_{j}{t} * UT_{j}'.format(j=j, t=t)\n",
    "    else:\n",
    "        for k in range(t, T + 1):\n",
    "            sum += 'u{j}{k} +'.format(j=j, k=k)\n",
    "        sum = sum[:-1]\n",
    "        sum += ' >= alpha_{j}{t} * (T - {t} + 1)'.format(j=j, t=t)\n",
    "    return eval(sum)"
   ]
  },
  {
   "cell_type": "code",
   "execution_count": 41,
   "id": "c51b9ff0",
   "metadata": {},
   "outputs": [
    {
     "name": "stdout",
     "output_type": "stream",
     "text": [
      "alpha_A1 @ 3.0 <= uA1 + uA2 + uA3\n",
      "alpha_A2 @ 2.0 <= uA2 + uA3\n",
      "alpha_A3 @ 1.0 <= uA3\n",
      "alpha_B1 @ 2.0 <= uB1 + uB2\n",
      "alpha_B2 @ 2.0 <= uB2 + uB3\n",
      "alpha_B3 @ 1.0 <= uB3\n",
      "alpha_C1 @ 1.0 <= uC1\n",
      "alpha_C2 @ 1.0 <= uC2\n",
      "alpha_C3 @ 1.0 <= uC3\n"
     ]
    }
   ],
   "source": [
    "MIP3_uptime_cons = []\n",
    "for j in ['A', 'B', 'C']:\n",
    "    for t in range(1, T + 1):\n",
    "        cons = generate_uptime_cons(j, t)\n",
    "        print(cons)\n",
    "        MIP3_uptime_cons.append(cons)"
   ]
  },
  {
   "cell_type": "markdown",
   "id": "3a70ec82",
   "metadata": {},
   "source": [
    "And the minimum downtime constraints:\n",
    "\n",
    "$$\n",
    "\\tag{Down-time}\n",
    "\\sum_{i=t}^{t + DT_j - 1} (1 - u_{j, i}) \\ge \\beta_{j,t} DT_j \\ ,\\qquad \\forall\\ t \\in \\{1,\\ T - DT_j + 1\\}\\\\\n",
    "\\sum_{i=t}^T (1 - u_{j, i}) \\ge \\beta_{j, t} (T - t + 1) \\ ,\\qquad \\forall\\ t \\in \\{T - DT_j + 2,\\ T\\}\n",
    "$$"
   ]
  },
  {
   "cell_type": "code",
   "execution_count": 42,
   "id": "c916bc1b",
   "metadata": {},
   "outputs": [],
   "source": [
    "def generate_downtime_cons(j, t):\n",
    "    sum = ''\n",
    "    DT_j = eval('DT_{j}'.format(j=j))\n",
    "    if t <= T - DT_j + 1:\n",
    "        for i in range(t, t + DT_j):\n",
    "            sum += '(1 - u{j}{i}) +'.format(j=j, i=i)\n",
    "        sum = sum[:-1]\n",
    "        sum += ' >= beta_{j}{t} * DT_{j}'.format(j=j, t=t)\n",
    "    else:\n",
    "        for k in range(t, T + 1):\n",
    "            sum += '(1 - u{j}{k}) +'.format(j=j, k=k)\n",
    "        sum = sum[:-1]\n",
    "        sum += ' >= beta_{j}{t} * (T - {t} + 1)'.format(j=j, t=t)\n",
    "    return eval(sum)"
   ]
  },
  {
   "cell_type": "code",
   "execution_count": 43,
   "id": "4c04739e",
   "metadata": {
    "scrolled": true
   },
   "outputs": [
    {
     "name": "stdout",
     "output_type": "stream",
     "text": [
      "beta_A1 @ 3.0 <= 1.0 + -uA1 + 1.0 + -uA2 + 1.0 + -uA3\n",
      "beta_A2 @ 2.0 <= 1.0 + -uA2 + 1.0 + -uA3\n",
      "beta_A3 @ 1.0 <= 1.0 + -uA3\n",
      "beta_B1 @ 1.0 <= 1.0 + -uB1\n",
      "beta_B2 @ 1.0 <= 1.0 + -uB2\n",
      "beta_B3 @ 1.0 <= 1.0 + -uB3\n",
      "beta_C1 @ 1.0 <= 1.0 + -uC1\n",
      "beta_C2 @ 1.0 <= 1.0 + -uC2\n",
      "beta_C3 @ 1.0 <= 1.0 + -uC3\n"
     ]
    }
   ],
   "source": [
    "MIP3_downtime_cons = []\n",
    "for j in ['A', 'B', 'C']:\n",
    "    for t in range(1, T + 1):\n",
    "        cons = generate_downtime_cons(j, t)\n",
    "        print(cons)\n",
    "        MIP3_downtime_cons.append(cons)"
   ]
  },
  {
   "cell_type": "markdown",
   "id": "7a0888d6",
   "metadata": {},
   "source": [
    "Finally, we need the logical constraints [1] to ensure that $\\alpha_{j,t} = 1$ only when the unit is scheduled to be switched on in slot $t$ (i.e., $u_{j, t-1} = 0$ and $u_{j, t} = 1$), and $\\beta_{j, t} = 1$ only when the unit is scheduled to be switched off in slot $t$ (i.e., $u_{j, t-1} = 1$ and $u_{j, t} = 0$).\n",
    "\n",
    "$$\n",
    "u_{j, t-1} - u_{j, t} + \\alpha_{j, t} - \\beta_{j, t} = 0\\ ,\\qquad \\forall\\ t\\in T,\\ j\\in J \\tag{Logical}\n",
    "$$"
   ]
  },
  {
   "cell_type": "code",
   "execution_count": 44,
   "id": "7e1039ac",
   "metadata": {},
   "outputs": [
    {
     "name": "stdout",
     "output_type": "stream",
     "text": [
      "1.0 + -uA1 + alpha_A1 + -beta_A1 == 0.0\n",
      "uA1 + -uA2 + alpha_A2 + -beta_A2 == 0.0\n",
      "uA2 + -uA3 + alpha_A3 + -beta_A3 == 0.0\n",
      "0.0 + -uB1 + alpha_B1 + -beta_B1 == 0.0\n",
      "uB1 + -uB2 + alpha_B2 + -beta_B2 == 0.0\n",
      "uB2 + -uB3 + alpha_B3 + -beta_B3 == 0.0\n",
      "0.0 + -uC1 + alpha_C1 + -beta_C1 == 0.0\n",
      "uC1 + -uC2 + alpha_C2 + -beta_C2 == 0.0\n",
      "uC2 + -uC3 + alpha_C3 + -beta_C3 == 0.0\n"
     ]
    }
   ],
   "source": [
    "MIP3_logical_cons = []\n",
    "for j in ['A', 'B', 'C']:\n",
    "    for t in range(1, T + 1):\n",
    "        cons = eval('u{j}{t_1} - u{j}{t} + alpha_{j}{t} - beta_{j}{t} == 0'.format(j=j, t_1=t-1, t=t))\n",
    "        print(cons)\n",
    "        MIP3_logical_cons.append(cons)"
   ]
  },
  {
   "cell_type": "markdown",
   "id": "128ff4a1",
   "metadata": {},
   "source": [
    "Since we are ignoring the shutdown costs of the units, our objective remains the same as that in (MIP-2). Below is our final model:\n",
    "\n",
    "$$\n",
    "    \\text{minimize} \\sum_{t\\in T} \\sum_{j \\in J} c_j p_{j, t} + c_j^u \\alpha_{j, t} \n",
    "$$\n",
    "\n",
    "$$\n",
    "     \\text{s.t.}\\quad P_{j, min} u_{j, t} \\le p_{j, t} \\le P_{j, max} u_{j, t}\\quad \\text{(Output Range)}\n",
    "$$\n",
    "\n",
    "$$\n",
    "     \\sum_{j \\in J} p_{j, t} \\ge D_t\\quad \\text{(Demand)} \n",
    "$$\n",
    "\n",
    "$$\n",
    "     \\alpha_{j, t} \\le \\frac{u_{j, t} - u_{j, t-1} + 1}{2},\\ \\alpha_{j, t} + 1 \\ge \\frac{u_{j, t} - u_{j, t-1} + 1}{2} + .25 \\quad \\text{(Startup)}\n",
    "$$\n",
    "\n",
    "$$\n",
    "\\sum_{i=t}^{t + UT_j - 1} u_{j, i} \\ge \\alpha_{j,t} UT_j \\ ,\\ \\forall\\ t \\in \\{1,\\ T - UT_j + 1\\} \\quad \\text{(Uptime)}\n",
    "$$\n",
    "\n",
    "$$\n",
    "\\sum_{i=t}^T u_{j, i} \\ge \\alpha_{j, t} (T - t + 1) \\ ,\\ \\ \\forall\\ t \\in \\{T - UT_j + 2,\\ T\\} \\quad \\text{(Uptime)}\n",
    "$$\n",
    "\n",
    "$$\n",
    "\\sum_{i=t}^{t + DT_j - 1} (1 - u_{j, i}) \\ge \\beta_{j,t} DT_j \\ ,\\ \\forall\\ t \\in \\{1,\\ T - DT_j + 1\\} \\quad \\text{(Downtime)}\n",
    "$$\n",
    "\n",
    "$$\n",
    "\\sum_{i=t}^T (1 - u_{j, i}) \\ge \\beta_{j, t} (T - t + 1) \\ ,\\ \\forall\\ t \\in \\{T - DT_j + 2,\\ T\\}\\quad \\text{(Downtime)}\n",
    "$$\n",
    "$$\n",
    "u_{j, t-1} - u_{j, t} + \\alpha_{j, t} - \\beta_{j, t} = 0\\ ,\\qquad \\forall\\ t\\in T,\\ j\\in J \\quad \\text{(Logical)}\n",
    "$$\n",
    "\n",
    "$$\n",
    "     u_{j, t} \\in \\{0, 1\\} \\ \\forall\\ j, t\\\\\n",
    "     \\alpha_{j, t} \\in \\{0, 1\\} \\ \\forall\\ j, t\\\\\n",
    "     \\beta_{j, t} \\in \\{0, 1\\} \\ \\forall\\ j, t \\tag{MIP-3}\n",
    "$$\n",
    "\n",
    "We now solve (MIP-3) with `cvxpy`"
   ]
  },
  {
   "cell_type": "code",
   "execution_count": 45,
   "id": "56ca1b85",
   "metadata": {},
   "outputs": [],
   "source": [
    "MIP3_obj = MIP2.objective"
   ]
  },
  {
   "cell_type": "code",
   "execution_count": 46,
   "id": "e08e2ec2",
   "metadata": {},
   "outputs": [],
   "source": [
    "MIP3_cons = MIP2.constraints + MIP3_uptime_cons + MIP3_downtime_cons + MIP3_logical_cons\n",
    "# + MIP3_shutdown_cons"
   ]
  },
  {
   "cell_type": "code",
   "execution_count": 47,
   "id": "4b19ffbf",
   "metadata": {},
   "outputs": [
    {
     "name": "stdout",
     "output_type": "stream",
     "text": [
      "optimal\n",
      "7100.0\n"
     ]
    }
   ],
   "source": [
    "MIP3 = cp.Problem(MIP3_obj, MIP3_cons)\n",
    "MIP3.solve();\n",
    "summary_MIP3 = get_result_summary(MIP3)\n",
    "\n",
    "print(summary_MIP3['status'])\n",
    "print(summary_MIP3['optimal_value'])"
   ]
  },
  {
   "cell_type": "code",
   "execution_count": 48,
   "id": "4f759212",
   "metadata": {},
   "outputs": [
    {
     "data": {
      "text/html": [
       "<div>\n",
       "<style scoped>\n",
       "    .dataframe tbody tr th:only-of-type {\n",
       "        vertical-align: middle;\n",
       "    }\n",
       "\n",
       "    .dataframe tbody tr th {\n",
       "        vertical-align: top;\n",
       "    }\n",
       "\n",
       "    .dataframe thead th {\n",
       "        text-align: right;\n",
       "    }\n",
       "</style>\n",
       "<table border=\"1\" class=\"dataframe\">\n",
       "  <thead>\n",
       "    <tr style=\"text-align: right;\">\n",
       "      <th></th>\n",
       "      <th>variable</th>\n",
       "      <th>value</th>\n",
       "    </tr>\n",
       "  </thead>\n",
       "  <tbody>\n",
       "    <tr>\n",
       "      <th>0</th>\n",
       "      <td>alpha_A1</td>\n",
       "      <td>0.0</td>\n",
       "    </tr>\n",
       "    <tr>\n",
       "      <th>1</th>\n",
       "      <td>alpha_A2</td>\n",
       "      <td>0.0</td>\n",
       "    </tr>\n",
       "    <tr>\n",
       "      <th>2</th>\n",
       "      <td>alpha_A3</td>\n",
       "      <td>0.0</td>\n",
       "    </tr>\n",
       "    <tr>\n",
       "      <th>3</th>\n",
       "      <td>alpha_B1</td>\n",
       "      <td>0.0</td>\n",
       "    </tr>\n",
       "    <tr>\n",
       "      <th>4</th>\n",
       "      <td>alpha_B2</td>\n",
       "      <td>0.0</td>\n",
       "    </tr>\n",
       "    <tr>\n",
       "      <th>5</th>\n",
       "      <td>alpha_B3</td>\n",
       "      <td>0.0</td>\n",
       "    </tr>\n",
       "    <tr>\n",
       "      <th>6</th>\n",
       "      <td>alpha_C1</td>\n",
       "      <td>0.0</td>\n",
       "    </tr>\n",
       "    <tr>\n",
       "      <th>7</th>\n",
       "      <td>alpha_C2</td>\n",
       "      <td>1.0</td>\n",
       "    </tr>\n",
       "    <tr>\n",
       "      <th>8</th>\n",
       "      <td>alpha_C3</td>\n",
       "      <td>0.0</td>\n",
       "    </tr>\n",
       "    <tr>\n",
       "      <th>9</th>\n",
       "      <td>beta_A1</td>\n",
       "      <td>0.0</td>\n",
       "    </tr>\n",
       "    <tr>\n",
       "      <th>10</th>\n",
       "      <td>beta_A2</td>\n",
       "      <td>0.0</td>\n",
       "    </tr>\n",
       "    <tr>\n",
       "      <th>11</th>\n",
       "      <td>beta_A3</td>\n",
       "      <td>0.0</td>\n",
       "    </tr>\n",
       "    <tr>\n",
       "      <th>12</th>\n",
       "      <td>beta_B1</td>\n",
       "      <td>0.0</td>\n",
       "    </tr>\n",
       "    <tr>\n",
       "      <th>13</th>\n",
       "      <td>beta_B2</td>\n",
       "      <td>0.0</td>\n",
       "    </tr>\n",
       "    <tr>\n",
       "      <th>14</th>\n",
       "      <td>beta_B3</td>\n",
       "      <td>0.0</td>\n",
       "    </tr>\n",
       "    <tr>\n",
       "      <th>15</th>\n",
       "      <td>beta_C1</td>\n",
       "      <td>0.0</td>\n",
       "    </tr>\n",
       "    <tr>\n",
       "      <th>16</th>\n",
       "      <td>beta_C2</td>\n",
       "      <td>0.0</td>\n",
       "    </tr>\n",
       "    <tr>\n",
       "      <th>17</th>\n",
       "      <td>beta_C3</td>\n",
       "      <td>1.0</td>\n",
       "    </tr>\n",
       "    <tr>\n",
       "      <th>18</th>\n",
       "      <td>pA1</td>\n",
       "      <td>150.0</td>\n",
       "    </tr>\n",
       "    <tr>\n",
       "      <th>19</th>\n",
       "      <td>pA2</td>\n",
       "      <td>250.0</td>\n",
       "    </tr>\n",
       "    <tr>\n",
       "      <th>20</th>\n",
       "      <td>pA3</td>\n",
       "      <td>200.0</td>\n",
       "    </tr>\n",
       "    <tr>\n",
       "      <th>21</th>\n",
       "      <td>pB1</td>\n",
       "      <td>0.0</td>\n",
       "    </tr>\n",
       "    <tr>\n",
       "      <th>22</th>\n",
       "      <td>pB2</td>\n",
       "      <td>0.0</td>\n",
       "    </tr>\n",
       "    <tr>\n",
       "      <th>23</th>\n",
       "      <td>pB3</td>\n",
       "      <td>-0.0</td>\n",
       "    </tr>\n",
       "    <tr>\n",
       "      <th>24</th>\n",
       "      <td>pC1</td>\n",
       "      <td>-0.0</td>\n",
       "    </tr>\n",
       "    <tr>\n",
       "      <th>25</th>\n",
       "      <td>pC2</td>\n",
       "      <td>50.0</td>\n",
       "    </tr>\n",
       "    <tr>\n",
       "      <th>26</th>\n",
       "      <td>pC3</td>\n",
       "      <td>-0.0</td>\n",
       "    </tr>\n",
       "    <tr>\n",
       "      <th>27</th>\n",
       "      <td>uA1</td>\n",
       "      <td>1.0</td>\n",
       "    </tr>\n",
       "    <tr>\n",
       "      <th>28</th>\n",
       "      <td>uA2</td>\n",
       "      <td>1.0</td>\n",
       "    </tr>\n",
       "    <tr>\n",
       "      <th>29</th>\n",
       "      <td>uA3</td>\n",
       "      <td>1.0</td>\n",
       "    </tr>\n",
       "    <tr>\n",
       "      <th>30</th>\n",
       "      <td>uB1</td>\n",
       "      <td>0.0</td>\n",
       "    </tr>\n",
       "    <tr>\n",
       "      <th>31</th>\n",
       "      <td>uB2</td>\n",
       "      <td>0.0</td>\n",
       "    </tr>\n",
       "    <tr>\n",
       "      <th>32</th>\n",
       "      <td>uB3</td>\n",
       "      <td>0.0</td>\n",
       "    </tr>\n",
       "    <tr>\n",
       "      <th>33</th>\n",
       "      <td>uC1</td>\n",
       "      <td>0.0</td>\n",
       "    </tr>\n",
       "    <tr>\n",
       "      <th>34</th>\n",
       "      <td>uC2</td>\n",
       "      <td>1.0</td>\n",
       "    </tr>\n",
       "    <tr>\n",
       "      <th>35</th>\n",
       "      <td>uC3</td>\n",
       "      <td>0.0</td>\n",
       "    </tr>\n",
       "  </tbody>\n",
       "</table>\n",
       "</div>"
      ],
      "text/plain": [
       "    variable  value\n",
       "0   alpha_A1    0.0\n",
       "1   alpha_A2    0.0\n",
       "2   alpha_A3    0.0\n",
       "3   alpha_B1    0.0\n",
       "4   alpha_B2    0.0\n",
       "5   alpha_B3    0.0\n",
       "6   alpha_C1    0.0\n",
       "7   alpha_C2    1.0\n",
       "8   alpha_C3    0.0\n",
       "9    beta_A1    0.0\n",
       "10   beta_A2    0.0\n",
       "11   beta_A3    0.0\n",
       "12   beta_B1    0.0\n",
       "13   beta_B2    0.0\n",
       "14   beta_B3    0.0\n",
       "15   beta_C1    0.0\n",
       "16   beta_C2    0.0\n",
       "17   beta_C3    1.0\n",
       "18       pA1  150.0\n",
       "19       pA2  250.0\n",
       "20       pA3  200.0\n",
       "21       pB1    0.0\n",
       "22       pB2    0.0\n",
       "23       pB3   -0.0\n",
       "24       pC1   -0.0\n",
       "25       pC2   50.0\n",
       "26       pC3   -0.0\n",
       "27       uA1    1.0\n",
       "28       uA2    1.0\n",
       "29       uA3    1.0\n",
       "30       uB1    0.0\n",
       "31       uB2    0.0\n",
       "32       uB3    0.0\n",
       "33       uC1    0.0\n",
       "34       uC2    1.0\n",
       "35       uC3    0.0"
      ]
     },
     "execution_count": 48,
     "metadata": {},
     "output_type": "execute_result"
    }
   ],
   "source": [
    "prettify(summary_MIP3['optimal_solution'])"
   ]
  },
  {
   "cell_type": "markdown",
   "id": "9e77d96e",
   "metadata": {},
   "source": [
    "As it turns out, the optimal cost of scheduling the three units over the given planning horizon remains unchanged at <mark>$7100</mark>. What is interesting is that we are able to satisfy multiple additional constraints at the same total cost as MIP2! This fact is due to the (simplified) structure of our specific problem. In a real-life scenario, adding constraints can lead to increased total cost. Nevertheless, discussing the above porblem gives us insight into how MIP can be used to model and solve similar, larger problems at scale."
   ]
  },
  {
   "cell_type": "markdown",
   "id": "44b669ef",
   "metadata": {},
   "source": [
    "## 7. Parametric Sensitivity Analysis for MIP\n",
    "\n",
    "As in the case of (LP) in Section 3, we would like to perform sensitivity analysis on the parameters of (MIP-3). However, sensitivity analysis on MIPs is not as straightforward as for LPs. The main reason is that **results from Duality theory do not apply directly to the MIP case** because we restrict some variables to be discrete (i.e. integers).\n",
    "\n",
    "Parametric sensitivity anslysis can still be performed by computing the gradient of the optimal value function $\\phi(b, c)$ at point values of $b = \\hat{b}$ and $c = \\hat{c}$ for a particular optimal solution $x^*$. Once again, tha assumption is that the perturbations to the parameters are small enough that the linearity of $\\phi$ holds. There are methods to get around this assumption by using the convexity and concavity of $\\phi$ with respect to $b$ and $c$ respectively (for details see [[4](#References)]). However, for the sake of simplicity, we will continue to assume that the perturbations are going to be small.\n",
    "\n",
    "Note that constants specifying the up-times and down-times (e.g. `UT_A`, `DT_A`) as well as those specifying the initial state (e.g. `uA0`) are all restricted to integer values. Therefore, sensitivity analysis for these parameters would not make sense. Moreover, we cannot compute the derivative of the optimal value function with respect to these parameters.  As a result, we only consider parameters that can be varied continuously, viz.\n",
    "- the startup costs $c^u_j$\n",
    "- the marginal (running) costs $c_j$\n",
    "- the output range limits $P_{j, min}, P_{j, max}$\n",
    "- the demand $D_t$\n",
    "\n",
    "Unfortunately, unlike the LP case, we cannot use the `requires_grad=True` argument for the `solve()` method to directly compute the gradient of the optimal value function. This is because the only solver that supports the `requires_grad` argument is `SCS` which cannot handle MIPs. We have to get creative. Instead of directly computing the gradient of $\\phi(b, c)$, we will try to find upper and lower bounds on the value of $\\phi$ when one of $b, c$ is held constant and the other is varied in the direction of a given change vector."
   ]
  },
  {
   "cell_type": "markdown",
   "id": "60bc4c29",
   "metadata": {},
   "source": [
    "Consider the Mixed Integer Program\n",
    "\n",
    "$$\\text{minimize } c^Tx\\\\\n",
    "\\text{s.t. } Ax \\ge b\\\\\n",
    "x \\ge 0\\\\\n",
    "\\overline{x}\\in \\mathbb{Z}\\tag{P}\n",
    "$$\n",
    "\n",
    "where $\\overline{x}$ are restricted to be integer. We want to analyze the effect of perturbations in the $c$ vector on the optimal value function $\\phi(b, c)$ of (P). We fix the $b$ vector. Perturbations in $c$ can then be characterized parametrically by writing $c = \\hat{c} + \\gamma g$, where $g \\in \\mathbb{R}^n$ is a change vector and $0 \\le \\gamma \\le 1$. Then we can write\n",
    "\n",
    "$$\\text{minimize } (\\hat{c} + \\gamma g)^Tx\\\\\n",
    "\\text{s.t. } Ax \\ge b\\\\\n",
    "x \\ge 0\\\\\n",
    "\\overline{x}\\in \\mathbb{Z}\\tag{$P_{\\gamma}$}\n",
    "$$"
   ]
  },
  {
   "cell_type": "markdown",
   "id": "92ce33b1",
   "metadata": {},
   "source": [
    "Next, we write the optimal value function as a function of $\\gamma$\n",
    "\n",
    "$$\n",
    "z(\\gamma) = \\text{min }\\left\\{(\\hat{c} + \\gamma g)^T\\mid Ax \\ge b, x \\ge 0, \\overline{x}\\in \\mathbb{Z}\\right\\}\\tag{1}\n",
    "$$\n",
    "\n",
    "The function $z$ captures the changes in the optimal value of ($P_{\\gamma}$) as the $c$ vector is varied continuously along the direction $g$. Let $x(\\gamma_1)$ denote the optimal solution of ($P_\\gamma$) for $\\gamma=\\gamma_1$, and let $\\overline{x}(\\gamma_1)$ denote the integer part of the optimal solution. Since, changeing $\\gamma_1$ does not change the feasible region, $\\overline{x}(\\gamma_1)$ will be feasible for all $0 \\le \\gamma_1 \\le 1$. Now suppose we fix the values of the integer variables in ($P_\\gamma$) at $\\overline{x}(\\gamma_1)$. The resulting problem is a Linear Program and can be analyzed using tools from LP sensitivity analysis."
   ]
  },
  {
   "cell_type": "markdown",
   "id": "ae2e0310",
   "metadata": {},
   "source": [
    "We define the *partial optimal value function*\n",
    "$$\n",
    "z(\\gamma, \\overline{x}(\\gamma_1)) = \\text{min }\\left\\{(\\hat{c} + \\gamma g)^T\\mid Ax \\ge b, x \\ge 0, \\overline{x}=\\overline{x}(\\gamma_1)\\right\\}\\tag{2}\n",
    "$$\n",
    "\n",
    "Here, $z(\\gamma, \\overline{x}(\\gamma_1))$ captures the changes in the optimal value of ($P_\\gamma$) as the $c$ vector is varied continuously along the direction $g$ while keeping $\\overline{x}$ fixed at $\\overline{x}(\\gamma_1)$. Note that $z(\\gamma, \\overline{x}(\\gamma_1))$ is a piecewise linear, concave function of $\\gamma$ [[4](#References)]. we make two important observations:\n",
    "\n",
    "$$z(\\gamma) \\ge \\gamma (z(1) - z(0))\\tag{3}$$\n",
    "$$z(\\gamma) \\le z(\\gamma, \\overline{x}(\\gamma_1))\\tag{4}\\ ,\\ \\forall\\ 0 \\le \\gamma_1 \\le 1$$\n",
    "\n",
    "where (3) is due to the concavity of $z$ and (4) is due to the monotone property of infima. The above two inequalities allow us to place upper and lower bounds on the optimal value as $\\gamma$ varies between $0$ and $1$. For example, choosing $\\gamma_1 = 0$ and $\\gamma_1 = 1$ gives us:\n",
    "\n",
    "$$\\gamma (z(1) - z(0)) \\le z(\\gamma) \\le \\text{ min}\\{z(\\gamma, \\overline{x}(0),\\ z(\\gamma, \\overline{x}(1)\\}\\quad \\forall\\ 0 \\le \\gamma \\le 1 \\tag{5}$$"
   ]
  },
  {
   "cell_type": "markdown",
   "id": "ef9ea2b9",
   "metadata": {},
   "source": [
    "<img src=\"images/z_gamma_bounds.png\" width=\"500\" length=\"500\">"
   ]
  },
  {
   "cell_type": "markdown",
   "id": "4c1dd8ff",
   "metadata": {},
   "source": [
    "An important observation is that\n",
    "\n",
    "$$\\overline{x}(\\gamma_1) = \\overline{x}(\\gamma_2) \\implies z(\\gamma, \\overline{x}(\\gamma_1)) = z(\\gamma, \\overline{x}(\\gamma_2))\\ ,\\ \\forall\\ 0 \\le \\gamma \\le 1$$\n",
    "\n",
    "In other words, **if $\\gamma_1$ and $\\gamma_2$ yield the same integer solution of ($P_\\gamma$), then partial optimal value functions coincide**. We will make use of this fact in coming up with an approch to perform sensitivity analysis for our MIP model."
   ]
  },
  {
   "cell_type": "code",
   "execution_count": null,
   "id": "857cf47f",
   "metadata": {},
   "outputs": [],
   "source": []
  },
  {
   "cell_type": "code",
   "execution_count": 51,
   "id": "6367031a",
   "metadata": {
    "scrolled": true
   },
   "outputs": [
    {
     "name": "stdout",
     "output_type": "stream",
     "text": [
      "cA\n",
      "cA_up\n",
      "cB\n",
      "cB_up\n",
      "cC\n",
      "cC_up\n",
      "p_min_A\n",
      "p_max_A\n",
      "p_min_B\n",
      "p_max_B\n",
      "p_min_C\n",
      "p_max_C\n",
      "D1\n",
      "D2\n",
      "D3\n"
     ]
    }
   ],
   "source": [
    "for p in MIP3.parameters():\n",
    "    print(p)"
   ]
  },
  {
   "cell_type": "markdown",
   "id": "fbe41922",
   "metadata": {},
   "source": [
    "# 7. References <a class=\"anchor\" id=\"References\"></a>\n",
    "\n",
    "[1] M. Tuffaha and J. T. Gravdahl, *Mixed-integer formulation of unit commitment problem for power systems: Focus on start-up cost,* IECON 2013 - 39th Annual Conference of the IEEE Industrial Electronics Society, Vienna, Austria, 2013, pp. 8160-8165, doi: https://doi.org/10.1109/IECON.2013.6700498.\n",
    "\n",
    "[2] https://www.youtube.com/watch?v=jS15dU_422Q\n",
    "\n",
    "[3] Ward, J.E., Wendell, R.E. *Approaches to sensitivity analysis in linear programming.* Ann Oper Res 27, 3–38 (1990). URL: https://doi.org/10.1007/BF02055188\n",
    "\n",
    "[4] Larry Jenkins, (1982) *Parametric Mixed Integer Programming: An Application to Solid Waste Management.* Management Science 28(11):1270-1284. URL: https://doi.org/10.1287/mnsc.28.11.1270"
   ]
  },
  {
   "cell_type": "markdown",
   "id": "6a6eec5b",
   "metadata": {},
   "source": []
  },
  {
   "cell_type": "code",
   "execution_count": null,
   "id": "c5bb4c7a",
   "metadata": {},
   "outputs": [],
   "source": []
  }
 ],
 "metadata": {
  "kernelspec": {
   "display_name": "Python 3 (ipykernel)",
   "language": "python",
   "name": "python3"
  },
  "language_info": {
   "codemirror_mode": {
    "name": "ipython",
    "version": 3
   },
   "file_extension": ".py",
   "mimetype": "text/x-python",
   "name": "python",
   "nbconvert_exporter": "python",
   "pygments_lexer": "ipython3",
   "version": "3.7.9"
  }
 },
 "nbformat": 4,
 "nbformat_minor": 5
}
